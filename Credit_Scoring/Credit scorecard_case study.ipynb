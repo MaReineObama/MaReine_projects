{
 "cells": [
  {
   "cell_type": "markdown",
   "metadata": {},
   "source": [
    "## Assignment Credit Scoring\n",
    "### Credit scorecard\n",
    "#### Marie Reine Obama\n",
    "#### May 2021"
   ]
  },
  {
   "cell_type": "markdown",
   "metadata": {},
   "source": [
    " "
   ]
  },
  {
   "cell_type": "markdown",
   "metadata": {},
   "source": [
    "### 1. Introduction"
   ]
  },
  {
   "cell_type": "markdown",
   "metadata": {},
   "source": [
    "In this project, the objective is to develop an application credit scorecard with the use of two datasets containing information about the application for loans to subprime customers: \n",
    "\n",
    "- datasets on accepted applicants\n",
    "- datasets on rejected applicants\n",
    "\n",
    "To create our credit scorecard model, we will preprocess the data, fit differents models, and test their performance to predict the risk of default using the accepted dataset. Then, the rejected dataset wil enable the model selction to get the probability of default over our set of clients, and to create a new predictive model."
   ]
  },
  {
   "cell_type": "markdown",
   "metadata": {},
   "source": [
    "### 2. Data Preparation "
   ]
  },
  {
   "cell_type": "code",
   "execution_count": 1,
   "metadata": {},
   "outputs": [],
   "source": [
    "# Loading requiered libraries\n",
    "import pandas as pd\n",
    "import numpy as np\n",
    "import matplotlib.pyplot as plt\n",
    "# from category_encoders import *\n",
    "from sklearn.model_selection import train_test_split"
   ]
  },
  {
   "cell_type": "code",
   "execution_count": 2,
   "metadata": {},
   "outputs": [],
   "source": [
    "# Reading the accept dataset\n",
    "accepts = pd.read_excel(\"ACCEPTS.xlsx\")"
   ]
  },
  {
   "cell_type": "code",
   "execution_count": 3,
   "metadata": {},
   "outputs": [
    {
     "data": {
      "text/html": [
       "<div>\n",
       "<style scoped>\n",
       "    .dataframe tbody tr th:only-of-type {\n",
       "        vertical-align: middle;\n",
       "    }\n",
       "\n",
       "    .dataframe tbody tr th {\n",
       "        vertical-align: top;\n",
       "    }\n",
       "\n",
       "    .dataframe thead th {\n",
       "        text-align: right;\n",
       "    }\n",
       "</style>\n",
       "<table border=\"1\" class=\"dataframe\">\n",
       "  <thead>\n",
       "    <tr style=\"text-align: right;\">\n",
       "      <th></th>\n",
       "      <th>ID</th>\n",
       "      <th>V1</th>\n",
       "      <th>V2</th>\n",
       "      <th>V3</th>\n",
       "      <th>V4</th>\n",
       "      <th>V5</th>\n",
       "      <th>V6</th>\n",
       "      <th>V7</th>\n",
       "      <th>V8</th>\n",
       "      <th>Has_FICO</th>\n",
       "      <th>Business_channel</th>\n",
       "      <th>Days_late</th>\n",
       "      <th>FICO_Score</th>\n",
       "      <th>Loan_amount</th>\n",
       "      <th>Monthly_income</th>\n",
       "      <th>Age</th>\n",
       "      <th>Gearing_coefficient</th>\n",
       "      <th>Max_gearing_ratio</th>\n",
       "      <th>Default_45</th>\n",
       "    </tr>\n",
       "  </thead>\n",
       "  <tbody>\n",
       "    <tr>\n",
       "      <th>0</th>\n",
       "      <td>250263</td>\n",
       "      <td>1</td>\n",
       "      <td>1</td>\n",
       "      <td>11</td>\n",
       "      <td>5</td>\n",
       "      <td>6</td>\n",
       "      <td>7</td>\n",
       "      <td>1</td>\n",
       "      <td>2</td>\n",
       "      <td>0</td>\n",
       "      <td>1</td>\n",
       "      <td>0</td>\n",
       "      <td>NaN</td>\n",
       "      <td>1.438518</td>\n",
       "      <td>-0.259085</td>\n",
       "      <td>1.781040</td>\n",
       "      <td>0.860269</td>\n",
       "      <td>0.513980</td>\n",
       "      <td>0</td>\n",
       "    </tr>\n",
       "    <tr>\n",
       "      <th>1</th>\n",
       "      <td>250290</td>\n",
       "      <td>1</td>\n",
       "      <td>2</td>\n",
       "      <td>6</td>\n",
       "      <td>4</td>\n",
       "      <td>5</td>\n",
       "      <td>1</td>\n",
       "      <td>1</td>\n",
       "      <td>2</td>\n",
       "      <td>1</td>\n",
       "      <td>1</td>\n",
       "      <td>0</td>\n",
       "      <td>1.498183</td>\n",
       "      <td>0.204811</td>\n",
       "      <td>0.383312</td>\n",
       "      <td>1.107163</td>\n",
       "      <td>-0.718249</td>\n",
       "      <td>1.796590</td>\n",
       "      <td>0</td>\n",
       "    </tr>\n",
       "    <tr>\n",
       "      <th>2</th>\n",
       "      <td>250249</td>\n",
       "      <td>2</td>\n",
       "      <td>3</td>\n",
       "      <td>11</td>\n",
       "      <td>5</td>\n",
       "      <td>7</td>\n",
       "      <td>7</td>\n",
       "      <td>1</td>\n",
       "      <td>2</td>\n",
       "      <td>1</td>\n",
       "      <td>1</td>\n",
       "      <td>0</td>\n",
       "      <td>-0.241731</td>\n",
       "      <td>-0.852651</td>\n",
       "      <td>-0.732430</td>\n",
       "      <td>1.406664</td>\n",
       "      <td>1.122930</td>\n",
       "      <td>-0.768631</td>\n",
       "      <td>0</td>\n",
       "    </tr>\n",
       "    <tr>\n",
       "      <th>3</th>\n",
       "      <td>249516</td>\n",
       "      <td>3</td>\n",
       "      <td>3</td>\n",
       "      <td>10</td>\n",
       "      <td>4</td>\n",
       "      <td>2</td>\n",
       "      <td>4</td>\n",
       "      <td>1</td>\n",
       "      <td>2</td>\n",
       "      <td>0</td>\n",
       "      <td>1</td>\n",
       "      <td>168</td>\n",
       "      <td>NaN</td>\n",
       "      <td>-0.676407</td>\n",
       "      <td>-0.057350</td>\n",
       "      <td>0.957412</td>\n",
       "      <td>-1.702482</td>\n",
       "      <td>0.513980</td>\n",
       "      <td>1</td>\n",
       "    </tr>\n",
       "    <tr>\n",
       "      <th>4</th>\n",
       "      <td>249827</td>\n",
       "      <td>1</td>\n",
       "      <td>3</td>\n",
       "      <td>5</td>\n",
       "      <td>2</td>\n",
       "      <td>4</td>\n",
       "      <td>4</td>\n",
       "      <td>1</td>\n",
       "      <td>3</td>\n",
       "      <td>0</td>\n",
       "      <td>1</td>\n",
       "      <td>0</td>\n",
       "      <td>NaN</td>\n",
       "      <td>-0.412042</td>\n",
       "      <td>-0.574648</td>\n",
       "      <td>-0.390342</td>\n",
       "      <td>0.910077</td>\n",
       "      <td>-0.768631</td>\n",
       "      <td>0</td>\n",
       "    </tr>\n",
       "  </tbody>\n",
       "</table>\n",
       "</div>"
      ],
      "text/plain": [
       "       ID  V1  V2  V3  V4  V5  V6  V7 V8  Has_FICO  Business_channel  \\\n",
       "0  250263   1   1  11   5   6   7   1  2         0                 1   \n",
       "1  250290   1   2   6   4   5   1   1  2         1                 1   \n",
       "2  250249   2   3  11   5   7   7   1  2         1                 1   \n",
       "3  249516   3   3  10   4   2   4   1  2         0                 1   \n",
       "4  249827   1   3   5   2   4   4   1  3         0                 1   \n",
       "\n",
       "   Days_late  FICO_Score  Loan_amount  Monthly_income       Age  \\\n",
       "0          0         NaN     1.438518       -0.259085  1.781040   \n",
       "1          0    1.498183     0.204811        0.383312  1.107163   \n",
       "2          0   -0.241731    -0.852651       -0.732430  1.406664   \n",
       "3        168         NaN    -0.676407       -0.057350  0.957412   \n",
       "4          0         NaN    -0.412042       -0.574648 -0.390342   \n",
       "\n",
       "   Gearing_coefficient  Max_gearing_ratio  Default_45  \n",
       "0             0.860269           0.513980           0  \n",
       "1            -0.718249           1.796590           0  \n",
       "2             1.122930          -0.768631           0  \n",
       "3            -1.702482           0.513980           1  \n",
       "4             0.910077          -0.768631           0  "
      ]
     },
     "execution_count": 3,
     "metadata": {},
     "output_type": "execute_result"
    }
   ],
   "source": [
    "accepts.head()"
   ]
  },
  {
   "cell_type": "markdown",
   "metadata": {},
   "source": [
    "Let's check the missing values"
   ]
  },
  {
   "cell_type": "code",
   "execution_count": 4,
   "metadata": {},
   "outputs": [
    {
     "name": "stdout",
     "output_type": "stream",
     "text": [
      "<class 'pandas.core.frame.DataFrame'>\n",
      "RangeIndex: 10000 entries, 0 to 9999\n",
      "Data columns (total 19 columns):\n",
      " #   Column               Non-Null Count  Dtype  \n",
      "---  ------               --------------  -----  \n",
      " 0   ID                   10000 non-null  int64  \n",
      " 1   V1                   10000 non-null  int64  \n",
      " 2   V2                   10000 non-null  int64  \n",
      " 3   V3                   10000 non-null  int64  \n",
      " 4   V4                   10000 non-null  int64  \n",
      " 5   V5                   10000 non-null  int64  \n",
      " 6   V6                   10000 non-null  int64  \n",
      " 7   V7                   10000 non-null  int64  \n",
      " 8   V8                   10000 non-null  object \n",
      " 9   Has_FICO             10000 non-null  int64  \n",
      " 10  Business_channel     10000 non-null  int64  \n",
      " 11  Days_late            10000 non-null  int64  \n",
      " 12  FICO_Score           5528 non-null   float64\n",
      " 13  Loan_amount          10000 non-null  float64\n",
      " 14  Monthly_income       10000 non-null  float64\n",
      " 15  Age                  10000 non-null  float64\n",
      " 16  Gearing_coefficient  10000 non-null  float64\n",
      " 17  Max_gearing_ratio    10000 non-null  float64\n",
      " 18  Default_45           10000 non-null  int64  \n",
      "dtypes: float64(6), int64(12), object(1)\n",
      "memory usage: 1.4+ MB\n"
     ]
    }
   ],
   "source": [
    "accepts.info()"
   ]
  },
  {
   "cell_type": "code",
   "execution_count": 5,
   "metadata": {},
   "outputs": [
    {
     "data": {
      "text/plain": [
       "Index(['FICO_Score'], dtype='object')"
      ]
     },
     "execution_count": 5,
     "metadata": {},
     "output_type": "execute_result"
    }
   ],
   "source": [
    "# Columns with missing values\n",
    "missing_col = accepts.columns[accepts.isnull().any()]\n",
    "missing_col"
   ]
  },
  {
   "cell_type": "code",
   "execution_count": 6,
   "metadata": {},
   "outputs": [
    {
     "data": {
      "text/plain": [
       "4472"
      ]
     },
     "execution_count": 6,
     "metadata": {},
     "output_type": "execute_result"
    }
   ],
   "source": [
    "# Number of observations with FICO_Score indicated in the 'Has_FICO' variable\n",
    "sum(accepts[\"Has_FICO\"]==0)"
   ]
  },
  {
   "cell_type": "code",
   "execution_count": 7,
   "metadata": {},
   "outputs": [
    {
     "data": {
      "text/plain": [
       "4472"
      ]
     },
     "execution_count": 7,
     "metadata": {},
     "output_type": "execute_result"
    }
   ],
   "source": [
    "# Total missing values in the 'FICO_Score' variable\n",
    "sum(accepts[\"FICO_Score\"].isnull())"
   ]
  },
  {
   "cell_type": "markdown",
   "metadata": {},
   "source": [
    "We assume that missing values in the \"FICO_Score\" variable mean that the company does not have this information on the cients related. Since there is no available information on that, we deem relevant to replace missing values in this cas by zero."
   ]
  },
  {
   "cell_type": "code",
   "execution_count": 8,
   "metadata": {},
   "outputs": [],
   "source": [
    "accepts['FICO_Score'].fillna(0, inplace = True)"
   ]
  },
  {
   "cell_type": "markdown",
   "metadata": {},
   "source": [
    "Let's explore numerical variables to see if we have outliers."
   ]
  },
  {
   "cell_type": "code",
   "execution_count": 9,
   "metadata": {},
   "outputs": [
    {
     "data": {
      "text/html": [
       "<div>\n",
       "<style scoped>\n",
       "    .dataframe tbody tr th:only-of-type {\n",
       "        vertical-align: middle;\n",
       "    }\n",
       "\n",
       "    .dataframe tbody tr th {\n",
       "        vertical-align: top;\n",
       "    }\n",
       "\n",
       "    .dataframe thead th {\n",
       "        text-align: right;\n",
       "    }\n",
       "</style>\n",
       "<table border=\"1\" class=\"dataframe\">\n",
       "  <thead>\n",
       "    <tr style=\"text-align: right;\">\n",
       "      <th></th>\n",
       "      <th>ID</th>\n",
       "      <th>V1</th>\n",
       "      <th>V2</th>\n",
       "      <th>V3</th>\n",
       "      <th>V4</th>\n",
       "      <th>V5</th>\n",
       "      <th>V6</th>\n",
       "      <th>V7</th>\n",
       "      <th>Has_FICO</th>\n",
       "      <th>Business_channel</th>\n",
       "      <th>Days_late</th>\n",
       "      <th>FICO_Score</th>\n",
       "      <th>Loan_amount</th>\n",
       "      <th>Monthly_income</th>\n",
       "      <th>Age</th>\n",
       "      <th>Gearing_coefficient</th>\n",
       "      <th>Max_gearing_ratio</th>\n",
       "      <th>Default_45</th>\n",
       "    </tr>\n",
       "  </thead>\n",
       "  <tbody>\n",
       "    <tr>\n",
       "      <th>count</th>\n",
       "      <td>10000.00000</td>\n",
       "      <td>10000.000000</td>\n",
       "      <td>10000.00000</td>\n",
       "      <td>10000.000000</td>\n",
       "      <td>10000.000000</td>\n",
       "      <td>10000.00000</td>\n",
       "      <td>10000.000000</td>\n",
       "      <td>10000.000000</td>\n",
       "      <td>10000.000000</td>\n",
       "      <td>10000.000000</td>\n",
       "      <td>10000.000000</td>\n",
       "      <td>10000.000000</td>\n",
       "      <td>10000.000000</td>\n",
       "      <td>10000.000000</td>\n",
       "      <td>10000.000000</td>\n",
       "      <td>10000.000000</td>\n",
       "      <td>10000.000000</td>\n",
       "      <td>10000.000000</td>\n",
       "    </tr>\n",
       "    <tr>\n",
       "      <th>mean</th>\n",
       "      <td>282247.99760</td>\n",
       "      <td>1.878700</td>\n",
       "      <td>3.49540</td>\n",
       "      <td>9.041400</td>\n",
       "      <td>3.316200</td>\n",
       "      <td>3.97740</td>\n",
       "      <td>4.868300</td>\n",
       "      <td>1.757200</td>\n",
       "      <td>0.552800</td>\n",
       "      <td>1.403200</td>\n",
       "      <td>56.459200</td>\n",
       "      <td>-0.046024</td>\n",
       "      <td>0.034164</td>\n",
       "      <td>-0.119329</td>\n",
       "      <td>-0.003147</td>\n",
       "      <td>0.100456</td>\n",
       "      <td>0.019662</td>\n",
       "      <td>0.236400</td>\n",
       "    </tr>\n",
       "    <tr>\n",
       "      <th>std</th>\n",
       "      <td>15871.15137</td>\n",
       "      <td>1.092385</td>\n",
       "      <td>1.20877</td>\n",
       "      <td>3.723207</td>\n",
       "      <td>1.361618</td>\n",
       "      <td>2.03664</td>\n",
       "      <td>1.378675</td>\n",
       "      <td>0.958927</td>\n",
       "      <td>0.497229</td>\n",
       "      <td>0.655342</td>\n",
       "      <td>117.216568</td>\n",
       "      <td>0.757085</td>\n",
       "      <td>1.050937</td>\n",
       "      <td>1.020399</td>\n",
       "      <td>1.019526</td>\n",
       "      <td>0.971090</td>\n",
       "      <td>1.015233</td>\n",
       "      <td>0.424892</td>\n",
       "    </tr>\n",
       "    <tr>\n",
       "      <th>min</th>\n",
       "      <td>249516.00000</td>\n",
       "      <td>1.000000</td>\n",
       "      <td>1.00000</td>\n",
       "      <td>1.000000</td>\n",
       "      <td>1.000000</td>\n",
       "      <td>1.00000</td>\n",
       "      <td>1.000000</td>\n",
       "      <td>1.000000</td>\n",
       "      <td>0.000000</td>\n",
       "      <td>1.000000</td>\n",
       "      <td>0.000000</td>\n",
       "      <td>-6.033156</td>\n",
       "      <td>-1.117017</td>\n",
       "      <td>-0.984880</td>\n",
       "      <td>-1.588346</td>\n",
       "      <td>-2.859551</td>\n",
       "      <td>-0.768631</td>\n",
       "      <td>0.000000</td>\n",
       "    </tr>\n",
       "    <tr>\n",
       "      <th>25%</th>\n",
       "      <td>269470.25000</td>\n",
       "      <td>1.000000</td>\n",
       "      <td>3.00000</td>\n",
       "      <td>7.000000</td>\n",
       "      <td>2.000000</td>\n",
       "      <td>2.00000</td>\n",
       "      <td>4.000000</td>\n",
       "      <td>1.000000</td>\n",
       "      <td>0.000000</td>\n",
       "      <td>1.000000</td>\n",
       "      <td>0.000000</td>\n",
       "      <td>-0.328726</td>\n",
       "      <td>-0.641159</td>\n",
       "      <td>-0.536330</td>\n",
       "      <td>-0.914469</td>\n",
       "      <td>-0.614537</td>\n",
       "      <td>-0.768631</td>\n",
       "      <td>0.000000</td>\n",
       "    </tr>\n",
       "    <tr>\n",
       "      <th>50%</th>\n",
       "      <td>284845.00000</td>\n",
       "      <td>1.000000</td>\n",
       "      <td>3.00000</td>\n",
       "      <td>10.000000</td>\n",
       "      <td>4.000000</td>\n",
       "      <td>4.00000</td>\n",
       "      <td>5.000000</td>\n",
       "      <td>1.000000</td>\n",
       "      <td>1.000000</td>\n",
       "      <td>1.000000</td>\n",
       "      <td>0.000000</td>\n",
       "      <td>0.000000</td>\n",
       "      <td>-0.323920</td>\n",
       "      <td>-0.359389</td>\n",
       "      <td>-0.165717</td>\n",
       "      <td>0.414129</td>\n",
       "      <td>-0.768631</td>\n",
       "      <td>0.000000</td>\n",
       "    </tr>\n",
       "    <tr>\n",
       "      <th>75%</th>\n",
       "      <td>296044.75000</td>\n",
       "      <td>3.000000</td>\n",
       "      <td>5.00000</td>\n",
       "      <td>11.000000</td>\n",
       "      <td>4.000000</td>\n",
       "      <td>6.00000</td>\n",
       "      <td>5.000000</td>\n",
       "      <td>3.000000</td>\n",
       "      <td>1.000000</td>\n",
       "      <td>2.000000</td>\n",
       "      <td>15.000000</td>\n",
       "      <td>0.000000</td>\n",
       "      <td>0.381055</td>\n",
       "      <td>0.056479</td>\n",
       "      <td>0.882537</td>\n",
       "      <td>0.965099</td>\n",
       "      <td>0.513980</td>\n",
       "      <td>0.000000</td>\n",
       "    </tr>\n",
       "    <tr>\n",
       "      <th>max</th>\n",
       "      <td>305957.00000</td>\n",
       "      <td>5.000000</td>\n",
       "      <td>6.00000</td>\n",
       "      <td>16.000000</td>\n",
       "      <td>6.000000</td>\n",
       "      <td>7.00000</td>\n",
       "      <td>7.000000</td>\n",
       "      <td>3.000000</td>\n",
       "      <td>1.000000</td>\n",
       "      <td>3.000000</td>\n",
       "      <td>623.000000</td>\n",
       "      <td>2.467563</td>\n",
       "      <td>5.844611</td>\n",
       "      <td>43.842002</td>\n",
       "      <td>2.005666</td>\n",
       "      <td>9.387304</td>\n",
       "      <td>1.796590</td>\n",
       "      <td>1.000000</td>\n",
       "    </tr>\n",
       "  </tbody>\n",
       "</table>\n",
       "</div>"
      ],
      "text/plain": [
       "                 ID            V1           V2            V3            V4  \\\n",
       "count   10000.00000  10000.000000  10000.00000  10000.000000  10000.000000   \n",
       "mean   282247.99760      1.878700      3.49540      9.041400      3.316200   \n",
       "std     15871.15137      1.092385      1.20877      3.723207      1.361618   \n",
       "min    249516.00000      1.000000      1.00000      1.000000      1.000000   \n",
       "25%    269470.25000      1.000000      3.00000      7.000000      2.000000   \n",
       "50%    284845.00000      1.000000      3.00000     10.000000      4.000000   \n",
       "75%    296044.75000      3.000000      5.00000     11.000000      4.000000   \n",
       "max    305957.00000      5.000000      6.00000     16.000000      6.000000   \n",
       "\n",
       "                V5            V6            V7      Has_FICO  \\\n",
       "count  10000.00000  10000.000000  10000.000000  10000.000000   \n",
       "mean       3.97740      4.868300      1.757200      0.552800   \n",
       "std        2.03664      1.378675      0.958927      0.497229   \n",
       "min        1.00000      1.000000      1.000000      0.000000   \n",
       "25%        2.00000      4.000000      1.000000      0.000000   \n",
       "50%        4.00000      5.000000      1.000000      1.000000   \n",
       "75%        6.00000      5.000000      3.000000      1.000000   \n",
       "max        7.00000      7.000000      3.000000      1.000000   \n",
       "\n",
       "       Business_channel     Days_late    FICO_Score   Loan_amount  \\\n",
       "count      10000.000000  10000.000000  10000.000000  10000.000000   \n",
       "mean           1.403200     56.459200     -0.046024      0.034164   \n",
       "std            0.655342    117.216568      0.757085      1.050937   \n",
       "min            1.000000      0.000000     -6.033156     -1.117017   \n",
       "25%            1.000000      0.000000     -0.328726     -0.641159   \n",
       "50%            1.000000      0.000000      0.000000     -0.323920   \n",
       "75%            2.000000     15.000000      0.000000      0.381055   \n",
       "max            3.000000    623.000000      2.467563      5.844611   \n",
       "\n",
       "       Monthly_income           Age  Gearing_coefficient  Max_gearing_ratio  \\\n",
       "count    10000.000000  10000.000000         10000.000000       10000.000000   \n",
       "mean        -0.119329     -0.003147             0.100456           0.019662   \n",
       "std          1.020399      1.019526             0.971090           1.015233   \n",
       "min         -0.984880     -1.588346            -2.859551          -0.768631   \n",
       "25%         -0.536330     -0.914469            -0.614537          -0.768631   \n",
       "50%         -0.359389     -0.165717             0.414129          -0.768631   \n",
       "75%          0.056479      0.882537             0.965099           0.513980   \n",
       "max         43.842002      2.005666             9.387304           1.796590   \n",
       "\n",
       "         Default_45  \n",
       "count  10000.000000  \n",
       "mean       0.236400  \n",
       "std        0.424892  \n",
       "min        0.000000  \n",
       "25%        0.000000  \n",
       "50%        0.000000  \n",
       "75%        0.000000  \n",
       "max        1.000000  "
      ]
     },
     "execution_count": 9,
     "metadata": {},
     "output_type": "execute_result"
    }
   ],
   "source": [
    "accepts.describe()"
   ]
  },
  {
   "cell_type": "markdown",
   "metadata": {},
   "source": [
    "In the previous result, it seems that we do not have outliers.\n",
    "\n",
    "Check the number of unique values to determine how to process each variable (categorical or numerical)."
   ]
  },
  {
   "cell_type": "code",
   "execution_count": 12,
   "metadata": {},
   "outputs": [
    {
     "data": {
      "text/html": [
       "<div>\n",
       "<style scoped>\n",
       "    .dataframe tbody tr th:only-of-type {\n",
       "        vertical-align: middle;\n",
       "    }\n",
       "\n",
       "    .dataframe tbody tr th {\n",
       "        vertical-align: top;\n",
       "    }\n",
       "\n",
       "    .dataframe thead th {\n",
       "        text-align: right;\n",
       "    }\n",
       "</style>\n",
       "<table border=\"1\" class=\"dataframe\">\n",
       "  <thead>\n",
       "    <tr style=\"text-align: right;\">\n",
       "      <th></th>\n",
       "      <th>variables</th>\n",
       "      <th>nbr_unique_values</th>\n",
       "    </tr>\n",
       "  </thead>\n",
       "  <tbody>\n",
       "    <tr>\n",
       "      <th>0</th>\n",
       "      <td>ID</td>\n",
       "      <td>10000</td>\n",
       "    </tr>\n",
       "    <tr>\n",
       "      <th>1</th>\n",
       "      <td>V1</td>\n",
       "      <td>5</td>\n",
       "    </tr>\n",
       "    <tr>\n",
       "      <th>2</th>\n",
       "      <td>V2</td>\n",
       "      <td>6</td>\n",
       "    </tr>\n",
       "    <tr>\n",
       "      <th>3</th>\n",
       "      <td>V3</td>\n",
       "      <td>16</td>\n",
       "    </tr>\n",
       "    <tr>\n",
       "      <th>4</th>\n",
       "      <td>V4</td>\n",
       "      <td>6</td>\n",
       "    </tr>\n",
       "    <tr>\n",
       "      <th>5</th>\n",
       "      <td>V5</td>\n",
       "      <td>7</td>\n",
       "    </tr>\n",
       "    <tr>\n",
       "      <th>6</th>\n",
       "      <td>V6</td>\n",
       "      <td>7</td>\n",
       "    </tr>\n",
       "    <tr>\n",
       "      <th>7</th>\n",
       "      <td>V7</td>\n",
       "      <td>3</td>\n",
       "    </tr>\n",
       "    <tr>\n",
       "      <th>8</th>\n",
       "      <td>V8</td>\n",
       "      <td>5</td>\n",
       "    </tr>\n",
       "    <tr>\n",
       "      <th>9</th>\n",
       "      <td>Has_FICO</td>\n",
       "      <td>2</td>\n",
       "    </tr>\n",
       "    <tr>\n",
       "      <th>10</th>\n",
       "      <td>Business_channel</td>\n",
       "      <td>3</td>\n",
       "    </tr>\n",
       "    <tr>\n",
       "      <th>11</th>\n",
       "      <td>Days_late</td>\n",
       "      <td>55</td>\n",
       "    </tr>\n",
       "    <tr>\n",
       "      <th>12</th>\n",
       "      <td>FICO_Score</td>\n",
       "      <td>398</td>\n",
       "    </tr>\n",
       "    <tr>\n",
       "      <th>13</th>\n",
       "      <td>Loan_amount</td>\n",
       "      <td>776</td>\n",
       "    </tr>\n",
       "    <tr>\n",
       "      <th>14</th>\n",
       "      <td>Monthly_income</td>\n",
       "      <td>2317</td>\n",
       "    </tr>\n",
       "    <tr>\n",
       "      <th>15</th>\n",
       "      <td>Age</td>\n",
       "      <td>49</td>\n",
       "    </tr>\n",
       "    <tr>\n",
       "      <th>16</th>\n",
       "      <td>Gearing_coefficient</td>\n",
       "      <td>4583</td>\n",
       "    </tr>\n",
       "    <tr>\n",
       "      <th>17</th>\n",
       "      <td>Max_gearing_ratio</td>\n",
       "      <td>3</td>\n",
       "    </tr>\n",
       "    <tr>\n",
       "      <th>18</th>\n",
       "      <td>Default_45</td>\n",
       "      <td>2</td>\n",
       "    </tr>\n",
       "  </tbody>\n",
       "</table>\n",
       "</div>"
      ],
      "text/plain": [
       "              variables nbr_unique_values\n",
       "0                    ID             10000\n",
       "1                    V1                 5\n",
       "2                    V2                 6\n",
       "3                    V3                16\n",
       "4                    V4                 6\n",
       "5                    V5                 7\n",
       "6                    V6                 7\n",
       "7                    V7                 3\n",
       "8                    V8                 5\n",
       "9              Has_FICO                 2\n",
       "10     Business_channel                 3\n",
       "11            Days_late                55\n",
       "12           FICO_Score               398\n",
       "13          Loan_amount               776\n",
       "14       Monthly_income              2317\n",
       "15                  Age                49\n",
       "16  Gearing_coefficient              4583\n",
       "17    Max_gearing_ratio                 3\n",
       "18           Default_45                 2"
      ]
     },
     "execution_count": 12,
     "metadata": {},
     "output_type": "execute_result"
    }
   ],
   "source": [
    "unique_values = pd.DataFrame(columns=[\"variables\",\"nbr_unique_values\"])\n",
    "\n",
    "for i in accepts.columns:\n",
    "    nbr_variables = len(accepts[i].value_counts())\n",
    "    unique_values = unique_values.append({\"variables\": str(i), \"nbr_unique_values\":nbr_variables},ignore_index=True)\n",
    "    \n",
    "unique_values"
   ]
  },
  {
   "cell_type": "markdown",
   "metadata": {},
   "source": [
    "From the results above, we can see that there are 10.000 observations and the majority of variables do not have a lot of unique values.\n",
    "\n",
    "Prior to dealing with categorical variables , we split the dataset into train and test. The train is used to fit the models and the test set to evaluate the performance of the different models."
   ]
  },
  {
   "cell_type": "code",
   "execution_count": 14,
   "metadata": {},
   "outputs": [],
   "source": [
    "# We define X (predictive variables) and y (dependent variable). We drop the variable 'Days_late'\n",
    "\n",
    "X = accepts.drop(['Default_45','Days_late'], axis=1)\n",
    "\n",
    "y = accepts[[\"Default_45\"]].reset_index(drop=True)"
   ]
  },
  {
   "cell_type": "code",
   "execution_count": 15,
   "metadata": {},
   "outputs": [],
   "source": [
    "# We split into train and test sets\n",
    "X_train, X_test, y_train, y_test = train_test_split(X, y, test_size=.4, random_state=123, stratify=y)"
   ]
  },
  {
   "cell_type": "markdown",
   "metadata": {},
   "source": [
    "I will use the 20% of the test set for compare the models."
   ]
  },
  {
   "cell_type": "code",
   "execution_count": 16,
   "metadata": {},
   "outputs": [],
   "source": [
    "# We split into valid and test datasets\n",
    "X_test, X_valid, y_test, y_valid = train_test_split(X_test, y_test, test_size=.5, random_state=234, stratify=y_test)"
   ]
  },
  {
   "cell_type": "markdown",
   "metadata": {},
   "source": [
    "#### WOE Transformation"
   ]
  },
  {
   "cell_type": "markdown",
   "metadata": {},
   "source": [
    "For categorizing the variable I will calculate the weight of evidence (WOE) over the training dataset. Using this metric to build the predictive model has two important benefits:\n",
    "\n",
    "* It helps to build a strict linear relationship with log-odds used in logistic regression\n",
    "* It also handles categorical value so no need for dummy variables, in this case, this benefit is very helpful because all variables will be treated as categorical\n",
    "\n",
    "The WOE method attempts to find a monotonic relationship between the predictive features and the target variable (Default) by splitting each feature into bins and assigning a weight to each bin."
   ]
  },
  {
   "cell_type": "code",
   "execution_count": 17,
   "metadata": {},
   "outputs": [],
   "source": [
    "# Throught these functions, we group the variables in bins and calculate the WOE for each group and the IV for each variable\n",
    "\n",
    "# reference: https://github.com/Sundar0989/WOE-and-IV/blob/master/WOE_IV.ipynb \n",
    "\n",
    "# import packages\n",
    "import pandas as pd\n",
    "import numpy as np\n",
    "import pandas.core.algorithms as algos\n",
    "from pandas import Series\n",
    "import scipy.stats.stats as stats\n",
    "import re\n",
    "import traceback\n",
    "import string\n",
    "\n",
    "max_bin = 20\n",
    "force_bin = 3\n",
    "\n",
    "# define a binning function\n",
    "def mono_bin(Y, X, n = max_bin):\n",
    "    \n",
    "    df1 = pd.DataFrame({\"X\": X, \"Y\": Y})\n",
    "    justmiss = df1[['X','Y']][df1.X.isnull()]\n",
    "    notmiss = df1[['X','Y']][df1.X.notnull()]\n",
    "    r = 0\n",
    "    while np.abs(r) < 1:\n",
    "        try:\n",
    "            d1 = pd.DataFrame({\"X\": notmiss.X, \"Y\": notmiss.Y, \"Bucket\": pd.qcut(notmiss.X, n)})\n",
    "            d2 = d1.groupby('Bucket', as_index=True)\n",
    "            r, p = stats.spearmanr(d2.mean().X, d2.mean().Y)\n",
    "            n = n - 1 \n",
    "        except Exception as e:\n",
    "            n = n - 1\n",
    "\n",
    "    if len(d2) == 1:\n",
    "        n = force_bin         \n",
    "        bins = algos.quantile(notmiss.X, np.linspace(0, 1, n))\n",
    "        if len(np.unique(bins)) == 2:\n",
    "            bins = np.insert(bins, 0, 1)\n",
    "            bins[1] = bins[1]-(bins[1]/2)\n",
    "        d1 = pd.DataFrame({\"X\": notmiss.X, \"Y\": notmiss.Y, \"Bucket\": pd.cut(notmiss.X, np.unique(bins),include_lowest=True)}) \n",
    "        d2 = d1.groupby('Bucket', as_index=True)\n",
    "    \n",
    "    d3 = pd.DataFrame({},index=[])\n",
    "    d3[\"MIN_VALUE\"] = d2.min().X\n",
    "    d3[\"MAX_VALUE\"] = d2.max().X\n",
    "    d3[\"COUNT\"] = d2.count().Y\n",
    "    d3[\"EVENT\"] = d2.sum().Y\n",
    "    d3[\"NONEVENT\"] = d2.count().Y - d2.sum().Y\n",
    "    d3=d3.reset_index(drop=True)\n",
    "    \n",
    "    if len(justmiss.index) > 0:\n",
    "        d4 = pd.DataFrame({'MIN_VALUE':np.nan},index=[0])\n",
    "        d4[\"MAX_VALUE\"] = np.nan\n",
    "        d4[\"COUNT\"] = justmiss.count().Y\n",
    "        d4[\"EVENT\"] = justmiss.sum().Y\n",
    "        d4[\"NONEVENT\"] = justmiss.count().Y - justmiss.sum().Y\n",
    "        d3 = d3.append(d4,ignore_index=True)\n",
    "    \n",
    "    d3[\"EVENT_RATE\"] = d3.EVENT/d3.COUNT\n",
    "    d3[\"NON_EVENT_RATE\"] = d3.NONEVENT/d3.COUNT\n",
    "    d3[\"DIST_EVENT\"] = d3.EVENT/d3.sum().EVENT\n",
    "    d3[\"DIST_NON_EVENT\"] = d3.NONEVENT/d3.sum().NONEVENT\n",
    "    d3[\"WOE\"] = np.log(d3.DIST_EVENT/d3.DIST_NON_EVENT)\n",
    "    d3[\"IV\"] = (d3.DIST_EVENT-d3.DIST_NON_EVENT)*np.log(d3.DIST_EVENT/d3.DIST_NON_EVENT)\n",
    "    d3[\"VAR_NAME\"] = \"VAR\"\n",
    "    d3 = d3[['VAR_NAME','MIN_VALUE', 'MAX_VALUE', 'COUNT', 'EVENT', 'EVENT_RATE', 'NONEVENT', 'NON_EVENT_RATE', 'DIST_EVENT','DIST_NON_EVENT','WOE', 'IV']]       \n",
    "    d3 = d3.replace([np.inf, -np.inf], 0)\n",
    "    d3.IV = d3.IV.sum()\n",
    "    \n",
    "    return(d3)\n",
    "\n",
    "def char_bin(Y, X):\n",
    "        \n",
    "    df1 = pd.DataFrame({\"X\": X, \"Y\": Y})\n",
    "    justmiss = df1[['X','Y']][df1.X.isnull()]\n",
    "    notmiss = df1[['X','Y']][df1.X.notnull()]    \n",
    "    df2 = notmiss.groupby('X',as_index=True)\n",
    "    \n",
    "    d3 = pd.DataFrame({},index=[])\n",
    "    d3[\"COUNT\"] = df2.count().Y\n",
    "    d3[\"MIN_VALUE\"] = df2.sum().Y.index\n",
    "    d3[\"MAX_VALUE\"] = d3[\"MIN_VALUE\"]\n",
    "    d3[\"EVENT\"] = df2.sum().Y\n",
    "    d3[\"NONEVENT\"] = df2.count().Y - df2.sum().Y\n",
    "    \n",
    "    if len(justmiss.index) > 0:\n",
    "        d4 = pd.DataFrame({'MIN_VALUE':np.nan},index=[0])\n",
    "        d4[\"MAX_VALUE\"] = np.nan\n",
    "        d4[\"COUNT\"] = justmiss.count().Y\n",
    "        d4[\"EVENT\"] = justmiss.sum().Y\n",
    "        d4[\"NONEVENT\"] = justmiss.count().Y - justmiss.sum().Y\n",
    "        d3 = d3.append(d4,ignore_index=True)\n",
    "    \n",
    "    d3[\"EVENT_RATE\"] = d3.EVENT/d3.COUNT\n",
    "    d3[\"NON_EVENT_RATE\"] = d3.NONEVENT/d3.COUNT\n",
    "    d3[\"DIST_EVENT\"] = d3.EVENT/d3.sum().EVENT\n",
    "    d3[\"DIST_NON_EVENT\"] = d3.NONEVENT/d3.sum().NONEVENT\n",
    "    d3[\"WOE\"] = np.log(d3.DIST_EVENT/d3.DIST_NON_EVENT)\n",
    "    d3[\"IV\"] = (d3.DIST_EVENT-d3.DIST_NON_EVENT)*np.log(d3.DIST_EVENT/d3.DIST_NON_EVENT)\n",
    "    d3[\"VAR_NAME\"] = \"VAR\"\n",
    "    d3 = d3[['VAR_NAME','MIN_VALUE', 'MAX_VALUE', 'COUNT', 'EVENT', 'EVENT_RATE', 'NONEVENT', 'NON_EVENT_RATE', 'DIST_EVENT','DIST_NON_EVENT','WOE', 'IV']]      \n",
    "    d3 = d3.replace([np.inf, -np.inf], 0)\n",
    "    d3.IV = d3.IV.sum()\n",
    "    d3 = d3.reset_index(drop=True)\n",
    "    \n",
    "    return(d3)\n",
    "\n",
    "def data_vars(df1, target):\n",
    "    \n",
    "    stack = traceback.extract_stack()\n",
    "    filename, lineno, function_name, code = stack[-2]\n",
    "    vars_name = re.compile(r'\\((.*?)\\).*$').search(code).groups()[0]\n",
    "    final = (re.findall(r\"[\\w']+\", vars_name))[-1]\n",
    "    \n",
    "    x = df1.dtypes.index\n",
    "    count = -1\n",
    "    \n",
    "    for i in x:\n",
    "        if i.upper() not in (final.upper()):\n",
    "            if np.issubdtype(df1[i], np.number) and len(Series.unique(df1[i])) > 2:\n",
    "                conv = mono_bin(target, df1[i])\n",
    "                conv[\"VAR_NAME\"] = i\n",
    "                count = count + 1\n",
    "            else:\n",
    "                conv = char_bin(target, df1[i])\n",
    "                conv[\"VAR_NAME\"] = i            \n",
    "                count = count + 1\n",
    "                \n",
    "            if count == 0:\n",
    "                iv_df = conv\n",
    "            else:\n",
    "                iv_df = iv_df.append(conv,ignore_index=True)\n",
    "    \n",
    "    iv = pd.DataFrame({'IV':iv_df.groupby('VAR_NAME').IV.max()})\n",
    "    iv = iv.reset_index()\n",
    "    return(iv_df,iv)"
   ]
  },
  {
   "cell_type": "code",
   "execution_count": 18,
   "metadata": {},
   "outputs": [],
   "source": [
    "# We apply the WOE and IV in the train set\n",
    "X_train_pre = X_train.drop('ID', axis=1)\n",
    "final_iv, IV = data_vars(X_train_pre,y_train.Default_45)"
   ]
  },
  {
   "cell_type": "markdown",
   "metadata": {},
   "source": [
    "We can see how the WOE is applied in the train set and the different groups of variables. \n",
    "\n",
    "If we take the variable V1 for instance, we can see that it is grouped into the groups [1] and [2,5]. The first group has a WOE of -0.3035 and the second group has a WOE of 0.3557."
   ]
  },
  {
   "cell_type": "code",
   "execution_count": 19,
   "metadata": {},
   "outputs": [
    {
     "data": {
      "text/html": [
       "<div>\n",
       "<style scoped>\n",
       "    .dataframe tbody tr th:only-of-type {\n",
       "        vertical-align: middle;\n",
       "    }\n",
       "\n",
       "    .dataframe tbody tr th {\n",
       "        vertical-align: top;\n",
       "    }\n",
       "\n",
       "    .dataframe thead th {\n",
       "        text-align: right;\n",
       "    }\n",
       "</style>\n",
       "<table border=\"1\" class=\"dataframe\">\n",
       "  <thead>\n",
       "    <tr style=\"text-align: right;\">\n",
       "      <th></th>\n",
       "      <th>VAR_NAME</th>\n",
       "      <th>MIN_VALUE</th>\n",
       "      <th>MAX_VALUE</th>\n",
       "      <th>COUNT</th>\n",
       "      <th>EVENT</th>\n",
       "      <th>EVENT_RATE</th>\n",
       "      <th>NONEVENT</th>\n",
       "      <th>NON_EVENT_RATE</th>\n",
       "      <th>DIST_EVENT</th>\n",
       "      <th>DIST_NON_EVENT</th>\n",
       "      <th>WOE</th>\n",
       "      <th>IV</th>\n",
       "    </tr>\n",
       "  </thead>\n",
       "  <tbody>\n",
       "    <tr>\n",
       "      <th>0</th>\n",
       "      <td>V1</td>\n",
       "      <td>1</td>\n",
       "      <td>1</td>\n",
       "      <td>3490</td>\n",
       "      <td>649</td>\n",
       "      <td>0.185960</td>\n",
       "      <td>2841</td>\n",
       "      <td>0.814040</td>\n",
       "      <td>0.457687</td>\n",
       "      <td>0.620035</td>\n",
       "      <td>-0.303591</td>\n",
       "      <td>0.107045</td>\n",
       "    </tr>\n",
       "    <tr>\n",
       "      <th>1</th>\n",
       "      <td>V1</td>\n",
       "      <td>2</td>\n",
       "      <td>5</td>\n",
       "      <td>2510</td>\n",
       "      <td>769</td>\n",
       "      <td>0.306375</td>\n",
       "      <td>1741</td>\n",
       "      <td>0.693625</td>\n",
       "      <td>0.542313</td>\n",
       "      <td>0.379965</td>\n",
       "      <td>0.355764</td>\n",
       "      <td>0.107045</td>\n",
       "    </tr>\n",
       "    <tr>\n",
       "      <th>2</th>\n",
       "      <td>V2</td>\n",
       "      <td>1</td>\n",
       "      <td>3</td>\n",
       "      <td>3119</td>\n",
       "      <td>724</td>\n",
       "      <td>0.232126</td>\n",
       "      <td>2395</td>\n",
       "      <td>0.767874</td>\n",
       "      <td>0.510578</td>\n",
       "      <td>0.522698</td>\n",
       "      <td>-0.023459</td>\n",
       "      <td>0.000588</td>\n",
       "    </tr>\n",
       "    <tr>\n",
       "      <th>3</th>\n",
       "      <td>V2</td>\n",
       "      <td>4</td>\n",
       "      <td>6</td>\n",
       "      <td>2881</td>\n",
       "      <td>694</td>\n",
       "      <td>0.240889</td>\n",
       "      <td>2187</td>\n",
       "      <td>0.759111</td>\n",
       "      <td>0.489422</td>\n",
       "      <td>0.477302</td>\n",
       "      <td>0.025074</td>\n",
       "      <td>0.000588</td>\n",
       "    </tr>\n",
       "    <tr>\n",
       "      <th>4</th>\n",
       "      <td>V3</td>\n",
       "      <td>1</td>\n",
       "      <td>10</td>\n",
       "      <td>3199</td>\n",
       "      <td>861</td>\n",
       "      <td>0.269147</td>\n",
       "      <td>2338</td>\n",
       "      <td>0.730853</td>\n",
       "      <td>0.607193</td>\n",
       "      <td>0.510258</td>\n",
       "      <td>0.173932</td>\n",
       "      <td>0.038240</td>\n",
       "    </tr>\n",
       "    <tr>\n",
       "      <th>5</th>\n",
       "      <td>V3</td>\n",
       "      <td>11</td>\n",
       "      <td>15</td>\n",
       "      <td>2801</td>\n",
       "      <td>557</td>\n",
       "      <td>0.198858</td>\n",
       "      <td>2244</td>\n",
       "      <td>0.801142</td>\n",
       "      <td>0.392807</td>\n",
       "      <td>0.489742</td>\n",
       "      <td>-0.220562</td>\n",
       "      <td>0.038240</td>\n",
       "    </tr>\n",
       "    <tr>\n",
       "      <th>6</th>\n",
       "      <td>V4</td>\n",
       "      <td>1</td>\n",
       "      <td>4</td>\n",
       "      <td>4746</td>\n",
       "      <td>1266</td>\n",
       "      <td>0.266751</td>\n",
       "      <td>3480</td>\n",
       "      <td>0.733249</td>\n",
       "      <td>0.892807</td>\n",
       "      <td>0.759494</td>\n",
       "      <td>0.161718</td>\n",
       "      <td>0.129291</td>\n",
       "    </tr>\n",
       "    <tr>\n",
       "      <th>7</th>\n",
       "      <td>V4</td>\n",
       "      <td>5</td>\n",
       "      <td>6</td>\n",
       "      <td>1254</td>\n",
       "      <td>152</td>\n",
       "      <td>0.121212</td>\n",
       "      <td>1102</td>\n",
       "      <td>0.878788</td>\n",
       "      <td>0.107193</td>\n",
       "      <td>0.240506</td>\n",
       "      <td>-0.808113</td>\n",
       "      <td>0.129291</td>\n",
       "    </tr>\n",
       "    <tr>\n",
       "      <th>8</th>\n",
       "      <td>V5</td>\n",
       "      <td>1</td>\n",
       "      <td>2</td>\n",
       "      <td>1842</td>\n",
       "      <td>685</td>\n",
       "      <td>0.371878</td>\n",
       "      <td>1157</td>\n",
       "      <td>0.628122</td>\n",
       "      <td>0.483075</td>\n",
       "      <td>0.252510</td>\n",
       "      <td>0.648721</td>\n",
       "      <td>0.297491</td>\n",
       "    </tr>\n",
       "    <tr>\n",
       "      <th>9</th>\n",
       "      <td>V5</td>\n",
       "      <td>3</td>\n",
       "      <td>4</td>\n",
       "      <td>1944</td>\n",
       "      <td>432</td>\n",
       "      <td>0.222222</td>\n",
       "      <td>1512</td>\n",
       "      <td>0.777778</td>\n",
       "      <td>0.304654</td>\n",
       "      <td>0.329987</td>\n",
       "      <td>-0.079875</td>\n",
       "      <td>0.297491</td>\n",
       "    </tr>\n",
       "    <tr>\n",
       "      <th>10</th>\n",
       "      <td>V5</td>\n",
       "      <td>5</td>\n",
       "      <td>6</td>\n",
       "      <td>997</td>\n",
       "      <td>155</td>\n",
       "      <td>0.155466</td>\n",
       "      <td>842</td>\n",
       "      <td>0.844534</td>\n",
       "      <td>0.109309</td>\n",
       "      <td>0.183763</td>\n",
       "      <td>-0.519467</td>\n",
       "      <td>0.297491</td>\n",
       "    </tr>\n",
       "    <tr>\n",
       "      <th>11</th>\n",
       "      <td>V5</td>\n",
       "      <td>7</td>\n",
       "      <td>7</td>\n",
       "      <td>1217</td>\n",
       "      <td>146</td>\n",
       "      <td>0.119967</td>\n",
       "      <td>1071</td>\n",
       "      <td>0.880033</td>\n",
       "      <td>0.102962</td>\n",
       "      <td>0.233741</td>\n",
       "      <td>-0.819853</td>\n",
       "      <td>0.297491</td>\n",
       "    </tr>\n",
       "    <tr>\n",
       "      <th>12</th>\n",
       "      <td>V6</td>\n",
       "      <td>1</td>\n",
       "      <td>5</td>\n",
       "      <td>4731</td>\n",
       "      <td>1263</td>\n",
       "      <td>0.266963</td>\n",
       "      <td>3468</td>\n",
       "      <td>0.733037</td>\n",
       "      <td>0.890691</td>\n",
       "      <td>0.756875</td>\n",
       "      <td>0.162800</td>\n",
       "      <td>0.128758</td>\n",
       "    </tr>\n",
       "    <tr>\n",
       "      <th>13</th>\n",
       "      <td>V6</td>\n",
       "      <td>6</td>\n",
       "      <td>7</td>\n",
       "      <td>1269</td>\n",
       "      <td>155</td>\n",
       "      <td>0.122143</td>\n",
       "      <td>1114</td>\n",
       "      <td>0.877857</td>\n",
       "      <td>0.109309</td>\n",
       "      <td>0.243125</td>\n",
       "      <td>-0.799399</td>\n",
       "      <td>0.128758</td>\n",
       "    </tr>\n",
       "    <tr>\n",
       "      <th>14</th>\n",
       "      <td>V7</td>\n",
       "      <td>1</td>\n",
       "      <td>1</td>\n",
       "      <td>3660</td>\n",
       "      <td>704</td>\n",
       "      <td>0.192350</td>\n",
       "      <td>2956</td>\n",
       "      <td>0.807650</td>\n",
       "      <td>0.496474</td>\n",
       "      <td>0.645133</td>\n",
       "      <td>-0.261926</td>\n",
       "      <td>0.090952</td>\n",
       "    </tr>\n",
       "    <tr>\n",
       "      <th>15</th>\n",
       "      <td>V7</td>\n",
       "      <td>2</td>\n",
       "      <td>3</td>\n",
       "      <td>2340</td>\n",
       "      <td>714</td>\n",
       "      <td>0.305128</td>\n",
       "      <td>1626</td>\n",
       "      <td>0.694872</td>\n",
       "      <td>0.503526</td>\n",
       "      <td>0.354867</td>\n",
       "      <td>0.349893</td>\n",
       "      <td>0.090952</td>\n",
       "    </tr>\n",
       "    <tr>\n",
       "      <th>16</th>\n",
       "      <td>V8</td>\n",
       "      <td>1</td>\n",
       "      <td>1</td>\n",
       "      <td>2219</td>\n",
       "      <td>667</td>\n",
       "      <td>0.300586</td>\n",
       "      <td>1552</td>\n",
       "      <td>0.699414</td>\n",
       "      <td>0.470381</td>\n",
       "      <td>0.338717</td>\n",
       "      <td>0.328379</td>\n",
       "      <td>0.077109</td>\n",
       "    </tr>\n",
       "    <tr>\n",
       "      <th>17</th>\n",
       "      <td>V8</td>\n",
       "      <td>2</td>\n",
       "      <td>2</td>\n",
       "      <td>2286</td>\n",
       "      <td>436</td>\n",
       "      <td>0.190726</td>\n",
       "      <td>1850</td>\n",
       "      <td>0.809274</td>\n",
       "      <td>0.307475</td>\n",
       "      <td>0.403754</td>\n",
       "      <td>-0.272411</td>\n",
       "      <td>0.077109</td>\n",
       "    </tr>\n",
       "    <tr>\n",
       "      <th>18</th>\n",
       "      <td>V8</td>\n",
       "      <td>3</td>\n",
       "      <td>3</td>\n",
       "      <td>859</td>\n",
       "      <td>171</td>\n",
       "      <td>0.199069</td>\n",
       "      <td>688</td>\n",
       "      <td>0.800931</td>\n",
       "      <td>0.120592</td>\n",
       "      <td>0.150153</td>\n",
       "      <td>-0.219237</td>\n",
       "      <td>0.077109</td>\n",
       "    </tr>\n",
       "    <tr>\n",
       "      <th>19</th>\n",
       "      <td>V8</td>\n",
       "      <td>4</td>\n",
       "      <td>4</td>\n",
       "      <td>525</td>\n",
       "      <td>115</td>\n",
       "      <td>0.219048</td>\n",
       "      <td>410</td>\n",
       "      <td>0.780952</td>\n",
       "      <td>0.081100</td>\n",
       "      <td>0.089481</td>\n",
       "      <td>-0.098337</td>\n",
       "      <td>0.077109</td>\n",
       "    </tr>\n",
       "    <tr>\n",
       "      <th>20</th>\n",
       "      <td>V8</td>\n",
       "      <td>&gt;4</td>\n",
       "      <td>&gt;4</td>\n",
       "      <td>111</td>\n",
       "      <td>29</td>\n",
       "      <td>0.261261</td>\n",
       "      <td>82</td>\n",
       "      <td>0.738739</td>\n",
       "      <td>0.020451</td>\n",
       "      <td>0.017896</td>\n",
       "      <td>0.133465</td>\n",
       "      <td>0.077109</td>\n",
       "    </tr>\n",
       "    <tr>\n",
       "      <th>21</th>\n",
       "      <td>Has_FICO</td>\n",
       "      <td>0</td>\n",
       "      <td>0</td>\n",
       "      <td>2673</td>\n",
       "      <td>671</td>\n",
       "      <td>0.251029</td>\n",
       "      <td>2002</td>\n",
       "      <td>0.748971</td>\n",
       "      <td>0.473202</td>\n",
       "      <td>0.436927</td>\n",
       "      <td>0.079755</td>\n",
       "      <td>0.005309</td>\n",
       "    </tr>\n",
       "    <tr>\n",
       "      <th>22</th>\n",
       "      <td>Has_FICO</td>\n",
       "      <td>1</td>\n",
       "      <td>1</td>\n",
       "      <td>3327</td>\n",
       "      <td>747</td>\n",
       "      <td>0.224527</td>\n",
       "      <td>2580</td>\n",
       "      <td>0.775473</td>\n",
       "      <td>0.526798</td>\n",
       "      <td>0.563073</td>\n",
       "      <td>-0.066591</td>\n",
       "      <td>0.005309</td>\n",
       "    </tr>\n",
       "    <tr>\n",
       "      <th>23</th>\n",
       "      <td>Business_channel</td>\n",
       "      <td>1</td>\n",
       "      <td>1</td>\n",
       "      <td>4180</td>\n",
       "      <td>859</td>\n",
       "      <td>0.205502</td>\n",
       "      <td>3321</td>\n",
       "      <td>0.794498</td>\n",
       "      <td>0.605783</td>\n",
       "      <td>0.724793</td>\n",
       "      <td>-0.179364</td>\n",
       "      <td>0.064116</td>\n",
       "    </tr>\n",
       "    <tr>\n",
       "      <th>24</th>\n",
       "      <td>Business_channel</td>\n",
       "      <td>2</td>\n",
       "      <td>3</td>\n",
       "      <td>1820</td>\n",
       "      <td>559</td>\n",
       "      <td>0.307143</td>\n",
       "      <td>1261</td>\n",
       "      <td>0.692857</td>\n",
       "      <td>0.394217</td>\n",
       "      <td>0.275207</td>\n",
       "      <td>0.359377</td>\n",
       "      <td>0.064116</td>\n",
       "    </tr>\n",
       "    <tr>\n",
       "      <th>25</th>\n",
       "      <td>FICO_Score</td>\n",
       "      <td>-5.08863</td>\n",
       "      <td>0</td>\n",
       "      <td>4508</td>\n",
       "      <td>1321</td>\n",
       "      <td>0.293035</td>\n",
       "      <td>3187</td>\n",
       "      <td>0.706965</td>\n",
       "      <td>0.931594</td>\n",
       "      <td>0.695548</td>\n",
       "      <td>0.292197</td>\n",
       "      <td>0.421401</td>\n",
       "    </tr>\n",
       "    <tr>\n",
       "      <th>26</th>\n",
       "      <td>FICO_Score</td>\n",
       "      <td>0.00682839</td>\n",
       "      <td>2.38057</td>\n",
       "      <td>1492</td>\n",
       "      <td>97</td>\n",
       "      <td>0.065013</td>\n",
       "      <td>1395</td>\n",
       "      <td>0.934987</td>\n",
       "      <td>0.068406</td>\n",
       "      <td>0.304452</td>\n",
       "      <td>-1.493051</td>\n",
       "      <td>0.421401</td>\n",
       "    </tr>\n",
       "    <tr>\n",
       "      <th>27</th>\n",
       "      <td>Loan_amount</td>\n",
       "      <td>-1.11702</td>\n",
       "      <td>-0.500164</td>\n",
       "      <td>2115</td>\n",
       "      <td>442</td>\n",
       "      <td>0.208983</td>\n",
       "      <td>1673</td>\n",
       "      <td>0.791017</td>\n",
       "      <td>0.311707</td>\n",
       "      <td>0.365124</td>\n",
       "      <td>-0.158176</td>\n",
       "      <td>0.017873</td>\n",
       "    </tr>\n",
       "    <tr>\n",
       "      <th>28</th>\n",
       "      <td>Loan_amount</td>\n",
       "      <td>-0.498049</td>\n",
       "      <td>0.0990652</td>\n",
       "      <td>1887</td>\n",
       "      <td>442</td>\n",
       "      <td>0.234234</td>\n",
       "      <td>1445</td>\n",
       "      <td>0.765766</td>\n",
       "      <td>0.311707</td>\n",
       "      <td>0.315364</td>\n",
       "      <td>-0.011667</td>\n",
       "      <td>0.017873</td>\n",
       "    </tr>\n",
       "    <tr>\n",
       "      <th>29</th>\n",
       "      <td>Loan_amount</td>\n",
       "      <td>0.111402</td>\n",
       "      <td>5.84461</td>\n",
       "      <td>1998</td>\n",
       "      <td>534</td>\n",
       "      <td>0.267267</td>\n",
       "      <td>1464</td>\n",
       "      <td>0.732733</td>\n",
       "      <td>0.376587</td>\n",
       "      <td>0.319511</td>\n",
       "      <td>0.164356</td>\n",
       "      <td>0.017873</td>\n",
       "    </tr>\n",
       "    <tr>\n",
       "      <th>30</th>\n",
       "      <td>Monthly_income</td>\n",
       "      <td>-0.983753</td>\n",
       "      <td>-0.504773</td>\n",
       "      <td>2005</td>\n",
       "      <td>418</td>\n",
       "      <td>0.208479</td>\n",
       "      <td>1587</td>\n",
       "      <td>0.791521</td>\n",
       "      <td>0.294781</td>\n",
       "      <td>0.346355</td>\n",
       "      <td>-0.161231</td>\n",
       "      <td>0.012513</td>\n",
       "    </tr>\n",
       "    <tr>\n",
       "      <th>31</th>\n",
       "      <td>Monthly_income</td>\n",
       "      <td>-0.503646</td>\n",
       "      <td>-0.110319</td>\n",
       "      <td>1996</td>\n",
       "      <td>492</td>\n",
       "      <td>0.246493</td>\n",
       "      <td>1504</td>\n",
       "      <td>0.753507</td>\n",
       "      <td>0.346968</td>\n",
       "      <td>0.328241</td>\n",
       "      <td>0.055483</td>\n",
       "      <td>0.012513</td>\n",
       "    </tr>\n",
       "    <tr>\n",
       "      <th>32</th>\n",
       "      <td>Monthly_income</td>\n",
       "      <td>-0.109192</td>\n",
       "      <td>43.842</td>\n",
       "      <td>1999</td>\n",
       "      <td>508</td>\n",
       "      <td>0.254127</td>\n",
       "      <td>1491</td>\n",
       "      <td>0.745873</td>\n",
       "      <td>0.358251</td>\n",
       "      <td>0.325404</td>\n",
       "      <td>0.096167</td>\n",
       "      <td>0.012513</td>\n",
       "    </tr>\n",
       "    <tr>\n",
       "      <th>33</th>\n",
       "      <td>Age</td>\n",
       "      <td>-1.58835</td>\n",
       "      <td>-1.21397</td>\n",
       "      <td>814</td>\n",
       "      <td>327</td>\n",
       "      <td>0.401720</td>\n",
       "      <td>487</td>\n",
       "      <td>0.598280</td>\n",
       "      <td>0.230606</td>\n",
       "      <td>0.106285</td>\n",
       "      <td>0.774584</td>\n",
       "      <td>0.272468</td>\n",
       "    </tr>\n",
       "    <tr>\n",
       "      <th>34</th>\n",
       "      <td>Age</td>\n",
       "      <td>-1.13909</td>\n",
       "      <td>-0.914469</td>\n",
       "      <td>745</td>\n",
       "      <td>225</td>\n",
       "      <td>0.302013</td>\n",
       "      <td>520</td>\n",
       "      <td>0.697987</td>\n",
       "      <td>0.158674</td>\n",
       "      <td>0.113488</td>\n",
       "      <td>0.335160</td>\n",
       "      <td>0.272468</td>\n",
       "    </tr>\n",
       "    <tr>\n",
       "      <th>35</th>\n",
       "      <td>Age</td>\n",
       "      <td>-0.839594</td>\n",
       "      <td>-0.465218</td>\n",
       "      <td>840</td>\n",
       "      <td>246</td>\n",
       "      <td>0.292857</td>\n",
       "      <td>594</td>\n",
       "      <td>0.707143</td>\n",
       "      <td>0.173484</td>\n",
       "      <td>0.129638</td>\n",
       "      <td>0.291340</td>\n",
       "      <td>0.272468</td>\n",
       "    </tr>\n",
       "    <tr>\n",
       "      <th>36</th>\n",
       "      <td>Age</td>\n",
       "      <td>-0.390342</td>\n",
       "      <td>-0.165717</td>\n",
       "      <td>639</td>\n",
       "      <td>164</td>\n",
       "      <td>0.256651</td>\n",
       "      <td>475</td>\n",
       "      <td>0.743349</td>\n",
       "      <td>0.115656</td>\n",
       "      <td>0.103667</td>\n",
       "      <td>0.109440</td>\n",
       "      <td>0.272468</td>\n",
       "    </tr>\n",
       "    <tr>\n",
       "      <th>37</th>\n",
       "      <td>Age</td>\n",
       "      <td>-0.0908414</td>\n",
       "      <td>0.283535</td>\n",
       "      <td>778</td>\n",
       "      <td>153</td>\n",
       "      <td>0.196658</td>\n",
       "      <td>625</td>\n",
       "      <td>0.803342</td>\n",
       "      <td>0.107898</td>\n",
       "      <td>0.136403</td>\n",
       "      <td>-0.234426</td>\n",
       "      <td>0.272468</td>\n",
       "    </tr>\n",
       "    <tr>\n",
       "      <th>38</th>\n",
       "      <td>Age</td>\n",
       "      <td>0.35841</td>\n",
       "      <td>0.807662</td>\n",
       "      <td>689</td>\n",
       "      <td>117</td>\n",
       "      <td>0.169811</td>\n",
       "      <td>572</td>\n",
       "      <td>0.830189</td>\n",
       "      <td>0.082511</td>\n",
       "      <td>0.124836</td>\n",
       "      <td>-0.414077</td>\n",
       "      <td>0.272468</td>\n",
       "    </tr>\n",
       "    <tr>\n",
       "      <th>39</th>\n",
       "      <td>Age</td>\n",
       "      <td>0.882537</td>\n",
       "      <td>1.40666</td>\n",
       "      <td>765</td>\n",
       "      <td>104</td>\n",
       "      <td>0.135948</td>\n",
       "      <td>661</td>\n",
       "      <td>0.864052</td>\n",
       "      <td>0.073343</td>\n",
       "      <td>0.144260</td>\n",
       "      <td>-0.676475</td>\n",
       "      <td>0.272468</td>\n",
       "    </tr>\n",
       "    <tr>\n",
       "      <th>40</th>\n",
       "      <td>Age</td>\n",
       "      <td>1.48154</td>\n",
       "      <td>2.00567</td>\n",
       "      <td>730</td>\n",
       "      <td>82</td>\n",
       "      <td>0.112329</td>\n",
       "      <td>648</td>\n",
       "      <td>0.887671</td>\n",
       "      <td>0.057828</td>\n",
       "      <td>0.141423</td>\n",
       "      <td>-0.894283</td>\n",
       "      <td>0.272468</td>\n",
       "    </tr>\n",
       "    <tr>\n",
       "      <th>41</th>\n",
       "      <td>Gearing_coefficient</td>\n",
       "      <td>-2.63606</td>\n",
       "      <td>0.438607</td>\n",
       "      <td>3000</td>\n",
       "      <td>669</td>\n",
       "      <td>0.223000</td>\n",
       "      <td>2331</td>\n",
       "      <td>0.777000</td>\n",
       "      <td>0.471791</td>\n",
       "      <td>0.508730</td>\n",
       "      <td>-0.075380</td>\n",
       "      <td>0.005462</td>\n",
       "    </tr>\n",
       "    <tr>\n",
       "      <th>42</th>\n",
       "      <td>Gearing_coefficient</td>\n",
       "      <td>0.440381</td>\n",
       "      <td>9.3873</td>\n",
       "      <td>3000</td>\n",
       "      <td>749</td>\n",
       "      <td>0.249667</td>\n",
       "      <td>2251</td>\n",
       "      <td>0.750333</td>\n",
       "      <td>0.528209</td>\n",
       "      <td>0.491270</td>\n",
       "      <td>0.072497</td>\n",
       "      <td>0.005462</td>\n",
       "    </tr>\n",
       "    <tr>\n",
       "      <th>43</th>\n",
       "      <td>Max_gearing_ratio</td>\n",
       "      <td>-0.768631</td>\n",
       "      <td>-0.768631</td>\n",
       "      <td>3440</td>\n",
       "      <td>785</td>\n",
       "      <td>0.228198</td>\n",
       "      <td>2655</td>\n",
       "      <td>0.771802</td>\n",
       "      <td>0.553597</td>\n",
       "      <td>0.579441</td>\n",
       "      <td>-0.045628</td>\n",
       "      <td>0.003788</td>\n",
       "    </tr>\n",
       "    <tr>\n",
       "      <th>44</th>\n",
       "      <td>Max_gearing_ratio</td>\n",
       "      <td>0.51398</td>\n",
       "      <td>0.51398</td>\n",
       "      <td>1380</td>\n",
       "      <td>353</td>\n",
       "      <td>0.255797</td>\n",
       "      <td>1027</td>\n",
       "      <td>0.744203</td>\n",
       "      <td>0.248942</td>\n",
       "      <td>0.224138</td>\n",
       "      <td>0.104959</td>\n",
       "      <td>0.003788</td>\n",
       "    </tr>\n",
       "    <tr>\n",
       "      <th>45</th>\n",
       "      <td>Max_gearing_ratio</td>\n",
       "      <td>1.79659</td>\n",
       "      <td>1.79659</td>\n",
       "      <td>1180</td>\n",
       "      <td>280</td>\n",
       "      <td>0.237288</td>\n",
       "      <td>900</td>\n",
       "      <td>0.762712</td>\n",
       "      <td>0.197461</td>\n",
       "      <td>0.196421</td>\n",
       "      <td>0.005283</td>\n",
       "      <td>0.003788</td>\n",
       "    </tr>\n",
       "  </tbody>\n",
       "</table>\n",
       "</div>"
      ],
      "text/plain": [
       "               VAR_NAME   MIN_VALUE  MAX_VALUE  COUNT  EVENT  EVENT_RATE  \\\n",
       "0                    V1           1          1   3490    649    0.185960   \n",
       "1                    V1           2          5   2510    769    0.306375   \n",
       "2                    V2           1          3   3119    724    0.232126   \n",
       "3                    V2           4          6   2881    694    0.240889   \n",
       "4                    V3           1         10   3199    861    0.269147   \n",
       "5                    V3          11         15   2801    557    0.198858   \n",
       "6                    V4           1          4   4746   1266    0.266751   \n",
       "7                    V4           5          6   1254    152    0.121212   \n",
       "8                    V5           1          2   1842    685    0.371878   \n",
       "9                    V5           3          4   1944    432    0.222222   \n",
       "10                   V5           5          6    997    155    0.155466   \n",
       "11                   V5           7          7   1217    146    0.119967   \n",
       "12                   V6           1          5   4731   1263    0.266963   \n",
       "13                   V6           6          7   1269    155    0.122143   \n",
       "14                   V7           1          1   3660    704    0.192350   \n",
       "15                   V7           2          3   2340    714    0.305128   \n",
       "16                   V8           1          1   2219    667    0.300586   \n",
       "17                   V8           2          2   2286    436    0.190726   \n",
       "18                   V8           3          3    859    171    0.199069   \n",
       "19                   V8           4          4    525    115    0.219048   \n",
       "20                   V8          >4         >4    111     29    0.261261   \n",
       "21             Has_FICO           0          0   2673    671    0.251029   \n",
       "22             Has_FICO           1          1   3327    747    0.224527   \n",
       "23     Business_channel           1          1   4180    859    0.205502   \n",
       "24     Business_channel           2          3   1820    559    0.307143   \n",
       "25           FICO_Score    -5.08863          0   4508   1321    0.293035   \n",
       "26           FICO_Score  0.00682839    2.38057   1492     97    0.065013   \n",
       "27          Loan_amount    -1.11702  -0.500164   2115    442    0.208983   \n",
       "28          Loan_amount   -0.498049  0.0990652   1887    442    0.234234   \n",
       "29          Loan_amount    0.111402    5.84461   1998    534    0.267267   \n",
       "30       Monthly_income   -0.983753  -0.504773   2005    418    0.208479   \n",
       "31       Monthly_income   -0.503646  -0.110319   1996    492    0.246493   \n",
       "32       Monthly_income   -0.109192     43.842   1999    508    0.254127   \n",
       "33                  Age    -1.58835   -1.21397    814    327    0.401720   \n",
       "34                  Age    -1.13909  -0.914469    745    225    0.302013   \n",
       "35                  Age   -0.839594  -0.465218    840    246    0.292857   \n",
       "36                  Age   -0.390342  -0.165717    639    164    0.256651   \n",
       "37                  Age  -0.0908414   0.283535    778    153    0.196658   \n",
       "38                  Age     0.35841   0.807662    689    117    0.169811   \n",
       "39                  Age    0.882537    1.40666    765    104    0.135948   \n",
       "40                  Age     1.48154    2.00567    730     82    0.112329   \n",
       "41  Gearing_coefficient    -2.63606   0.438607   3000    669    0.223000   \n",
       "42  Gearing_coefficient    0.440381     9.3873   3000    749    0.249667   \n",
       "43    Max_gearing_ratio   -0.768631  -0.768631   3440    785    0.228198   \n",
       "44    Max_gearing_ratio     0.51398    0.51398   1380    353    0.255797   \n",
       "45    Max_gearing_ratio     1.79659    1.79659   1180    280    0.237288   \n",
       "\n",
       "    NONEVENT  NON_EVENT_RATE  DIST_EVENT  DIST_NON_EVENT       WOE        IV  \n",
       "0       2841        0.814040    0.457687        0.620035 -0.303591  0.107045  \n",
       "1       1741        0.693625    0.542313        0.379965  0.355764  0.107045  \n",
       "2       2395        0.767874    0.510578        0.522698 -0.023459  0.000588  \n",
       "3       2187        0.759111    0.489422        0.477302  0.025074  0.000588  \n",
       "4       2338        0.730853    0.607193        0.510258  0.173932  0.038240  \n",
       "5       2244        0.801142    0.392807        0.489742 -0.220562  0.038240  \n",
       "6       3480        0.733249    0.892807        0.759494  0.161718  0.129291  \n",
       "7       1102        0.878788    0.107193        0.240506 -0.808113  0.129291  \n",
       "8       1157        0.628122    0.483075        0.252510  0.648721  0.297491  \n",
       "9       1512        0.777778    0.304654        0.329987 -0.079875  0.297491  \n",
       "10       842        0.844534    0.109309        0.183763 -0.519467  0.297491  \n",
       "11      1071        0.880033    0.102962        0.233741 -0.819853  0.297491  \n",
       "12      3468        0.733037    0.890691        0.756875  0.162800  0.128758  \n",
       "13      1114        0.877857    0.109309        0.243125 -0.799399  0.128758  \n",
       "14      2956        0.807650    0.496474        0.645133 -0.261926  0.090952  \n",
       "15      1626        0.694872    0.503526        0.354867  0.349893  0.090952  \n",
       "16      1552        0.699414    0.470381        0.338717  0.328379  0.077109  \n",
       "17      1850        0.809274    0.307475        0.403754 -0.272411  0.077109  \n",
       "18       688        0.800931    0.120592        0.150153 -0.219237  0.077109  \n",
       "19       410        0.780952    0.081100        0.089481 -0.098337  0.077109  \n",
       "20        82        0.738739    0.020451        0.017896  0.133465  0.077109  \n",
       "21      2002        0.748971    0.473202        0.436927  0.079755  0.005309  \n",
       "22      2580        0.775473    0.526798        0.563073 -0.066591  0.005309  \n",
       "23      3321        0.794498    0.605783        0.724793 -0.179364  0.064116  \n",
       "24      1261        0.692857    0.394217        0.275207  0.359377  0.064116  \n",
       "25      3187        0.706965    0.931594        0.695548  0.292197  0.421401  \n",
       "26      1395        0.934987    0.068406        0.304452 -1.493051  0.421401  \n",
       "27      1673        0.791017    0.311707        0.365124 -0.158176  0.017873  \n",
       "28      1445        0.765766    0.311707        0.315364 -0.011667  0.017873  \n",
       "29      1464        0.732733    0.376587        0.319511  0.164356  0.017873  \n",
       "30      1587        0.791521    0.294781        0.346355 -0.161231  0.012513  \n",
       "31      1504        0.753507    0.346968        0.328241  0.055483  0.012513  \n",
       "32      1491        0.745873    0.358251        0.325404  0.096167  0.012513  \n",
       "33       487        0.598280    0.230606        0.106285  0.774584  0.272468  \n",
       "34       520        0.697987    0.158674        0.113488  0.335160  0.272468  \n",
       "35       594        0.707143    0.173484        0.129638  0.291340  0.272468  \n",
       "36       475        0.743349    0.115656        0.103667  0.109440  0.272468  \n",
       "37       625        0.803342    0.107898        0.136403 -0.234426  0.272468  \n",
       "38       572        0.830189    0.082511        0.124836 -0.414077  0.272468  \n",
       "39       661        0.864052    0.073343        0.144260 -0.676475  0.272468  \n",
       "40       648        0.887671    0.057828        0.141423 -0.894283  0.272468  \n",
       "41      2331        0.777000    0.471791        0.508730 -0.075380  0.005462  \n",
       "42      2251        0.750333    0.528209        0.491270  0.072497  0.005462  \n",
       "43      2655        0.771802    0.553597        0.579441 -0.045628  0.003788  \n",
       "44      1027        0.744203    0.248942        0.224138  0.104959  0.003788  \n",
       "45       900        0.762712    0.197461        0.196421  0.005283  0.003788  "
      ]
     },
     "execution_count": 19,
     "metadata": {},
     "output_type": "execute_result"
    }
   ],
   "source": [
    "final_iv"
   ]
  },
  {
   "cell_type": "code",
   "execution_count": 20,
   "metadata": {},
   "outputs": [],
   "source": [
    "# Applying the WOE in the X_train, X_valid and X_test datasets\n",
    "transform_vars_list = X_train.columns.difference(['ID'])\n",
    "transform_prefix = 'new_' "
   ]
  },
  {
   "cell_type": "code",
   "execution_count": 21,
   "metadata": {},
   "outputs": [],
   "source": [
    "# reference: https://github.com/Sundar0989/WOE-and-IV/blob/master/WOE_IV.ipynb \n",
    "def transf(df):\n",
    "    for var in transform_vars_list:\n",
    "        small_df = final_iv[final_iv['VAR_NAME'] == var]\n",
    "        transform_dict = dict(zip(small_df.MAX_VALUE,small_df.WOE))\n",
    "        replace_cmd = ''\n",
    "        replace_cmd1 = ''\n",
    "        for i in sorted(transform_dict.items()):\n",
    "            replace_cmd = replace_cmd + str(i[1]) + str(' if x <= ') + str(i[0]) + ' else '\n",
    "            replace_cmd1 = replace_cmd1 + str(i[1]) + str(' if x == \"') + str(i[0]) + '\" else '\n",
    "        replace_cmd = replace_cmd + '0'\n",
    "        replace_cmd1 = replace_cmd1 + '0'\n",
    "        if replace_cmd != '0':\n",
    "            try:\n",
    "                df[transform_prefix + var] = df[var].apply(lambda x: eval(replace_cmd))\n",
    "            except:\n",
    "                df[transform_prefix + var] = df[var].apply(lambda x: eval(replace_cmd1))\n",
    "    return df"
   ]
  },
  {
   "cell_type": "code",
   "execution_count": 22,
   "metadata": {},
   "outputs": [
    {
     "name": "stderr",
     "output_type": "stream",
     "text": [
      "<ipython-input-21-cdac07671526>:15: SettingWithCopyWarning: \n",
      "A value is trying to be set on a copy of a slice from a DataFrame.\n",
      "Try using .loc[row_indexer,col_indexer] = value instead\n",
      "\n",
      "See the caveats in the documentation: https://pandas.pydata.org/pandas-docs/stable/user_guide/indexing.html#returning-a-view-versus-a-copy\n",
      "  df[transform_prefix + var] = df[var].apply(lambda x: eval(replace_cmd))\n",
      "<ipython-input-21-cdac07671526>:17: SettingWithCopyWarning: \n",
      "A value is trying to be set on a copy of a slice from a DataFrame.\n",
      "Try using .loc[row_indexer,col_indexer] = value instead\n",
      "\n",
      "See the caveats in the documentation: https://pandas.pydata.org/pandas-docs/stable/user_guide/indexing.html#returning-a-view-versus-a-copy\n",
      "  df[transform_prefix + var] = df[var].apply(lambda x: eval(replace_cmd1))\n"
     ]
    }
   ],
   "source": [
    "X_train_woe = transf(X_train)\n",
    "X_valid_woe = transf(X_valid)\n",
    "X_test_woe = transf(X_test)"
   ]
  },
  {
   "cell_type": "code",
   "execution_count": 23,
   "metadata": {},
   "outputs": [],
   "source": [
    "# We keep only the variables with the WOE value\n",
    "X_train_woe = X_train_woe.loc[:, X_train_woe.columns.str.contains('new')]\n",
    "X_valid_woe = X_valid_woe.loc[:, X_valid_woe.columns.str.contains('new')]\n",
    "X_test_woe = X_test_woe.loc[:, X_test_woe.columns.str.contains('new')]"
   ]
  },
  {
   "cell_type": "markdown",
   "metadata": {},
   "source": [
    "Let's plot the WOE values of our predictive features with their respective bins. "
   ]
  },
  {
   "cell_type": "code",
   "execution_count": 24,
   "metadata": {},
   "outputs": [
    {
     "data": {
      "image/png": "[encoded data removed]",
      "text/plain": [
       "<Figure size 2520x2160 with 16 Axes>"
      ]
     },
     "metadata": {
      "needs_background": "light"
     },
     "output_type": "display_data"
    }
   ],
   "source": [
    "# Plot WoE for all variables\n",
    "plt.figure(figsize=(35,30))\n",
    "plt.subplots_adjust(hspace=.4)\n",
    "name_vars=X_train_pre.columns\n",
    "j=1\n",
    "for i in name_vars:\n",
    "    dat=final_iv[final_iv[\"VAR_NAME\"]==i]\n",
    "    plt.subplot(4, 4, j)\n",
    "    plt.bar(x=range(1,(len(dat)+1)),height=dat['WOE'])\n",
    "    plt.title(f'{i}', fontweight=\"bold\", fontsize=20)\n",
    "    plt.xlabel(f'{i} Bins', fontsize=15)\n",
    "    plt.ylabel('WOE Value',fontsize=15)\n",
    "    j=j+1"
   ]
  },
  {
   "cell_type": "markdown",
   "metadata": {},
   "source": [
    " "
   ]
  },
  {
   "cell_type": "markdown",
   "metadata": {},
   "source": [
    "The graph above shows how each group influences the target variable. \n",
    "\n",
    "Positive values of WOE indicate that this particular group has more good customers (Non-Default) that bad customers (Default), which means that in groups with negative WOE the default risk is higher."
   ]
  },
  {
   "cell_type": "markdown",
   "metadata": {},
   "source": [
    "### 3. Credit Risk Modeling  of accepted Clients"
   ]
  },
  {
   "cell_type": "markdown",
   "metadata": {},
   "source": [
    "We are going to use three classification techniques: Logistic Regression, Random Forest, and Gradient Boosting. \n",
    "\n",
    "All variables will be considered except the variable \"Days_late\". The values of the variable are unknow when evaluating new loan applications, thus won't serve in our model."
   ]
  },
  {
   "cell_type": "code",
   "execution_count": 25,
   "metadata": {},
   "outputs": [],
   "source": [
    "from sklearn.linear_model import LogisticRegression\n",
    "from sklearn.ensemble import RandomForestClassifier\n",
    "from sklearn.ensemble import GradientBoostingClassifier\n",
    "from sklearn.model_selection import GridSearchCV\n",
    "from sklearn.metrics import roc_curve, roc_auc_score\n",
    "from sklearn.metrics import classification_report\n",
    "from sklearn.metrics import precision_recall_fscore_support"
   ]
  },
  {
   "cell_type": "markdown",
   "metadata": {},
   "source": [
    "### 3.1. Logistic Regression"
   ]
  },
  {
   "cell_type": "code",
   "execution_count": 26,
   "metadata": {},
   "outputs": [
    {
     "data": {
      "text/plain": [
       "LogisticRegression()"
      ]
     },
     "execution_count": 26,
     "metadata": {},
     "output_type": "execute_result"
    }
   ],
   "source": [
    "log_reg = LogisticRegression(solver='lbfgs')\n",
    "log_reg.fit(X_train_woe, np.ravel(y_train))"
   ]
  },
  {
   "cell_type": "code",
   "execution_count": 27,
   "metadata": {},
   "outputs": [],
   "source": [
    "# Making predictions in the valid dataset\n",
    "proba_log_reg = log_reg.predict_proba(X_valid_woe)\n",
    "pred_log_reg = pd.DataFrame(proba_log_reg[:,1], columns = ['prob_default'])\n",
    "pred_log_reg['default_status'] = pred_log_reg['prob_default'].apply(lambda x: 1 if x > 0.5 else 0)"
   ]
  },
  {
   "cell_type": "markdown",
   "metadata": {},
   "source": [
    "We plot the ROC curve of the validation set generated by the Logistic Regression model."
   ]
  },
  {
   "cell_type": "code",
   "execution_count": 28,
   "metadata": {},
   "outputs": [
    {
     "data": {
      "text/plain": [
       "Text(0.5, 1.0, 'ROC Curve Logistic Regresion')"
      ]
     },
     "execution_count": 28,
     "metadata": {},
     "output_type": "execute_result"
    },
    {
     "data": {
      "image/png": "[encoded data removed]",
      "text/plain": [
       "<Figure size 432x288 with 1 Axes>"
      ]
     },
     "metadata": {
      "needs_background": "light"
     },
     "output_type": "display_data"
    }
   ],
   "source": [
    "fallout, sensitivity, thresholds = roc_curve(y_valid, pred_log_reg['prob_default'])\n",
    "plt.plot(fallout, sensitivity, color = 'darkorange')\n",
    "plt.title('ROC Curve Logistic Regresion')"
   ]
  },
  {
   "cell_type": "code",
   "execution_count": 30,
   "metadata": {},
   "outputs": [
    {
     "data": {
      "text/plain": [
       "'AUC_valid= 0.7192632682192696.'"
      ]
     },
     "execution_count": 30,
     "metadata": {},
     "output_type": "execute_result"
    }
   ],
   "source": [
    "# We compute the AUC in the validation set\n",
    "auc_log_reg = roc_auc_score(y_valid,pred_log_reg['prob_default'])\n",
    "f'AUC_valid= {auc_log_reg}.'"
   ]
  },
  {
   "cell_type": "code",
   "execution_count": 31,
   "metadata": {},
   "outputs": [
    {
     "name": "stdout",
     "output_type": "stream",
     "text": [
      "              precision    recall  f1-score   support\n",
      "\n",
      " non_default       0.78      0.96      0.86      1527\n",
      "     default       0.51      0.14      0.21       473\n",
      "\n",
      "    accuracy                           0.77      2000\n",
      "   macro avg       0.65      0.55      0.54      2000\n",
      "weighted avg       0.72      0.77      0.71      2000\n",
      "\n"
     ]
    }
   ],
   "source": [
    "# Create metrics evaluation report\n",
    "targets = ['non_default','default']\n",
    "print(classification_report(y_valid, pred_log_reg['default_status'], target_names = targets))"
   ]
  },
  {
   "cell_type": "markdown",
   "metadata": {},
   "source": [
    "### 3.2. Random Forest"
   ]
  },
  {
   "cell_type": "code",
   "execution_count": 32,
   "metadata": {},
   "outputs": [],
   "source": [
    "# Defining random forest model\n",
    "RFC = RandomForestClassifier()\n",
    "\n",
    "# Create param grid\n",
    "RFCParams = {'n_estimators': [150,300,500],'max_features': ['auto', 'sqrt'],'max_depth' : [3,6,9]}\n",
    "\n",
    "# Create grid search object\n",
    "cv_RFC = GridSearchCV(RFC,RFCParams, cv=3)\n",
    "\n",
    "# Fit model \n",
    "best_RFC = cv_RFC.fit(X_train_woe, np.ravel(y_train))"
   ]
  },
  {
   "cell_type": "code",
   "execution_count": 33,
   "metadata": {},
   "outputs": [
    {
     "data": {
      "text/plain": [
       "RandomForestClassifier(max_depth=9, n_estimators=300)"
      ]
     },
     "execution_count": 33,
     "metadata": {},
     "output_type": "execute_result"
    }
   ],
   "source": [
    "# Best Parameters for the Random Forest\n",
    "best_RFC.best_estimator_"
   ]
  },
  {
   "cell_type": "code",
   "execution_count": 34,
   "metadata": {},
   "outputs": [],
   "source": [
    "# Making predictions in the valid dataset\n",
    "prob_RFC = best_RFC.predict_proba(X_valid_woe)\n",
    "\n",
    "pred_RFC = pd.DataFrame(prob_RFC[:,1], columns = ['prob_default'])\n",
    "\n",
    "pred_RFC['default_status'] = pred_RFC['prob_default'].apply(lambda x: 1 if x > 0.5 else 0)"
   ]
  },
  {
   "cell_type": "markdown",
   "metadata": {},
   "source": [
    "We plot the ROC curve of the validation set generated by the Random Forest model."
   ]
  },
  {
   "cell_type": "code",
   "execution_count": 35,
   "metadata": {},
   "outputs": [
    {
     "data": {
      "text/plain": [
       "Text(0.5, 1.0, 'ROC Curve Random Forest')"
      ]
     },
     "execution_count": 35,
     "metadata": {},
     "output_type": "execute_result"
    },
    {
     "data": {
      "image/png": "[encoded data removed]",
      "text/plain": [
       "<Figure size 432x288 with 1 Axes>"
      ]
     },
     "metadata": {
      "needs_background": "light"
     },
     "output_type": "display_data"
    }
   ],
   "source": [
    "fallout, sensitivity, thresholds = roc_curve(y_valid, pred_RFC['prob_default'])\n",
    "plt.plot(fallout, sensitivity, color = 'darkorange')\n",
    "plt.title('ROC Curve Random Forest')"
   ]
  },
  {
   "cell_type": "code",
   "execution_count": 36,
   "metadata": {},
   "outputs": [
    {
     "data": {
      "text/plain": [
       "'AUC_valid = 0.7226678075126926.'"
      ]
     },
     "execution_count": 36,
     "metadata": {},
     "output_type": "execute_result"
    }
   ],
   "source": [
    "# We compute the AUC in the validation set\n",
    "auc_RFC = roc_auc_score(y_valid, pred_RFC['prob_default'])\n",
    "f'AUC_valid = {auc_RFC}.'"
   ]
  },
  {
   "cell_type": "code",
   "execution_count": 37,
   "metadata": {},
   "outputs": [
    {
     "name": "stdout",
     "output_type": "stream",
     "text": [
      "              precision    recall  f1-score   support\n",
      "\n",
      " non_default       0.78      0.96      0.86      1527\n",
      "     default       0.47      0.12      0.19       473\n",
      "\n",
      "    accuracy                           0.76      2000\n",
      "   macro avg       0.62      0.54      0.52      2000\n",
      "weighted avg       0.71      0.76      0.70      2000\n",
      "\n"
     ]
    }
   ],
   "source": [
    "# Create metrics evaluation report\n",
    "target = ['non_default','default']\n",
    "print(classification_report(y_valid, pred_RFC['default_status'], target_names = targets))"
   ]
  },
  {
   "cell_type": "markdown",
   "metadata": {},
   "source": [
    "### 3.3. Gradient Boosting"
   ]
  },
  {
   "cell_type": "code",
   "execution_count": 42,
   "metadata": {},
   "outputs": [],
   "source": [
    "# Defining Gradient Boosting model\n",
    "GB = GradientBoostingClassifier()\n",
    "\n",
    "# Create param grid\n",
    "GB_Param = {'learning_rate': [0.001,0.01, 0.05, 0.1],'max_features': ['auto', 'sqrt'],'max_depth' : [3,6,9]}\n",
    "\n",
    "# Create grid search object\n",
    "CV_GB = GridSearchCV(GB,GB_Param, cv=3)\n",
    "\n",
    "# Fit model \n",
    "best_GB = CV_GB.fit(X_train_woe, np.ravel(y_train))"
   ]
  },
  {
   "cell_type": "code",
   "execution_count": 43,
   "metadata": {},
   "outputs": [
    {
     "data": {
      "text/plain": [
       "GradientBoostingClassifier(max_features='sqrt')"
      ]
     },
     "execution_count": 43,
     "metadata": {},
     "output_type": "execute_result"
    }
   ],
   "source": [
    "# Best Parameters for the Gradient Boosting\n",
    "best_GB.best_estimator_"
   ]
  },
  {
   "cell_type": "code",
   "execution_count": 44,
   "metadata": {},
   "outputs": [],
   "source": [
    "# Making predictions in the valid dataset\n",
    "prob_GB = best_GB.predict_proba(X_valid_woe)\n",
    "pred_GB = pd.DataFrame(prob_GB[:,1], columns = ['prob_default'])\n",
    "pred_GB['default_status'] = pred_GB['prob_default'].apply(lambda x: 1 if x > 0.5 else 0)"
   ]
  },
  {
   "cell_type": "markdown",
   "metadata": {},
   "source": [
    "We plot ROC curve of the valid dataset generated by the Gradient Boosting model."
   ]
  },
  {
   "cell_type": "code",
   "execution_count": 45,
   "metadata": {},
   "outputs": [
    {
     "data": {
      "text/plain": [
       "Text(0.5, 1.0, 'ROC Curve Gradient Boosting')"
      ]
     },
     "execution_count": 45,
     "metadata": {},
     "output_type": "execute_result"
    },
    {
     "data": {
      "image/png": "[encoded data removed]",
      "text/plain": [
       "<Figure size 432x288 with 1 Axes>"
      ]
     },
     "metadata": {
      "needs_background": "light"
     },
     "output_type": "display_data"
    }
   ],
   "source": [
    "fallout, sensitivity, thresholds = roc_curve(y_valid, pred_GB['prob_default'])\n",
    "plt.plot(fallout, sensitivity, color = 'darkorange')\n",
    "plt.title('ROC Curve Gradient Boosting')"
   ]
  },
  {
   "cell_type": "code",
   "execution_count": 46,
   "metadata": {},
   "outputs": [
    {
     "data": {
      "text/plain": [
       "'AUC_valid= 0.7279684495154867.'"
      ]
     },
     "execution_count": 46,
     "metadata": {},
     "output_type": "execute_result"
    }
   ],
   "source": [
    "# Calculating the AUC in the valid dataset\n",
    "auc_GB = roc_auc_score(y_valid, pred_GB['prob_default'])\n",
    "f'AUC_valid= {auc_GB}.'"
   ]
  },
  {
   "cell_type": "code",
   "execution_count": 47,
   "metadata": {},
   "outputs": [
    {
     "name": "stdout",
     "output_type": "stream",
     "text": [
      "              precision    recall  f1-score   support\n",
      "\n",
      " non_default       0.79      0.94      0.86      1527\n",
      "     default       0.50      0.19      0.27       473\n",
      "\n",
      "    accuracy                           0.76      2000\n",
      "   macro avg       0.64      0.56      0.57      2000\n",
      "weighted avg       0.72      0.76      0.72      2000\n",
      "\n"
     ]
    }
   ],
   "source": [
    "# Create metrics evaluation report\n",
    "targets = ['non_default','default']\n",
    "print(classification_report(y_valid, pred_GB['default_status'], target_names = targets))"
   ]
  },
  {
   "cell_type": "markdown",
   "metadata": {},
   "source": [
    "Model conclusion:\n",
    "\n",
    "Our models have similar performance. However, the Recall in the true default observations shows that all models have a low performance as the the default clients classification is not good enough.\n",
    "\n",
    "When it comes to credit risk, it is important to classify the default clients well. To fix it, we oversample the train set in order to have a balanced dataset in the target variable (Default_45). Then, we train the models again with the new oversampling dataset and we compare them using the validation set. "
   ]
  },
  {
   "cell_type": "markdown",
   "metadata": {},
   "source": [
    "### 3.4. Oversampling"
   ]
  },
  {
   "cell_type": "code",
   "execution_count": 49,
   "metadata": {},
   "outputs": [],
   "source": [
    "from imblearn.over_sampling import SMOTE"
   ]
  },
  {
   "cell_type": "code",
   "execution_count": 50,
   "metadata": {},
   "outputs": [],
   "source": [
    "# OverSampling with SMOTE\n",
    "method = SMOTE(sampling_strategy=1) # 50-50 balance\n",
    "\n",
    "# We apply resampling to the train set only\n",
    "X_resampled, y_resampled = method.fit_resample(X_train_woe, y_train)"
   ]
  },
  {
   "cell_type": "markdown",
   "metadata": {},
   "source": [
    "#### Logistic Regression"
   ]
  },
  {
   "cell_type": "code",
   "execution_count": 51,
   "metadata": {},
   "outputs": [],
   "source": [
    "oversampl_log_reg = LogisticRegression(solver='lbfgs')"
   ]
  },
  {
   "cell_type": "code",
   "execution_count": 52,
   "metadata": {},
   "outputs": [
    {
     "data": {
      "text/plain": [
       "LogisticRegression()"
      ]
     },
     "execution_count": 52,
     "metadata": {},
     "output_type": "execute_result"
    }
   ],
   "source": [
    "oversampl_log_reg.fit(X_resampled, np.ravel(y_resampled))"
   ]
  },
  {
   "cell_type": "code",
   "execution_count": 53,
   "metadata": {},
   "outputs": [],
   "source": [
    "# Making predictions in the valid dataset\n",
    "prob_log_reg = oversampl_log_reg.predict_proba(X_valid_woe)\n",
    "pred_log_reg = pd.DataFrame(prob_log_reg[:,1], columns = ['prob_default'])\n",
    "pred_log_reg['default_status'] = pred_log_reg['prob_default'].apply(lambda x: 1 if x > 0.5 else 0)"
   ]
  },
  {
   "cell_type": "code",
   "execution_count": 54,
   "metadata": {},
   "outputs": [
    {
     "data": {
      "text/plain": [
       "Text(0.5, 1.0, 'ROC Curve Logistic Regresion Oversampling')"
      ]
     },
     "execution_count": 54,
     "metadata": {},
     "output_type": "execute_result"
    },
    {
     "data": {
      "image/png": "[encoded data removed]",
      "text/plain": [
       "<Figure size 432x288 with 1 Axes>"
      ]
     },
     "metadata": {
      "needs_background": "light"
     },
     "output_type": "display_data"
    }
   ],
   "source": [
    "fallout, sensitivity, thresholds = roc_curve(y_valid, pred_log_reg['prob_default'])\n",
    "plt.plot(fallout, sensitivity, color = 'darkorange')\n",
    "plt.title('ROC Curve Logistic Regresion Oversampling')"
   ]
  },
  {
   "cell_type": "code",
   "execution_count": 55,
   "metadata": {},
   "outputs": [
    {
     "data": {
      "text/plain": [
       "'AUC_valid = 0.7202878144076115.'"
      ]
     },
     "execution_count": 55,
     "metadata": {},
     "output_type": "execute_result"
    }
   ],
   "source": [
    "# We calculate the AUC in the valid dataset\n",
    "auc_log_reg = roc_auc_score(y_valid,pred_log_reg['prob_default'])\n",
    "f'AUC_valid = {auc_log_reg}.'"
   ]
  },
  {
   "cell_type": "code",
   "execution_count": 56,
   "metadata": {},
   "outputs": [
    {
     "name": "stdout",
     "output_type": "stream",
     "text": [
      "              precision    recall  f1-score   support\n",
      "\n",
      " non_default       0.87      0.63      0.73      1527\n",
      "     default       0.37      0.70      0.48       473\n",
      "\n",
      "    accuracy                           0.65      2000\n",
      "   macro avg       0.62      0.66      0.61      2000\n",
      "weighted avg       0.75      0.65      0.67      2000\n",
      "\n"
     ]
    }
   ],
   "source": [
    "# Create metrics evaluation report\n",
    "targets = ['non_default','default']\n",
    "print(classification_report(y_valid, pred_log_reg['default_status'], target_names = targets))"
   ]
  },
  {
   "cell_type": "markdown",
   "metadata": {},
   "source": [
    "#### Random Forest"
   ]
  },
  {
   "cell_type": "code",
   "execution_count": 57,
   "metadata": {},
   "outputs": [],
   "source": [
    "# Random forest model\n",
    "RFC = RandomForestClassifier()\n",
    "\n",
    "# Create param grid\n",
    "RFC_Params = {'n_estimators': [150,300,500],'max_features': ['auto', 'sqrt'],'max_depth' : [3,6,9]}\n",
    "\n",
    "# Create grid search object\n",
    "CV_RFC = GridSearchCV(RFC,RFC_Params, cv=3)\n",
    "\n",
    "# Fit model \n",
    "best_oversample_RFC = CV_RFC.fit(X_resampled, np.ravel(y_resampled))"
   ]
  },
  {
   "cell_type": "code",
   "execution_count": 58,
   "metadata": {},
   "outputs": [
    {
     "data": {
      "text/plain": [
       "RandomForestClassifier(max_depth=9, max_features='sqrt', n_estimators=500)"
      ]
     },
     "execution_count": 58,
     "metadata": {},
     "output_type": "execute_result"
    }
   ],
   "source": [
    "# Best Parameters for the Random Forest\n",
    "best_oversample_RFC.best_estimator_"
   ]
  },
  {
   "cell_type": "code",
   "execution_count": 59,
   "metadata": {},
   "outputs": [],
   "source": [
    "# Making predictions in the valid dataset\n",
    "prob_RFC = best_oversample_RFC.predict_proba(X_valid_woe)\n",
    "pred_RFC = pd.DataFrame(prob_RFC[:,1], columns = ['prob_default'])\n",
    "pred_RFC['default_status'] = pred_RFC['prob_default'].apply(lambda x: 1 if x > 0.5 else 0)"
   ]
  },
  {
   "cell_type": "code",
   "execution_count": 60,
   "metadata": {},
   "outputs": [
    {
     "data": {
      "text/plain": [
       "Text(0.5, 1.0, 'ROC Curve Random Forest Oversampling')"
      ]
     },
     "execution_count": 60,
     "metadata": {},
     "output_type": "execute_result"
    },
    {
     "data": {
      "image/png": "[encoded data removed]",
      "text/plain": [
       "<Figure size 432x288 with 1 Axes>"
      ]
     },
     "metadata": {
      "needs_background": "light"
     },
     "output_type": "display_data"
    }
   ],
   "source": [
    "fallout, sensitivity, thresholds = roc_curve(y_valid, pred_RFC['prob_default'])\n",
    "plt.plot(fallout, sensitivity, color = 'darkorange')\n",
    "plt.title('ROC Curve Random Forest Oversampling')"
   ]
  },
  {
   "cell_type": "code",
   "execution_count": 61,
   "metadata": {},
   "outputs": [
    {
     "data": {
      "text/plain": [
       "'AUC_valid= 0.7259338946185019.'"
      ]
     },
     "execution_count": 61,
     "metadata": {},
     "output_type": "execute_result"
    }
   ],
   "source": [
    "# Calculating the AUC in the valid dataset\n",
    "auc_RFC = roc_auc_score(y_valid,pred_RFC['prob_default'])\n",
    "f'AUC_valid= {auc_RFC}.'"
   ]
  },
  {
   "cell_type": "code",
   "execution_count": 62,
   "metadata": {},
   "outputs": [
    {
     "name": "stdout",
     "output_type": "stream",
     "text": [
      "              precision    recall  f1-score   support\n",
      "\n",
      " non_default       0.82      0.84      0.83      1527\n",
      "     default       0.45      0.41      0.43       473\n",
      "\n",
      "    accuracy                           0.74      2000\n",
      "   macro avg       0.64      0.63      0.63      2000\n",
      "weighted avg       0.73      0.74      0.74      2000\n",
      "\n"
     ]
    }
   ],
   "source": [
    "# Create metrics evaluation report\n",
    "targets=['non_default','default']\n",
    "print(classification_report(y_valid, pred_RFC['default_status'], target_names=targets))"
   ]
  },
  {
   "cell_type": "markdown",
   "metadata": {},
   "source": [
    "#### Gradient Boosting"
   ]
  },
  {
   "cell_type": "code",
   "execution_count": 63,
   "metadata": {},
   "outputs": [],
   "source": [
    "# Gradient Boosting model\n",
    "GB = GradientBoostingClassifier()\n",
    "\n",
    "# Create param grid\n",
    "GB_Param = {'learning_rate': [0.001,0.01, 0.05, 0.1],'max_features': ['auto', 'sqrt'],'max_depth' : [3,6,9]}\n",
    "\n",
    "# Create grid search object\n",
    "CV_GB = GridSearchCV(GB,GB_Param, cv=3)\n",
    "\n",
    "# Fit model \n",
    "best_oversample_GB = CV_GB.fit(X_resampled, np.ravel(y_resampled))"
   ]
  },
  {
   "cell_type": "code",
   "execution_count": 64,
   "metadata": {},
   "outputs": [
    {
     "data": {
      "text/plain": [
       "GradientBoostingClassifier(max_depth=9, max_features='sqrt')"
      ]
     },
     "execution_count": 64,
     "metadata": {},
     "output_type": "execute_result"
    }
   ],
   "source": [
    "# Best Parameters for the Gradient Boosting\n",
    "best_oversample_GB.best_estimator_"
   ]
  },
  {
   "cell_type": "code",
   "execution_count": 65,
   "metadata": {},
   "outputs": [],
   "source": [
    "# Making predictions in the valid dataset\n",
    "prob_GB = best_oversample_GB.predict_proba(X_valid_woe)\n",
    "pred_GB = pd.DataFrame(prob_GB[:,1], columns = ['prob_default'])\n",
    "pred_GB['default_status'] = pred_GB['prob_default'].apply(lambda x: 1 if x > 0.5 else 0)"
   ]
  },
  {
   "cell_type": "code",
   "execution_count": 66,
   "metadata": {},
   "outputs": [
    {
     "data": {
      "text/plain": [
       "Text(0.5, 1.0, 'ROC Curve Gradient Boosting Oversampling')"
      ]
     },
     "execution_count": 66,
     "metadata": {},
     "output_type": "execute_result"
    },
    {
     "data": {
      "image/png": "[encoded data removed]",
      "text/plain": [
       "<Figure size 432x288 with 1 Axes>"
      ]
     },
     "metadata": {
      "needs_background": "light"
     },
     "output_type": "display_data"
    }
   ],
   "source": [
    "fallout, sensitivity, thresholds = roc_curve(y_valid, pred_GB['prob_default'])\n",
    "plt.plot(fallout, sensitivity, color = 'darkorange')\n",
    "plt.title('ROC Curve Gradient Boosting Oversampling')"
   ]
  },
  {
   "cell_type": "code",
   "execution_count": 67,
   "metadata": {},
   "outputs": [
    {
     "data": {
      "text/plain": [
       "'AUC_valid= 0.6893728254353283.'"
      ]
     },
     "execution_count": 67,
     "metadata": {},
     "output_type": "execute_result"
    }
   ],
   "source": [
    "# We compute the AUC in the valid dataset\n",
    "auc_GB = roc_auc_score(y_valid,pred_GB['prob_default'])\n",
    "f'AUC_valid= {auc_GB}.'"
   ]
  },
  {
   "cell_type": "code",
   "execution_count": 68,
   "metadata": {},
   "outputs": [
    {
     "name": "stdout",
     "output_type": "stream",
     "text": [
      "              precision    recall  f1-score   support\n",
      "\n",
      " non_default       0.80      0.88      0.84      1527\n",
      "     default       0.42      0.27      0.33       473\n",
      "\n",
      "    accuracy                           0.74      2000\n",
      "   macro avg       0.61      0.58      0.58      2000\n",
      "weighted avg       0.71      0.74      0.72      2000\n",
      "\n"
     ]
    }
   ],
   "source": [
    "# Create metrics evaluation report\n",
    "targets=['non_default','default']\n",
    "print(classification_report(y_valid, pred_GB['default_status'], target_names=targets))"
   ]
  },
  {
   "cell_type": "markdown",
   "metadata": {},
   "source": [
    "The results of the AUC is not much different.\n",
    "\n",
    "The Recall and Precision on the other hand show that we classification performs bette for the true default clients. \n",
    "\n",
    "We select Logistic Regression of the oversampled train set. This model has a good AUC and the Recall is higher than in the other models. "
   ]
  },
  {
   "cell_type": "code",
   "execution_count": 71,
   "metadata": {},
   "outputs": [],
   "source": [
    "variables = X_resampled.columns\n",
    "variables = pd.DataFrame(variables).rename({0:'variable'}, axis=1)\n",
    "coef = oversampl_log_reg.coef_[0].tolist()\n",
    "coef = pd.DataFrame(coef).rename({0:'coef'}, axis=1)\n",
    "frames = [variables,coef]"
   ]
  },
  {
   "cell_type": "code",
   "execution_count": 72,
   "metadata": {},
   "outputs": [
    {
     "data": {
      "text/html": [
       "<div>\n",
       "<style scoped>\n",
       "    .dataframe tbody tr th:only-of-type {\n",
       "        vertical-align: middle;\n",
       "    }\n",
       "\n",
       "    .dataframe tbody tr th {\n",
       "        vertical-align: top;\n",
       "    }\n",
       "\n",
       "    .dataframe thead th {\n",
       "        text-align: right;\n",
       "    }\n",
       "</style>\n",
       "<table border=\"1\" class=\"dataframe\">\n",
       "  <thead>\n",
       "    <tr style=\"text-align: right;\">\n",
       "      <th></th>\n",
       "      <th>variable</th>\n",
       "      <th>coef</th>\n",
       "    </tr>\n",
       "  </thead>\n",
       "  <tbody>\n",
       "    <tr>\n",
       "      <th>0</th>\n",
       "      <td>new_Age</td>\n",
       "      <td>0.465912</td>\n",
       "    </tr>\n",
       "    <tr>\n",
       "      <th>1</th>\n",
       "      <td>new_Business_channel</td>\n",
       "      <td>1.324508</td>\n",
       "    </tr>\n",
       "    <tr>\n",
       "      <th>2</th>\n",
       "      <td>new_FICO_Score</td>\n",
       "      <td>0.897657</td>\n",
       "    </tr>\n",
       "    <tr>\n",
       "      <th>3</th>\n",
       "      <td>new_Gearing_coefficient</td>\n",
       "      <td>1.343396</td>\n",
       "    </tr>\n",
       "    <tr>\n",
       "      <th>4</th>\n",
       "      <td>new_Has_FICO</td>\n",
       "      <td>-4.076441</td>\n",
       "    </tr>\n",
       "    <tr>\n",
       "      <th>5</th>\n",
       "      <td>new_Loan_amount</td>\n",
       "      <td>0.490520</td>\n",
       "    </tr>\n",
       "    <tr>\n",
       "      <th>6</th>\n",
       "      <td>new_Max_gearing_ratio</td>\n",
       "      <td>-0.257793</td>\n",
       "    </tr>\n",
       "    <tr>\n",
       "      <th>7</th>\n",
       "      <td>new_Monthly_income</td>\n",
       "      <td>0.506475</td>\n",
       "    </tr>\n",
       "    <tr>\n",
       "      <th>8</th>\n",
       "      <td>new_V1</td>\n",
       "      <td>0.694037</td>\n",
       "    </tr>\n",
       "    <tr>\n",
       "      <th>9</th>\n",
       "      <td>new_V2</td>\n",
       "      <td>1.494350</td>\n",
       "    </tr>\n",
       "    <tr>\n",
       "      <th>10</th>\n",
       "      <td>new_V3</td>\n",
       "      <td>0.093578</td>\n",
       "    </tr>\n",
       "    <tr>\n",
       "      <th>11</th>\n",
       "      <td>new_V4</td>\n",
       "      <td>-0.056499</td>\n",
       "    </tr>\n",
       "    <tr>\n",
       "      <th>12</th>\n",
       "      <td>new_V5</td>\n",
       "      <td>0.885782</td>\n",
       "    </tr>\n",
       "    <tr>\n",
       "      <th>13</th>\n",
       "      <td>new_V6</td>\n",
       "      <td>-0.718257</td>\n",
       "    </tr>\n",
       "    <tr>\n",
       "      <th>14</th>\n",
       "      <td>new_V7</td>\n",
       "      <td>0.107962</td>\n",
       "    </tr>\n",
       "    <tr>\n",
       "      <th>15</th>\n",
       "      <td>new_V8</td>\n",
       "      <td>-0.064556</td>\n",
       "    </tr>\n",
       "  </tbody>\n",
       "</table>\n",
       "</div>"
      ],
      "text/plain": [
       "                   variable      coef\n",
       "0                   new_Age  0.465912\n",
       "1      new_Business_channel  1.324508\n",
       "2            new_FICO_Score  0.897657\n",
       "3   new_Gearing_coefficient  1.343396\n",
       "4              new_Has_FICO -4.076441\n",
       "5           new_Loan_amount  0.490520\n",
       "6     new_Max_gearing_ratio -0.257793\n",
       "7        new_Monthly_income  0.506475\n",
       "8                    new_V1  0.694037\n",
       "9                    new_V2  1.494350\n",
       "10                   new_V3  0.093578\n",
       "11                   new_V4 -0.056499\n",
       "12                   new_V5  0.885782\n",
       "13                   new_V6 -0.718257\n",
       "14                   new_V7  0.107962\n",
       "15                   new_V8 -0.064556"
      ]
     },
     "execution_count": 72,
     "metadata": {},
     "output_type": "execute_result"
    }
   ],
   "source": [
    "df_coef = pd.concat(frames, axis=1)\n",
    "df_coef"
   ]
  },
  {
   "cell_type": "markdown",
   "metadata": {},
   "source": [
    "### 4. Credit Risk Modeling including Rejected Clients"
   ]
  },
  {
   "cell_type": "code",
   "execution_count": 73,
   "metadata": {},
   "outputs": [],
   "source": [
    "# Reading the reject dataset to train the predictive model\n",
    "rejects = pd.read_excel(\"REJECTS.xlsx\")"
   ]
  },
  {
   "cell_type": "markdown",
   "metadata": {},
   "source": [
    "We implement the Logistic Regression model obtained in the previous section to inference the Default label in these applicants. \n",
    "\n",
    "Then, the train and validation sets used in the previous section, and the rejection dataset with the predicted default labels can be used to fit a logistic regression model again. Finally, this model will be tested in the test set of the previous section."
   ]
  },
  {
   "cell_type": "markdown",
   "metadata": {},
   "source": [
    "We can observe that in this dataset we have the same variables that in the accepted dataset."
   ]
  },
  {
   "cell_type": "code",
   "execution_count": 75,
   "metadata": {},
   "outputs": [
    {
     "data": {
      "text/html": [
       "<div>\n",
       "<style scoped>\n",
       "    .dataframe tbody tr th:only-of-type {\n",
       "        vertical-align: middle;\n",
       "    }\n",
       "\n",
       "    .dataframe tbody tr th {\n",
       "        vertical-align: top;\n",
       "    }\n",
       "\n",
       "    .dataframe thead th {\n",
       "        text-align: right;\n",
       "    }\n",
       "</style>\n",
       "<table border=\"1\" class=\"dataframe\">\n",
       "  <thead>\n",
       "    <tr style=\"text-align: right;\">\n",
       "      <th></th>\n",
       "      <th>ID</th>\n",
       "      <th>V1</th>\n",
       "      <th>V2</th>\n",
       "      <th>V3</th>\n",
       "      <th>V4</th>\n",
       "      <th>V5</th>\n",
       "      <th>V6</th>\n",
       "      <th>V7</th>\n",
       "      <th>V8</th>\n",
       "      <th>Has_FICO</th>\n",
       "      <th>Business_channel</th>\n",
       "      <th>FICO_Score</th>\n",
       "      <th>Loan_amount</th>\n",
       "      <th>Monthly_income</th>\n",
       "      <th>Age</th>\n",
       "      <th>Gearing_coefficient</th>\n",
       "      <th>Max_gearing_ratio</th>\n",
       "    </tr>\n",
       "  </thead>\n",
       "  <tbody>\n",
       "    <tr>\n",
       "      <th>0</th>\n",
       "      <td>305932</td>\n",
       "      <td>3</td>\n",
       "      <td>3</td>\n",
       "      <td>14</td>\n",
       "      <td>2</td>\n",
       "      <td>1</td>\n",
       "      <td>5</td>\n",
       "      <td>1</td>\n",
       "      <td>1</td>\n",
       "      <td>1</td>\n",
       "      <td>1</td>\n",
       "      <td>-0.030455</td>\n",
       "      <td>-0.323920</td>\n",
       "      <td>-0.605449</td>\n",
       "      <td>-1.064220</td>\n",
       "      <td>1.028210</td>\n",
       "      <td>-0.768631</td>\n",
       "    </tr>\n",
       "    <tr>\n",
       "      <th>1</th>\n",
       "      <td>305764</td>\n",
       "      <td>1</td>\n",
       "      <td>4</td>\n",
       "      <td>7</td>\n",
       "      <td>1</td>\n",
       "      <td>6</td>\n",
       "      <td>4</td>\n",
       "      <td>1</td>\n",
       "      <td>2</td>\n",
       "      <td>1</td>\n",
       "      <td>1</td>\n",
       "      <td>0.715222</td>\n",
       "      <td>5.668368</td>\n",
       "      <td>1.299572</td>\n",
       "      <td>0.807662</td>\n",
       "      <td>1.081778</td>\n",
       "      <td>1.796590</td>\n",
       "    </tr>\n",
       "    <tr>\n",
       "      <th>2</th>\n",
       "      <td>305971</td>\n",
       "      <td>1</td>\n",
       "      <td>4</td>\n",
       "      <td>10</td>\n",
       "      <td>4</td>\n",
       "      <td>5</td>\n",
       "      <td>4</td>\n",
       "      <td>1</td>\n",
       "      <td>4</td>\n",
       "      <td>1</td>\n",
       "      <td>3</td>\n",
       "      <td>0.764933</td>\n",
       "      <td>-0.750782</td>\n",
       "      <td>0.434027</td>\n",
       "      <td>-0.390342</td>\n",
       "      <td>-0.969416</td>\n",
       "      <td>1.796590</td>\n",
       "    </tr>\n",
       "    <tr>\n",
       "      <th>3</th>\n",
       "      <td>305664</td>\n",
       "      <td>1</td>\n",
       "      <td>5</td>\n",
       "      <td>14</td>\n",
       "      <td>2</td>\n",
       "      <td>2</td>\n",
       "      <td>5</td>\n",
       "      <td>3</td>\n",
       "      <td>3</td>\n",
       "      <td>1</td>\n",
       "      <td>1</td>\n",
       "      <td>-1.347818</td>\n",
       "      <td>-0.852651</td>\n",
       "      <td>-0.490122</td>\n",
       "      <td>-0.989344</td>\n",
       "      <td>1.046303</td>\n",
       "      <td>-0.768631</td>\n",
       "    </tr>\n",
       "    <tr>\n",
       "      <th>4</th>\n",
       "      <td>305639</td>\n",
       "      <td>1</td>\n",
       "      <td>4</td>\n",
       "      <td>15</td>\n",
       "      <td>1</td>\n",
       "      <td>5</td>\n",
       "      <td>4</td>\n",
       "      <td>1</td>\n",
       "      <td>3</td>\n",
       "      <td>1</td>\n",
       "      <td>2</td>\n",
       "      <td>1.634890</td>\n",
       "      <td>3.200955</td>\n",
       "      <td>0.561380</td>\n",
       "      <td>0.583036</td>\n",
       "      <td>0.088464</td>\n",
       "      <td>1.796590</td>\n",
       "    </tr>\n",
       "  </tbody>\n",
       "</table>\n",
       "</div>"
      ],
      "text/plain": [
       "       ID  V1  V2  V3  V4  V5  V6  V7 V8  Has_FICO  Business_channel  \\\n",
       "0  305932   3   3  14   2   1   5   1  1         1                 1   \n",
       "1  305764   1   4   7   1   6   4   1  2         1                 1   \n",
       "2  305971   1   4  10   4   5   4   1  4         1                 3   \n",
       "3  305664   1   5  14   2   2   5   3  3         1                 1   \n",
       "4  305639   1   4  15   1   5   4   1  3         1                 2   \n",
       "\n",
       "   FICO_Score  Loan_amount  Monthly_income       Age  Gearing_coefficient  \\\n",
       "0   -0.030455    -0.323920       -0.605449 -1.064220             1.028210   \n",
       "1    0.715222     5.668368        1.299572  0.807662             1.081778   \n",
       "2    0.764933    -0.750782        0.434027 -0.390342            -0.969416   \n",
       "3   -1.347818    -0.852651       -0.490122 -0.989344             1.046303   \n",
       "4    1.634890     3.200955        0.561380  0.583036             0.088464   \n",
       "\n",
       "   Max_gearing_ratio  \n",
       "0          -0.768631  \n",
       "1           1.796590  \n",
       "2           1.796590  \n",
       "3          -0.768631  \n",
       "4           1.796590  "
      ]
     },
     "execution_count": 75,
     "metadata": {},
     "output_type": "execute_result"
    }
   ],
   "source": [
    "rejects.head()"
   ]
  },
  {
   "cell_type": "code",
   "execution_count": 79,
   "metadata": {},
   "outputs": [
    {
     "data": {
      "text/plain": [
       "Index(['FICO_Score'], dtype='object')"
      ]
     },
     "execution_count": 79,
     "metadata": {},
     "output_type": "execute_result"
    }
   ],
   "source": [
    "# Columns with missing values\n",
    "null_columns = rejects.columns[rejects.isnull().any()]\n",
    "null_columns"
   ]
  },
  {
   "cell_type": "code",
   "execution_count": 80,
   "metadata": {},
   "outputs": [
    {
     "data": {
      "text/plain": [
       "2086"
      ]
     },
     "execution_count": 80,
     "metadata": {},
     "output_type": "execute_result"
    }
   ],
   "source": [
    "# Total missing values in the 'FICO_Score' variable\n",
    "sum(rejects[\"FICO_Score\"].isnull())"
   ]
  },
  {
   "cell_type": "code",
   "execution_count": 81,
   "metadata": {},
   "outputs": [
    {
     "data": {
      "text/plain": [
       "2086"
      ]
     },
     "execution_count": 81,
     "metadata": {},
     "output_type": "execute_result"
    }
   ],
   "source": [
    "# Number of observations with FICO_Score indicated in the 'Has_FICO' variable\n",
    "sum(rejects[\"Has_FICO\"]==0)"
   ]
  },
  {
   "cell_type": "markdown",
   "metadata": {},
   "source": [
    "Like in the accepted dataset we have missing values only in the \"FICO_Score\" variable. I will replace the missing values for zero."
   ]
  },
  {
   "cell_type": "code",
   "execution_count": 82,
   "metadata": {},
   "outputs": [],
   "source": [
    "rejects['FICO_Score'].fillna(0, inplace = True)"
   ]
  },
  {
   "cell_type": "markdown",
   "metadata": {},
   "source": [
    "Now, I will apply the WOE in the rejected dataset."
   ]
  },
  {
   "cell_type": "code",
   "execution_count": 84,
   "metadata": {},
   "outputs": [],
   "source": [
    "X_reject_woe = transf(rejects)"
   ]
  },
  {
   "cell_type": "code",
   "execution_count": 85,
   "metadata": {},
   "outputs": [],
   "source": [
    "# Keeping only the variables with the WOE value\n",
    "X_reject_woe = X_reject_woe.loc[:, X_reject_woe.columns.str.contains('new')]"
   ]
  },
  {
   "cell_type": "markdown",
   "metadata": {},
   "source": [
    "Before applying the Logistic Regression Model in the rejected applicants, we define an acceptance rate. \n",
    "\n",
    "This rate will be a threshold to classify a rejected application as Default or Non-Default. We accept only 20% of the rejected applicants for that, which means that the 80% of the rejected clients with a high probability of default would have a default label and the 20% left would have a Non-Default label."
   ]
  },
  {
   "cell_type": "code",
   "execution_count": 89,
   "metadata": {},
   "outputs": [],
   "source": [
    "# Making predictions in the rejected dataset\n",
    "prob_reject_lr = oversampl_log_reg.predict_proba(X_reject_woe)\n",
    "pred_reject_lr = pd.DataFrame(prob_reject_lr[:,1], columns = ['prob_default'])"
   ]
  },
  {
   "cell_type": "code",
   "execution_count": 90,
   "metadata": {},
   "outputs": [
    {
     "data": {
      "text/plain": [
       "0.2922223271705323"
      ]
     },
     "execution_count": 90,
     "metadata": {},
     "output_type": "execute_result"
    }
   ],
   "source": [
    "# Defining the threshold for an acceptance rate of 20%\n",
    "threshold = np.quantile(prob_reject_lr, 0.20)\n",
    "threshold"
   ]
  },
  {
   "cell_type": "code",
   "execution_count": 91,
   "metadata": {},
   "outputs": [],
   "source": [
    "# Adding the predicted default status \n",
    "pred_reject_lr['Default_45'] = pred_reject_lr['prob_default'].apply(lambda x: 1 if x > threshold else 0)"
   ]
  },
  {
   "cell_type": "markdown",
   "metadata": {},
   "source": [
    "Now, we can combine the training, valid, and reject datasets. Then, we will calculate a new WOE and training again a Logistic Regression Model."
   ]
  },
  {
   "cell_type": "code",
   "execution_count": 93,
   "metadata": {},
   "outputs": [],
   "source": [
    "# We combine train set, validation set and reject dataset to build a new logistic model\n",
    "y_reject = pred_reject_lr[[\"Default_45\"]]\n",
    "df_y = [y_train,y_valid,y_reject]\n",
    "y_inference = pd.concat(df_y,axis=0)\n",
    "X_train = X_train.iloc[:,0:17]\n",
    "X_valid = X_valid.iloc[:,0:17]\n",
    "X_reject = rejects.iloc[:,0:17]\n",
    "df_X = [X_train,X_valid,X_reject]\n",
    "X_inference = pd.concat(df_X,axis=0)"
   ]
  },
  {
   "cell_type": "code",
   "execution_count": 94,
   "metadata": {},
   "outputs": [],
   "source": [
    "# We apply the WOE and IV in the train set\n",
    "X_inference_pre = X_inference.drop('ID', axis=1)\n",
    "final_iv, IV = data_vars(X_inference_pre,y_inference.Default_45)"
   ]
  },
  {
   "cell_type": "code",
   "execution_count": 95,
   "metadata": {},
   "outputs": [],
   "source": [
    "# We apply the new WOE in the new X_train and X_test datasets\n",
    "X_test = X_test.iloc[:,0:17]\n",
    "transform_vars_list = X_inference.columns.difference(['ID'])\n",
    "transform_prefix = 'new_'"
   ]
  },
  {
   "cell_type": "code",
   "execution_count": 96,
   "metadata": {},
   "outputs": [],
   "source": [
    "X_inference_woe = transf(X_inference)\n",
    "X_test_woe = transf(X_test)"
   ]
  },
  {
   "cell_type": "code",
   "execution_count": 97,
   "metadata": {},
   "outputs": [],
   "source": [
    "# We keep only the variables with the WOE value\n",
    "X_inference_woe = X_inference_woe.loc[:, X_inference_woe.columns.str.contains('new')]\n",
    "X_test_woe = X_test_woe.loc[:, X_test_woe.columns.str.contains('new')]"
   ]
  },
  {
   "cell_type": "code",
   "execution_count": 98,
   "metadata": {},
   "outputs": [
    {
     "data": {
      "text/plain": [
       "LogisticRegression()"
      ]
     },
     "execution_count": 98,
     "metadata": {},
     "output_type": "execute_result"
    }
   ],
   "source": [
    "# Train a Logistic Regression over the X_inference dataset\n",
    "lr_inf = LogisticRegression(solver='lbfgs')\n",
    "lr_inf.fit(X_inference_woe, np.ravel(y_inference))"
   ]
  },
  {
   "cell_type": "code",
   "execution_count": 100,
   "metadata": {},
   "outputs": [],
   "source": [
    "# Making predictions in the test set\n",
    "prob_lr_inf = lr_inf.predict_proba(X_test_woe)\n",
    "pred_lr_inf = pd.DataFrame(prob_lr_inf[:,1], columns = ['prob_default'])\n",
    "pred_lr_inf['default_status'] = pred_lr_inf['prob_default'].apply(lambda x: 1 if x > 0.5 else 0)"
   ]
  },
  {
   "cell_type": "code",
   "execution_count": 101,
   "metadata": {},
   "outputs": [
    {
     "data": {
      "text/plain": [
       "Text(0.5, 1.0, 'ROC Curve Logistic Regresion inference data')"
      ]
     },
     "execution_count": 101,
     "metadata": {},
     "output_type": "execute_result"
    },
    {
     "data": {
      "image/png": "[encoded data removed]",
      "text/plain": [
       "<Figure size 432x288 with 1 Axes>"
      ]
     },
     "metadata": {
      "needs_background": "light"
     },
     "output_type": "display_data"
    }
   ],
   "source": [
    "fallout, sensitivity, thresholds = roc_curve(y_test, pred_lr_inf['prob_default'])\n",
    "plt.plot(fallout, sensitivity, color = 'darkorange')\n",
    "plt.title('ROC Curve Logistic Regresion inference data')"
   ]
  },
  {
   "cell_type": "code",
   "execution_count": 102,
   "metadata": {},
   "outputs": [
    {
     "data": {
      "text/plain": [
       "'AUC_valid= 0.7494548445112706.'"
      ]
     },
     "execution_count": 102,
     "metadata": {},
     "output_type": "execute_result"
    }
   ],
   "source": [
    "# We compute the AUC in the test set\n",
    "auc_lr_inf = roc_auc_score(y_test,pred_lr_inf['prob_default'])\n",
    "f'AUC_valid= {auc_lr_inf}.'"
   ]
  },
  {
   "cell_type": "code",
   "execution_count": 103,
   "metadata": {},
   "outputs": [
    {
     "name": "stdout",
     "output_type": "stream",
     "text": [
      "              precision    recall  f1-score   support\n",
      "\n",
      " non_default       0.89      0.64      0.74      1527\n",
      "     default       0.39      0.74      0.51       473\n",
      "\n",
      "    accuracy                           0.66      2000\n",
      "   macro avg       0.64      0.69      0.63      2000\n",
      "weighted avg       0.77      0.66      0.69      2000\n",
      "\n"
     ]
    }
   ],
   "source": [
    "# Create metrics evaluation report\n",
    "targets=['non_default','default']\n",
    "print(classification_report(y_test, pred_lr_inf['default_status'], target_names=targets))"
   ]
  },
  {
   "cell_type": "markdown",
   "metadata": {},
   "source": [
    "The performance in the new model has improved. All metrics, AUC, Precision and Recall are higher than in the previous model. The coefficients associated with the model are"
   ]
  },
  {
   "cell_type": "code",
   "execution_count": 104,
   "metadata": {},
   "outputs": [
    {
     "data": {
      "text/html": [
       "<div>\n",
       "<style scoped>\n",
       "    .dataframe tbody tr th:only-of-type {\n",
       "        vertical-align: middle;\n",
       "    }\n",
       "\n",
       "    .dataframe tbody tr th {\n",
       "        vertical-align: top;\n",
       "    }\n",
       "\n",
       "    .dataframe thead th {\n",
       "        text-align: right;\n",
       "    }\n",
       "</style>\n",
       "<table border=\"1\" class=\"dataframe\">\n",
       "  <thead>\n",
       "    <tr style=\"text-align: right;\">\n",
       "      <th></th>\n",
       "      <th>variable</th>\n",
       "      <th>coef</th>\n",
       "    </tr>\n",
       "  </thead>\n",
       "  <tbody>\n",
       "    <tr>\n",
       "      <th>0</th>\n",
       "      <td>new_Age</td>\n",
       "      <td>0.168345</td>\n",
       "    </tr>\n",
       "    <tr>\n",
       "      <th>1</th>\n",
       "      <td>new_Business_channel</td>\n",
       "      <td>-2.442765</td>\n",
       "    </tr>\n",
       "    <tr>\n",
       "      <th>2</th>\n",
       "      <td>new_FICO_Score</td>\n",
       "      <td>0.861036</td>\n",
       "    </tr>\n",
       "    <tr>\n",
       "      <th>3</th>\n",
       "      <td>new_Gearing_coefficient</td>\n",
       "      <td>-0.659364</td>\n",
       "    </tr>\n",
       "    <tr>\n",
       "      <th>4</th>\n",
       "      <td>new_Has_FICO</td>\n",
       "      <td>-0.184918</td>\n",
       "    </tr>\n",
       "    <tr>\n",
       "      <th>5</th>\n",
       "      <td>new_Loan_amount</td>\n",
       "      <td>-0.985301</td>\n",
       "    </tr>\n",
       "    <tr>\n",
       "      <th>6</th>\n",
       "      <td>new_Max_gearing_ratio</td>\n",
       "      <td>-0.764439</td>\n",
       "    </tr>\n",
       "    <tr>\n",
       "      <th>7</th>\n",
       "      <td>new_Monthly_income</td>\n",
       "      <td>1.373003</td>\n",
       "    </tr>\n",
       "    <tr>\n",
       "      <th>8</th>\n",
       "      <td>new_V1</td>\n",
       "      <td>0.456338</td>\n",
       "    </tr>\n",
       "    <tr>\n",
       "      <th>9</th>\n",
       "      <td>new_V2</td>\n",
       "      <td>1.368330</td>\n",
       "    </tr>\n",
       "    <tr>\n",
       "      <th>10</th>\n",
       "      <td>new_V3</td>\n",
       "      <td>0.373208</td>\n",
       "    </tr>\n",
       "    <tr>\n",
       "      <th>11</th>\n",
       "      <td>new_V4</td>\n",
       "      <td>-0.083723</td>\n",
       "    </tr>\n",
       "    <tr>\n",
       "      <th>12</th>\n",
       "      <td>new_V5</td>\n",
       "      <td>0.713155</td>\n",
       "    </tr>\n",
       "    <tr>\n",
       "      <th>13</th>\n",
       "      <td>new_V6</td>\n",
       "      <td>-0.307460</td>\n",
       "    </tr>\n",
       "    <tr>\n",
       "      <th>14</th>\n",
       "      <td>new_V7</td>\n",
       "      <td>0.176204</td>\n",
       "    </tr>\n",
       "    <tr>\n",
       "      <th>15</th>\n",
       "      <td>new_V8</td>\n",
       "      <td>-0.017942</td>\n",
       "    </tr>\n",
       "  </tbody>\n",
       "</table>\n",
       "</div>"
      ],
      "text/plain": [
       "                   variable      coef\n",
       "0                   new_Age  0.168345\n",
       "1      new_Business_channel -2.442765\n",
       "2            new_FICO_Score  0.861036\n",
       "3   new_Gearing_coefficient -0.659364\n",
       "4              new_Has_FICO -0.184918\n",
       "5           new_Loan_amount -0.985301\n",
       "6     new_Max_gearing_ratio -0.764439\n",
       "7        new_Monthly_income  1.373003\n",
       "8                    new_V1  0.456338\n",
       "9                    new_V2  1.368330\n",
       "10                   new_V3  0.373208\n",
       "11                   new_V4 -0.083723\n",
       "12                   new_V5  0.713155\n",
       "13                   new_V6 -0.307460\n",
       "14                   new_V7  0.176204\n",
       "15                   new_V8 -0.017942"
      ]
     },
     "execution_count": 104,
     "metadata": {},
     "output_type": "execute_result"
    }
   ],
   "source": [
    "variables = X_inference_woe.columns\n",
    "variables = pd.DataFrame(variables).rename({0:'variable'}, axis=1)\n",
    "coef = lr_inf.coef_[0].tolist()\n",
    "coef = pd.DataFrame(coef).rename({0:'coef'}, axis=1)\n",
    "frames = [variables,coef]\n",
    "df_coef_inf = pd.concat(frames, axis=1)\n",
    "df_coef_inf"
   ]
  },
  {
   "cell_type": "markdown",
   "metadata": {},
   "source": [
    "The variables with negative coefficients indicate that the higher the value of the predictive variable, the lower is the probability of default. In contrast, the variables with positive coefficients indicate that the higher the value of the predictor variable, the higher is the probability of default."
   ]
  },
  {
   "cell_type": "markdown",
   "metadata": {},
   "source": [
    "### 5. Credit Scorecard "
   ]
  },
  {
   "cell_type": "markdown",
   "metadata": {},
   "source": [
    "Now that we have the logistic model to predict the probability of default, one can construct a credit scorecard. A credit scorecard represents the creditworthiness of an applicant. The next formula will be used for estimating the scorecard points, it has to be used in each independent variable Xi:"
   ]
  },
  {
   "attachments": {
    "image.png": {
     "image/png": "[encoded data removed]"
    }
   },
   "cell_type": "markdown",
   "metadata": {},
   "source": [
    "![image.png](attachment:image.png)"
   ]
  },
  {
   "cell_type": "markdown",
   "metadata": {},
   "source": [
    "Where:"
   ]
  },
  {
   "cell_type": "markdown",
   "metadata": {},
   "source": [
    "$\\beta_{i}$ = logistic regression coefficient for the variable $X_{i}$\\\n",
    "$\\alpha =$ logistic regression intercept\\\n",
    "$WoE=$  Weight of Evidence value for variable $X_{i}$\\\n",
    "$n=$ number of independent variables $X_{i}$ in the model\\\n",
    "$Factor=$ pdo/ln(2)\\\n",
    "$Offset$= Target Score — (Factor × $ln$(Target Odds))"
   ]
  },
  {
   "cell_type": "markdown",
   "metadata": {},
   "source": [
    "I will choose to have a target score of 600 to mean a 50 to 1 odds of good customer to bad, and an increase of 20 means a doubling odds. "
   ]
  },
  {
   "cell_type": "code",
   "execution_count": 105,
   "metadata": {},
   "outputs": [],
   "source": [
    "df_coef_inf['var'] = df_coef_inf['variable'].apply(lambda x: x.split(\"new_\")[1])\n",
    "scorecard = final_iv[[\"VAR_NAME\",\"MIN_VALUE\",\"MAX_VALUE\",\"WOE\"]]\n",
    "scorecard = pd.merge(scorecard,df_coef_inf,how=\"inner\",left_on='VAR_NAME',right_on='var').drop([\"variable\",\"var\"], axis=1)"
   ]
  },
  {
   "cell_type": "code",
   "execution_count": 106,
   "metadata": {},
   "outputs": [],
   "source": [
    "alpha = lr_inf.intercept_[0]\n",
    "score_df = pd.DataFrame(columns=[\"score\"])\n",
    "for i in list(range(len(scorecard))):\n",
    "    score =(((scorecard.iloc[i, 4])*(scorecard.iloc[i, 3]))+(alpha/16))*(20/np.log(2)) + (600-((20/np.log(2))*np.log(50)))/16\n",
    "    score_df = score_df.append({\"score\": score},ignore_index =True)"
   ]
  },
  {
   "cell_type": "code",
   "execution_count": 107,
   "metadata": {},
   "outputs": [],
   "source": [
    "frames = [scorecard,score_df]\n",
    "scorecard = pd.concat(frames,axis=1)"
   ]
  },
  {
   "cell_type": "code",
   "execution_count": 108,
   "metadata": {},
   "outputs": [],
   "source": [
    "scorecard = scorecard.drop([\"WOE\",\"coef\"],axis=1)"
   ]
  },
  {
   "cell_type": "markdown",
   "metadata": {},
   "source": [
    "The next table shows the scorecard points given to each applicant according to their characteristics. Base on the total sum of points given to each client and the cut off determine by the bank, one can decide if accept a new loan application."
   ]
  },
  {
   "cell_type": "code",
   "execution_count": 109,
   "metadata": {
    "scrolled": true
   },
   "outputs": [
    {
     "data": {
      "text/html": [
       "<div>\n",
       "<style scoped>\n",
       "    .dataframe tbody tr th:only-of-type {\n",
       "        vertical-align: middle;\n",
       "    }\n",
       "\n",
       "    .dataframe tbody tr th {\n",
       "        vertical-align: top;\n",
       "    }\n",
       "\n",
       "    .dataframe thead th {\n",
       "        text-align: right;\n",
       "    }\n",
       "</style>\n",
       "<table border=\"1\" class=\"dataframe\">\n",
       "  <thead>\n",
       "    <tr style=\"text-align: right;\">\n",
       "      <th></th>\n",
       "      <th>VAR_NAME</th>\n",
       "      <th>MIN_VALUE</th>\n",
       "      <th>MAX_VALUE</th>\n",
       "      <th>score</th>\n",
       "    </tr>\n",
       "  </thead>\n",
       "  <tbody>\n",
       "    <tr>\n",
       "      <th>0</th>\n",
       "      <td>V1</td>\n",
       "      <td>1</td>\n",
       "      <td>1</td>\n",
       "      <td>25.632602</td>\n",
       "    </tr>\n",
       "    <tr>\n",
       "      <th>1</th>\n",
       "      <td>V1</td>\n",
       "      <td>2</td>\n",
       "      <td>5</td>\n",
       "      <td>35.320191</td>\n",
       "    </tr>\n",
       "    <tr>\n",
       "      <th>2</th>\n",
       "      <td>V2</td>\n",
       "      <td>1</td>\n",
       "      <td>3</td>\n",
       "      <td>26.787170</td>\n",
       "    </tr>\n",
       "    <tr>\n",
       "      <th>3</th>\n",
       "      <td>V2</td>\n",
       "      <td>4</td>\n",
       "      <td>6</td>\n",
       "      <td>32.851950</td>\n",
       "    </tr>\n",
       "    <tr>\n",
       "      <th>4</th>\n",
       "      <td>V3</td>\n",
       "      <td>1</td>\n",
       "      <td>10</td>\n",
       "      <td>32.759265</td>\n",
       "    </tr>\n",
       "    <tr>\n",
       "      <th>5</th>\n",
       "      <td>V3</td>\n",
       "      <td>11</td>\n",
       "      <td>15</td>\n",
       "      <td>25.572882</td>\n",
       "    </tr>\n",
       "    <tr>\n",
       "      <th>6</th>\n",
       "      <td>V4</td>\n",
       "      <td>1</td>\n",
       "      <td>4</td>\n",
       "      <td>29.295869</td>\n",
       "    </tr>\n",
       "    <tr>\n",
       "      <th>7</th>\n",
       "      <td>V4</td>\n",
       "      <td>5</td>\n",
       "      <td>6</td>\n",
       "      <td>32.525919</td>\n",
       "    </tr>\n",
       "    <tr>\n",
       "      <th>8</th>\n",
       "      <td>V5</td>\n",
       "      <td>1</td>\n",
       "      <td>2</td>\n",
       "      <td>46.512440</td>\n",
       "    </tr>\n",
       "    <tr>\n",
       "      <th>9</th>\n",
       "      <td>V5</td>\n",
       "      <td>3</td>\n",
       "      <td>3</td>\n",
       "      <td>34.623539</td>\n",
       "    </tr>\n",
       "    <tr>\n",
       "      <th>10</th>\n",
       "      <td>V5</td>\n",
       "      <td>4</td>\n",
       "      <td>6</td>\n",
       "      <td>20.011619</td>\n",
       "    </tr>\n",
       "    <tr>\n",
       "      <th>11</th>\n",
       "      <td>V5</td>\n",
       "      <td>7</td>\n",
       "      <td>7</td>\n",
       "      <td>6.695926</td>\n",
       "    </tr>\n",
       "    <tr>\n",
       "      <th>12</th>\n",
       "      <td>V6</td>\n",
       "      <td>1</td>\n",
       "      <td>5</td>\n",
       "      <td>27.912909</td>\n",
       "    </tr>\n",
       "    <tr>\n",
       "      <th>13</th>\n",
       "      <td>V6</td>\n",
       "      <td>6</td>\n",
       "      <td>7</td>\n",
       "      <td>39.850439</td>\n",
       "    </tr>\n",
       "    <tr>\n",
       "      <th>14</th>\n",
       "      <td>V7</td>\n",
       "      <td>1</td>\n",
       "      <td>1</td>\n",
       "      <td>27.873360</td>\n",
       "    </tr>\n",
       "    <tr>\n",
       "      <th>15</th>\n",
       "      <td>V7</td>\n",
       "      <td>2</td>\n",
       "      <td>3</td>\n",
       "      <td>32.400884</td>\n",
       "    </tr>\n",
       "    <tr>\n",
       "      <th>16</th>\n",
       "      <td>V8</td>\n",
       "      <td>1</td>\n",
       "      <td>1</td>\n",
       "      <td>29.612183</td>\n",
       "    </tr>\n",
       "    <tr>\n",
       "      <th>17</th>\n",
       "      <td>V8</td>\n",
       "      <td>2</td>\n",
       "      <td>2</td>\n",
       "      <td>30.024546</td>\n",
       "    </tr>\n",
       "    <tr>\n",
       "      <th>18</th>\n",
       "      <td>V8</td>\n",
       "      <td>3</td>\n",
       "      <td>3</td>\n",
       "      <td>29.819792</td>\n",
       "    </tr>\n",
       "    <tr>\n",
       "      <th>19</th>\n",
       "      <td>V8</td>\n",
       "      <td>4</td>\n",
       "      <td>4</td>\n",
       "      <td>29.751644</td>\n",
       "    </tr>\n",
       "    <tr>\n",
       "      <th>20</th>\n",
       "      <td>V8</td>\n",
       "      <td>&gt;4</td>\n",
       "      <td>&gt;4</td>\n",
       "      <td>29.647478</td>\n",
       "    </tr>\n",
       "    <tr>\n",
       "      <th>21</th>\n",
       "      <td>Has_FICO</td>\n",
       "      <td>0</td>\n",
       "      <td>0</td>\n",
       "      <td>28.102890</td>\n",
       "    </tr>\n",
       "    <tr>\n",
       "      <th>22</th>\n",
       "      <td>Has_FICO</td>\n",
       "      <td>1</td>\n",
       "      <td>1</td>\n",
       "      <td>31.171570</td>\n",
       "    </tr>\n",
       "    <tr>\n",
       "      <th>23</th>\n",
       "      <td>Business_channel</td>\n",
       "      <td>1</td>\n",
       "      <td>1</td>\n",
       "      <td>29.053990</td>\n",
       "    </tr>\n",
       "    <tr>\n",
       "      <th>24</th>\n",
       "      <td>Business_channel</td>\n",
       "      <td>2</td>\n",
       "      <td>3</td>\n",
       "      <td>31.970512</td>\n",
       "    </tr>\n",
       "    <tr>\n",
       "      <th>25</th>\n",
       "      <td>FICO_Score</td>\n",
       "      <td>-6.03316</td>\n",
       "      <td>-0.291442</td>\n",
       "      <td>49.891328</td>\n",
       "    </tr>\n",
       "    <tr>\n",
       "      <th>26</th>\n",
       "      <td>FICO_Score</td>\n",
       "      <td>-0.279014</td>\n",
       "      <td>0</td>\n",
       "      <td>37.875611</td>\n",
       "    </tr>\n",
       "    <tr>\n",
       "      <th>27</th>\n",
       "      <td>FICO_Score</td>\n",
       "      <td>0.00682839</td>\n",
       "      <td>0.0813961</td>\n",
       "      <td>-6.835312</td>\n",
       "    </tr>\n",
       "    <tr>\n",
       "      <th>28</th>\n",
       "      <td>FICO_Score</td>\n",
       "      <td>0.0938241</td>\n",
       "      <td>2.44271</td>\n",
       "      <td>-24.557834</td>\n",
       "    </tr>\n",
       "    <tr>\n",
       "      <th>29</th>\n",
       "      <td>Loan_amount</td>\n",
       "      <td>-1.11702</td>\n",
       "      <td>-0.32392</td>\n",
       "      <td>30.089607</td>\n",
       "    </tr>\n",
       "    <tr>\n",
       "      <th>30</th>\n",
       "      <td>Loan_amount</td>\n",
       "      <td>-0.321452</td>\n",
       "      <td>5.84461</td>\n",
       "      <td>29.456382</td>\n",
       "    </tr>\n",
       "    <tr>\n",
       "      <th>31</th>\n",
       "      <td>Monthly_income</td>\n",
       "      <td>-0.983753</td>\n",
       "      <td>-0.281625</td>\n",
       "      <td>23.684465</td>\n",
       "    </tr>\n",
       "    <tr>\n",
       "      <th>32</th>\n",
       "      <td>Monthly_income</td>\n",
       "      <td>-0.280498</td>\n",
       "      <td>43.842</td>\n",
       "      <td>35.774657</td>\n",
       "    </tr>\n",
       "    <tr>\n",
       "      <th>33</th>\n",
       "      <td>Age</td>\n",
       "      <td>-1.58835</td>\n",
       "      <td>-1.28885</td>\n",
       "      <td>34.212684</td>\n",
       "    </tr>\n",
       "    <tr>\n",
       "      <th>34</th>\n",
       "      <td>Age</td>\n",
       "      <td>-1.21397</td>\n",
       "      <td>-1.06422</td>\n",
       "      <td>32.586149</td>\n",
       "    </tr>\n",
       "    <tr>\n",
       "      <th>35</th>\n",
       "      <td>Age</td>\n",
       "      <td>-0.989344</td>\n",
       "      <td>-0.839594</td>\n",
       "      <td>32.063476</td>\n",
       "    </tr>\n",
       "    <tr>\n",
       "      <th>36</th>\n",
       "      <td>Age</td>\n",
       "      <td>-0.764719</td>\n",
       "      <td>-0.540093</td>\n",
       "      <td>31.721532</td>\n",
       "    </tr>\n",
       "    <tr>\n",
       "      <th>37</th>\n",
       "      <td>Age</td>\n",
       "      <td>-0.465218</td>\n",
       "      <td>-0.315467</td>\n",
       "      <td>30.987750</td>\n",
       "    </tr>\n",
       "    <tr>\n",
       "      <th>38</th>\n",
       "      <td>Age</td>\n",
       "      <td>-0.240592</td>\n",
       "      <td>-0.0159661</td>\n",
       "      <td>30.370601</td>\n",
       "    </tr>\n",
       "    <tr>\n",
       "      <th>39</th>\n",
       "      <td>Age</td>\n",
       "      <td>0.0589091</td>\n",
       "      <td>0.283535</td>\n",
       "      <td>28.640591</td>\n",
       "    </tr>\n",
       "    <tr>\n",
       "      <th>40</th>\n",
       "      <td>Age</td>\n",
       "      <td>0.35841</td>\n",
       "      <td>0.583036</td>\n",
       "      <td>27.852546</td>\n",
       "    </tr>\n",
       "    <tr>\n",
       "      <th>41</th>\n",
       "      <td>Age</td>\n",
       "      <td>0.657911</td>\n",
       "      <td>1.10716</td>\n",
       "      <td>26.799814</td>\n",
       "    </tr>\n",
       "    <tr>\n",
       "      <th>42</th>\n",
       "      <td>Age</td>\n",
       "      <td>1.18204</td>\n",
       "      <td>1.55641</td>\n",
       "      <td>25.509359</td>\n",
       "    </tr>\n",
       "    <tr>\n",
       "      <th>43</th>\n",
       "      <td>Age</td>\n",
       "      <td>1.63129</td>\n",
       "      <td>2.08054</td>\n",
       "      <td>23.920230</td>\n",
       "    </tr>\n",
       "    <tr>\n",
       "      <th>44</th>\n",
       "      <td>Gearing_coefficient</td>\n",
       "      <td>-2.86948</td>\n",
       "      <td>-0.401098</td>\n",
       "      <td>28.157785</td>\n",
       "    </tr>\n",
       "    <tr>\n",
       "      <th>45</th>\n",
       "      <td>Gearing_coefficient</td>\n",
       "      <td>-0.400672</td>\n",
       "      <td>0.771722</td>\n",
       "      <td>30.606767</td>\n",
       "    </tr>\n",
       "    <tr>\n",
       "      <th>46</th>\n",
       "      <td>Gearing_coefficient</td>\n",
       "      <td>0.772786</td>\n",
       "      <td>9.3873</td>\n",
       "      <td>30.668307</td>\n",
       "    </tr>\n",
       "    <tr>\n",
       "      <th>47</th>\n",
       "      <td>Max_gearing_ratio</td>\n",
       "      <td>-0.768631</td>\n",
       "      <td>-0.768631</td>\n",
       "      <td>30.196125</td>\n",
       "    </tr>\n",
       "    <tr>\n",
       "      <th>48</th>\n",
       "      <td>Max_gearing_ratio</td>\n",
       "      <td>0.51398</td>\n",
       "      <td>0.51398</td>\n",
       "      <td>27.391958</td>\n",
       "    </tr>\n",
       "    <tr>\n",
       "      <th>49</th>\n",
       "      <td>Max_gearing_ratio</td>\n",
       "      <td>1.79659</td>\n",
       "      <td>1.79659</td>\n",
       "      <td>31.590721</td>\n",
       "    </tr>\n",
       "  </tbody>\n",
       "</table>\n",
       "</div>"
      ],
      "text/plain": [
       "               VAR_NAME   MIN_VALUE  MAX_VALUE      score\n",
       "0                    V1           1          1  25.632602\n",
       "1                    V1           2          5  35.320191\n",
       "2                    V2           1          3  26.787170\n",
       "3                    V2           4          6  32.851950\n",
       "4                    V3           1         10  32.759265\n",
       "5                    V3          11         15  25.572882\n",
       "6                    V4           1          4  29.295869\n",
       "7                    V4           5          6  32.525919\n",
       "8                    V5           1          2  46.512440\n",
       "9                    V5           3          3  34.623539\n",
       "10                   V5           4          6  20.011619\n",
       "11                   V5           7          7   6.695926\n",
       "12                   V6           1          5  27.912909\n",
       "13                   V6           6          7  39.850439\n",
       "14                   V7           1          1  27.873360\n",
       "15                   V7           2          3  32.400884\n",
       "16                   V8           1          1  29.612183\n",
       "17                   V8           2          2  30.024546\n",
       "18                   V8           3          3  29.819792\n",
       "19                   V8           4          4  29.751644\n",
       "20                   V8          >4         >4  29.647478\n",
       "21             Has_FICO           0          0  28.102890\n",
       "22             Has_FICO           1          1  31.171570\n",
       "23     Business_channel           1          1  29.053990\n",
       "24     Business_channel           2          3  31.970512\n",
       "25           FICO_Score    -6.03316  -0.291442  49.891328\n",
       "26           FICO_Score   -0.279014          0  37.875611\n",
       "27           FICO_Score  0.00682839  0.0813961  -6.835312\n",
       "28           FICO_Score   0.0938241    2.44271 -24.557834\n",
       "29          Loan_amount    -1.11702   -0.32392  30.089607\n",
       "30          Loan_amount   -0.321452    5.84461  29.456382\n",
       "31       Monthly_income   -0.983753  -0.281625  23.684465\n",
       "32       Monthly_income   -0.280498     43.842  35.774657\n",
       "33                  Age    -1.58835   -1.28885  34.212684\n",
       "34                  Age    -1.21397   -1.06422  32.586149\n",
       "35                  Age   -0.989344  -0.839594  32.063476\n",
       "36                  Age   -0.764719  -0.540093  31.721532\n",
       "37                  Age   -0.465218  -0.315467  30.987750\n",
       "38                  Age   -0.240592 -0.0159661  30.370601\n",
       "39                  Age   0.0589091   0.283535  28.640591\n",
       "40                  Age     0.35841   0.583036  27.852546\n",
       "41                  Age    0.657911    1.10716  26.799814\n",
       "42                  Age     1.18204    1.55641  25.509359\n",
       "43                  Age     1.63129    2.08054  23.920230\n",
       "44  Gearing_coefficient    -2.86948  -0.401098  28.157785\n",
       "45  Gearing_coefficient   -0.400672   0.771722  30.606767\n",
       "46  Gearing_coefficient    0.772786     9.3873  30.668307\n",
       "47    Max_gearing_ratio   -0.768631  -0.768631  30.196125\n",
       "48    Max_gearing_ratio     0.51398    0.51398  27.391958\n",
       "49    Max_gearing_ratio     1.79659    1.79659  31.590721"
      ]
     },
     "execution_count": 109,
     "metadata": {},
     "output_type": "execute_result"
    }
   ],
   "source": [
    "scorecard"
   ]
  },
  {
   "cell_type": "markdown",
   "metadata": {},
   "source": [
    "### References"
   ]
  },
  {
   "cell_type": "markdown",
   "metadata": {},
   "source": [
    "* https://blogs.sas.com/content/subconsciousmusings/2019/01/18/building-credit-scorecards-using-statistical-methods-and-business-logic/#prettyPhoto\n",
    "* https://github.com/Sundar0989/WOE-and-IV/blob/master/WOE_IV.ipynb \n",
    "* https://towardsdatascience.com/intro-to-credit-scorecard-9afeaaa3725f\n"
   ]
  },
  {
   "cell_type": "code",
   "execution_count": null,
   "metadata": {},
   "outputs": [],
   "source": []
  }
 ],
 "metadata": {
  "kernelspec": {
   "display_name": "Python 3",
   "language": "python",
   "name": "python3"
  },
  "language_info": {
   "codemirror_mode": {
    "name": "ipython",
    "version": 3
   },
   "file_extension": ".py",
   "mimetype": "text/x-python",
   "name": "python",
   "nbconvert_exporter": "python",
   "pygments_lexer": "ipython3",
   "version": "3.8.5"
  }
 },
 "nbformat": 4,
 "nbformat_minor": 2
}
