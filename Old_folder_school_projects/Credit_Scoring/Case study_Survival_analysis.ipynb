{
 "cells": [
  {
   "cell_type": "markdown",
   "metadata": {},
   "source": [
    "## Assignment Credit Scoring\n",
    "### Survival Analysis\n",
    "#### Marie Reine Obama\n",
    "#### May 2021"
   ]
  },
  {
   "cell_type": "markdown",
   "metadata": {},
   "source": [
    "### 1. Introduction\n",
    "\n",
    "In this project, the objective is to perform a survival analysis with the use of a datasets containing information about the mortage."
   ]
  },
  {
   "cell_type": "code",
   "execution_count": 5,
   "metadata": {},
   "outputs": [],
   "source": [
    "import pandas as pd \n",
    "import numpy as np \n",
    "import matplotlib.pyplot as plt\n",
    "import lifelines"
   ]
  },
  {
   "cell_type": "code",
   "execution_count": 6,
   "metadata": {},
   "outputs": [],
   "source": [
    "# load dataset\n",
    "mortgage = pd.read_csv(\"mortgage.csv\")"
   ]
  },
  {
   "cell_type": "code",
   "execution_count": 7,
   "metadata": {},
   "outputs": [
    {
     "data": {
      "text/html": [
       "<div>\n",
       "<style scoped>\n",
       "    .dataframe tbody tr th:only-of-type {\n",
       "        vertical-align: middle;\n",
       "    }\n",
       "\n",
       "    .dataframe tbody tr th {\n",
       "        vertical-align: top;\n",
       "    }\n",
       "\n",
       "    .dataframe thead th {\n",
       "        text-align: right;\n",
       "    }\n",
       "</style>\n",
       "<table border=\"1\" class=\"dataframe\">\n",
       "  <thead>\n",
       "    <tr style=\"text-align: right;\">\n",
       "      <th></th>\n",
       "      <th>id</th>\n",
       "      <th>time</th>\n",
       "      <th>orig_time</th>\n",
       "      <th>first_time</th>\n",
       "      <th>mat_time</th>\n",
       "      <th>balance_time</th>\n",
       "      <th>LTV_time</th>\n",
       "      <th>interest_rate_time</th>\n",
       "      <th>hpi_time</th>\n",
       "      <th>gdp_time</th>\n",
       "      <th>...</th>\n",
       "      <th>REtype_SF_orig_time</th>\n",
       "      <th>investor_orig_time</th>\n",
       "      <th>balance_orig_time</th>\n",
       "      <th>FICO_orig_time</th>\n",
       "      <th>LTV_orig_time</th>\n",
       "      <th>Interest_Rate_orig_time</th>\n",
       "      <th>hpi_orig_time</th>\n",
       "      <th>default_time</th>\n",
       "      <th>payoff_time</th>\n",
       "      <th>status_time</th>\n",
       "    </tr>\n",
       "  </thead>\n",
       "  <tbody>\n",
       "    <tr>\n",
       "      <th>0</th>\n",
       "      <td>1</td>\n",
       "      <td>25</td>\n",
       "      <td>-7</td>\n",
       "      <td>25</td>\n",
       "      <td>113</td>\n",
       "      <td>41303.42</td>\n",
       "      <td>24.498336</td>\n",
       "      <td>9.2</td>\n",
       "      <td>226.29</td>\n",
       "      <td>2.899137</td>\n",
       "      <td>...</td>\n",
       "      <td>1</td>\n",
       "      <td>0</td>\n",
       "      <td>45000.0</td>\n",
       "      <td>715</td>\n",
       "      <td>69.4</td>\n",
       "      <td>9.2</td>\n",
       "      <td>87.03</td>\n",
       "      <td>0</td>\n",
       "      <td>0</td>\n",
       "      <td>0</td>\n",
       "    </tr>\n",
       "    <tr>\n",
       "      <th>1</th>\n",
       "      <td>1</td>\n",
       "      <td>26</td>\n",
       "      <td>-7</td>\n",
       "      <td>25</td>\n",
       "      <td>113</td>\n",
       "      <td>41061.95</td>\n",
       "      <td>24.483867</td>\n",
       "      <td>9.2</td>\n",
       "      <td>225.10</td>\n",
       "      <td>2.151365</td>\n",
       "      <td>...</td>\n",
       "      <td>1</td>\n",
       "      <td>0</td>\n",
       "      <td>45000.0</td>\n",
       "      <td>715</td>\n",
       "      <td>69.4</td>\n",
       "      <td>9.2</td>\n",
       "      <td>87.03</td>\n",
       "      <td>0</td>\n",
       "      <td>0</td>\n",
       "      <td>0</td>\n",
       "    </tr>\n",
       "    <tr>\n",
       "      <th>2</th>\n",
       "      <td>1</td>\n",
       "      <td>27</td>\n",
       "      <td>-7</td>\n",
       "      <td>25</td>\n",
       "      <td>113</td>\n",
       "      <td>40804.42</td>\n",
       "      <td>24.626795</td>\n",
       "      <td>9.2</td>\n",
       "      <td>222.39</td>\n",
       "      <td>2.361722</td>\n",
       "      <td>...</td>\n",
       "      <td>1</td>\n",
       "      <td>0</td>\n",
       "      <td>45000.0</td>\n",
       "      <td>715</td>\n",
       "      <td>69.4</td>\n",
       "      <td>9.2</td>\n",
       "      <td>87.03</td>\n",
       "      <td>0</td>\n",
       "      <td>0</td>\n",
       "      <td>0</td>\n",
       "    </tr>\n",
       "    <tr>\n",
       "      <th>3</th>\n",
       "      <td>1</td>\n",
       "      <td>28</td>\n",
       "      <td>-7</td>\n",
       "      <td>25</td>\n",
       "      <td>113</td>\n",
       "      <td>40483.89</td>\n",
       "      <td>24.735883</td>\n",
       "      <td>9.2</td>\n",
       "      <td>219.67</td>\n",
       "      <td>1.229172</td>\n",
       "      <td>...</td>\n",
       "      <td>1</td>\n",
       "      <td>0</td>\n",
       "      <td>45000.0</td>\n",
       "      <td>715</td>\n",
       "      <td>69.4</td>\n",
       "      <td>9.2</td>\n",
       "      <td>87.03</td>\n",
       "      <td>0</td>\n",
       "      <td>0</td>\n",
       "      <td>0</td>\n",
       "    </tr>\n",
       "    <tr>\n",
       "      <th>4</th>\n",
       "      <td>1</td>\n",
       "      <td>29</td>\n",
       "      <td>-7</td>\n",
       "      <td>25</td>\n",
       "      <td>113</td>\n",
       "      <td>40367.06</td>\n",
       "      <td>24.925476</td>\n",
       "      <td>9.2</td>\n",
       "      <td>217.37</td>\n",
       "      <td>1.692969</td>\n",
       "      <td>...</td>\n",
       "      <td>1</td>\n",
       "      <td>0</td>\n",
       "      <td>45000.0</td>\n",
       "      <td>715</td>\n",
       "      <td>69.4</td>\n",
       "      <td>9.2</td>\n",
       "      <td>87.03</td>\n",
       "      <td>0</td>\n",
       "      <td>0</td>\n",
       "      <td>0</td>\n",
       "    </tr>\n",
       "    <tr>\n",
       "      <th>5</th>\n",
       "      <td>1</td>\n",
       "      <td>30</td>\n",
       "      <td>-7</td>\n",
       "      <td>25</td>\n",
       "      <td>113</td>\n",
       "      <td>40127.97</td>\n",
       "      <td>25.318291</td>\n",
       "      <td>9.2</td>\n",
       "      <td>212.73</td>\n",
       "      <td>2.274218</td>\n",
       "      <td>...</td>\n",
       "      <td>1</td>\n",
       "      <td>0</td>\n",
       "      <td>45000.0</td>\n",
       "      <td>715</td>\n",
       "      <td>69.4</td>\n",
       "      <td>9.2</td>\n",
       "      <td>87.03</td>\n",
       "      <td>0</td>\n",
       "      <td>0</td>\n",
       "      <td>0</td>\n",
       "    </tr>\n",
       "    <tr>\n",
       "      <th>6</th>\n",
       "      <td>1</td>\n",
       "      <td>31</td>\n",
       "      <td>-7</td>\n",
       "      <td>25</td>\n",
       "      <td>113</td>\n",
       "      <td>39718.66</td>\n",
       "      <td>26.566117</td>\n",
       "      <td>9.2</td>\n",
       "      <td>200.67</td>\n",
       "      <td>1.850689</td>\n",
       "      <td>...</td>\n",
       "      <td>1</td>\n",
       "      <td>0</td>\n",
       "      <td>45000.0</td>\n",
       "      <td>715</td>\n",
       "      <td>69.4</td>\n",
       "      <td>9.2</td>\n",
       "      <td>87.03</td>\n",
       "      <td>0</td>\n",
       "      <td>0</td>\n",
       "      <td>0</td>\n",
       "    </tr>\n",
       "    <tr>\n",
       "      <th>7</th>\n",
       "      <td>1</td>\n",
       "      <td>32</td>\n",
       "      <td>-7</td>\n",
       "      <td>25</td>\n",
       "      <td>113</td>\n",
       "      <td>35877.03</td>\n",
       "      <td>25.872559</td>\n",
       "      <td>9.2</td>\n",
       "      <td>186.12</td>\n",
       "      <td>1.104163</td>\n",
       "      <td>...</td>\n",
       "      <td>1</td>\n",
       "      <td>0</td>\n",
       "      <td>45000.0</td>\n",
       "      <td>715</td>\n",
       "      <td>69.4</td>\n",
       "      <td>9.2</td>\n",
       "      <td>87.03</td>\n",
       "      <td>0</td>\n",
       "      <td>0</td>\n",
       "      <td>0</td>\n",
       "    </tr>\n",
       "    <tr>\n",
       "      <th>8</th>\n",
       "      <td>1</td>\n",
       "      <td>33</td>\n",
       "      <td>-7</td>\n",
       "      <td>25</td>\n",
       "      <td>113</td>\n",
       "      <td>34410.03</td>\n",
       "      <td>25.584425</td>\n",
       "      <td>9.2</td>\n",
       "      <td>180.52</td>\n",
       "      <td>0.836859</td>\n",
       "      <td>...</td>\n",
       "      <td>1</td>\n",
       "      <td>0</td>\n",
       "      <td>45000.0</td>\n",
       "      <td>715</td>\n",
       "      <td>69.4</td>\n",
       "      <td>9.2</td>\n",
       "      <td>87.03</td>\n",
       "      <td>0</td>\n",
       "      <td>0</td>\n",
       "      <td>0</td>\n",
       "    </tr>\n",
       "    <tr>\n",
       "      <th>9</th>\n",
       "      <td>1</td>\n",
       "      <td>34</td>\n",
       "      <td>-7</td>\n",
       "      <td>25</td>\n",
       "      <td>113</td>\n",
       "      <td>33590.47</td>\n",
       "      <td>26.008073</td>\n",
       "      <td>9.2</td>\n",
       "      <td>173.35</td>\n",
       "      <td>-0.314448</td>\n",
       "      <td>...</td>\n",
       "      <td>1</td>\n",
       "      <td>0</td>\n",
       "      <td>45000.0</td>\n",
       "      <td>715</td>\n",
       "      <td>69.4</td>\n",
       "      <td>9.2</td>\n",
       "      <td>87.03</td>\n",
       "      <td>0</td>\n",
       "      <td>0</td>\n",
       "      <td>0</td>\n",
       "    </tr>\n",
       "  </tbody>\n",
       "</table>\n",
       "<p>10 rows × 23 columns</p>\n",
       "</div>"
      ],
      "text/plain": [
       "   id  time  orig_time  first_time  mat_time  balance_time   LTV_time  \\\n",
       "0   1    25         -7          25       113      41303.42  24.498336   \n",
       "1   1    26         -7          25       113      41061.95  24.483867   \n",
       "2   1    27         -7          25       113      40804.42  24.626795   \n",
       "3   1    28         -7          25       113      40483.89  24.735883   \n",
       "4   1    29         -7          25       113      40367.06  24.925476   \n",
       "5   1    30         -7          25       113      40127.97  25.318291   \n",
       "6   1    31         -7          25       113      39718.66  26.566117   \n",
       "7   1    32         -7          25       113      35877.03  25.872559   \n",
       "8   1    33         -7          25       113      34410.03  25.584425   \n",
       "9   1    34         -7          25       113      33590.47  26.008073   \n",
       "\n",
       "   interest_rate_time  hpi_time  gdp_time  ...  REtype_SF_orig_time  \\\n",
       "0                 9.2    226.29  2.899137  ...                    1   \n",
       "1                 9.2    225.10  2.151365  ...                    1   \n",
       "2                 9.2    222.39  2.361722  ...                    1   \n",
       "3                 9.2    219.67  1.229172  ...                    1   \n",
       "4                 9.2    217.37  1.692969  ...                    1   \n",
       "5                 9.2    212.73  2.274218  ...                    1   \n",
       "6                 9.2    200.67  1.850689  ...                    1   \n",
       "7                 9.2    186.12  1.104163  ...                    1   \n",
       "8                 9.2    180.52  0.836859  ...                    1   \n",
       "9                 9.2    173.35 -0.314448  ...                    1   \n",
       "\n",
       "   investor_orig_time  balance_orig_time  FICO_orig_time  LTV_orig_time  \\\n",
       "0                   0            45000.0             715           69.4   \n",
       "1                   0            45000.0             715           69.4   \n",
       "2                   0            45000.0             715           69.4   \n",
       "3                   0            45000.0             715           69.4   \n",
       "4                   0            45000.0             715           69.4   \n",
       "5                   0            45000.0             715           69.4   \n",
       "6                   0            45000.0             715           69.4   \n",
       "7                   0            45000.0             715           69.4   \n",
       "8                   0            45000.0             715           69.4   \n",
       "9                   0            45000.0             715           69.4   \n",
       "\n",
       "   Interest_Rate_orig_time  hpi_orig_time  default_time  payoff_time  \\\n",
       "0                      9.2          87.03             0            0   \n",
       "1                      9.2          87.03             0            0   \n",
       "2                      9.2          87.03             0            0   \n",
       "3                      9.2          87.03             0            0   \n",
       "4                      9.2          87.03             0            0   \n",
       "5                      9.2          87.03             0            0   \n",
       "6                      9.2          87.03             0            0   \n",
       "7                      9.2          87.03             0            0   \n",
       "8                      9.2          87.03             0            0   \n",
       "9                      9.2          87.03             0            0   \n",
       "\n",
       "   status_time  \n",
       "0            0  \n",
       "1            0  \n",
       "2            0  \n",
       "3            0  \n",
       "4            0  \n",
       "5            0  \n",
       "6            0  \n",
       "7            0  \n",
       "8            0  \n",
       "9            0  \n",
       "\n",
       "[10 rows x 23 columns]"
      ]
     },
     "execution_count": 7,
     "metadata": {},
     "output_type": "execute_result"
    }
   ],
   "source": [
    "mortgage.head(10)"
   ]
  },
  {
   "cell_type": "code",
   "execution_count": 14,
   "metadata": {},
   "outputs": [
    {
     "data": {
      "text/plain": [
       "id                           0\n",
       "time                         0\n",
       "orig_time                    0\n",
       "first_time                   0\n",
       "mat_time                     0\n",
       "balance_time                 0\n",
       "LTV_time                   270\n",
       "interest_rate_time           0\n",
       "hpi_time                     0\n",
       "gdp_time                     0\n",
       "uer_time                     0\n",
       "REtype_CO_orig_time          0\n",
       "REtype_PU_orig_time          0\n",
       "REtype_SF_orig_time          0\n",
       "investor_orig_time           0\n",
       "balance_orig_time            0\n",
       "FICO_orig_time               0\n",
       "LTV_orig_time                0\n",
       "Interest_Rate_orig_time      0\n",
       "hpi_orig_time                0\n",
       "default_time                 0\n",
       "payoff_time                  0\n",
       "status_time                  0\n",
       "dtype: int64"
      ]
     },
     "execution_count": 14,
     "metadata": {},
     "output_type": "execute_result"
    }
   ],
   "source": [
    "mortgage.isna().sum()"
   ]
  },
  {
   "cell_type": "markdown",
   "metadata": {},
   "source": [
    "# Preprocessing & EDA"
   ]
  },
  {
   "cell_type": "code",
   "execution_count": 17,
   "metadata": {},
   "outputs": [],
   "source": [
    "import missingno as msno"
   ]
  },
  {
   "cell_type": "code",
   "execution_count": 18,
   "metadata": {},
   "outputs": [
    {
     "data": {
      "text/plain": [
       "<matplotlib.axes._subplots.AxesSubplot at 0x197bc1da880>"
      ]
     },
     "execution_count": 18,
     "metadata": {},
     "output_type": "execute_result"
    },
    {
     "data": {
      "image/png": "[encoded data removed]",
      "text/plain": [
       "<Figure size 1800x720 with 2 Axes>"
      ]
     },
     "metadata": {
      "needs_background": "light"
     },
     "output_type": "display_data"
    }
   ],
   "source": [
    "# missing values - accept\n",
    "msno.matrix(mortgage)"
   ]
  },
  {
   "cell_type": "code",
   "execution_count": 19,
   "metadata": {},
   "outputs": [
    {
     "data": {
      "text/plain": [
       "count    622219.000000\n",
       "mean         83.078239\n",
       "std          24.968839\n",
       "min           0.000000\n",
       "25%          67.109446\n",
       "50%          82.253269\n",
       "75%         100.634381\n",
       "max         803.513550\n",
       "Name: LTV_time, dtype: float64"
      ]
     },
     "execution_count": 19,
     "metadata": {},
     "output_type": "execute_result"
    }
   ],
   "source": [
    "mortgage['LTV_time'].describe()"
   ]
  },
  {
   "cell_type": "markdown",
   "metadata": {},
   "source": [
    "THE DATA IS VERY IMBALANCED"
   ]
  },
  {
   "cell_type": "code",
   "execution_count": 11,
   "metadata": {},
   "outputs": [
    {
     "data": {
      "text/plain": [
       "0    607331\n",
       "1     15158\n",
       "Name: default_time, dtype: int64"
      ]
     },
     "execution_count": 11,
     "metadata": {},
     "output_type": "execute_result"
    }
   ],
   "source": [
    "mortgage.default_time.value_counts()"
   ]
  },
  {
   "cell_type": "markdown",
   "metadata": {},
   "source": [
    "REPLACE MISSING VALUES EIRH"
   ]
  },
  {
   "cell_type": "code",
   "execution_count": 15,
   "metadata": {},
   "outputs": [
    {
     "data": {
      "text/plain": [
       "80.000000    1347\n",
       "82.410889     538\n",
       "83.282882     486\n",
       "83.632774     470\n",
       "82.844919     465\n",
       "             ... \n",
       "52.536516       1\n",
       "90.353387       1\n",
       "29.816102       1\n",
       "72.855434       1\n",
       "61.643447       1\n",
       "Name: LTV_time, Length: 567800, dtype: int64"
      ]
     },
     "execution_count": 15,
     "metadata": {},
     "output_type": "execute_result"
    }
   ],
   "source": [
    "mortgage.LTV_time.value_counts()"
   ]
  },
  {
   "cell_type": "code",
   "execution_count": 22,
   "metadata": {},
   "outputs": [],
   "source": [
    "mortgage['LTV_time'].fillna(-999, inplace = True)"
   ]
  },
  {
   "cell_type": "code",
   "execution_count": 24,
   "metadata": {},
   "outputs": [
    {
     "data": {
      "text/plain": [
       "0"
      ]
     },
     "execution_count": 24,
     "metadata": {},
     "output_type": "execute_result"
    }
   ],
   "source": [
    "mortgage['LTV_time'].isna().sum()"
   ]
  },
  {
   "cell_type": "markdown",
   "metadata": {},
   "source": [
    "ALL VARIABLES ARE NUMERIC"
   ]
  },
  {
   "cell_type": "code",
   "execution_count": 26,
   "metadata": {},
   "outputs": [
    {
     "data": {
      "text/plain": [
       "id                           int64\n",
       "time                         int64\n",
       "orig_time                    int64\n",
       "first_time                   int64\n",
       "mat_time                     int64\n",
       "balance_time               float64\n",
       "LTV_time                   float64\n",
       "interest_rate_time         float64\n",
       "hpi_time                   float64\n",
       "gdp_time                   float64\n",
       "uer_time                   float64\n",
       "REtype_CO_orig_time          int64\n",
       "REtype_PU_orig_time          int64\n",
       "REtype_SF_orig_time          int64\n",
       "investor_orig_time           int64\n",
       "balance_orig_time          float64\n",
       "FICO_orig_time               int64\n",
       "LTV_orig_time              float64\n",
       "Interest_Rate_orig_time    float64\n",
       "hpi_orig_time              float64\n",
       "default_time                 int64\n",
       "payoff_time                  int64\n",
       "status_time                  int64\n",
       "dtype: object"
      ]
     },
     "execution_count": 26,
     "metadata": {},
     "output_type": "execute_result"
    }
   ],
   "source": [
    "mortgage.dtypes"
   ]
  },
  {
   "cell_type": "code",
   "execution_count": 30,
   "metadata": {},
   "outputs": [
    {
     "data": {
      "text/plain": [
       "(622489, 23)"
      ]
     },
     "execution_count": 30,
     "metadata": {},
     "output_type": "execute_result"
    }
   ],
   "source": [
    "mortgage.shape"
   ]
  },
  {
   "cell_type": "code",
   "execution_count": 31,
   "metadata": {},
   "outputs": [
    {
     "data": {
      "text/html": [
       "<div>\n",
       "<style scoped>\n",
       "    .dataframe tbody tr th:only-of-type {\n",
       "        vertical-align: middle;\n",
       "    }\n",
       "\n",
       "    .dataframe tbody tr th {\n",
       "        vertical-align: top;\n",
       "    }\n",
       "\n",
       "    .dataframe thead th {\n",
       "        text-align: right;\n",
       "    }\n",
       "</style>\n",
       "<table border=\"1\" class=\"dataframe\">\n",
       "  <thead>\n",
       "    <tr style=\"text-align: right;\">\n",
       "      <th></th>\n",
       "      <th>id</th>\n",
       "      <th>time</th>\n",
       "      <th>orig_time</th>\n",
       "      <th>first_time</th>\n",
       "      <th>mat_time</th>\n",
       "      <th>balance_time</th>\n",
       "      <th>LTV_time</th>\n",
       "      <th>interest_rate_time</th>\n",
       "      <th>hpi_time</th>\n",
       "      <th>gdp_time</th>\n",
       "      <th>...</th>\n",
       "      <th>REtype_SF_orig_time</th>\n",
       "      <th>investor_orig_time</th>\n",
       "      <th>balance_orig_time</th>\n",
       "      <th>FICO_orig_time</th>\n",
       "      <th>LTV_orig_time</th>\n",
       "      <th>Interest_Rate_orig_time</th>\n",
       "      <th>hpi_orig_time</th>\n",
       "      <th>default_time</th>\n",
       "      <th>payoff_time</th>\n",
       "      <th>status_time</th>\n",
       "    </tr>\n",
       "  </thead>\n",
       "  <tbody>\n",
       "    <tr>\n",
       "      <th>count</th>\n",
       "      <td>622489.000000</td>\n",
       "      <td>622489.000000</td>\n",
       "      <td>622489.000000</td>\n",
       "      <td>622489.000000</td>\n",
       "      <td>622489.000000</td>\n",
       "      <td>6.224890e+05</td>\n",
       "      <td>622489.000000</td>\n",
       "      <td>622489.000000</td>\n",
       "      <td>622489.00000</td>\n",
       "      <td>622489.000000</td>\n",
       "      <td>...</td>\n",
       "      <td>622489.000000</td>\n",
       "      <td>622489.000000</td>\n",
       "      <td>6.224890e+05</td>\n",
       "      <td>622489.000000</td>\n",
       "      <td>622489.000000</td>\n",
       "      <td>622489.000000</td>\n",
       "      <td>622489.000000</td>\n",
       "      <td>622489.000000</td>\n",
       "      <td>622489.000000</td>\n",
       "      <td>622489.000000</td>\n",
       "    </tr>\n",
       "    <tr>\n",
       "      <th>mean</th>\n",
       "      <td>25147.492561</td>\n",
       "      <td>35.800806</td>\n",
       "      <td>20.570057</td>\n",
       "      <td>24.607362</td>\n",
       "      <td>137.206527</td>\n",
       "      <td>2.459649e+05</td>\n",
       "      <td>82.608896</td>\n",
       "      <td>6.702451</td>\n",
       "      <td>184.10245</td>\n",
       "      <td>1.381032</td>\n",
       "      <td>...</td>\n",
       "      <td>0.612067</td>\n",
       "      <td>0.138226</td>\n",
       "      <td>2.562539e+05</td>\n",
       "      <td>673.616922</td>\n",
       "      <td>78.975460</td>\n",
       "      <td>5.649546</td>\n",
       "      <td>198.115217</td>\n",
       "      <td>0.024351</td>\n",
       "      <td>0.042714</td>\n",
       "      <td>0.109779</td>\n",
       "    </tr>\n",
       "    <tr>\n",
       "      <th>std</th>\n",
       "      <td>13750.200051</td>\n",
       "      <td>11.579971</td>\n",
       "      <td>7.615170</td>\n",
       "      <td>6.739015</td>\n",
       "      <td>19.532501</td>\n",
       "      <td>2.141563e+05</td>\n",
       "      <td>33.627657</td>\n",
       "      <td>2.079246</td>\n",
       "      <td>27.65077</td>\n",
       "      <td>1.964645</td>\n",
       "      <td>...</td>\n",
       "      <td>0.487280</td>\n",
       "      <td>0.345137</td>\n",
       "      <td>2.197181e+05</td>\n",
       "      <td>71.724558</td>\n",
       "      <td>10.127052</td>\n",
       "      <td>2.978061</td>\n",
       "      <td>33.964785</td>\n",
       "      <td>0.154135</td>\n",
       "      <td>0.202212</td>\n",
       "      <td>0.427967</td>\n",
       "    </tr>\n",
       "    <tr>\n",
       "      <th>min</th>\n",
       "      <td>1.000000</td>\n",
       "      <td>1.000000</td>\n",
       "      <td>-40.000000</td>\n",
       "      <td>1.000000</td>\n",
       "      <td>18.000000</td>\n",
       "      <td>0.000000e+00</td>\n",
       "      <td>-999.000000</td>\n",
       "      <td>0.000000</td>\n",
       "      <td>107.83000</td>\n",
       "      <td>-4.146711</td>\n",
       "      <td>...</td>\n",
       "      <td>0.000000</td>\n",
       "      <td>0.000000</td>\n",
       "      <td>0.000000e+00</td>\n",
       "      <td>400.000000</td>\n",
       "      <td>50.100000</td>\n",
       "      <td>0.000000</td>\n",
       "      <td>75.710000</td>\n",
       "      <td>0.000000</td>\n",
       "      <td>0.000000</td>\n",
       "      <td>0.000000</td>\n",
       "    </tr>\n",
       "    <tr>\n",
       "      <th>25%</th>\n",
       "      <td>13580.000000</td>\n",
       "      <td>27.000000</td>\n",
       "      <td>18.000000</td>\n",
       "      <td>21.000000</td>\n",
       "      <td>137.000000</td>\n",
       "      <td>1.020174e+05</td>\n",
       "      <td>67.085419</td>\n",
       "      <td>5.650000</td>\n",
       "      <td>158.60000</td>\n",
       "      <td>1.104163</td>\n",
       "      <td>...</td>\n",
       "      <td>0.000000</td>\n",
       "      <td>0.000000</td>\n",
       "      <td>1.080000e+05</td>\n",
       "      <td>626.000000</td>\n",
       "      <td>75.000000</td>\n",
       "      <td>5.000000</td>\n",
       "      <td>179.450000</td>\n",
       "      <td>0.000000</td>\n",
       "      <td>0.000000</td>\n",
       "      <td>0.000000</td>\n",
       "    </tr>\n",
       "    <tr>\n",
       "      <th>50%</th>\n",
       "      <td>24881.000000</td>\n",
       "      <td>34.000000</td>\n",
       "      <td>22.000000</td>\n",
       "      <td>25.000000</td>\n",
       "      <td>142.000000</td>\n",
       "      <td>1.806183e+05</td>\n",
       "      <td>82.240987</td>\n",
       "      <td>6.625000</td>\n",
       "      <td>180.52000</td>\n",
       "      <td>1.850689</td>\n",
       "      <td>...</td>\n",
       "      <td>1.000000</td>\n",
       "      <td>0.000000</td>\n",
       "      <td>1.880000e+05</td>\n",
       "      <td>678.000000</td>\n",
       "      <td>80.000000</td>\n",
       "      <td>6.290000</td>\n",
       "      <td>216.770000</td>\n",
       "      <td>0.000000</td>\n",
       "      <td>0.000000</td>\n",
       "      <td>0.000000</td>\n",
       "    </tr>\n",
       "    <tr>\n",
       "      <th>75%</th>\n",
       "      <td>37045.000000</td>\n",
       "      <td>44.000000</td>\n",
       "      <td>25.000000</td>\n",
       "      <td>28.000000</td>\n",
       "      <td>145.000000</td>\n",
       "      <td>3.374950e+05</td>\n",
       "      <td>100.623817</td>\n",
       "      <td>7.875000</td>\n",
       "      <td>212.73000</td>\n",
       "      <td>2.694111</td>\n",
       "      <td>...</td>\n",
       "      <td>1.000000</td>\n",
       "      <td>0.000000</td>\n",
       "      <td>3.520000e+05</td>\n",
       "      <td>729.000000</td>\n",
       "      <td>80.000000</td>\n",
       "      <td>7.456000</td>\n",
       "      <td>222.390000</td>\n",
       "      <td>0.000000</td>\n",
       "      <td>0.000000</td>\n",
       "      <td>0.000000</td>\n",
       "    </tr>\n",
       "    <tr>\n",
       "      <th>max</th>\n",
       "      <td>50000.000000</td>\n",
       "      <td>60.000000</td>\n",
       "      <td>60.000000</td>\n",
       "      <td>60.000000</td>\n",
       "      <td>229.000000</td>\n",
       "      <td>8.701859e+06</td>\n",
       "      <td>803.513550</td>\n",
       "      <td>37.500000</td>\n",
       "      <td>226.29000</td>\n",
       "      <td>5.132464</td>\n",
       "      <td>...</td>\n",
       "      <td>1.000000</td>\n",
       "      <td>1.000000</td>\n",
       "      <td>8.000000e+06</td>\n",
       "      <td>840.000000</td>\n",
       "      <td>218.500000</td>\n",
       "      <td>19.750000</td>\n",
       "      <td>226.290000</td>\n",
       "      <td>1.000000</td>\n",
       "      <td>1.000000</td>\n",
       "      <td>2.000000</td>\n",
       "    </tr>\n",
       "  </tbody>\n",
       "</table>\n",
       "<p>8 rows × 23 columns</p>\n",
       "</div>"
      ],
      "text/plain": [
       "                  id           time      orig_time     first_time  \\\n",
       "count  622489.000000  622489.000000  622489.000000  622489.000000   \n",
       "mean    25147.492561      35.800806      20.570057      24.607362   \n",
       "std     13750.200051      11.579971       7.615170       6.739015   \n",
       "min         1.000000       1.000000     -40.000000       1.000000   \n",
       "25%     13580.000000      27.000000      18.000000      21.000000   \n",
       "50%     24881.000000      34.000000      22.000000      25.000000   \n",
       "75%     37045.000000      44.000000      25.000000      28.000000   \n",
       "max     50000.000000      60.000000      60.000000      60.000000   \n",
       "\n",
       "            mat_time  balance_time       LTV_time  interest_rate_time  \\\n",
       "count  622489.000000  6.224890e+05  622489.000000       622489.000000   \n",
       "mean      137.206527  2.459649e+05      82.608896            6.702451   \n",
       "std        19.532501  2.141563e+05      33.627657            2.079246   \n",
       "min        18.000000  0.000000e+00    -999.000000            0.000000   \n",
       "25%       137.000000  1.020174e+05      67.085419            5.650000   \n",
       "50%       142.000000  1.806183e+05      82.240987            6.625000   \n",
       "75%       145.000000  3.374950e+05     100.623817            7.875000   \n",
       "max       229.000000  8.701859e+06     803.513550           37.500000   \n",
       "\n",
       "           hpi_time       gdp_time  ...  REtype_SF_orig_time  \\\n",
       "count  622489.00000  622489.000000  ...        622489.000000   \n",
       "mean      184.10245       1.381032  ...             0.612067   \n",
       "std        27.65077       1.964645  ...             0.487280   \n",
       "min       107.83000      -4.146711  ...             0.000000   \n",
       "25%       158.60000       1.104163  ...             0.000000   \n",
       "50%       180.52000       1.850689  ...             1.000000   \n",
       "75%       212.73000       2.694111  ...             1.000000   \n",
       "max       226.29000       5.132464  ...             1.000000   \n",
       "\n",
       "       investor_orig_time  balance_orig_time  FICO_orig_time  LTV_orig_time  \\\n",
       "count       622489.000000       6.224890e+05   622489.000000  622489.000000   \n",
       "mean             0.138226       2.562539e+05      673.616922      78.975460   \n",
       "std              0.345137       2.197181e+05       71.724558      10.127052   \n",
       "min              0.000000       0.000000e+00      400.000000      50.100000   \n",
       "25%              0.000000       1.080000e+05      626.000000      75.000000   \n",
       "50%              0.000000       1.880000e+05      678.000000      80.000000   \n",
       "75%              0.000000       3.520000e+05      729.000000      80.000000   \n",
       "max              1.000000       8.000000e+06      840.000000     218.500000   \n",
       "\n",
       "       Interest_Rate_orig_time  hpi_orig_time   default_time    payoff_time  \\\n",
       "count            622489.000000  622489.000000  622489.000000  622489.000000   \n",
       "mean                  5.649546     198.115217       0.024351       0.042714   \n",
       "std                   2.978061      33.964785       0.154135       0.202212   \n",
       "min                   0.000000      75.710000       0.000000       0.000000   \n",
       "25%                   5.000000     179.450000       0.000000       0.000000   \n",
       "50%                   6.290000     216.770000       0.000000       0.000000   \n",
       "75%                   7.456000     222.390000       0.000000       0.000000   \n",
       "max                  19.750000     226.290000       1.000000       1.000000   \n",
       "\n",
       "         status_time  \n",
       "count  622489.000000  \n",
       "mean        0.109779  \n",
       "std         0.427967  \n",
       "min         0.000000  \n",
       "25%         0.000000  \n",
       "50%         0.000000  \n",
       "75%         0.000000  \n",
       "max         2.000000  \n",
       "\n",
       "[8 rows x 23 columns]"
      ]
     },
     "execution_count": 31,
     "metadata": {},
     "output_type": "execute_result"
    }
   ],
   "source": [
    "mortgage.describe()"
   ]
  },
  {
   "cell_type": "code",
   "execution_count": 33,
   "metadata": {},
   "outputs": [
    {
     "data": {
      "text/plain": [
       "<matplotlib.axes._subplots.AxesSubplot at 0x197bb558fa0>"
      ]
     },
     "execution_count": 33,
     "metadata": {},
     "output_type": "execute_result"
    },
    {
     "data": {
      "image/png": "[encoded data removed]",
      "text/plain": [
       "<Figure size 360x576 with 1 Axes>"
      ]
     },
     "metadata": {},
     "output_type": "display_data"
    }
   ],
   "source": [
    "# display number of defaults\n",
    "mortgage.groupby(\"id\").agg({\"default_time\":np.max})[\"default_time\"].value_counts().plot.pie(autopct='%.2f%%', figsize=(5,8))"
   ]
  },
  {
   "cell_type": "markdown",
   "metadata": {},
   "source": [
    "To apply the KaplanMeier model we need to ensure that the data is static and not episodic, therefore we convert the data as shown below"
   ]
  },
  {
   "cell_type": "code",
   "execution_count": 34,
   "metadata": {},
   "outputs": [],
   "source": [
    "# convert episodic data to static\n",
    "mortgage_static = mortgage.groupby(\"id\").agg(np.max).reset_index()"
   ]
  },
  {
   "cell_type": "code",
   "execution_count": 35,
   "metadata": {},
   "outputs": [
    {
     "data": {
      "text/html": [
       "<div>\n",
       "<style scoped>\n",
       "    .dataframe tbody tr th:only-of-type {\n",
       "        vertical-align: middle;\n",
       "    }\n",
       "\n",
       "    .dataframe tbody tr th {\n",
       "        vertical-align: top;\n",
       "    }\n",
       "\n",
       "    .dataframe thead th {\n",
       "        text-align: right;\n",
       "    }\n",
       "</style>\n",
       "<table border=\"1\" class=\"dataframe\">\n",
       "  <thead>\n",
       "    <tr style=\"text-align: right;\">\n",
       "      <th></th>\n",
       "      <th>id</th>\n",
       "      <th>time</th>\n",
       "      <th>orig_time</th>\n",
       "      <th>first_time</th>\n",
       "      <th>mat_time</th>\n",
       "      <th>balance_time</th>\n",
       "      <th>LTV_time</th>\n",
       "      <th>interest_rate_time</th>\n",
       "      <th>hpi_time</th>\n",
       "      <th>gdp_time</th>\n",
       "      <th>...</th>\n",
       "      <th>REtype_SF_orig_time</th>\n",
       "      <th>investor_orig_time</th>\n",
       "      <th>balance_orig_time</th>\n",
       "      <th>FICO_orig_time</th>\n",
       "      <th>LTV_orig_time</th>\n",
       "      <th>Interest_Rate_orig_time</th>\n",
       "      <th>hpi_orig_time</th>\n",
       "      <th>default_time</th>\n",
       "      <th>payoff_time</th>\n",
       "      <th>status_time</th>\n",
       "    </tr>\n",
       "  </thead>\n",
       "  <tbody>\n",
       "    <tr>\n",
       "      <th>0</th>\n",
       "      <td>1</td>\n",
       "      <td>48</td>\n",
       "      <td>-7</td>\n",
       "      <td>25</td>\n",
       "      <td>113</td>\n",
       "      <td>41303.42</td>\n",
       "      <td>28.963629</td>\n",
       "      <td>9.200</td>\n",
       "      <td>226.29</td>\n",
       "      <td>3.029499</td>\n",
       "      <td>...</td>\n",
       "      <td>1</td>\n",
       "      <td>0</td>\n",
       "      <td>45000.0</td>\n",
       "      <td>715</td>\n",
       "      <td>69.4</td>\n",
       "      <td>9.200</td>\n",
       "      <td>87.03</td>\n",
       "      <td>1</td>\n",
       "      <td>0</td>\n",
       "      <td>1</td>\n",
       "    </tr>\n",
       "    <tr>\n",
       "      <th>1</th>\n",
       "      <td>2</td>\n",
       "      <td>26</td>\n",
       "      <td>18</td>\n",
       "      <td>25</td>\n",
       "      <td>138</td>\n",
       "      <td>105826.38</td>\n",
       "      <td>65.469851</td>\n",
       "      <td>7.680</td>\n",
       "      <td>226.29</td>\n",
       "      <td>2.899137</td>\n",
       "      <td>...</td>\n",
       "      <td>1</td>\n",
       "      <td>0</td>\n",
       "      <td>107200.0</td>\n",
       "      <td>558</td>\n",
       "      <td>80.0</td>\n",
       "      <td>7.680</td>\n",
       "      <td>186.91</td>\n",
       "      <td>0</td>\n",
       "      <td>1</td>\n",
       "      <td>2</td>\n",
       "    </tr>\n",
       "    <tr>\n",
       "      <th>2</th>\n",
       "      <td>3</td>\n",
       "      <td>29</td>\n",
       "      <td>-6</td>\n",
       "      <td>25</td>\n",
       "      <td>114</td>\n",
       "      <td>44866.18</td>\n",
       "      <td>31.459735</td>\n",
       "      <td>11.375</td>\n",
       "      <td>226.29</td>\n",
       "      <td>2.899137</td>\n",
       "      <td>...</td>\n",
       "      <td>1</td>\n",
       "      <td>0</td>\n",
       "      <td>48600.0</td>\n",
       "      <td>680</td>\n",
       "      <td>83.6</td>\n",
       "      <td>8.750</td>\n",
       "      <td>89.58</td>\n",
       "      <td>0</td>\n",
       "      <td>1</td>\n",
       "      <td>2</td>\n",
       "    </tr>\n",
       "    <tr>\n",
       "      <th>3</th>\n",
       "      <td>4</td>\n",
       "      <td>60</td>\n",
       "      <td>-2</td>\n",
       "      <td>25</td>\n",
       "      <td>119</td>\n",
       "      <td>61031.10</td>\n",
       "      <td>49.156858</td>\n",
       "      <td>11.000</td>\n",
       "      <td>226.29</td>\n",
       "      <td>3.029499</td>\n",
       "      <td>...</td>\n",
       "      <td>1</td>\n",
       "      <td>0</td>\n",
       "      <td>63750.0</td>\n",
       "      <td>587</td>\n",
       "      <td>81.8</td>\n",
       "      <td>10.500</td>\n",
       "      <td>97.99</td>\n",
       "      <td>0</td>\n",
       "      <td>0</td>\n",
       "      <td>0</td>\n",
       "    </tr>\n",
       "    <tr>\n",
       "      <th>4</th>\n",
       "      <td>5</td>\n",
       "      <td>27</td>\n",
       "      <td>18</td>\n",
       "      <td>25</td>\n",
       "      <td>138</td>\n",
       "      <td>52295.07</td>\n",
       "      <td>66.346343</td>\n",
       "      <td>9.155</td>\n",
       "      <td>226.29</td>\n",
       "      <td>2.899137</td>\n",
       "      <td>...</td>\n",
       "      <td>1</td>\n",
       "      <td>0</td>\n",
       "      <td>52800.0</td>\n",
       "      <td>527</td>\n",
       "      <td>80.0</td>\n",
       "      <td>9.155</td>\n",
       "      <td>186.91</td>\n",
       "      <td>0</td>\n",
       "      <td>1</td>\n",
       "      <td>2</td>\n",
       "    </tr>\n",
       "    <tr>\n",
       "      <th>5</th>\n",
       "      <td>6</td>\n",
       "      <td>56</td>\n",
       "      <td>19</td>\n",
       "      <td>25</td>\n",
       "      <td>139</td>\n",
       "      <td>209058.33</td>\n",
       "      <td>97.386340</td>\n",
       "      <td>10.625</td>\n",
       "      <td>226.29</td>\n",
       "      <td>3.029499</td>\n",
       "      <td>...</td>\n",
       "      <td>1</td>\n",
       "      <td>0</td>\n",
       "      <td>212000.0</td>\n",
       "      <td>670</td>\n",
       "      <td>80.0</td>\n",
       "      <td>6.600</td>\n",
       "      <td>191.42</td>\n",
       "      <td>1</td>\n",
       "      <td>0</td>\n",
       "      <td>1</td>\n",
       "    </tr>\n",
       "    <tr>\n",
       "      <th>6</th>\n",
       "      <td>7</td>\n",
       "      <td>26</td>\n",
       "      <td>18</td>\n",
       "      <td>25</td>\n",
       "      <td>138</td>\n",
       "      <td>108122.31</td>\n",
       "      <td>77.919574</td>\n",
       "      <td>9.000</td>\n",
       "      <td>226.29</td>\n",
       "      <td>2.899137</td>\n",
       "      <td>...</td>\n",
       "      <td>1</td>\n",
       "      <td>0</td>\n",
       "      <td>109250.0</td>\n",
       "      <td>601</td>\n",
       "      <td>95.0</td>\n",
       "      <td>9.000</td>\n",
       "      <td>186.91</td>\n",
       "      <td>0</td>\n",
       "      <td>1</td>\n",
       "      <td>2</td>\n",
       "    </tr>\n",
       "    <tr>\n",
       "      <th>7</th>\n",
       "      <td>8</td>\n",
       "      <td>25</td>\n",
       "      <td>18</td>\n",
       "      <td>25</td>\n",
       "      <td>138</td>\n",
       "      <td>152393.21</td>\n",
       "      <td>58.819187</td>\n",
       "      <td>7.250</td>\n",
       "      <td>226.29</td>\n",
       "      <td>2.899137</td>\n",
       "      <td>...</td>\n",
       "      <td>1</td>\n",
       "      <td>0</td>\n",
       "      <td>192600.0</td>\n",
       "      <td>663</td>\n",
       "      <td>90.0</td>\n",
       "      <td>7.250</td>\n",
       "      <td>186.91</td>\n",
       "      <td>0</td>\n",
       "      <td>1</td>\n",
       "      <td>2</td>\n",
       "    </tr>\n",
       "    <tr>\n",
       "      <th>8</th>\n",
       "      <td>9</td>\n",
       "      <td>37</td>\n",
       "      <td>18</td>\n",
       "      <td>25</td>\n",
       "      <td>138</td>\n",
       "      <td>131533.24</td>\n",
       "      <td>100.454778</td>\n",
       "      <td>11.000</td>\n",
       "      <td>226.29</td>\n",
       "      <td>2.899137</td>\n",
       "      <td>...</td>\n",
       "      <td>1</td>\n",
       "      <td>0</td>\n",
       "      <td>128000.0</td>\n",
       "      <td>501</td>\n",
       "      <td>80.0</td>\n",
       "      <td>8.730</td>\n",
       "      <td>186.91</td>\n",
       "      <td>1</td>\n",
       "      <td>0</td>\n",
       "      <td>1</td>\n",
       "    </tr>\n",
       "    <tr>\n",
       "      <th>9</th>\n",
       "      <td>10</td>\n",
       "      <td>29</td>\n",
       "      <td>18</td>\n",
       "      <td>25</td>\n",
       "      <td>139</td>\n",
       "      <td>88819.74</td>\n",
       "      <td>67.296390</td>\n",
       "      <td>10.230</td>\n",
       "      <td>226.29</td>\n",
       "      <td>2.899137</td>\n",
       "      <td>...</td>\n",
       "      <td>1</td>\n",
       "      <td>0</td>\n",
       "      <td>90000.0</td>\n",
       "      <td>665</td>\n",
       "      <td>80.0</td>\n",
       "      <td>7.230</td>\n",
       "      <td>186.91</td>\n",
       "      <td>1</td>\n",
       "      <td>0</td>\n",
       "      <td>1</td>\n",
       "    </tr>\n",
       "  </tbody>\n",
       "</table>\n",
       "<p>10 rows × 23 columns</p>\n",
       "</div>"
      ],
      "text/plain": [
       "   id  time  orig_time  first_time  mat_time  balance_time    LTV_time  \\\n",
       "0   1    48         -7          25       113      41303.42   28.963629   \n",
       "1   2    26         18          25       138     105826.38   65.469851   \n",
       "2   3    29         -6          25       114      44866.18   31.459735   \n",
       "3   4    60         -2          25       119      61031.10   49.156858   \n",
       "4   5    27         18          25       138      52295.07   66.346343   \n",
       "5   6    56         19          25       139     209058.33   97.386340   \n",
       "6   7    26         18          25       138     108122.31   77.919574   \n",
       "7   8    25         18          25       138     152393.21   58.819187   \n",
       "8   9    37         18          25       138     131533.24  100.454778   \n",
       "9  10    29         18          25       139      88819.74   67.296390   \n",
       "\n",
       "   interest_rate_time  hpi_time  gdp_time  ...  REtype_SF_orig_time  \\\n",
       "0               9.200    226.29  3.029499  ...                    1   \n",
       "1               7.680    226.29  2.899137  ...                    1   \n",
       "2              11.375    226.29  2.899137  ...                    1   \n",
       "3              11.000    226.29  3.029499  ...                    1   \n",
       "4               9.155    226.29  2.899137  ...                    1   \n",
       "5              10.625    226.29  3.029499  ...                    1   \n",
       "6               9.000    226.29  2.899137  ...                    1   \n",
       "7               7.250    226.29  2.899137  ...                    1   \n",
       "8              11.000    226.29  2.899137  ...                    1   \n",
       "9              10.230    226.29  2.899137  ...                    1   \n",
       "\n",
       "   investor_orig_time  balance_orig_time  FICO_orig_time  LTV_orig_time  \\\n",
       "0                   0            45000.0             715           69.4   \n",
       "1                   0           107200.0             558           80.0   \n",
       "2                   0            48600.0             680           83.6   \n",
       "3                   0            63750.0             587           81.8   \n",
       "4                   0            52800.0             527           80.0   \n",
       "5                   0           212000.0             670           80.0   \n",
       "6                   0           109250.0             601           95.0   \n",
       "7                   0           192600.0             663           90.0   \n",
       "8                   0           128000.0             501           80.0   \n",
       "9                   0            90000.0             665           80.0   \n",
       "\n",
       "   Interest_Rate_orig_time  hpi_orig_time  default_time  payoff_time  \\\n",
       "0                    9.200          87.03             1            0   \n",
       "1                    7.680         186.91             0            1   \n",
       "2                    8.750          89.58             0            1   \n",
       "3                   10.500          97.99             0            0   \n",
       "4                    9.155         186.91             0            1   \n",
       "5                    6.600         191.42             1            0   \n",
       "6                    9.000         186.91             0            1   \n",
       "7                    7.250         186.91             0            1   \n",
       "8                    8.730         186.91             1            0   \n",
       "9                    7.230         186.91             1            0   \n",
       "\n",
       "   status_time  \n",
       "0            1  \n",
       "1            2  \n",
       "2            2  \n",
       "3            0  \n",
       "4            2  \n",
       "5            1  \n",
       "6            2  \n",
       "7            2  \n",
       "8            1  \n",
       "9            1  \n",
       "\n",
       "[10 rows x 23 columns]"
      ]
     },
     "execution_count": 35,
     "metadata": {},
     "output_type": "execute_result"
    }
   ],
   "source": [
    "mortgage_static.head(10)"
   ]
  },
  {
   "cell_type": "code",
   "execution_count": 37,
   "metadata": {},
   "outputs": [
    {
     "data": {
      "image/png": "[encoded data removed]",
      "text/plain": [
       "<Figure size 432x288 with 1 Axes>"
      ]
     },
     "metadata": {
      "needs_background": "light"
     },
     "output_type": "display_data"
    }
   ],
   "source": [
    "from lifelines.plotting import plot_lifetimes\n",
    "\n",
    "df_samp = mortgage_static.sample(20)\n",
    "ax = plot_lifetimes(df_samp[\"time\"], event_observed=df_samp[\"default_time\"])\n",
    "ax.set_xlabel(\"Time\")\n",
    "ax.set_title(\"Time to default\")\n",
    "plt.show()"
   ]
  },
  {
   "cell_type": "markdown",
   "metadata": {},
   "source": [
    "The above chart shows a random sample of 20 users and the time they take to pay their loans. From the chart we see that most of the customers are right censored, only after 20 months do we begin to see an effect"
   ]
  },
  {
   "cell_type": "markdown",
   "metadata": {},
   "source": [
    "# Kaplan-Meier Estimator"
   ]
  },
  {
   "cell_type": "code",
   "execution_count": 39,
   "metadata": {},
   "outputs": [
    {
     "data": {
      "image/png": "[encoded data removed]",
      "text/plain": [
       "<Figure size 576x360 with 2 Axes>"
      ]
     },
     "metadata": {
      "needs_background": "light"
     },
     "output_type": "display_data"
    }
   ],
   "source": [
    "from lifelines import KaplanMeierFitter\n",
    "\n",
    "kmf = KaplanMeierFitter()\n",
    "# fit on static data: TIME indicates the last observed timestep, mortgage_static indicates whether the customer defaulted\n",
    "kmf.fit(mortgage_static['time'], mortgage_static['default_time'], label='Kaplan Meier Estimator')\n",
    "\n",
    "# plot survival function\n",
    "ax = kmf.plot_survival_function(at_risk_counts=True,figsize=(8,5))\n",
    "ax.set_ylabel('Probability of non-default')\n",
    "plt.show()"
   ]
  },
  {
   "cell_type": "markdown",
   "metadata": {},
   "source": [
    "The above plot shows that the probability of non-default stops from time step 30, and time step 35, we have a survival rate of 80%. \n",
    "\n",
    "The prpobabily of default starts increasing beyond time step 30,"
   ]
  },
  {
   "cell_type": "code",
   "execution_count": 42,
   "metadata": {},
   "outputs": [
    {
     "name": "stdout",
     "output_type": "stream",
     "text": [
      "35.0\n"
     ]
    },
    {
     "data": {
      "image/png": "[encoded data removed]",
      "text/plain": [
       "<Figure size 576x360 with 2 Axes>"
      ]
     },
     "metadata": {
      "needs_background": "light"
     },
     "output_type": "display_data"
    }
   ],
   "source": [
    "# Median default_time?\n",
    "median_default = mortgage_static.query(\"default_time==1\")[\"time\"].median()\n",
    "print(median_default)\n",
    "\n",
    "# add to plot\n",
    "ax = kmf.plot_survival_function(at_risk_counts=True,figsize=(8,5))\n",
    "ax.set_ylabel('Probability of non-default')\n",
    "plt.plot([median_default, median_default], [0,1], 'k-', c=\"red\")\n",
    "plt.show()"
   ]
  },
  {
   "cell_type": "markdown",
   "metadata": {},
   "source": [
    "This chart shows that there is an approximately 80% chance of surviving after 35 months, with no likely survival beyond the 60th month. The redline indicates that after 35 months, 50% of the total defaulters have defaulted."
   ]
  },
  {
   "cell_type": "code",
   "execution_count": 43,
   "metadata": {},
   "outputs": [
    {
     "data": {
      "text/html": [
       "<div>\n",
       "<style scoped>\n",
       "    .dataframe tbody tr th:only-of-type {\n",
       "        vertical-align: middle;\n",
       "    }\n",
       "\n",
       "    .dataframe tbody tr th {\n",
       "        vertical-align: top;\n",
       "    }\n",
       "\n",
       "    .dataframe thead th {\n",
       "        text-align: right;\n",
       "    }\n",
       "</style>\n",
       "<table border=\"1\" class=\"dataframe\">\n",
       "  <thead>\n",
       "    <tr style=\"text-align: right;\">\n",
       "      <th></th>\n",
       "      <th>removed</th>\n",
       "      <th>observed</th>\n",
       "      <th>censored</th>\n",
       "      <th>entrance</th>\n",
       "      <th>at_risk</th>\n",
       "    </tr>\n",
       "    <tr>\n",
       "      <th>event_at</th>\n",
       "      <th></th>\n",
       "      <th></th>\n",
       "      <th></th>\n",
       "      <th></th>\n",
       "      <th></th>\n",
       "    </tr>\n",
       "  </thead>\n",
       "  <tbody>\n",
       "    <tr>\n",
       "      <th>0.0</th>\n",
       "      <td>0</td>\n",
       "      <td>0</td>\n",
       "      <td>0</td>\n",
       "      <td>50000</td>\n",
       "      <td>50000</td>\n",
       "    </tr>\n",
       "    <tr>\n",
       "      <th>1.0</th>\n",
       "      <td>22</td>\n",
       "      <td>3</td>\n",
       "      <td>19</td>\n",
       "      <td>0</td>\n",
       "      <td>50000</td>\n",
       "    </tr>\n",
       "    <tr>\n",
       "      <th>2.0</th>\n",
       "      <td>37</td>\n",
       "      <td>5</td>\n",
       "      <td>32</td>\n",
       "      <td>0</td>\n",
       "      <td>49978</td>\n",
       "    </tr>\n",
       "    <tr>\n",
       "      <th>3.0</th>\n",
       "      <td>57</td>\n",
       "      <td>14</td>\n",
       "      <td>43</td>\n",
       "      <td>0</td>\n",
       "      <td>49941</td>\n",
       "    </tr>\n",
       "    <tr>\n",
       "      <th>4.0</th>\n",
       "      <td>56</td>\n",
       "      <td>25</td>\n",
       "      <td>31</td>\n",
       "      <td>0</td>\n",
       "      <td>49884</td>\n",
       "    </tr>\n",
       "    <tr>\n",
       "      <th>...</th>\n",
       "      <td>...</td>\n",
       "      <td>...</td>\n",
       "      <td>...</td>\n",
       "      <td>...</td>\n",
       "      <td>...</td>\n",
       "    </tr>\n",
       "    <tr>\n",
       "      <th>56.0</th>\n",
       "      <td>223</td>\n",
       "      <td>58</td>\n",
       "      <td>165</td>\n",
       "      <td>0</td>\n",
       "      <td>8996</td>\n",
       "    </tr>\n",
       "    <tr>\n",
       "      <th>57.0</th>\n",
       "      <td>231</td>\n",
       "      <td>49</td>\n",
       "      <td>182</td>\n",
       "      <td>0</td>\n",
       "      <td>8773</td>\n",
       "    </tr>\n",
       "    <tr>\n",
       "      <th>58.0</th>\n",
       "      <td>245</td>\n",
       "      <td>77</td>\n",
       "      <td>168</td>\n",
       "      <td>0</td>\n",
       "      <td>8542</td>\n",
       "    </tr>\n",
       "    <tr>\n",
       "      <th>59.0</th>\n",
       "      <td>293</td>\n",
       "      <td>53</td>\n",
       "      <td>240</td>\n",
       "      <td>0</td>\n",
       "      <td>8297</td>\n",
       "    </tr>\n",
       "    <tr>\n",
       "      <th>60.0</th>\n",
       "      <td>8004</td>\n",
       "      <td>43</td>\n",
       "      <td>7961</td>\n",
       "      <td>0</td>\n",
       "      <td>8004</td>\n",
       "    </tr>\n",
       "  </tbody>\n",
       "</table>\n",
       "<p>61 rows × 5 columns</p>\n",
       "</div>"
      ],
      "text/plain": [
       "          removed  observed  censored  entrance  at_risk\n",
       "event_at                                                \n",
       "0.0             0         0         0     50000    50000\n",
       "1.0            22         3        19         0    50000\n",
       "2.0            37         5        32         0    49978\n",
       "3.0            57        14        43         0    49941\n",
       "4.0            56        25        31         0    49884\n",
       "...           ...       ...       ...       ...      ...\n",
       "56.0          223        58       165         0     8996\n",
       "57.0          231        49       182         0     8773\n",
       "58.0          245        77       168         0     8542\n",
       "59.0          293        53       240         0     8297\n",
       "60.0         8004        43      7961         0     8004\n",
       "\n",
       "[61 rows x 5 columns]"
      ]
     },
     "execution_count": 43,
     "metadata": {},
     "output_type": "execute_result"
    }
   ],
   "source": [
    "kmf.event_table"
   ]
  },
  {
   "cell_type": "code",
   "execution_count": 71,
   "metadata": {},
   "outputs": [
    {
     "data": {
      "text/plain": [
       "<matplotlib.axes._subplots.AxesSubplot at 0x1982756ed60>"
      ]
     },
     "execution_count": 71,
     "metadata": {},
     "output_type": "execute_result"
    },
    {
     "data": {
      "image/png": "[encoded data removed]",
      "text/plain": [
       "<Figure size 432x288 with 1 Axes>"
      ]
     },
     "metadata": {
      "needs_background": "light"
     },
     "output_type": "display_data"
    }
   ],
   "source": [
    "# plot cumulative hazard function\n",
    "kmf.plot_cumulative_density()"
   ]
  },
  {
   "cell_type": "markdown",
   "metadata": {},
   "source": [
    "This is a flipped version of the previous chart, it shows time to default for the defaulters"
   ]
  },
  {
   "cell_type": "markdown",
   "metadata": {},
   "source": [
    "# Compare multiple groups"
   ]
  },
  {
   "cell_type": "code",
   "execution_count": 56,
   "metadata": {},
   "outputs": [
    {
     "data": {
      "text/plain": [
       "REtype_CO_orig_time    2\n",
       "REtype_PU_orig_time    2\n",
       "REtype_SF_orig_time    2\n",
       "investor_orig_time     2\n",
       "default_time           2\n",
       "payoff_time            2\n",
       "status_time            3\n",
       "dtype: int64"
      ]
     },
     "execution_count": 56,
     "metadata": {},
     "output_type": "execute_result"
    }
   ],
   "source": [
    "# checking groups at least 2 unique values\n",
    "mortgage.nunique()[mortgage.nunique() <=3 ]"
   ]
  },
  {
   "cell_type": "code",
   "execution_count": 59,
   "metadata": {},
   "outputs": [
    {
     "data": {
      "text/plain": [
       "<matplotlib.axes._subplots.AxesSubplot at 0x19834cc0790>"
      ]
     },
     "execution_count": 59,
     "metadata": {},
     "output_type": "execute_result"
    },
    {
     "data": {
      "image/png": "[encoded data removed]",
      "text/plain": [
       "<Figure size 360x576 with 1 Axes>"
      ]
     },
     "metadata": {},
     "output_type": "display_data"
    }
   ],
   "source": [
    "# display pie chart REtype_CO_orig_time\n",
    "mortgage_static[\"REtype_CO_orig_time\"].value_counts().plot.pie(autopct='%.2f%%', figsize=(5,8))"
   ]
  },
  {
   "cell_type": "code",
   "execution_count": 58,
   "metadata": {},
   "outputs": [
    {
     "data": {
      "text/plain": [
       "<matplotlib.axes._subplots.AxesSubplot at 0x19834cda130>"
      ]
     },
     "execution_count": 58,
     "metadata": {},
     "output_type": "execute_result"
    },
    {
     "data": {
      "image/png": "[encoded data removed]",
      "text/plain": [
       "<Figure size 360x576 with 1 Axes>"
      ]
     },
     "metadata": {},
     "output_type": "display_data"
    }
   ],
   "source": [
    "# display pie chart REtype_PU_orig_time\n",
    "mortgage_static[\"REtype_PU_orig_time\"].value_counts().plot.pie(autopct='%.2f%%', figsize=(5,8))"
   ]
  },
  {
   "cell_type": "code",
   "execution_count": 60,
   "metadata": {},
   "outputs": [
    {
     "data": {
      "text/plain": [
       "<matplotlib.axes._subplots.AxesSubplot at 0x1982d8b9f10>"
      ]
     },
     "execution_count": 60,
     "metadata": {},
     "output_type": "execute_result"
    },
    {
     "data": {
      "image/png": "[encoded data removed]",
      "text/plain": [
       "<Figure size 360x576 with 1 Axes>"
      ]
     },
     "metadata": {},
     "output_type": "display_data"
    }
   ],
   "source": [
    "# display pie chart REtype_SF_orig_time\n",
    "mortgage_static[\"REtype_SF_orig_time\"].value_counts().plot.pie(autopct='%.2f%%', figsize=(5,8))"
   ]
  },
  {
   "cell_type": "code",
   "execution_count": 61,
   "metadata": {},
   "outputs": [
    {
     "data": {
      "text/plain": [
       "<matplotlib.axes._subplots.AxesSubplot at 0x1982ea95eb0>"
      ]
     },
     "execution_count": 61,
     "metadata": {},
     "output_type": "execute_result"
    },
    {
     "data": {
      "image/png": "[encoded data removed]",
      "text/plain": [
       "<Figure size 360x576 with 1 Axes>"
      ]
     },
     "metadata": {},
     "output_type": "display_data"
    }
   ],
   "source": [
    "# display pie chart investor_orig_time\n",
    "mortgage_static[\"investor_orig_time\"].value_counts().plot.pie(autopct='%.2f%%', figsize=(5,8))"
   ]
  },
  {
   "cell_type": "code",
   "execution_count": 62,
   "metadata": {},
   "outputs": [
    {
     "data": {
      "text/plain": [
       "<matplotlib.axes._subplots.AxesSubplot at 0x1982d909b80>"
      ]
     },
     "execution_count": 62,
     "metadata": {},
     "output_type": "execute_result"
    },
    {
     "data": {
      "image/png": "[encoded data removed]",
      "text/plain": [
       "<Figure size 360x576 with 1 Axes>"
      ]
     },
     "metadata": {},
     "output_type": "display_data"
    }
   ],
   "source": [
    "# display pie chart default_time\n",
    "mortgage_static[\"default_time\"].value_counts().plot.pie(autopct='%.2f%%', figsize=(5,8))"
   ]
  },
  {
   "cell_type": "code",
   "execution_count": 63,
   "metadata": {},
   "outputs": [
    {
     "data": {
      "text/plain": [
       "<matplotlib.axes._subplots.AxesSubplot at 0x19829bcca00>"
      ]
     },
     "execution_count": 63,
     "metadata": {},
     "output_type": "execute_result"
    },
    {
     "data": {
      "image/png": "[encoded data removed]",
      "text/plain": [
       "<Figure size 360x576 with 1 Axes>"
      ]
     },
     "metadata": {},
     "output_type": "display_data"
    }
   ],
   "source": [
    "# display pie chart payoff_time\n",
    "mortgage_static[\"payoff_time\"].value_counts().plot.pie(autopct='%.2f%%', figsize=(5,8))"
   ]
  },
  {
   "cell_type": "code",
   "execution_count": 64,
   "metadata": {},
   "outputs": [
    {
     "data": {
      "text/plain": [
       "<matplotlib.axes._subplots.AxesSubplot at 0x198277188e0>"
      ]
     },
     "execution_count": 64,
     "metadata": {},
     "output_type": "execute_result"
    },
    {
     "data": {
      "image/png": "[encoded data removed]",
      "text/plain": [
       "<Figure size 360x576 with 1 Axes>"
      ]
     },
     "metadata": {},
     "output_type": "display_data"
    }
   ],
   "source": [
    "# display pie chart status_time\n",
    "mortgage_static[\"status_time\"].value_counts().plot.pie(autopct='%.2f%%', figsize=(5,8))"
   ]
  },
  {
   "cell_type": "code",
   "execution_count": 98,
   "metadata": {},
   "outputs": [
    {
     "data": {
      "text/plain": [
       "0         45000.0\n",
       "1        107200.0\n",
       "2         48600.0\n",
       "3         63750.0\n",
       "4         52800.0\n",
       "           ...   \n",
       "49995     82000.0\n",
       "49996    331417.0\n",
       "49997    166250.0\n",
       "49998    345000.0\n",
       "49999    664000.0\n",
       "Name: balance_orig_time, Length: 50000, dtype: float64"
      ]
     },
     "execution_count": 98,
     "metadata": {},
     "output_type": "execute_result"
    }
   ],
   "source": [
    "mortgage_static[\"balance_orig_time\"]"
   ]
  },
  {
   "cell_type": "markdown",
   "metadata": {},
   "source": [
    "## REQUIREMENTS"
   ]
  },
  {
   "cell_type": "markdown",
   "metadata": {},
   "source": [
    "1. Evaluate whether the time to default for borrowers with low outstanding balance at origination time (30% quantile) significantly differs from borrowers with Average/High outstanding balance at origination time.\n",
    "\n",
    "2. Display and compare the probability of survival after 25 and 50 months for the two groups"
   ]
  },
  {
   "cell_type": "code",
   "execution_count": 106,
   "metadata": {
    "scrolled": false
   },
   "outputs": [
    {
     "data": {
      "image/png": "[encoded data removed]",
      "text/plain": [
       "<Figure size 504x432 with 2 Axes>"
      ]
     },
     "metadata": {
      "needs_background": "light"
     },
     "output_type": "display_data"
    }
   ],
   "source": [
    "# Compare two groups\n",
    "\n",
    "kmf1 = KaplanMeierFitter()\n",
    "kmf2 = KaplanMeierFitter()\n",
    "\n",
    "fig, ax = plt.subplots(1,1 , figsize=(7,6))\n",
    "\n",
    "# subset data\n",
    "df1 = mortgage_static.loc[mortgage_static[\"orig_time\"] == 1,:]\n",
    "df2 = mortgage_static.loc[mortgage_static[\"orig_time\"] == 0,:]\n",
    "\n",
    "# fit subset orig_time = low balance\n",
    "ax = kmf1.fit(df1['time'], df1['default_time'], label='low Balance').plot_survival_function(ax=ax)\n",
    "\n",
    "# fit subset orig_time = average\n",
    "ax = kmf2.fit(df2['time'], df2['default_time'], label='Average').plot_survival_function(ax=ax)\n",
    "\n",
    "from lifelines.plotting import add_at_risk_counts\n",
    "add_at_risk_counts(kmf1, kmf2, ax=ax)\n",
    "plt.tight_layout()"
   ]
  },
  {
   "cell_type": "code",
   "execution_count": 118,
   "metadata": {},
   "outputs": [
    {
     "data": {
      "image/png": "[encoded data removed]",
      "text/plain": [
       "<Figure size 432x288 with 1 Axes>"
      ]
     },
     "metadata": {
      "needs_background": "light"
     },
     "output_type": "display_data"
    }
   ],
   "source": [
    "from lifelines.plotting import plot_lifetimes\n",
    "\n",
    "df_samp = mortgage_static.sample(20)\n",
    "ax = plot_lifetimes(df_samp[\"time\"], event_observed=df_samp[\"balance_orig_time\"])\n",
    "ax.set_xlabel(\"Time\")\n",
    "ax.set_title(\"Time to default\")\n",
    "plt.show()"
   ]
  },
  {
   "cell_type": "code",
   "execution_count": 114,
   "metadata": {},
   "outputs": [
    {
     "data": {
      "image/png": "[encoded data removed]",
      "text/plain": [
       "<Figure size 576x360 with 2 Axes>"
      ]
     },
     "metadata": {
      "needs_background": "light"
     },
     "output_type": "display_data"
    }
   ],
   "source": [
    "from lifelines import KaplanMeierFitter\n",
    "\n",
    "kmf = KaplanMeierFitter()\n",
    "# fit on static data: TIME indicates the last observed timestep, mortgage_static indicates whether the customer defaulted\n",
    "kmf.fit(mortgage_static['time'], mortgage_static['balance_orig_time'], label='Kaplan Meier Estimator')\n",
    "\n",
    "# plot survival function\n",
    "ax = kmf.plot_survival_function(at_risk_counts=True,figsize=(8,5))\n",
    "ax.set_ylabel('Probability of non-default')\n",
    "plt.show()"
   ]
  },
  {
   "cell_type": "markdown",
   "metadata": {},
   "source": [
    "1. The time to default for the people with low outstanding balance, that is at the 30% quartile at time stamp 20 is not much different from the average at time stamp 30\n",
    "\n",
    "\n",
    "2. After 25 months, about 80% of the total defaulters would have defaulted. After 50 months (25 months later), about 20% of the total defaulters would have defaulted. "
   ]
  },
  {
   "cell_type": "code",
   "execution_count": 79,
   "metadata": {},
   "outputs": [
    {
     "data": {
      "text/html": [
       "<div>\n",
       "<style scoped>\n",
       "    .dataframe tbody tr th:only-of-type {\n",
       "        vertical-align: middle;\n",
       "    }\n",
       "\n",
       "    .dataframe tbody tr th {\n",
       "        vertical-align: top;\n",
       "    }\n",
       "\n",
       "    .dataframe thead th {\n",
       "        text-align: right;\n",
       "    }\n",
       "</style>\n",
       "<table border=\"1\" class=\"dataframe\">\n",
       "  <thead>\n",
       "    <tr style=\"text-align: right;\">\n",
       "      <th></th>\n",
       "      <th>test_statistic</th>\n",
       "      <th>p</th>\n",
       "      <th>-log2(p)</th>\n",
       "    </tr>\n",
       "  </thead>\n",
       "  <tbody>\n",
       "    <tr>\n",
       "      <th>0</th>\n",
       "      <td>0.284755</td>\n",
       "      <td>0.593601</td>\n",
       "      <td>0.752433</td>\n",
       "    </tr>\n",
       "  </tbody>\n",
       "</table>\n",
       "</div>"
      ],
      "text/plain": [
       "   test_statistic         p  -log2(p)\n",
       "0        0.284755  0.593601  0.752433"
      ]
     },
     "execution_count": 79,
     "metadata": {},
     "output_type": "execute_result"
    }
   ],
   "source": [
    "# Perform logrank test to assess whether there is a difference between Males and Females in time to default\n",
    "\n",
    "from lifelines.statistics import logrank_test\n",
    "\n",
    "# Null-Hypothesis: No difference between the two groups\n",
    "res = logrank_test(df1['time'], df2['time'], event_observed_A=df1['default_time'],event_observed_B=df2['default_time'])\n",
    "\n",
    "# We can reject the Null-Hypothesis (p < 0.05)\n",
    "res.summary "
   ]
  },
  {
   "cell_type": "markdown",
   "metadata": {},
   "source": [
    "# Cox Proportional Hazard Model - Time Varying"
   ]
  },
  {
   "cell_type": "code",
   "execution_count": 120,
   "metadata": {},
   "outputs": [],
   "source": [
    "# select variables used in previous model + time varying variables\n",
    "mortgage_tv = pd.merge(mortgage[[\"id\",\"default_time\", \"hpi_time\", \"gdp_time\", \"uer_time\", \"balance_time\",\n",
    "\"interest_rate_time\", \"FICO_orig_time\", \"LTV_time\"]], mortgage_static[[\"id\", \"time\"]]\\\n",
    ".rename(columns={\"time\":\"time_end\"}), on=\"id\", how=\"inner\") \n",
    "\n",
    "# Assumption: time always starts at 0 (no interval censored data)\n",
    "mortgage_tv[\"first_time\"] = 0"
   ]
  },
  {
   "cell_type": "code",
   "execution_count": 122,
   "metadata": {},
   "outputs": [
    {
     "name": "stdout",
     "output_type": "stream",
     "text": [
      "Iteration 6: norm_delta = 0.00001, step_size = 1.00000, ll = -193558.13067, newton_decrement = 0.00000, seconds_since_start = 31.1Convergence completed after 6 iterations.\n"
     ]
    },
    {
     "data": {
      "text/html": [
       "<div>\n",
       "<style scoped>\n",
       "    .dataframe tbody tr th:only-of-type {\n",
       "        vertical-align: middle;\n",
       "    }\n",
       "\n",
       "    .dataframe tbody tr th {\n",
       "        vertical-align: top;\n",
       "    }\n",
       "\n",
       "    .dataframe thead th {\n",
       "        text-align: right;\n",
       "    }\n",
       "</style>\n",
       "<table border=\"1\" class=\"dataframe\">\n",
       "  <thead>\n",
       "    <tr style=\"text-align: right;\">\n",
       "      <th></th>\n",
       "      <th>coef</th>\n",
       "      <th>exp(coef)</th>\n",
       "      <th>se(coef)</th>\n",
       "      <th>coef lower 95%</th>\n",
       "      <th>coef upper 95%</th>\n",
       "      <th>exp(coef) lower 95%</th>\n",
       "      <th>exp(coef) upper 95%</th>\n",
       "      <th>z</th>\n",
       "      <th>p</th>\n",
       "      <th>-log2(p)</th>\n",
       "    </tr>\n",
       "    <tr>\n",
       "      <th>covariate</th>\n",
       "      <th></th>\n",
       "      <th></th>\n",
       "      <th></th>\n",
       "      <th></th>\n",
       "      <th></th>\n",
       "      <th></th>\n",
       "      <th></th>\n",
       "      <th></th>\n",
       "      <th></th>\n",
       "      <th></th>\n",
       "    </tr>\n",
       "  </thead>\n",
       "  <tbody>\n",
       "    <tr>\n",
       "      <th>hpi_time</th>\n",
       "      <td>-7.768146e-03</td>\n",
       "      <td>0.992262</td>\n",
       "      <td>6.879178e-04</td>\n",
       "      <td>-9.116440e-03</td>\n",
       "      <td>-6.419852e-03</td>\n",
       "      <td>0.990925</td>\n",
       "      <td>0.993601</td>\n",
       "      <td>-11.292260</td>\n",
       "      <td>1.433033e-29</td>\n",
       "      <td>95.816843</td>\n",
       "    </tr>\n",
       "    <tr>\n",
       "      <th>gdp_time</th>\n",
       "      <td>-7.856186e-02</td>\n",
       "      <td>0.924445</td>\n",
       "      <td>4.220802e-03</td>\n",
       "      <td>-8.683447e-02</td>\n",
       "      <td>-7.028924e-02</td>\n",
       "      <td>0.916829</td>\n",
       "      <td>0.932124</td>\n",
       "      <td>-18.613018</td>\n",
       "      <td>2.520151e-77</td>\n",
       "      <td>254.454953</td>\n",
       "    </tr>\n",
       "    <tr>\n",
       "      <th>uer_time</th>\n",
       "      <td>-1.617126e-01</td>\n",
       "      <td>0.850686</td>\n",
       "      <td>8.070482e-03</td>\n",
       "      <td>-1.775305e-01</td>\n",
       "      <td>-1.458948e-01</td>\n",
       "      <td>0.837335</td>\n",
       "      <td>0.864249</td>\n",
       "      <td>-20.037542</td>\n",
       "      <td>2.592587e-89</td>\n",
       "      <td>294.277208</td>\n",
       "    </tr>\n",
       "    <tr>\n",
       "      <th>balance_time</th>\n",
       "      <td>5.799961e-07</td>\n",
       "      <td>1.000001</td>\n",
       "      <td>2.124173e-08</td>\n",
       "      <td>5.383631e-07</td>\n",
       "      <td>6.216291e-07</td>\n",
       "      <td>1.000001</td>\n",
       "      <td>1.000001</td>\n",
       "      <td>27.304566</td>\n",
       "      <td>3.743805e-164</td>\n",
       "      <td>542.891702</td>\n",
       "    </tr>\n",
       "    <tr>\n",
       "      <th>interest_rate_time</th>\n",
       "      <td>1.720388e-01</td>\n",
       "      <td>1.187724</td>\n",
       "      <td>3.438656e-03</td>\n",
       "      <td>1.652992e-01</td>\n",
       "      <td>1.787785e-01</td>\n",
       "      <td>1.179746</td>\n",
       "      <td>1.195756</td>\n",
       "      <td>50.030830</td>\n",
       "      <td>0.000000e+00</td>\n",
       "      <td>inf</td>\n",
       "    </tr>\n",
       "    <tr>\n",
       "      <th>FICO_orig_time</th>\n",
       "      <td>-4.462664e-03</td>\n",
       "      <td>0.995547</td>\n",
       "      <td>1.210542e-04</td>\n",
       "      <td>-4.699926e-03</td>\n",
       "      <td>-4.225402e-03</td>\n",
       "      <td>0.995311</td>\n",
       "      <td>0.995784</td>\n",
       "      <td>-36.865021</td>\n",
       "      <td>1.680521e-297</td>\n",
       "      <td>985.863735</td>\n",
       "    </tr>\n",
       "    <tr>\n",
       "      <th>LTV_time</th>\n",
       "      <td>8.150758e-03</td>\n",
       "      <td>1.008184</td>\n",
       "      <td>1.385841e-04</td>\n",
       "      <td>7.879138e-03</td>\n",
       "      <td>8.422378e-03</td>\n",
       "      <td>1.007910</td>\n",
       "      <td>1.008458</td>\n",
       "      <td>58.814516</td>\n",
       "      <td>0.000000e+00</td>\n",
       "      <td>inf</td>\n",
       "    </tr>\n",
       "  </tbody>\n",
       "</table>\n",
       "</div>"
      ],
      "text/plain": [
       "                            coef  exp(coef)      se(coef)  coef lower 95%  \\\n",
       "covariate                                                                   \n",
       "hpi_time           -7.768146e-03   0.992262  6.879178e-04   -9.116440e-03   \n",
       "gdp_time           -7.856186e-02   0.924445  4.220802e-03   -8.683447e-02   \n",
       "uer_time           -1.617126e-01   0.850686  8.070482e-03   -1.775305e-01   \n",
       "balance_time        5.799961e-07   1.000001  2.124173e-08    5.383631e-07   \n",
       "interest_rate_time  1.720388e-01   1.187724  3.438656e-03    1.652992e-01   \n",
       "FICO_orig_time     -4.462664e-03   0.995547  1.210542e-04   -4.699926e-03   \n",
       "LTV_time            8.150758e-03   1.008184  1.385841e-04    7.879138e-03   \n",
       "\n",
       "                    coef upper 95%  exp(coef) lower 95%  exp(coef) upper 95%  \\\n",
       "covariate                                                                      \n",
       "hpi_time             -6.419852e-03             0.990925             0.993601   \n",
       "gdp_time             -7.028924e-02             0.916829             0.932124   \n",
       "uer_time             -1.458948e-01             0.837335             0.864249   \n",
       "balance_time          6.216291e-07             1.000001             1.000001   \n",
       "interest_rate_time    1.787785e-01             1.179746             1.195756   \n",
       "FICO_orig_time       -4.225402e-03             0.995311             0.995784   \n",
       "LTV_time              8.422378e-03             1.007910             1.008458   \n",
       "\n",
       "                            z              p    -log2(p)  \n",
       "covariate                                                 \n",
       "hpi_time           -11.292260   1.433033e-29   95.816843  \n",
       "gdp_time           -18.613018   2.520151e-77  254.454953  \n",
       "uer_time           -20.037542   2.592587e-89  294.277208  \n",
       "balance_time        27.304566  3.743805e-164  542.891702  \n",
       "interest_rate_time  50.030830   0.000000e+00         inf  \n",
       "FICO_orig_time     -36.865021  1.680521e-297  985.863735  \n",
       "LTV_time            58.814516   0.000000e+00         inf  "
      ]
     },
     "execution_count": 122,
     "metadata": {},
     "output_type": "execute_result"
    }
   ],
   "source": [
    "from lifelines import CoxTimeVaryingFitter\n",
    "\n",
    "# Note: credit_tv contains both time varying and static variables \n",
    "ctv = CoxTimeVaryingFitter()\n",
    "ctv.fit(mortgage_tv, id_col=\"id\", event_col=\"default_time\", start_col=\"first_time\", stop_col=\"time_end\", show_progress=True)\n",
    "ctv.summary"
   ]
  },
  {
   "cell_type": "code",
   "execution_count": 127,
   "metadata": {},
   "outputs": [
    {
     "data": {
      "text/plain": [
       "covariate\n",
       "hpi_time              1.433033e-29\n",
       "gdp_time              2.520151e-77\n",
       "uer_time              2.592587e-89\n",
       "balance_time          0.000000e+00\n",
       "interest_rate_time    0.000000e+00\n",
       "FICO_orig_time        0.000000e+00\n",
       "LTV_time              0.000000e+00\n",
       "Name: p, dtype: float64"
      ]
     },
     "execution_count": 127,
     "metadata": {},
     "output_type": "execute_result"
    }
   ],
   "source": [
    "# inspect p-values\n",
    "round(ctv.summary['p'], 100)"
   ]
  },
  {
   "cell_type": "code",
   "execution_count": 128,
   "metadata": {},
   "outputs": [
    {
     "data": {
      "text/plain": [
       "<matplotlib.axes._subplots.AxesSubplot at 0x198279eb820>"
      ]
     },
     "execution_count": 128,
     "metadata": {},
     "output_type": "execute_result"
    },
    {
     "data": {
      "image/png": "[encoded data removed]",
      "text/plain": [
       "<Figure size 432x288 with 1 Axes>"
      ]
     },
     "metadata": {
      "needs_background": "light"
     },
     "output_type": "display_data"
    }
   ],
   "source": [
    "ctv.plot()"
   ]
  },
  {
   "cell_type": "markdown",
   "metadata": {},
   "source": [
    "From the P values, we can see that the hpi_time, gdp_time, usr_time are highly relevant in our time varying model as factors which impacts time to default.\n",
    "\n",
    "The variables listed with high p values increase the probability to default, all things being equal."
   ]
  }
 ],
 "metadata": {
  "kernelspec": {
   "display_name": "Python 3",
   "language": "python",
   "name": "python3"
  },
  "language_info": {
   "codemirror_mode": {
    "name": "ipython",
    "version": 3
   },
   "file_extension": ".py",
   "mimetype": "text/x-python",
   "name": "python",
   "nbconvert_exporter": "python",
   "pygments_lexer": "ipython3",
   "version": "3.8.5"
  }
 },
 "nbformat": 4,
 "nbformat_minor": 2
}
