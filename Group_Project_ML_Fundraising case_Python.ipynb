{
 "cells": [
  {
   "cell_type": "markdown",
   "metadata": {},
   "source": [
    "Analytical basetable is composed of the population, the candidate predictors and the target\n",
    "\n",
    "Population is a group of people or objects you want to make a prediction for (eg: donors). There is one row for each object of the population\n",
    "\n",
    "The candidate predictors describes the objects and the populations. Information can be used to predict events. Age, gender or previous gifts can be used to predict whether someone who will donate for future projects\n",
    "\n",
    "The target is an information about event to predict. 1 means that the event occurs and O otherwise. The target is whether the donor donated for a historical event \n"
   ]
  },
  {
   "cell_type": "code",
   "execution_count": 1,
   "metadata": {},
   "outputs": [],
   "source": [
    "import sys\n",
    "import pandas as pd\n",
    "from pandas     import DataFrame\n",
    "import numpy as np\n",
    "import datetime as dt\n",
    "from datetime import date \n",
    "import re\n",
    "\n",
    "from sklearn import linear_model\n",
    "from sklearn.metrics import roc_auc_score\n",
    "from scipy.stats.mstats import winsorize\n",
    "from numpy                import array\n",
    "from numpy                import random\n",
    "from sklearn.linear_model import LogisticRegression \n",
    "from sklearn.metrics      import auc\n",
    "from sklearn.metrics      import roc_auc_score\n",
    "from matplotlib           import pyplot\n",
    "from scipy.stats          import pearsonr\n",
    "import warnings\n",
    "warnings.filterwarnings('ignore')\n",
    "import scikitplot as skplt\n",
    "\n",
    "from sklearn.linear_model   import LogisticRegression\n",
    "from sklearn.tree           import DecisionTreeClassifier\n",
    "from sklearn.ensemble       import RandomForestClassifier\n",
    "from sklearn.ensemble       import GradientBoostingClassifier\n",
    "from sklearn.svm            import SVC\n",
    "from sklearn.neural_network import MLPClassifier\n",
    "from sklearn.neighbors      import KNeighborsClassifier\n",
    "from sklearn.metrics        import accuracy_score\n",
    "from sklearn.metrics        import auc\n",
    "from sklearn.metrics        import roc_auc_score\n",
    "from matplotlib             import pyplot as plt"
   ]
  },
  {
   "cell_type": "code",
   "execution_count": 2,
   "metadata": {
    "scrolled": true
   },
   "outputs": [
    {
     "data": {
      "text/html": [
       "<div>\n",
       "<style scoped>\n",
       "    .dataframe tbody tr th:only-of-type {\n",
       "        vertical-align: middle;\n",
       "    }\n",
       "\n",
       "    .dataframe tbody tr th {\n",
       "        vertical-align: top;\n",
       "    }\n",
       "\n",
       "    .dataframe thead th {\n",
       "        text-align: right;\n",
       "    }\n",
       "</style>\n",
       "<table border=\"1\" class=\"dataframe\">\n",
       "  <thead>\n",
       "    <tr style=\"text-align: right;\">\n",
       "      <th></th>\n",
       "      <th>campaignID</th>\n",
       "      <th>date</th>\n",
       "      <th>lettersSent</th>\n",
       "      <th>CostUnit</th>\n",
       "    </tr>\n",
       "  </thead>\n",
       "  <tbody>\n",
       "    <tr>\n",
       "      <th>0</th>\n",
       "      <td>153</td>\n",
       "      <td>13/12/2004</td>\n",
       "      <td>6 873</td>\n",
       "      <td>0,17 €</td>\n",
       "    </tr>\n",
       "    <tr>\n",
       "      <th>1</th>\n",
       "      <td>154</td>\n",
       "      <td>01/01/2005</td>\n",
       "      <td>7 656</td>\n",
       "      <td>0,30 €</td>\n",
       "    </tr>\n",
       "    <tr>\n",
       "      <th>2</th>\n",
       "      <td>180</td>\n",
       "      <td>18/01/2005</td>\n",
       "      <td>9 933</td>\n",
       "      <td>0,20 €</td>\n",
       "    </tr>\n",
       "    <tr>\n",
       "      <th>3</th>\n",
       "      <td>433</td>\n",
       "      <td>29/01/2005</td>\n",
       "      <td>7 448</td>\n",
       "      <td>0,59 €</td>\n",
       "    </tr>\n",
       "    <tr>\n",
       "      <th>4</th>\n",
       "      <td>476</td>\n",
       "      <td>12/02/2005</td>\n",
       "      <td>6 605</td>\n",
       "      <td>0,51 €</td>\n",
       "    </tr>\n",
       "  </tbody>\n",
       "</table>\n",
       "</div>"
      ],
      "text/plain": [
       "   campaignID        date lettersSent CostUnit\n",
       "0         153  13/12/2004       6 873   0,17 €\n",
       "1         154  01/01/2005       7 656   0,30 €\n",
       "2         180  18/01/2005       9 933   0,20 €\n",
       "3         433  29/01/2005       7 448   0,59 €\n",
       "4         476  12/02/2005       6 605   0,51 €"
      ]
     },
     "execution_count": 2,
     "metadata": {},
     "output_type": "execute_result"
    }
   ],
   "source": [
    "campaigns = pd.read_csv('campaigns.csv', sep=\";\")\n",
    "campaigns.head()"
   ]
  },
  {
   "cell_type": "code",
   "execution_count": 3,
   "metadata": {},
   "outputs": [
    {
     "data": {
      "text/plain": [
       "367"
      ]
     },
     "execution_count": 3,
     "metadata": {},
     "output_type": "execute_result"
    }
   ],
   "source": [
    "len(campaigns)"
   ]
  },
  {
   "cell_type": "code",
   "execution_count": 4,
   "metadata": {},
   "outputs": [
    {
     "name": "stdout",
     "output_type": "stream",
     "text": [
      "34888\n"
     ]
    },
    {
     "data": {
      "text/html": [
       "<div>\n",
       "<style scoped>\n",
       "    .dataframe tbody tr th:only-of-type {\n",
       "        vertical-align: middle;\n",
       "    }\n",
       "\n",
       "    .dataframe tbody tr th {\n",
       "        vertical-align: top;\n",
       "    }\n",
       "\n",
       "    .dataframe thead th {\n",
       "        text-align: right;\n",
       "    }\n",
       "</style>\n",
       "<table border=\"1\" class=\"dataframe\">\n",
       "  <thead>\n",
       "    <tr style=\"text-align: right;\">\n",
       "      <th></th>\n",
       "      <th>donorID</th>\n",
       "    </tr>\n",
       "  </thead>\n",
       "  <tbody>\n",
       "    <tr>\n",
       "      <th>0</th>\n",
       "      <td>100001</td>\n",
       "    </tr>\n",
       "    <tr>\n",
       "      <th>1</th>\n",
       "      <td>100002</td>\n",
       "    </tr>\n",
       "    <tr>\n",
       "      <th>2</th>\n",
       "      <td>100004</td>\n",
       "    </tr>\n",
       "    <tr>\n",
       "      <th>3</th>\n",
       "      <td>100008</td>\n",
       "    </tr>\n",
       "    <tr>\n",
       "      <th>4</th>\n",
       "      <td>100009</td>\n",
       "    </tr>\n",
       "  </tbody>\n",
       "</table>\n",
       "</div>"
      ],
      "text/plain": [
       "   donorID\n",
       "0   100001\n",
       "1   100002\n",
       "2   100004\n",
       "3   100008\n",
       "4   100009"
      ]
     },
     "execution_count": 4,
     "metadata": {},
     "output_type": "execute_result"
    }
   ],
   "source": [
    "campaign6169 = pd.read_csv('selection campaign 6169.csv')\n",
    "print(len(campaign6169))\n",
    "campaign6169.head()"
   ]
  },
  {
   "cell_type": "code",
   "execution_count": 5,
   "metadata": {},
   "outputs": [
    {
     "name": "stdout",
     "output_type": "stream",
     "text": [
      "25645\n"
     ]
    },
    {
     "data": {
      "text/html": [
       "<div>\n",
       "<style scoped>\n",
       "    .dataframe tbody tr th:only-of-type {\n",
       "        vertical-align: middle;\n",
       "    }\n",
       "\n",
       "    .dataframe tbody tr th {\n",
       "        vertical-align: top;\n",
       "    }\n",
       "\n",
       "    .dataframe thead th {\n",
       "        text-align: right;\n",
       "    }\n",
       "</style>\n",
       "<table border=\"1\" class=\"dataframe\">\n",
       "  <thead>\n",
       "    <tr style=\"text-align: right;\">\n",
       "      <th></th>\n",
       "      <th>donorID</th>\n",
       "    </tr>\n",
       "  </thead>\n",
       "  <tbody>\n",
       "  </tbody>\n",
       "</table>\n",
       "</div>"
      ],
      "text/plain": [
       "Empty DataFrame\n",
       "Columns: [donorID]\n",
       "Index: []"
      ]
     },
     "execution_count": 5,
     "metadata": {},
     "output_type": "execute_result"
    }
   ],
   "source": [
    "campaign7244 = pd.read_csv('selection campaign 7244.csv')\n",
    "campaign7244.head()\n",
    "print(len(campaign7244))\n",
    "campaign7244[campaign7244['donorID']==48]"
   ]
  },
  {
   "cell_type": "code",
   "execution_count": 6,
   "metadata": {
    "scrolled": false
   },
   "outputs": [
    {
     "data": {
      "text/html": [
       "<div>\n",
       "<style scoped>\n",
       "    .dataframe tbody tr th:only-of-type {\n",
       "        vertical-align: middle;\n",
       "    }\n",
       "\n",
       "    .dataframe tbody tr th {\n",
       "        vertical-align: top;\n",
       "    }\n",
       "\n",
       "    .dataframe thead th {\n",
       "        text-align: right;\n",
       "    }\n",
       "</style>\n",
       "<table border=\"1\" class=\"dataframe\">\n",
       "  <thead>\n",
       "    <tr style=\"text-align: right;\">\n",
       "      <th></th>\n",
       "      <th>donorID</th>\n",
       "      <th>zipcode</th>\n",
       "      <th>province</th>\n",
       "      <th>region</th>\n",
       "      <th>gender</th>\n",
       "      <th>language</th>\n",
       "      <th>dateOfBirth</th>\n",
       "    </tr>\n",
       "  </thead>\n",
       "  <tbody>\n",
       "    <tr>\n",
       "      <th>0</th>\n",
       "      <td>100001</td>\n",
       "      <td>1861.0</td>\n",
       "      <td>Flemish Brabant</td>\n",
       "      <td>Flanders</td>\n",
       "      <td>F</td>\n",
       "      <td>NL</td>\n",
       "      <td>1967-12-24</td>\n",
       "    </tr>\n",
       "    <tr>\n",
       "      <th>1</th>\n",
       "      <td>100002</td>\n",
       "      <td>2260.0</td>\n",
       "      <td>Antwerp</td>\n",
       "      <td>Flanders</td>\n",
       "      <td>M</td>\n",
       "      <td>NL</td>\n",
       "      <td>1952-01-14</td>\n",
       "    </tr>\n",
       "    <tr>\n",
       "      <th>2</th>\n",
       "      <td>100003</td>\n",
       "      <td>1780.0</td>\n",
       "      <td>Flemish Brabant</td>\n",
       "      <td>Flanders</td>\n",
       "      <td>M</td>\n",
       "      <td>NL</td>\n",
       "      <td>1986-12-23</td>\n",
       "    </tr>\n",
       "    <tr>\n",
       "      <th>3</th>\n",
       "      <td>100004</td>\n",
       "      <td>1020.0</td>\n",
       "      <td>Brussels</td>\n",
       "      <td>Brussels</td>\n",
       "      <td>F</td>\n",
       "      <td>FR</td>\n",
       "      <td>1952-03-29</td>\n",
       "    </tr>\n",
       "    <tr>\n",
       "      <th>4</th>\n",
       "      <td>100005</td>\n",
       "      <td>1020.0</td>\n",
       "      <td>Brussels</td>\n",
       "      <td>Brussels</td>\n",
       "      <td>F</td>\n",
       "      <td>FR</td>\n",
       "      <td>1986-06-25</td>\n",
       "    </tr>\n",
       "  </tbody>\n",
       "</table>\n",
       "</div>"
      ],
      "text/plain": [
       "   donorID  zipcode         province    region gender language dateOfBirth\n",
       "0   100001   1861.0  Flemish Brabant  Flanders      F       NL  1967-12-24\n",
       "1   100002   2260.0          Antwerp  Flanders      M       NL  1952-01-14\n",
       "2   100003   1780.0  Flemish Brabant  Flanders      M       NL  1986-12-23\n",
       "3   100004   1020.0         Brussels  Brussels      F       FR  1952-03-29\n",
       "4   100005   1020.0         Brussels  Brussels      F       FR  1986-06-25"
      ]
     },
     "execution_count": 6,
     "metadata": {},
     "output_type": "execute_result"
    }
   ],
   "source": [
    "#population\n",
    "donors = pd.read_csv('donors.csv', sep=\";\")\n",
    "donors.head()"
   ]
  },
  {
   "cell_type": "code",
   "execution_count": 7,
   "metadata": {},
   "outputs": [
    {
     "data": {
      "text/plain": [
       "array(['Flemish Brabant', 'Antwerp', 'Brussels', 'Walloon Brabant',\n",
       "       'West Flanders', 'East Flanders', 'Liege', 'Luxembourg', 'Namur',\n",
       "       'Hainaut', 'Limburg', 'Missing'], dtype=object)"
      ]
     },
     "execution_count": 7,
     "metadata": {},
     "output_type": "execute_result"
    }
   ],
   "source": [
    "donors.province.unique()"
   ]
  },
  {
   "cell_type": "code",
   "execution_count": 8,
   "metadata": {},
   "outputs": [
    {
     "data": {
      "text/plain": [
       "0"
      ]
     },
     "execution_count": 8,
     "metadata": {},
     "output_type": "execute_result"
    }
   ],
   "source": [
    "donors['dateOfBirth'].isna().sum()"
   ]
  },
  {
   "cell_type": "code",
   "execution_count": 9,
   "metadata": {},
   "outputs": [
    {
     "name": "stdout",
     "output_type": "stream",
     "text": [
      "       donorID  zipcode province   region gender language dateOfBirth\n",
      "5019    105020      NaN  Missing  Missing      M       EN  1966-11-09\n",
      "22100   122101      NaN  Missing  Missing      F       EN  1975-10-31\n"
     ]
    }
   ],
   "source": [
    "print(donors[donors[\"zipcode\"].isnull()])"
   ]
  },
  {
   "cell_type": "code",
   "execution_count": 10,
   "metadata": {},
   "outputs": [
    {
     "data": {
      "text/plain": [
       "2"
      ]
     },
     "execution_count": 10,
     "metadata": {},
     "output_type": "execute_result"
    }
   ],
   "source": [
    "donors[\"zipcode\"].isna().sum()"
   ]
  },
  {
   "cell_type": "code",
   "execution_count": 11,
   "metadata": {},
   "outputs": [],
   "source": [
    "donors = donors.drop([5019, 22100])"
   ]
  },
  {
   "cell_type": "code",
   "execution_count": 12,
   "metadata": {},
   "outputs": [
    {
     "data": {
      "text/plain": [
       "0"
      ]
     },
     "execution_count": 12,
     "metadata": {},
     "output_type": "execute_result"
    }
   ],
   "source": [
    "donors[\"zipcode\"].isna().sum()"
   ]
  },
  {
   "cell_type": "code",
   "execution_count": 13,
   "metadata": {},
   "outputs": [
    {
     "data": {
      "text/plain": [
       "0"
      ]
     },
     "execution_count": 13,
     "metadata": {},
     "output_type": "execute_result"
    }
   ],
   "source": [
    "donors[\"province\"].isna().sum()"
   ]
  },
  {
   "cell_type": "code",
   "execution_count": 15,
   "metadata": {},
   "outputs": [
    {
     "data": {
      "text/plain": [
       "0"
      ]
     },
     "execution_count": 15,
     "metadata": {},
     "output_type": "execute_result"
    }
   ],
   "source": [
    "donors[\"region\"].isna().sum()"
   ]
  },
  {
   "cell_type": "code",
   "execution_count": 16,
   "metadata": {},
   "outputs": [
    {
     "data": {
      "text/plain": [
       "44689"
      ]
     },
     "execution_count": 16,
     "metadata": {},
     "output_type": "execute_result"
    }
   ],
   "source": [
    "population_size = len(donors)\n",
    "population_size"
   ]
  },
  {
   "cell_type": "code",
   "execution_count": 17,
   "metadata": {
    "scrolled": true
   },
   "outputs": [
    {
     "data": {
      "text/html": [
       "<div>\n",
       "<style scoped>\n",
       "    .dataframe tbody tr th:only-of-type {\n",
       "        vertical-align: middle;\n",
       "    }\n",
       "\n",
       "    .dataframe tbody tr th {\n",
       "        vertical-align: top;\n",
       "    }\n",
       "\n",
       "    .dataframe thead th {\n",
       "        text-align: right;\n",
       "    }\n",
       "</style>\n",
       "<table border=\"1\" class=\"dataframe\">\n",
       "  <thead>\n",
       "    <tr style=\"text-align: right;\">\n",
       "      <th></th>\n",
       "      <th>donorID</th>\n",
       "      <th>campaignID</th>\n",
       "      <th>amount</th>\n",
       "      <th>date</th>\n",
       "    </tr>\n",
       "  </thead>\n",
       "  <tbody>\n",
       "    <tr>\n",
       "      <th>0</th>\n",
       "      <td>100001</td>\n",
       "      <td>NaN</td>\n",
       "      <td>12.39</td>\n",
       "      <td>2004-03-23</td>\n",
       "    </tr>\n",
       "    <tr>\n",
       "      <th>1</th>\n",
       "      <td>100001</td>\n",
       "      <td>1577.0</td>\n",
       "      <td>12.39</td>\n",
       "      <td>2007-10-11</td>\n",
       "    </tr>\n",
       "    <tr>\n",
       "      <th>2</th>\n",
       "      <td>100001</td>\n",
       "      <td>1634.0</td>\n",
       "      <td>6.69</td>\n",
       "      <td>2007-12-28</td>\n",
       "    </tr>\n",
       "    <tr>\n",
       "      <th>3</th>\n",
       "      <td>100001</td>\n",
       "      <td>1778.0</td>\n",
       "      <td>24.79</td>\n",
       "      <td>2008-06-14</td>\n",
       "    </tr>\n",
       "    <tr>\n",
       "      <th>4</th>\n",
       "      <td>100001</td>\n",
       "      <td>1808.0</td>\n",
       "      <td>7.44</td>\n",
       "      <td>2008-07-09</td>\n",
       "    </tr>\n",
       "  </tbody>\n",
       "</table>\n",
       "</div>"
      ],
      "text/plain": [
       "   donorID  campaignID  amount        date\n",
       "0   100001         NaN   12.39  2004-03-23\n",
       "1   100001      1577.0   12.39  2007-10-11\n",
       "2   100001      1634.0    6.69  2007-12-28\n",
       "3   100001      1778.0   24.79  2008-06-14\n",
       "4   100001      1808.0    7.44  2008-07-09"
      ]
     },
     "execution_count": 17,
     "metadata": {},
     "output_type": "execute_result"
    }
   ],
   "source": [
    "gifts = pd.read_csv('gifts.csv', sep=\";\")\n",
    "gifts.head()"
   ]
  },
  {
   "cell_type": "code",
   "execution_count": 18,
   "metadata": {},
   "outputs": [
    {
     "data": {
      "text/html": [
       "<div>\n",
       "<style scoped>\n",
       "    .dataframe tbody tr th:only-of-type {\n",
       "        vertical-align: middle;\n",
       "    }\n",
       "\n",
       "    .dataframe tbody tr th {\n",
       "        vertical-align: top;\n",
       "    }\n",
       "\n",
       "    .dataframe thead th {\n",
       "        text-align: right;\n",
       "    }\n",
       "</style>\n",
       "<table border=\"1\" class=\"dataframe\">\n",
       "  <thead>\n",
       "    <tr style=\"text-align: right;\">\n",
       "      <th></th>\n",
       "      <th>donorID</th>\n",
       "      <th>campaignID</th>\n",
       "      <th>amount</th>\n",
       "      <th>date</th>\n",
       "    </tr>\n",
       "  </thead>\n",
       "  <tbody>\n",
       "    <tr>\n",
       "      <th>0</th>\n",
       "      <td>100001</td>\n",
       "      <td>NaN</td>\n",
       "      <td>12.39</td>\n",
       "      <td>2004-03-23</td>\n",
       "    </tr>\n",
       "    <tr>\n",
       "      <th>1</th>\n",
       "      <td>100001</td>\n",
       "      <td>1577.0</td>\n",
       "      <td>12.39</td>\n",
       "      <td>2007-10-11</td>\n",
       "    </tr>\n",
       "    <tr>\n",
       "      <th>2</th>\n",
       "      <td>100001</td>\n",
       "      <td>1634.0</td>\n",
       "      <td>6.69</td>\n",
       "      <td>2007-12-28</td>\n",
       "    </tr>\n",
       "    <tr>\n",
       "      <th>3</th>\n",
       "      <td>100001</td>\n",
       "      <td>1778.0</td>\n",
       "      <td>24.79</td>\n",
       "      <td>2008-06-14</td>\n",
       "    </tr>\n",
       "    <tr>\n",
       "      <th>4</th>\n",
       "      <td>100001</td>\n",
       "      <td>1808.0</td>\n",
       "      <td>7.44</td>\n",
       "      <td>2008-07-09</td>\n",
       "    </tr>\n",
       "  </tbody>\n",
       "</table>\n",
       "</div>"
      ],
      "text/plain": [
       "   donorID  campaignID  amount       date\n",
       "0   100001         NaN   12.39 2004-03-23\n",
       "1   100001      1577.0   12.39 2007-10-11\n",
       "2   100001      1634.0    6.69 2007-12-28\n",
       "3   100001      1778.0   24.79 2008-06-14\n",
       "4   100001      1808.0    7.44 2008-07-09"
      ]
     },
     "execution_count": 18,
     "metadata": {},
     "output_type": "execute_result"
    }
   ],
   "source": [
    "gifts[\"date\"] = pd.to_datetime(gifts[\"date\"])\n",
    "gifts.head()"
   ]
  },
  {
   "cell_type": "code",
   "execution_count": 19,
   "metadata": {},
   "outputs": [],
   "source": [
    "gifts[\"month\"] = gifts[\"date\"].dt.month"
   ]
  },
  {
   "cell_type": "code",
   "execution_count": 20,
   "metadata": {},
   "outputs": [
    {
     "data": {
      "text/html": [
       "<div>\n",
       "<style scoped>\n",
       "    .dataframe tbody tr th:only-of-type {\n",
       "        vertical-align: middle;\n",
       "    }\n",
       "\n",
       "    .dataframe tbody tr th {\n",
       "        vertical-align: top;\n",
       "    }\n",
       "\n",
       "    .dataframe thead th {\n",
       "        text-align: right;\n",
       "    }\n",
       "</style>\n",
       "<table border=\"1\" class=\"dataframe\">\n",
       "  <thead>\n",
       "    <tr style=\"text-align: right;\">\n",
       "      <th></th>\n",
       "      <th>donorID</th>\n",
       "      <th>campaignID</th>\n",
       "      <th>amount</th>\n",
       "      <th>date</th>\n",
       "      <th>month</th>\n",
       "    </tr>\n",
       "  </thead>\n",
       "  <tbody>\n",
       "    <tr>\n",
       "      <th>0</th>\n",
       "      <td>100001</td>\n",
       "      <td>NaN</td>\n",
       "      <td>12.39</td>\n",
       "      <td>2004-03-23</td>\n",
       "      <td>3</td>\n",
       "    </tr>\n",
       "    <tr>\n",
       "      <th>1</th>\n",
       "      <td>100001</td>\n",
       "      <td>1577.0</td>\n",
       "      <td>12.39</td>\n",
       "      <td>2007-10-11</td>\n",
       "      <td>10</td>\n",
       "    </tr>\n",
       "    <tr>\n",
       "      <th>2</th>\n",
       "      <td>100001</td>\n",
       "      <td>1634.0</td>\n",
       "      <td>6.69</td>\n",
       "      <td>2007-12-28</td>\n",
       "      <td>12</td>\n",
       "    </tr>\n",
       "    <tr>\n",
       "      <th>3</th>\n",
       "      <td>100001</td>\n",
       "      <td>1778.0</td>\n",
       "      <td>24.79</td>\n",
       "      <td>2008-06-14</td>\n",
       "      <td>6</td>\n",
       "    </tr>\n",
       "    <tr>\n",
       "      <th>4</th>\n",
       "      <td>100001</td>\n",
       "      <td>1808.0</td>\n",
       "      <td>7.44</td>\n",
       "      <td>2008-07-09</td>\n",
       "      <td>7</td>\n",
       "    </tr>\n",
       "  </tbody>\n",
       "</table>\n",
       "</div>"
      ],
      "text/plain": [
       "   donorID  campaignID  amount       date  month\n",
       "0   100001         NaN   12.39 2004-03-23      3\n",
       "1   100001      1577.0   12.39 2007-10-11     10\n",
       "2   100001      1634.0    6.69 2007-12-28     12\n",
       "3   100001      1778.0   24.79 2008-06-14      6\n",
       "4   100001      1808.0    7.44 2008-07-09      7"
      ]
     },
     "execution_count": 20,
     "metadata": {},
     "output_type": "execute_result"
    }
   ],
   "source": [
    "gifts.head()"
   ]
  },
  {
   "cell_type": "code",
   "execution_count": 21,
   "metadata": {},
   "outputs": [
    {
     "data": {
      "text/plain": [
       "(216594, 5)"
      ]
     },
     "execution_count": 21,
     "metadata": {},
     "output_type": "execute_result"
    }
   ],
   "source": [
    "gifts.shape"
   ]
  },
  {
   "cell_type": "code",
   "execution_count": 22,
   "metadata": {
    "scrolled": true
   },
   "outputs": [
    {
     "data": {
      "text/html": [
       "<div>\n",
       "<style scoped>\n",
       "    .dataframe tbody tr th:only-of-type {\n",
       "        vertical-align: middle;\n",
       "    }\n",
       "\n",
       "    .dataframe tbody tr th {\n",
       "        vertical-align: top;\n",
       "    }\n",
       "\n",
       "    .dataframe thead th {\n",
       "        text-align: right;\n",
       "    }\n",
       "</style>\n",
       "<table border=\"1\" class=\"dataframe\">\n",
       "  <thead>\n",
       "    <tr style=\"text-align: right;\">\n",
       "      <th></th>\n",
       "      <th>donorID</th>\n",
       "      <th>campaignID</th>\n",
       "      <th>amount</th>\n",
       "      <th>date</th>\n",
       "      <th>month</th>\n",
       "    </tr>\n",
       "  </thead>\n",
       "  <tbody>\n",
       "    <tr>\n",
       "      <th>1</th>\n",
       "      <td>100001</td>\n",
       "      <td>1577.0</td>\n",
       "      <td>12.39</td>\n",
       "      <td>2007-10-11</td>\n",
       "      <td>10</td>\n",
       "    </tr>\n",
       "    <tr>\n",
       "      <th>2</th>\n",
       "      <td>100001</td>\n",
       "      <td>1634.0</td>\n",
       "      <td>6.69</td>\n",
       "      <td>2007-12-28</td>\n",
       "      <td>12</td>\n",
       "    </tr>\n",
       "    <tr>\n",
       "      <th>3</th>\n",
       "      <td>100001</td>\n",
       "      <td>1778.0</td>\n",
       "      <td>24.79</td>\n",
       "      <td>2008-06-14</td>\n",
       "      <td>6</td>\n",
       "    </tr>\n",
       "    <tr>\n",
       "      <th>4</th>\n",
       "      <td>100001</td>\n",
       "      <td>1808.0</td>\n",
       "      <td>7.44</td>\n",
       "      <td>2008-07-09</td>\n",
       "      <td>7</td>\n",
       "    </tr>\n",
       "    <tr>\n",
       "      <th>5</th>\n",
       "      <td>100001</td>\n",
       "      <td>1933.0</td>\n",
       "      <td>24.79</td>\n",
       "      <td>2008-12-01</td>\n",
       "      <td>12</td>\n",
       "    </tr>\n",
       "  </tbody>\n",
       "</table>\n",
       "</div>"
      ],
      "text/plain": [
       "   donorID  campaignID  amount       date  month\n",
       "1   100001      1577.0   12.39 2007-10-11     10\n",
       "2   100001      1634.0    6.69 2007-12-28     12\n",
       "3   100001      1778.0   24.79 2008-06-14      6\n",
       "4   100001      1808.0    7.44 2008-07-09      7\n",
       "5   100001      1933.0   24.79 2008-12-01     12"
      ]
     },
     "execution_count": 22,
     "metadata": {},
     "output_type": "execute_result"
    }
   ],
   "source": [
    "gifts = gifts[gifts[\"campaignID\"].notnull()]\n",
    "gifts.head()"
   ]
  },
  {
   "cell_type": "code",
   "execution_count": 23,
   "metadata": {},
   "outputs": [
    {
     "data": {
      "text/plain": [
       "0"
      ]
     },
     "execution_count": 23,
     "metadata": {},
     "output_type": "execute_result"
    }
   ],
   "source": [
    "gifts.isna().sum().sum()"
   ]
  },
  {
   "cell_type": "code",
   "execution_count": 24,
   "metadata": {},
   "outputs": [
    {
     "data": {
      "text/plain": [
       "numpy.datetime64('2020-01-04T00:00:00.000000000')"
      ]
     },
     "execution_count": 24,
     "metadata": {},
     "output_type": "execute_result"
    }
   ],
   "source": [
    "max(gifts[\"date\"].unique())"
   ]
  },
  {
   "cell_type": "code",
   "execution_count": 25,
   "metadata": {},
   "outputs": [
    {
     "data": {
      "text/plain": [
       "numpy.datetime64('2004-12-18T00:00:00.000000000')"
      ]
     },
     "execution_count": 25,
     "metadata": {},
     "output_type": "execute_result"
    }
   ],
   "source": [
    "min(gifts[\"date\"].unique())"
   ]
  },
  {
   "cell_type": "code",
   "execution_count": null,
   "metadata": {},
   "outputs": [],
   "source": []
  },
  {
   "cell_type": "markdown",
   "metadata": {},
   "source": [
    "## Target"
   ]
  },
  {
   "cell_type": "markdown",
   "metadata": {},
   "source": [
    "### -  Target Training set"
   ]
  },
  {
   "cell_type": "code",
   "execution_count": 26,
   "metadata": {},
   "outputs": [
    {
     "name": "stdout",
     "output_type": "stream",
     "text": [
      "1191\n"
     ]
    }
   ],
   "source": [
    "gifts_target_training = gifts[gifts[\"campaignID\"] == 6169]\n",
    "\n",
    "print(len(gifts_target_training))\n"
   ]
  },
  {
   "cell_type": "code",
   "execution_count": 27,
   "metadata": {
    "scrolled": false
   },
   "outputs": [
    {
     "name": "stdout",
     "output_type": "stream",
     "text": [
      "1191\n"
     ]
    },
    {
     "data": {
      "text/html": [
       "<div>\n",
       "<style scoped>\n",
       "    .dataframe tbody tr th:only-of-type {\n",
       "        vertical-align: middle;\n",
       "    }\n",
       "\n",
       "    .dataframe tbody tr th {\n",
       "        vertical-align: top;\n",
       "    }\n",
       "\n",
       "    .dataframe thead th {\n",
       "        text-align: right;\n",
       "    }\n",
       "</style>\n",
       "<table border=\"1\" class=\"dataframe\">\n",
       "  <thead>\n",
       "    <tr style=\"text-align: right;\">\n",
       "      <th></th>\n",
       "      <th>donorID</th>\n",
       "      <th>amount</th>\n",
       "    </tr>\n",
       "  </thead>\n",
       "  <tbody>\n",
       "    <tr>\n",
       "      <th>0</th>\n",
       "      <td>100023</td>\n",
       "      <td>15.0</td>\n",
       "    </tr>\n",
       "    <tr>\n",
       "      <th>1</th>\n",
       "      <td>100126</td>\n",
       "      <td>123.0</td>\n",
       "    </tr>\n",
       "    <tr>\n",
       "      <th>2</th>\n",
       "      <td>100253</td>\n",
       "      <td>120.0</td>\n",
       "    </tr>\n",
       "    <tr>\n",
       "      <th>3</th>\n",
       "      <td>100279</td>\n",
       "      <td>75.0</td>\n",
       "    </tr>\n",
       "    <tr>\n",
       "      <th>4</th>\n",
       "      <td>100320</td>\n",
       "      <td>135.0</td>\n",
       "    </tr>\n",
       "  </tbody>\n",
       "</table>\n",
       "</div>"
      ],
      "text/plain": [
       "   donorID  amount\n",
       "0   100023    15.0\n",
       "1   100126   123.0\n",
       "2   100253   120.0\n",
       "3   100279    75.0\n",
       "4   100320   135.0"
      ]
     },
     "execution_count": 27,
     "metadata": {},
     "output_type": "execute_result"
    }
   ],
   "source": [
    "target_training = gifts_target_training.groupby([\"donorID\"])[\"amount\"].sum().reset_index()\n",
    "target_training.columns = [\"donorID\", \"amount\"]\n",
    "print(len(target_training))\n",
    "target_training.head()"
   ]
  },
  {
   "cell_type": "markdown",
   "metadata": {},
   "source": [
    "### - Target Test set"
   ]
  },
  {
   "cell_type": "code",
   "execution_count": 28,
   "metadata": {},
   "outputs": [
    {
     "name": "stdout",
     "output_type": "stream",
     "text": [
      "361\n"
     ]
    }
   ],
   "source": [
    "gifts_target_test = gifts[gifts[\"campaignID\"] == 7244]\n",
    "print(len(gifts_target_test))"
   ]
  },
  {
   "cell_type": "code",
   "execution_count": 30,
   "metadata": {},
   "outputs": [
    {
     "name": "stdout",
     "output_type": "stream",
     "text": [
      "361\n"
     ]
    },
    {
     "data": {
      "text/html": [
       "<div>\n",
       "<style scoped>\n",
       "    .dataframe tbody tr th:only-of-type {\n",
       "        vertical-align: middle;\n",
       "    }\n",
       "\n",
       "    .dataframe tbody tr th {\n",
       "        vertical-align: top;\n",
       "    }\n",
       "\n",
       "    .dataframe thead th {\n",
       "        text-align: right;\n",
       "    }\n",
       "</style>\n",
       "<table border=\"1\" class=\"dataframe\">\n",
       "  <thead>\n",
       "    <tr style=\"text-align: right;\">\n",
       "      <th></th>\n",
       "      <th>donorID</th>\n",
       "      <th>amount</th>\n",
       "    </tr>\n",
       "  </thead>\n",
       "  <tbody>\n",
       "    <tr>\n",
       "      <th>0</th>\n",
       "      <td>100724</td>\n",
       "      <td>40.0</td>\n",
       "    </tr>\n",
       "    <tr>\n",
       "      <th>1</th>\n",
       "      <td>100896</td>\n",
       "      <td>10.0</td>\n",
       "    </tr>\n",
       "    <tr>\n",
       "      <th>2</th>\n",
       "      <td>100964</td>\n",
       "      <td>100.0</td>\n",
       "    </tr>\n",
       "    <tr>\n",
       "      <th>3</th>\n",
       "      <td>101066</td>\n",
       "      <td>60.0</td>\n",
       "    </tr>\n",
       "    <tr>\n",
       "      <th>4</th>\n",
       "      <td>101069</td>\n",
       "      <td>80.0</td>\n",
       "    </tr>\n",
       "  </tbody>\n",
       "</table>\n",
       "</div>"
      ],
      "text/plain": [
       "   donorID  amount\n",
       "0   100724    40.0\n",
       "1   100896    10.0\n",
       "2   100964   100.0\n",
       "3   101066    60.0\n",
       "4   101069    80.0"
      ]
     },
     "execution_count": 30,
     "metadata": {},
     "output_type": "execute_result"
    }
   ],
   "source": [
    "target_test = gifts_target_test.groupby([\"donorID\"])[\"amount\"].sum().reset_index()\n",
    "target_test.columns = [\"donorID\", \"amount\"]\n",
    "print(len(target_test))\n",
    "target_test.head()"
   ]
  },
  {
   "cell_type": "markdown",
   "metadata": {},
   "source": [
    "## Predictive variables"
   ]
  },
  {
   "cell_type": "markdown",
   "metadata": {},
   "source": [
    "### - Predictive variables training set"
   ]
  },
  {
   "cell_type": "code",
   "execution_count": 31,
   "metadata": {},
   "outputs": [
    {
     "name": "stdout",
     "output_type": "stream",
     "text": [
      "193437\n"
     ]
    }
   ],
   "source": [
    "reference6169 = dt.datetime(year=2018, month=9, day=4)\n",
    "\n",
    "gifts_training = gifts[gifts[\"date\"] <= reference6169]\n",
    "\n",
    "print(len(gifts_training))"
   ]
  },
  {
   "cell_type": "code",
   "execution_count": 32,
   "metadata": {
    "scrolled": true
   },
   "outputs": [
    {
     "data": {
      "text/html": [
       "<div>\n",
       "<style scoped>\n",
       "    .dataframe tbody tr th:only-of-type {\n",
       "        vertical-align: middle;\n",
       "    }\n",
       "\n",
       "    .dataframe tbody tr th {\n",
       "        vertical-align: top;\n",
       "    }\n",
       "\n",
       "    .dataframe thead th {\n",
       "        text-align: right;\n",
       "    }\n",
       "</style>\n",
       "<table border=\"1\" class=\"dataframe\">\n",
       "  <thead>\n",
       "    <tr style=\"text-align: right;\">\n",
       "      <th></th>\n",
       "      <th>donorID</th>\n",
       "      <th>max</th>\n",
       "      <th>min</th>\n",
       "      <th>mean</th>\n",
       "      <th>sum</th>\n",
       "      <th>count</th>\n",
       "    </tr>\n",
       "  </thead>\n",
       "  <tbody>\n",
       "    <tr>\n",
       "      <th>0</th>\n",
       "      <td>100001</td>\n",
       "      <td>30.00</td>\n",
       "      <td>6.69</td>\n",
       "      <td>15.100000</td>\n",
       "      <td>166.10</td>\n",
       "      <td>11</td>\n",
       "    </tr>\n",
       "    <tr>\n",
       "      <th>1</th>\n",
       "      <td>100002</td>\n",
       "      <td>20.00</td>\n",
       "      <td>20.00</td>\n",
       "      <td>20.000000</td>\n",
       "      <td>20.00</td>\n",
       "      <td>1</td>\n",
       "    </tr>\n",
       "    <tr>\n",
       "      <th>2</th>\n",
       "      <td>100003</td>\n",
       "      <td>5.00</td>\n",
       "      <td>3.00</td>\n",
       "      <td>3.666667</td>\n",
       "      <td>22.00</td>\n",
       "      <td>6</td>\n",
       "    </tr>\n",
       "    <tr>\n",
       "      <th>3</th>\n",
       "      <td>100004</td>\n",
       "      <td>49.58</td>\n",
       "      <td>24.79</td>\n",
       "      <td>27.657200</td>\n",
       "      <td>691.43</td>\n",
       "      <td>25</td>\n",
       "    </tr>\n",
       "    <tr>\n",
       "      <th>4</th>\n",
       "      <td>100005</td>\n",
       "      <td>5.00</td>\n",
       "      <td>2.48</td>\n",
       "      <td>3.740000</td>\n",
       "      <td>14.96</td>\n",
       "      <td>4</td>\n",
       "    </tr>\n",
       "  </tbody>\n",
       "</table>\n",
       "</div>"
      ],
      "text/plain": [
       "   donorID    max    min       mean     sum  count\n",
       "0   100001  30.00   6.69  15.100000  166.10     11\n",
       "1   100002  20.00  20.00  20.000000   20.00      1\n",
       "2   100003   5.00   3.00   3.666667   22.00      6\n",
       "3   100004  49.58  24.79  27.657200  691.43     25\n",
       "4   100005   5.00   2.48   3.740000   14.96      4"
      ]
     },
     "execution_count": 32,
     "metadata": {},
     "output_type": "execute_result"
    }
   ],
   "source": [
    "basetable_training = gifts_training .groupby([\"donorID\"])[\"amount\"].agg(['max', 'min','mean','sum', 'count']).reset_index()\n",
    "basetable_training.head()"
   ]
  },
  {
   "cell_type": "code",
   "execution_count": 33,
   "metadata": {},
   "outputs": [],
   "source": [
    "# Latest gift per donor in 2020\n",
    "last_gift_training = gifts_training.groupby([\"donorID\"])[\"date\"].max().reset_index()\n",
    "last_gift_training[\"recency_days\"] = reference6169 - last_gift_training[\"date\"]   \n",
    "last_gift_training[\"recency_days\"] = last_gift_training.recency_days.apply(lambda x: x.days)\n",
    "# Add recency to the basetable\n",
    "basetable_training = pd.merge(basetable_training, last_gift_training[[\"donorID\", \"recency_days\"]], how=\"left\")"
   ]
  },
  {
   "cell_type": "code",
   "execution_count": 34,
   "metadata": {},
   "outputs": [
    {
     "data": {
      "text/html": [
       "<div>\n",
       "<style scoped>\n",
       "    .dataframe tbody tr th:only-of-type {\n",
       "        vertical-align: middle;\n",
       "    }\n",
       "\n",
       "    .dataframe tbody tr th {\n",
       "        vertical-align: top;\n",
       "    }\n",
       "\n",
       "    .dataframe thead th {\n",
       "        text-align: right;\n",
       "    }\n",
       "</style>\n",
       "<table border=\"1\" class=\"dataframe\">\n",
       "  <thead>\n",
       "    <tr style=\"text-align: right;\">\n",
       "      <th></th>\n",
       "      <th>donorID</th>\n",
       "      <th>max</th>\n",
       "      <th>min</th>\n",
       "      <th>mean</th>\n",
       "      <th>sum</th>\n",
       "      <th>count</th>\n",
       "      <th>recency_days</th>\n",
       "    </tr>\n",
       "  </thead>\n",
       "  <tbody>\n",
       "    <tr>\n",
       "      <th>0</th>\n",
       "      <td>100001</td>\n",
       "      <td>30.00</td>\n",
       "      <td>6.69</td>\n",
       "      <td>15.100000</td>\n",
       "      <td>166.10</td>\n",
       "      <td>11</td>\n",
       "      <td>2440</td>\n",
       "    </tr>\n",
       "    <tr>\n",
       "      <th>1</th>\n",
       "      <td>100002</td>\n",
       "      <td>20.00</td>\n",
       "      <td>20.00</td>\n",
       "      <td>20.000000</td>\n",
       "      <td>20.00</td>\n",
       "      <td>1</td>\n",
       "      <td>1333</td>\n",
       "    </tr>\n",
       "    <tr>\n",
       "      <th>2</th>\n",
       "      <td>100003</td>\n",
       "      <td>5.00</td>\n",
       "      <td>3.00</td>\n",
       "      <td>3.666667</td>\n",
       "      <td>22.00</td>\n",
       "      <td>6</td>\n",
       "      <td>0</td>\n",
       "    </tr>\n",
       "    <tr>\n",
       "      <th>3</th>\n",
       "      <td>100004</td>\n",
       "      <td>49.58</td>\n",
       "      <td>24.79</td>\n",
       "      <td>27.657200</td>\n",
       "      <td>691.43</td>\n",
       "      <td>25</td>\n",
       "      <td>2650</td>\n",
       "    </tr>\n",
       "    <tr>\n",
       "      <th>4</th>\n",
       "      <td>100005</td>\n",
       "      <td>5.00</td>\n",
       "      <td>2.48</td>\n",
       "      <td>3.740000</td>\n",
       "      <td>14.96</td>\n",
       "      <td>4</td>\n",
       "      <td>77</td>\n",
       "    </tr>\n",
       "  </tbody>\n",
       "</table>\n",
       "</div>"
      ],
      "text/plain": [
       "   donorID    max    min       mean     sum  count  recency_days\n",
       "0   100001  30.00   6.69  15.100000  166.10     11          2440\n",
       "1   100002  20.00  20.00  20.000000   20.00      1          1333\n",
       "2   100003   5.00   3.00   3.666667   22.00      6             0\n",
       "3   100004  49.58  24.79  27.657200  691.43     25          2650\n",
       "4   100005   5.00   2.48   3.740000   14.96      4            77"
      ]
     },
     "execution_count": 34,
     "metadata": {},
     "output_type": "execute_result"
    }
   ],
   "source": [
    "basetable_training.head()"
   ]
  },
  {
   "cell_type": "code",
   "execution_count": 35,
   "metadata": {
    "scrolled": true
   },
   "outputs": [],
   "source": [
    "reference = dt.datetime(2018, 9, 4)\n",
    "reference1 = dt.datetime(2018, 8, 4)\n",
    "\n",
    "#gifts last month\n",
    "gifts_last_month6169 = gifts_training[(gifts_training[\"date\"] <= reference) & (gifts_training[\"date\"] >= reference1)]\n",
    "\n",
    "last_month6169 = gifts_last_month6169.groupby(\"donorID\")[\"amount\"].mean().reset_index()\n",
    "last_month6169.columns = [\"donorID\", \"last_month_mean\"]\n",
    "\n",
    "basetable_training = pd.merge(basetable_training, last_month6169, how='left', on='donorID')"
   ]
  },
  {
   "cell_type": "code",
   "execution_count": 36,
   "metadata": {},
   "outputs": [],
   "source": [
    "#Number of gifts in this period per donor\n",
    "reference = dt.datetime(2018, 9, 4)\n",
    "reference_y = dt.datetime(2017, 9, 4)\n",
    "\n",
    "#gifts year 1\n",
    "gifts_last_year6169 = gifts_training[(gifts_training[\"date\"] <= reference) & (gifts_training[\"date\"] >= reference_y)]\n",
    "\n",
    "year1_gifts_6169 = gifts_last_year6169.groupby(\"donorID\")[\"amount\"].agg(['mean', 'count']).reset_index()\n",
    "year1_gifts_6169.columns = [\"donorID\", \"year1_mean\", \"year1_count\"]\n",
    "\n",
    "basetable_training = pd.merge(basetable_training, year1_gifts_6169, how='left', on='donorID' )\n"
   ]
  },
  {
   "cell_type": "code",
   "execution_count": 37,
   "metadata": {},
   "outputs": [
    {
     "data": {
      "text/html": [
       "<div>\n",
       "<style scoped>\n",
       "    .dataframe tbody tr th:only-of-type {\n",
       "        vertical-align: middle;\n",
       "    }\n",
       "\n",
       "    .dataframe tbody tr th {\n",
       "        vertical-align: top;\n",
       "    }\n",
       "\n",
       "    .dataframe thead th {\n",
       "        text-align: right;\n",
       "    }\n",
       "</style>\n",
       "<table border=\"1\" class=\"dataframe\">\n",
       "  <thead>\n",
       "    <tr style=\"text-align: right;\">\n",
       "      <th></th>\n",
       "      <th>donorID</th>\n",
       "      <th>max</th>\n",
       "      <th>min</th>\n",
       "      <th>mean</th>\n",
       "      <th>sum</th>\n",
       "      <th>count</th>\n",
       "      <th>recency_days</th>\n",
       "      <th>last_month_mean</th>\n",
       "      <th>year1_mean</th>\n",
       "      <th>year1_count</th>\n",
       "      <th>year2_mean</th>\n",
       "      <th>year2_count</th>\n",
       "    </tr>\n",
       "  </thead>\n",
       "  <tbody>\n",
       "    <tr>\n",
       "      <th>0</th>\n",
       "      <td>100001</td>\n",
       "      <td>30.00</td>\n",
       "      <td>6.69</td>\n",
       "      <td>15.100000</td>\n",
       "      <td>166.10</td>\n",
       "      <td>11</td>\n",
       "      <td>2440</td>\n",
       "      <td>NaN</td>\n",
       "      <td>NaN</td>\n",
       "      <td>NaN</td>\n",
       "      <td>NaN</td>\n",
       "      <td>NaN</td>\n",
       "    </tr>\n",
       "    <tr>\n",
       "      <th>1</th>\n",
       "      <td>100002</td>\n",
       "      <td>20.00</td>\n",
       "      <td>20.00</td>\n",
       "      <td>20.000000</td>\n",
       "      <td>20.00</td>\n",
       "      <td>1</td>\n",
       "      <td>1333</td>\n",
       "      <td>NaN</td>\n",
       "      <td>NaN</td>\n",
       "      <td>NaN</td>\n",
       "      <td>NaN</td>\n",
       "      <td>NaN</td>\n",
       "    </tr>\n",
       "    <tr>\n",
       "      <th>2</th>\n",
       "      <td>100003</td>\n",
       "      <td>5.00</td>\n",
       "      <td>3.00</td>\n",
       "      <td>3.666667</td>\n",
       "      <td>22.00</td>\n",
       "      <td>6</td>\n",
       "      <td>0</td>\n",
       "      <td>4.0</td>\n",
       "      <td>3.5</td>\n",
       "      <td>4.0</td>\n",
       "      <td>4.0</td>\n",
       "      <td>2.0</td>\n",
       "    </tr>\n",
       "    <tr>\n",
       "      <th>3</th>\n",
       "      <td>100004</td>\n",
       "      <td>49.58</td>\n",
       "      <td>24.79</td>\n",
       "      <td>27.657200</td>\n",
       "      <td>691.43</td>\n",
       "      <td>25</td>\n",
       "      <td>2650</td>\n",
       "      <td>NaN</td>\n",
       "      <td>NaN</td>\n",
       "      <td>NaN</td>\n",
       "      <td>NaN</td>\n",
       "      <td>NaN</td>\n",
       "    </tr>\n",
       "    <tr>\n",
       "      <th>4</th>\n",
       "      <td>100005</td>\n",
       "      <td>5.00</td>\n",
       "      <td>2.48</td>\n",
       "      <td>3.740000</td>\n",
       "      <td>14.96</td>\n",
       "      <td>4</td>\n",
       "      <td>77</td>\n",
       "      <td>NaN</td>\n",
       "      <td>5.0</td>\n",
       "      <td>1.0</td>\n",
       "      <td>5.0</td>\n",
       "      <td>1.0</td>\n",
       "    </tr>\n",
       "  </tbody>\n",
       "</table>\n",
       "</div>"
      ],
      "text/plain": [
       "   donorID    max    min       mean     sum  count  recency_days  \\\n",
       "0   100001  30.00   6.69  15.100000  166.10     11          2440   \n",
       "1   100002  20.00  20.00  20.000000   20.00      1          1333   \n",
       "2   100003   5.00   3.00   3.666667   22.00      6             0   \n",
       "3   100004  49.58  24.79  27.657200  691.43     25          2650   \n",
       "4   100005   5.00   2.48   3.740000   14.96      4            77   \n",
       "\n",
       "   last_month_mean  year1_mean  year1_count  year2_mean  year2_count  \n",
       "0              NaN         NaN          NaN         NaN          NaN  \n",
       "1              NaN         NaN          NaN         NaN          NaN  \n",
       "2              4.0         3.5          4.0         4.0          2.0  \n",
       "3              NaN         NaN          NaN         NaN          NaN  \n",
       "4              NaN         5.0          1.0         5.0          1.0  "
      ]
     },
     "execution_count": 37,
     "metadata": {},
     "output_type": "execute_result"
    }
   ],
   "source": [
    "#Number of gifts in this period per donor\n",
    "reference_y1 = dt.datetime(2017, 9, 4)\n",
    "reference_y2 = dt.datetime(2016, 9, 4)\n",
    "\n",
    "#gifts last month\n",
    "gifts_year2_6169 = gifts_training[(gifts_training[\"date\"] < reference_y1) & (gifts_training[\"date\"] >= reference_y2)]\n",
    "\n",
    "year2_6169  = gifts_year2_6169.groupby(\"donorID\")[\"amount\"].agg(['mean', 'count']).reset_index()\n",
    "year2_6169 .columns = [\"donorID\", \"year2_mean\", \"year2_count\"]\n",
    "\n",
    "basetable_training = pd.merge(basetable_training, year2_6169, how='left', on='donorID' )\n",
    "basetable_training.head()"
   ]
  },
  {
   "cell_type": "code",
   "execution_count": 38,
   "metadata": {
    "scrolled": true
   },
   "outputs": [
    {
     "data": {
      "text/html": [
       "<div>\n",
       "<style scoped>\n",
       "    .dataframe tbody tr th:only-of-type {\n",
       "        vertical-align: middle;\n",
       "    }\n",
       "\n",
       "    .dataframe tbody tr th {\n",
       "        vertical-align: top;\n",
       "    }\n",
       "\n",
       "    .dataframe thead th {\n",
       "        text-align: right;\n",
       "    }\n",
       "</style>\n",
       "<table border=\"1\" class=\"dataframe\">\n",
       "  <thead>\n",
       "    <tr style=\"text-align: right;\">\n",
       "      <th></th>\n",
       "      <th>donorID</th>\n",
       "      <th>max</th>\n",
       "      <th>min</th>\n",
       "      <th>mean</th>\n",
       "      <th>sum</th>\n",
       "      <th>count</th>\n",
       "      <th>recency_days</th>\n",
       "      <th>last_month_mean</th>\n",
       "      <th>year1_mean</th>\n",
       "      <th>year1_count</th>\n",
       "      <th>year2_mean</th>\n",
       "      <th>year2_count</th>\n",
       "      <th>ratio_month_year</th>\n",
       "      <th>ratio_year2year_mean</th>\n",
       "      <th>ratio_year2year_count</th>\n",
       "    </tr>\n",
       "  </thead>\n",
       "  <tbody>\n",
       "    <tr>\n",
       "      <th>0</th>\n",
       "      <td>100001</td>\n",
       "      <td>30.00</td>\n",
       "      <td>6.69</td>\n",
       "      <td>15.100000</td>\n",
       "      <td>166.10</td>\n",
       "      <td>11</td>\n",
       "      <td>2440</td>\n",
       "      <td>NaN</td>\n",
       "      <td>NaN</td>\n",
       "      <td>NaN</td>\n",
       "      <td>NaN</td>\n",
       "      <td>NaN</td>\n",
       "      <td>NaN</td>\n",
       "      <td>NaN</td>\n",
       "      <td>NaN</td>\n",
       "    </tr>\n",
       "    <tr>\n",
       "      <th>1</th>\n",
       "      <td>100002</td>\n",
       "      <td>20.00</td>\n",
       "      <td>20.00</td>\n",
       "      <td>20.000000</td>\n",
       "      <td>20.00</td>\n",
       "      <td>1</td>\n",
       "      <td>1333</td>\n",
       "      <td>NaN</td>\n",
       "      <td>NaN</td>\n",
       "      <td>NaN</td>\n",
       "      <td>NaN</td>\n",
       "      <td>NaN</td>\n",
       "      <td>NaN</td>\n",
       "      <td>NaN</td>\n",
       "      <td>NaN</td>\n",
       "    </tr>\n",
       "    <tr>\n",
       "      <th>2</th>\n",
       "      <td>100003</td>\n",
       "      <td>5.00</td>\n",
       "      <td>3.00</td>\n",
       "      <td>3.666667</td>\n",
       "      <td>22.00</td>\n",
       "      <td>6</td>\n",
       "      <td>0</td>\n",
       "      <td>4.0</td>\n",
       "      <td>3.5</td>\n",
       "      <td>4.0</td>\n",
       "      <td>4.0</td>\n",
       "      <td>2.0</td>\n",
       "      <td>1.142857</td>\n",
       "      <td>0.875</td>\n",
       "      <td>2.0</td>\n",
       "    </tr>\n",
       "    <tr>\n",
       "      <th>3</th>\n",
       "      <td>100004</td>\n",
       "      <td>49.58</td>\n",
       "      <td>24.79</td>\n",
       "      <td>27.657200</td>\n",
       "      <td>691.43</td>\n",
       "      <td>25</td>\n",
       "      <td>2650</td>\n",
       "      <td>NaN</td>\n",
       "      <td>NaN</td>\n",
       "      <td>NaN</td>\n",
       "      <td>NaN</td>\n",
       "      <td>NaN</td>\n",
       "      <td>NaN</td>\n",
       "      <td>NaN</td>\n",
       "      <td>NaN</td>\n",
       "    </tr>\n",
       "    <tr>\n",
       "      <th>4</th>\n",
       "      <td>100005</td>\n",
       "      <td>5.00</td>\n",
       "      <td>2.48</td>\n",
       "      <td>3.740000</td>\n",
       "      <td>14.96</td>\n",
       "      <td>4</td>\n",
       "      <td>77</td>\n",
       "      <td>NaN</td>\n",
       "      <td>5.0</td>\n",
       "      <td>1.0</td>\n",
       "      <td>5.0</td>\n",
       "      <td>1.0</td>\n",
       "      <td>NaN</td>\n",
       "      <td>1.000</td>\n",
       "      <td>1.0</td>\n",
       "    </tr>\n",
       "    <tr>\n",
       "      <th>...</th>\n",
       "      <td>...</td>\n",
       "      <td>...</td>\n",
       "      <td>...</td>\n",
       "      <td>...</td>\n",
       "      <td>...</td>\n",
       "      <td>...</td>\n",
       "      <td>...</td>\n",
       "      <td>...</td>\n",
       "      <td>...</td>\n",
       "      <td>...</td>\n",
       "      <td>...</td>\n",
       "      <td>...</td>\n",
       "      <td>...</td>\n",
       "      <td>...</td>\n",
       "      <td>...</td>\n",
       "    </tr>\n",
       "    <tr>\n",
       "      <th>43364</th>\n",
       "      <td>144687</td>\n",
       "      <td>10.00</td>\n",
       "      <td>10.00</td>\n",
       "      <td>10.000000</td>\n",
       "      <td>10.00</td>\n",
       "      <td>1</td>\n",
       "      <td>1033</td>\n",
       "      <td>NaN</td>\n",
       "      <td>NaN</td>\n",
       "      <td>NaN</td>\n",
       "      <td>NaN</td>\n",
       "      <td>NaN</td>\n",
       "      <td>NaN</td>\n",
       "      <td>NaN</td>\n",
       "      <td>NaN</td>\n",
       "    </tr>\n",
       "    <tr>\n",
       "      <th>43365</th>\n",
       "      <td>144688</td>\n",
       "      <td>15.00</td>\n",
       "      <td>2.48</td>\n",
       "      <td>7.260000</td>\n",
       "      <td>43.56</td>\n",
       "      <td>6</td>\n",
       "      <td>404</td>\n",
       "      <td>NaN</td>\n",
       "      <td>NaN</td>\n",
       "      <td>NaN</td>\n",
       "      <td>15.0</td>\n",
       "      <td>1.0</td>\n",
       "      <td>NaN</td>\n",
       "      <td>NaN</td>\n",
       "      <td>NaN</td>\n",
       "    </tr>\n",
       "    <tr>\n",
       "      <th>43366</th>\n",
       "      <td>144689</td>\n",
       "      <td>100.00</td>\n",
       "      <td>24.79</td>\n",
       "      <td>62.395000</td>\n",
       "      <td>124.79</td>\n",
       "      <td>2</td>\n",
       "      <td>71</td>\n",
       "      <td>NaN</td>\n",
       "      <td>100.0</td>\n",
       "      <td>1.0</td>\n",
       "      <td>NaN</td>\n",
       "      <td>NaN</td>\n",
       "      <td>NaN</td>\n",
       "      <td>NaN</td>\n",
       "      <td>NaN</td>\n",
       "    </tr>\n",
       "    <tr>\n",
       "      <th>43367</th>\n",
       "      <td>144690</td>\n",
       "      <td>40.00</td>\n",
       "      <td>40.00</td>\n",
       "      <td>40.000000</td>\n",
       "      <td>40.00</td>\n",
       "      <td>1</td>\n",
       "      <td>1344</td>\n",
       "      <td>NaN</td>\n",
       "      <td>NaN</td>\n",
       "      <td>NaN</td>\n",
       "      <td>NaN</td>\n",
       "      <td>NaN</td>\n",
       "      <td>NaN</td>\n",
       "      <td>NaN</td>\n",
       "      <td>NaN</td>\n",
       "    </tr>\n",
       "    <tr>\n",
       "      <th>43368</th>\n",
       "      <td>144691</td>\n",
       "      <td>39.00</td>\n",
       "      <td>39.00</td>\n",
       "      <td>39.000000</td>\n",
       "      <td>39.00</td>\n",
       "      <td>1</td>\n",
       "      <td>1006</td>\n",
       "      <td>NaN</td>\n",
       "      <td>NaN</td>\n",
       "      <td>NaN</td>\n",
       "      <td>NaN</td>\n",
       "      <td>NaN</td>\n",
       "      <td>NaN</td>\n",
       "      <td>NaN</td>\n",
       "      <td>NaN</td>\n",
       "    </tr>\n",
       "  </tbody>\n",
       "</table>\n",
       "<p>43369 rows × 15 columns</p>\n",
       "</div>"
      ],
      "text/plain": [
       "       donorID     max    min       mean     sum  count  recency_days  \\\n",
       "0       100001   30.00   6.69  15.100000  166.10     11          2440   \n",
       "1       100002   20.00  20.00  20.000000   20.00      1          1333   \n",
       "2       100003    5.00   3.00   3.666667   22.00      6             0   \n",
       "3       100004   49.58  24.79  27.657200  691.43     25          2650   \n",
       "4       100005    5.00   2.48   3.740000   14.96      4            77   \n",
       "...        ...     ...    ...        ...     ...    ...           ...   \n",
       "43364   144687   10.00  10.00  10.000000   10.00      1          1033   \n",
       "43365   144688   15.00   2.48   7.260000   43.56      6           404   \n",
       "43366   144689  100.00  24.79  62.395000  124.79      2            71   \n",
       "43367   144690   40.00  40.00  40.000000   40.00      1          1344   \n",
       "43368   144691   39.00  39.00  39.000000   39.00      1          1006   \n",
       "\n",
       "       last_month_mean  year1_mean  year1_count  year2_mean  year2_count  \\\n",
       "0                  NaN         NaN          NaN         NaN          NaN   \n",
       "1                  NaN         NaN          NaN         NaN          NaN   \n",
       "2                  4.0         3.5          4.0         4.0          2.0   \n",
       "3                  NaN         NaN          NaN         NaN          NaN   \n",
       "4                  NaN         5.0          1.0         5.0          1.0   \n",
       "...                ...         ...          ...         ...          ...   \n",
       "43364              NaN         NaN          NaN         NaN          NaN   \n",
       "43365              NaN         NaN          NaN        15.0          1.0   \n",
       "43366              NaN       100.0          1.0         NaN          NaN   \n",
       "43367              NaN         NaN          NaN         NaN          NaN   \n",
       "43368              NaN         NaN          NaN         NaN          NaN   \n",
       "\n",
       "       ratio_month_year  ratio_year2year_mean  ratio_year2year_count  \n",
       "0                   NaN                   NaN                    NaN  \n",
       "1                   NaN                   NaN                    NaN  \n",
       "2              1.142857                 0.875                    2.0  \n",
       "3                   NaN                   NaN                    NaN  \n",
       "4                   NaN                 1.000                    1.0  \n",
       "...                 ...                   ...                    ...  \n",
       "43364               NaN                   NaN                    NaN  \n",
       "43365               NaN                   NaN                    NaN  \n",
       "43366               NaN                   NaN                    NaN  \n",
       "43367               NaN                   NaN                    NaN  \n",
       "43368               NaN                   NaN                    NaN  \n",
       "\n",
       "[43369 rows x 15 columns]"
      ]
     },
     "execution_count": 38,
     "metadata": {},
     "output_type": "execute_result"
    }
   ],
   "source": [
    "basetable_training[\"ratio_month_year\"] = basetable_training[\"last_month_mean\"] / basetable_training[\"year1_mean\"]\n",
    "basetable_training[\"ratio_year2year_mean\"] = basetable_training[\"year1_mean\"] / basetable_training[\"year2_mean\"]\n",
    "basetable_training[\"ratio_year2year_count\"] = basetable_training[\"year1_count\"] / basetable_training[\"year2_count\"]\n",
    "basetable_training "
   ]
  },
  {
   "cell_type": "code",
   "execution_count": 39,
   "metadata": {
    "scrolled": false
   },
   "outputs": [
    {
     "data": {
      "text/html": [
       "<div>\n",
       "<style scoped>\n",
       "    .dataframe tbody tr th:only-of-type {\n",
       "        vertical-align: middle;\n",
       "    }\n",
       "\n",
       "    .dataframe tbody tr th {\n",
       "        vertical-align: top;\n",
       "    }\n",
       "\n",
       "    .dataframe thead th {\n",
       "        text-align: right;\n",
       "    }\n",
       "</style>\n",
       "<table border=\"1\" class=\"dataframe\">\n",
       "  <thead>\n",
       "    <tr style=\"text-align: right;\">\n",
       "      <th></th>\n",
       "      <th>donorID</th>\n",
       "      <th>max</th>\n",
       "      <th>min</th>\n",
       "      <th>mean</th>\n",
       "      <th>sum</th>\n",
       "      <th>count</th>\n",
       "      <th>recency_days</th>\n",
       "      <th>last_month_mean</th>\n",
       "      <th>year1_mean</th>\n",
       "      <th>year1_count</th>\n",
       "      <th>year2_mean</th>\n",
       "      <th>year2_count</th>\n",
       "      <th>ratio_month_year</th>\n",
       "      <th>ratio_year2year_mean</th>\n",
       "      <th>ratio_year2year_count</th>\n",
       "    </tr>\n",
       "  </thead>\n",
       "  <tbody>\n",
       "    <tr>\n",
       "      <th>0</th>\n",
       "      <td>100001</td>\n",
       "      <td>30.00</td>\n",
       "      <td>6.69</td>\n",
       "      <td>15.100000</td>\n",
       "      <td>166.10</td>\n",
       "      <td>11</td>\n",
       "      <td>2440</td>\n",
       "      <td>NaN</td>\n",
       "      <td>NaN</td>\n",
       "      <td>NaN</td>\n",
       "      <td>NaN</td>\n",
       "      <td>NaN</td>\n",
       "      <td>NaN</td>\n",
       "      <td>NaN</td>\n",
       "      <td>NaN</td>\n",
       "    </tr>\n",
       "    <tr>\n",
       "      <th>1</th>\n",
       "      <td>100002</td>\n",
       "      <td>20.00</td>\n",
       "      <td>20.00</td>\n",
       "      <td>20.000000</td>\n",
       "      <td>20.00</td>\n",
       "      <td>1</td>\n",
       "      <td>1333</td>\n",
       "      <td>NaN</td>\n",
       "      <td>NaN</td>\n",
       "      <td>NaN</td>\n",
       "      <td>NaN</td>\n",
       "      <td>NaN</td>\n",
       "      <td>NaN</td>\n",
       "      <td>NaN</td>\n",
       "      <td>NaN</td>\n",
       "    </tr>\n",
       "    <tr>\n",
       "      <th>2</th>\n",
       "      <td>100003</td>\n",
       "      <td>5.00</td>\n",
       "      <td>3.00</td>\n",
       "      <td>3.666667</td>\n",
       "      <td>22.00</td>\n",
       "      <td>6</td>\n",
       "      <td>0</td>\n",
       "      <td>4.0</td>\n",
       "      <td>3.5</td>\n",
       "      <td>4.0</td>\n",
       "      <td>4.0</td>\n",
       "      <td>2.0</td>\n",
       "      <td>1.142857</td>\n",
       "      <td>0.875</td>\n",
       "      <td>2.0</td>\n",
       "    </tr>\n",
       "    <tr>\n",
       "      <th>3</th>\n",
       "      <td>100004</td>\n",
       "      <td>49.58</td>\n",
       "      <td>24.79</td>\n",
       "      <td>27.657200</td>\n",
       "      <td>691.43</td>\n",
       "      <td>25</td>\n",
       "      <td>2650</td>\n",
       "      <td>NaN</td>\n",
       "      <td>NaN</td>\n",
       "      <td>NaN</td>\n",
       "      <td>NaN</td>\n",
       "      <td>NaN</td>\n",
       "      <td>NaN</td>\n",
       "      <td>NaN</td>\n",
       "      <td>NaN</td>\n",
       "    </tr>\n",
       "    <tr>\n",
       "      <th>4</th>\n",
       "      <td>100005</td>\n",
       "      <td>5.00</td>\n",
       "      <td>2.48</td>\n",
       "      <td>3.740000</td>\n",
       "      <td>14.96</td>\n",
       "      <td>4</td>\n",
       "      <td>77</td>\n",
       "      <td>NaN</td>\n",
       "      <td>5.0</td>\n",
       "      <td>1.0</td>\n",
       "      <td>5.0</td>\n",
       "      <td>1.0</td>\n",
       "      <td>NaN</td>\n",
       "      <td>1.000</td>\n",
       "      <td>1.0</td>\n",
       "    </tr>\n",
       "  </tbody>\n",
       "</table>\n",
       "</div>"
      ],
      "text/plain": [
       "   donorID    max    min       mean     sum  count  recency_days  \\\n",
       "0   100001  30.00   6.69  15.100000  166.10     11          2440   \n",
       "1   100002  20.00  20.00  20.000000   20.00      1          1333   \n",
       "2   100003   5.00   3.00   3.666667   22.00      6             0   \n",
       "3   100004  49.58  24.79  27.657200  691.43     25          2650   \n",
       "4   100005   5.00   2.48   3.740000   14.96      4            77   \n",
       "\n",
       "   last_month_mean  year1_mean  year1_count  year2_mean  year2_count  \\\n",
       "0              NaN         NaN          NaN         NaN          NaN   \n",
       "1              NaN         NaN          NaN         NaN          NaN   \n",
       "2              4.0         3.5          4.0         4.0          2.0   \n",
       "3              NaN         NaN          NaN         NaN          NaN   \n",
       "4              NaN         5.0          1.0         5.0          1.0   \n",
       "\n",
       "   ratio_month_year  ratio_year2year_mean  ratio_year2year_count  \n",
       "0               NaN                   NaN                    NaN  \n",
       "1               NaN                   NaN                    NaN  \n",
       "2          1.142857                 0.875                    2.0  \n",
       "3               NaN                   NaN                    NaN  \n",
       "4               NaN                 1.000                    1.0  "
      ]
     },
     "execution_count": 39,
     "metadata": {},
     "output_type": "execute_result"
    }
   ],
   "source": [
    "basetable_training.head()"
   ]
  },
  {
   "cell_type": "code",
   "execution_count": 40,
   "metadata": {},
   "outputs": [],
   "source": [
    "basetable_training['segment'] = ''\n",
    "\n",
    "for i in range(len(basetable_training)):\n",
    "    if (basetable_training['mean'][i] > 1.5*(gifts_training[\"amount\"].mean())) & (basetable_training['count'][i]>=5):\n",
    "        basetable_training['segment'][i] = 'Gold'\n",
    "    elif (basetable_training['mean'][i] >= (gifts_training[\"amount\"].mean())) & (basetable_training['count'][i]>=3):\n",
    "        basetable_training['segment'][i] = 'Silver'\n",
    "    elif (basetable_training['mean'][i] > 0.5*(gifts_training[\"amount\"].mean())) & (basetable_training['count'][i]>=3):\n",
    "        basetable_training['segment'][i] = 'Bronze'\n",
    "    else:\n",
    "        basetable_training['segment'][i] = 'Regular'"
   ]
  },
  {
   "cell_type": "code",
   "execution_count": 41,
   "metadata": {},
   "outputs": [],
   "source": [
    "donors[\"dateOfBirth\"] = pd.to_datetime(donors[\"dateOfBirth\"])"
   ]
  },
  {
   "cell_type": "code",
   "execution_count": 42,
   "metadata": {},
   "outputs": [
    {
     "data": {
      "text/html": [
       "<div>\n",
       "<style scoped>\n",
       "    .dataframe tbody tr th:only-of-type {\n",
       "        vertical-align: middle;\n",
       "    }\n",
       "\n",
       "    .dataframe tbody tr th {\n",
       "        vertical-align: top;\n",
       "    }\n",
       "\n",
       "    .dataframe thead th {\n",
       "        text-align: right;\n",
       "    }\n",
       "</style>\n",
       "<table border=\"1\" class=\"dataframe\">\n",
       "  <thead>\n",
       "    <tr style=\"text-align: right;\">\n",
       "      <th></th>\n",
       "      <th>donorID</th>\n",
       "      <th>zipcode</th>\n",
       "      <th>province</th>\n",
       "      <th>region</th>\n",
       "      <th>gender</th>\n",
       "      <th>language</th>\n",
       "      <th>dateOfBirth</th>\n",
       "      <th>age_6169</th>\n",
       "    </tr>\n",
       "  </thead>\n",
       "  <tbody>\n",
       "    <tr>\n",
       "      <th>0</th>\n",
       "      <td>100001</td>\n",
       "      <td>1861.0</td>\n",
       "      <td>Flemish Brabant</td>\n",
       "      <td>Flanders</td>\n",
       "      <td>F</td>\n",
       "      <td>NL</td>\n",
       "      <td>1967-12-24</td>\n",
       "      <td>50.7</td>\n",
       "    </tr>\n",
       "    <tr>\n",
       "      <th>1</th>\n",
       "      <td>100002</td>\n",
       "      <td>2260.0</td>\n",
       "      <td>Antwerp</td>\n",
       "      <td>Flanders</td>\n",
       "      <td>M</td>\n",
       "      <td>NL</td>\n",
       "      <td>1952-01-14</td>\n",
       "      <td>66.7</td>\n",
       "    </tr>\n",
       "  </tbody>\n",
       "</table>\n",
       "</div>"
      ],
      "text/plain": [
       "   donorID  zipcode         province    region gender language dateOfBirth  \\\n",
       "0   100001   1861.0  Flemish Brabant  Flanders      F       NL  1967-12-24   \n",
       "1   100002   2260.0          Antwerp  Flanders      M       NL  1952-01-14   \n",
       "\n",
       "   age_6169  \n",
       "0      50.7  \n",
       "1      66.7  "
      ]
     },
     "execution_count": 42,
     "metadata": {},
     "output_type": "execute_result"
    }
   ],
   "source": [
    "#calculate age training basetable\n",
    "donors['age_6169'] = (reference6169 - donors['dateOfBirth'])\n",
    "donors['age_6169'] = donors.age_6169.apply(lambda x: x.days)\n",
    "donors['age_6169'] = round((donors['age_6169']/365),1)\n",
    "donors.head(2)"
   ]
  },
  {
   "cell_type": "code",
   "execution_count": 43,
   "metadata": {},
   "outputs": [
    {
     "data": {
      "text/html": [
       "<div>\n",
       "<style scoped>\n",
       "    .dataframe tbody tr th:only-of-type {\n",
       "        vertical-align: middle;\n",
       "    }\n",
       "\n",
       "    .dataframe tbody tr th {\n",
       "        vertical-align: top;\n",
       "    }\n",
       "\n",
       "    .dataframe thead th {\n",
       "        text-align: right;\n",
       "    }\n",
       "</style>\n",
       "<table border=\"1\" class=\"dataframe\">\n",
       "  <thead>\n",
       "    <tr style=\"text-align: right;\">\n",
       "      <th></th>\n",
       "      <th>donorID</th>\n",
       "      <th>max</th>\n",
       "      <th>min</th>\n",
       "      <th>mean</th>\n",
       "      <th>sum</th>\n",
       "      <th>count</th>\n",
       "      <th>recency_days</th>\n",
       "      <th>last_month_mean</th>\n",
       "      <th>year1_mean</th>\n",
       "      <th>year1_count</th>\n",
       "      <th>year2_mean</th>\n",
       "      <th>year2_count</th>\n",
       "      <th>ratio_month_year</th>\n",
       "      <th>ratio_year2year_mean</th>\n",
       "      <th>ratio_year2year_count</th>\n",
       "      <th>segment</th>\n",
       "      <th>age_6169</th>\n",
       "      <th>gender</th>\n",
       "      <th>province</th>\n",
       "      <th>language</th>\n",
       "    </tr>\n",
       "  </thead>\n",
       "  <tbody>\n",
       "    <tr>\n",
       "      <th>0</th>\n",
       "      <td>100001</td>\n",
       "      <td>30.0</td>\n",
       "      <td>6.69</td>\n",
       "      <td>15.1</td>\n",
       "      <td>166.1</td>\n",
       "      <td>11</td>\n",
       "      <td>2440</td>\n",
       "      <td>NaN</td>\n",
       "      <td>NaN</td>\n",
       "      <td>NaN</td>\n",
       "      <td>NaN</td>\n",
       "      <td>NaN</td>\n",
       "      <td>NaN</td>\n",
       "      <td>NaN</td>\n",
       "      <td>NaN</td>\n",
       "      <td>Regular</td>\n",
       "      <td>50.7</td>\n",
       "      <td>F</td>\n",
       "      <td>Flemish Brabant</td>\n",
       "      <td>NL</td>\n",
       "    </tr>\n",
       "    <tr>\n",
       "      <th>1</th>\n",
       "      <td>100002</td>\n",
       "      <td>20.0</td>\n",
       "      <td>20.00</td>\n",
       "      <td>20.0</td>\n",
       "      <td>20.0</td>\n",
       "      <td>1</td>\n",
       "      <td>1333</td>\n",
       "      <td>NaN</td>\n",
       "      <td>NaN</td>\n",
       "      <td>NaN</td>\n",
       "      <td>NaN</td>\n",
       "      <td>NaN</td>\n",
       "      <td>NaN</td>\n",
       "      <td>NaN</td>\n",
       "      <td>NaN</td>\n",
       "      <td>Regular</td>\n",
       "      <td>66.7</td>\n",
       "      <td>M</td>\n",
       "      <td>Antwerp</td>\n",
       "      <td>NL</td>\n",
       "    </tr>\n",
       "  </tbody>\n",
       "</table>\n",
       "</div>"
      ],
      "text/plain": [
       "   donorID   max    min  mean    sum  count  recency_days  last_month_mean  \\\n",
       "0   100001  30.0   6.69  15.1  166.1     11          2440              NaN   \n",
       "1   100002  20.0  20.00  20.0   20.0      1          1333              NaN   \n",
       "\n",
       "   year1_mean  year1_count  year2_mean  year2_count  ratio_month_year  \\\n",
       "0         NaN          NaN         NaN          NaN               NaN   \n",
       "1         NaN          NaN         NaN          NaN               NaN   \n",
       "\n",
       "   ratio_year2year_mean  ratio_year2year_count  segment  age_6169 gender  \\\n",
       "0                   NaN                    NaN  Regular      50.7      F   \n",
       "1                   NaN                    NaN  Regular      66.7      M   \n",
       "\n",
       "          province language  \n",
       "0  Flemish Brabant       NL  \n",
       "1          Antwerp       NL  "
      ]
     },
     "execution_count": 43,
     "metadata": {},
     "output_type": "execute_result"
    }
   ],
   "source": [
    "basetable_training = pd.merge(basetable_training,donors[[\"donorID\",\"age_6169\",\"gender\",\"province\", \"language\"]], on = \"donorID\", how = \"left\")\n",
    "\n",
    "basetable_training.head(2)"
   ]
  },
  {
   "cell_type": "markdown",
   "metadata": {},
   "source": [
    "#### Merge data set with campaign 6169 selection"
   ]
  },
  {
   "cell_type": "code",
   "execution_count": 44,
   "metadata": {
    "scrolled": true
   },
   "outputs": [
    {
     "name": "stdout",
     "output_type": "stream",
     "text": [
      "34888\n"
     ]
    },
    {
     "data": {
      "text/html": [
       "<div>\n",
       "<style scoped>\n",
       "    .dataframe tbody tr th:only-of-type {\n",
       "        vertical-align: middle;\n",
       "    }\n",
       "\n",
       "    .dataframe tbody tr th {\n",
       "        vertical-align: top;\n",
       "    }\n",
       "\n",
       "    .dataframe thead th {\n",
       "        text-align: right;\n",
       "    }\n",
       "</style>\n",
       "<table border=\"1\" class=\"dataframe\">\n",
       "  <thead>\n",
       "    <tr style=\"text-align: right;\">\n",
       "      <th></th>\n",
       "      <th>donorID</th>\n",
       "      <th>max</th>\n",
       "      <th>min</th>\n",
       "      <th>mean</th>\n",
       "      <th>sum</th>\n",
       "      <th>count</th>\n",
       "      <th>recency_days</th>\n",
       "      <th>last_month_mean</th>\n",
       "      <th>year1_mean</th>\n",
       "      <th>year1_count</th>\n",
       "      <th>year2_mean</th>\n",
       "      <th>year2_count</th>\n",
       "      <th>ratio_month_year</th>\n",
       "      <th>ratio_year2year_mean</th>\n",
       "      <th>ratio_year2year_count</th>\n",
       "      <th>segment</th>\n",
       "      <th>age_6169</th>\n",
       "      <th>gender</th>\n",
       "      <th>province</th>\n",
       "      <th>language</th>\n",
       "    </tr>\n",
       "  </thead>\n",
       "  <tbody>\n",
       "    <tr>\n",
       "      <th>0</th>\n",
       "      <td>100001</td>\n",
       "      <td>30.0</td>\n",
       "      <td>6.69</td>\n",
       "      <td>15.1</td>\n",
       "      <td>166.1</td>\n",
       "      <td>11.0</td>\n",
       "      <td>2440.0</td>\n",
       "      <td>NaN</td>\n",
       "      <td>NaN</td>\n",
       "      <td>NaN</td>\n",
       "      <td>NaN</td>\n",
       "      <td>NaN</td>\n",
       "      <td>NaN</td>\n",
       "      <td>NaN</td>\n",
       "      <td>NaN</td>\n",
       "      <td>Regular</td>\n",
       "      <td>50.7</td>\n",
       "      <td>F</td>\n",
       "      <td>Flemish Brabant</td>\n",
       "      <td>NL</td>\n",
       "    </tr>\n",
       "    <tr>\n",
       "      <th>1</th>\n",
       "      <td>100002</td>\n",
       "      <td>20.0</td>\n",
       "      <td>20.00</td>\n",
       "      <td>20.0</td>\n",
       "      <td>20.0</td>\n",
       "      <td>1.0</td>\n",
       "      <td>1333.0</td>\n",
       "      <td>NaN</td>\n",
       "      <td>NaN</td>\n",
       "      <td>NaN</td>\n",
       "      <td>NaN</td>\n",
       "      <td>NaN</td>\n",
       "      <td>NaN</td>\n",
       "      <td>NaN</td>\n",
       "      <td>NaN</td>\n",
       "      <td>Regular</td>\n",
       "      <td>66.7</td>\n",
       "      <td>M</td>\n",
       "      <td>Antwerp</td>\n",
       "      <td>NL</td>\n",
       "    </tr>\n",
       "  </tbody>\n",
       "</table>\n",
       "</div>"
      ],
      "text/plain": [
       "   donorID   max    min  mean    sum  count  recency_days  last_month_mean  \\\n",
       "0   100001  30.0   6.69  15.1  166.1   11.0        2440.0              NaN   \n",
       "1   100002  20.0  20.00  20.0   20.0    1.0        1333.0              NaN   \n",
       "\n",
       "   year1_mean  year1_count  year2_mean  year2_count  ratio_month_year  \\\n",
       "0         NaN          NaN         NaN          NaN               NaN   \n",
       "1         NaN          NaN         NaN          NaN               NaN   \n",
       "\n",
       "   ratio_year2year_mean  ratio_year2year_count  segment  age_6169 gender  \\\n",
       "0                   NaN                    NaN  Regular      50.7      F   \n",
       "1                   NaN                    NaN  Regular      66.7      M   \n",
       "\n",
       "          province language  \n",
       "0  Flemish Brabant       NL  \n",
       "1          Antwerp       NL  "
      ]
     },
     "execution_count": 44,
     "metadata": {},
     "output_type": "execute_result"
    }
   ],
   "source": [
    "basetable_training = pd.merge(campaign6169, basetable_training, on = \"donorID\", how = \"left\")\n",
    "print(len(basetable_training))\n",
    "basetable_training.head(2)"
   ]
  },
  {
   "cell_type": "markdown",
   "metadata": {},
   "source": [
    "#### Create dummies variables"
   ]
  },
  {
   "cell_type": "code",
   "execution_count": 45,
   "metadata": {
    "scrolled": true
   },
   "outputs": [
    {
     "data": {
      "text/html": [
       "<div>\n",
       "<style scoped>\n",
       "    .dataframe tbody tr th:only-of-type {\n",
       "        vertical-align: middle;\n",
       "    }\n",
       "\n",
       "    .dataframe tbody tr th {\n",
       "        vertical-align: top;\n",
       "    }\n",
       "\n",
       "    .dataframe thead th {\n",
       "        text-align: right;\n",
       "    }\n",
       "</style>\n",
       "<table border=\"1\" class=\"dataframe\">\n",
       "  <thead>\n",
       "    <tr style=\"text-align: right;\">\n",
       "      <th></th>\n",
       "      <th>Brussels</th>\n",
       "      <th>East Flanders</th>\n",
       "      <th>Flemish Brabant</th>\n",
       "      <th>Hainaut</th>\n",
       "      <th>Liege</th>\n",
       "      <th>Limburg</th>\n",
       "      <th>Luxembourg</th>\n",
       "      <th>Namur</th>\n",
       "      <th>Walloon Brabant</th>\n",
       "      <th>West Flanders</th>\n",
       "      <th>NaN</th>\n",
       "    </tr>\n",
       "  </thead>\n",
       "  <tbody>\n",
       "    <tr>\n",
       "      <th>0</th>\n",
       "      <td>0</td>\n",
       "      <td>0</td>\n",
       "      <td>1</td>\n",
       "      <td>0</td>\n",
       "      <td>0</td>\n",
       "      <td>0</td>\n",
       "      <td>0</td>\n",
       "      <td>0</td>\n",
       "      <td>0</td>\n",
       "      <td>0</td>\n",
       "      <td>0</td>\n",
       "    </tr>\n",
       "    <tr>\n",
       "      <th>1</th>\n",
       "      <td>0</td>\n",
       "      <td>0</td>\n",
       "      <td>0</td>\n",
       "      <td>0</td>\n",
       "      <td>0</td>\n",
       "      <td>0</td>\n",
       "      <td>0</td>\n",
       "      <td>0</td>\n",
       "      <td>0</td>\n",
       "      <td>0</td>\n",
       "      <td>0</td>\n",
       "    </tr>\n",
       "    <tr>\n",
       "      <th>2</th>\n",
       "      <td>1</td>\n",
       "      <td>0</td>\n",
       "      <td>0</td>\n",
       "      <td>0</td>\n",
       "      <td>0</td>\n",
       "      <td>0</td>\n",
       "      <td>0</td>\n",
       "      <td>0</td>\n",
       "      <td>0</td>\n",
       "      <td>0</td>\n",
       "      <td>0</td>\n",
       "    </tr>\n",
       "    <tr>\n",
       "      <th>3</th>\n",
       "      <td>0</td>\n",
       "      <td>0</td>\n",
       "      <td>1</td>\n",
       "      <td>0</td>\n",
       "      <td>0</td>\n",
       "      <td>0</td>\n",
       "      <td>0</td>\n",
       "      <td>0</td>\n",
       "      <td>0</td>\n",
       "      <td>0</td>\n",
       "      <td>0</td>\n",
       "    </tr>\n",
       "    <tr>\n",
       "      <th>4</th>\n",
       "      <td>1</td>\n",
       "      <td>0</td>\n",
       "      <td>0</td>\n",
       "      <td>0</td>\n",
       "      <td>0</td>\n",
       "      <td>0</td>\n",
       "      <td>0</td>\n",
       "      <td>0</td>\n",
       "      <td>0</td>\n",
       "      <td>0</td>\n",
       "      <td>0</td>\n",
       "    </tr>\n",
       "  </tbody>\n",
       "</table>\n",
       "</div>"
      ],
      "text/plain": [
       "   Brussels  East Flanders  Flemish Brabant  Hainaut  Liege  Limburg  \\\n",
       "0         0              0                1        0      0        0   \n",
       "1         0              0                0        0      0        0   \n",
       "2         1              0                0        0      0        0   \n",
       "3         0              0                1        0      0        0   \n",
       "4         1              0                0        0      0        0   \n",
       "\n",
       "   Luxembourg  Namur  Walloon Brabant  West Flanders  NaN  \n",
       "0           0      0                0              0    0  \n",
       "1           0      0                0              0    0  \n",
       "2           0      0                0              0    0  \n",
       "3           0      0                0              0    0  \n",
       "4           0      0                0              0    0  "
      ]
     },
     "execution_count": 45,
     "metadata": {},
     "output_type": "execute_result"
    }
   ],
   "source": [
    "#Dummy variables for province\n",
    "dummies_province = pd.get_dummies(basetable_training[\"province\"], drop_first=True, dummy_na=True)\n",
    "dummies_province .head()"
   ]
  },
  {
   "cell_type": "code",
   "execution_count": 46,
   "metadata": {
    "scrolled": true
   },
   "outputs": [],
   "source": [
    "#Change dummy variable name\n",
    "dummies_province.columns = ['prov_Br', 'prov_EaF', 'prov_FB', 'prov_Ha', 'prov_Liege', 'prov_Lim', 'prov_Lux', 'prov_Na','prov_WaB', 'prov_WeF', 'prov_NaN']\n",
    "# Add the dummy variable to the basetable\n",
    "basetable_training = pd.concat([basetable_training, dummies_province], axis=1)\n",
    "# Delete the original variable from the basetable\n",
    "del basetable_training[\"province\"]"
   ]
  },
  {
   "cell_type": "code",
   "execution_count": 47,
   "metadata": {},
   "outputs": [
    {
     "data": {
      "text/plain": [
       "1113"
      ]
     },
     "execution_count": 47,
     "metadata": {},
     "output_type": "execute_result"
    }
   ],
   "source": [
    "basetable_training.language.isna().sum()"
   ]
  },
  {
   "cell_type": "code",
   "execution_count": 48,
   "metadata": {
    "scrolled": true
   },
   "outputs": [
    {
     "data": {
      "text/html": [
       "<div>\n",
       "<style scoped>\n",
       "    .dataframe tbody tr th:only-of-type {\n",
       "        vertical-align: middle;\n",
       "    }\n",
       "\n",
       "    .dataframe tbody tr th {\n",
       "        vertical-align: top;\n",
       "    }\n",
       "\n",
       "    .dataframe thead th {\n",
       "        text-align: right;\n",
       "    }\n",
       "</style>\n",
       "<table border=\"1\" class=\"dataframe\">\n",
       "  <thead>\n",
       "    <tr style=\"text-align: right;\">\n",
       "      <th></th>\n",
       "      <th>FR</th>\n",
       "      <th>NL</th>\n",
       "      <th>NaN</th>\n",
       "    </tr>\n",
       "  </thead>\n",
       "  <tbody>\n",
       "    <tr>\n",
       "      <th>0</th>\n",
       "      <td>0</td>\n",
       "      <td>1</td>\n",
       "      <td>0</td>\n",
       "    </tr>\n",
       "    <tr>\n",
       "      <th>1</th>\n",
       "      <td>0</td>\n",
       "      <td>1</td>\n",
       "      <td>0</td>\n",
       "    </tr>\n",
       "    <tr>\n",
       "      <th>2</th>\n",
       "      <td>1</td>\n",
       "      <td>0</td>\n",
       "      <td>0</td>\n",
       "    </tr>\n",
       "    <tr>\n",
       "      <th>3</th>\n",
       "      <td>1</td>\n",
       "      <td>0</td>\n",
       "      <td>0</td>\n",
       "    </tr>\n",
       "    <tr>\n",
       "      <th>4</th>\n",
       "      <td>1</td>\n",
       "      <td>0</td>\n",
       "      <td>0</td>\n",
       "    </tr>\n",
       "  </tbody>\n",
       "</table>\n",
       "</div>"
      ],
      "text/plain": [
       "   FR  NL  NaN\n",
       "0   0   1    0\n",
       "1   0   1    0\n",
       "2   1   0    0\n",
       "3   1   0    0\n",
       "4   1   0    0"
      ]
     },
     "execution_count": 48,
     "metadata": {},
     "output_type": "execute_result"
    }
   ],
   "source": [
    "#Dummy variables for language\n",
    "dummies_language_training = pd.get_dummies(basetable_training[\"language\"], drop_first=True, dummy_na=True)\n",
    "dummies_language_training.head()"
   ]
  },
  {
   "cell_type": "code",
   "execution_count": 49,
   "metadata": {},
   "outputs": [],
   "source": [
    "#Change dummy variable name\n",
    "dummies_language_training.columns = ['language_x', 'language_y', 'language_NaN']\n",
    "# Add the dummy variable to the basetable\n",
    "basetable_training = pd.concat([basetable_training, dummies_language_training], axis=1)\n",
    "# Delete the original variable from the basetable\n",
    "del basetable_training[\"language\"]"
   ]
  },
  {
   "cell_type": "code",
   "execution_count": 50,
   "metadata": {
    "scrolled": true
   },
   "outputs": [
    {
     "data": {
      "text/html": [
       "<div>\n",
       "<style scoped>\n",
       "    .dataframe tbody tr th:only-of-type {\n",
       "        vertical-align: middle;\n",
       "    }\n",
       "\n",
       "    .dataframe tbody tr th {\n",
       "        vertical-align: top;\n",
       "    }\n",
       "\n",
       "    .dataframe thead th {\n",
       "        text-align: right;\n",
       "    }\n",
       "</style>\n",
       "<table border=\"1\" class=\"dataframe\">\n",
       "  <thead>\n",
       "    <tr style=\"text-align: right;\">\n",
       "      <th></th>\n",
       "      <th>Gold</th>\n",
       "      <th>Regular</th>\n",
       "      <th>Silver</th>\n",
       "    </tr>\n",
       "  </thead>\n",
       "  <tbody>\n",
       "    <tr>\n",
       "      <th>0</th>\n",
       "      <td>0</td>\n",
       "      <td>1</td>\n",
       "      <td>0</td>\n",
       "    </tr>\n",
       "    <tr>\n",
       "      <th>1</th>\n",
       "      <td>0</td>\n",
       "      <td>1</td>\n",
       "      <td>0</td>\n",
       "    </tr>\n",
       "    <tr>\n",
       "      <th>2</th>\n",
       "      <td>0</td>\n",
       "      <td>0</td>\n",
       "      <td>0</td>\n",
       "    </tr>\n",
       "    <tr>\n",
       "      <th>3</th>\n",
       "      <td>0</td>\n",
       "      <td>0</td>\n",
       "      <td>1</td>\n",
       "    </tr>\n",
       "    <tr>\n",
       "      <th>4</th>\n",
       "      <td>0</td>\n",
       "      <td>1</td>\n",
       "      <td>0</td>\n",
       "    </tr>\n",
       "  </tbody>\n",
       "</table>\n",
       "</div>"
      ],
      "text/plain": [
       "   Gold  Regular  Silver\n",
       "0     0        1       0\n",
       "1     0        1       0\n",
       "2     0        0       0\n",
       "3     0        0       1\n",
       "4     0        1       0"
      ]
     },
     "execution_count": 50,
     "metadata": {},
     "output_type": "execute_result"
    }
   ],
   "source": [
    "#Dummy variables for segment\n",
    "dummies_segment_training = pd.get_dummies(basetable_training[\"segment\"], drop_first=True)\n",
    "dummies_segment_training.head()"
   ]
  },
  {
   "cell_type": "code",
   "execution_count": 51,
   "metadata": {},
   "outputs": [],
   "source": [
    "#Change dummy variable name\n",
    "dummies_segment_training.columns = ['segment_x', 'segment_y', 'segment_z']\n",
    "# Add the dummy variable to the basetable\n",
    "basetable_training = pd.concat([basetable_training, dummies_segment_training], axis=1)\n",
    "# Delete the original variable from the basetable\n",
    "del basetable_training[\"segment\"]"
   ]
  },
  {
   "cell_type": "code",
   "execution_count": 52,
   "metadata": {},
   "outputs": [
    {
     "data": {
      "text/plain": [
       "1132"
      ]
     },
     "execution_count": 52,
     "metadata": {},
     "output_type": "execute_result"
    }
   ],
   "source": [
    "basetable_training.gender.isna().sum()"
   ]
  },
  {
   "cell_type": "code",
   "execution_count": 53,
   "metadata": {},
   "outputs": [
    {
     "data": {
      "text/html": [
       "<div>\n",
       "<style scoped>\n",
       "    .dataframe tbody tr th:only-of-type {\n",
       "        vertical-align: middle;\n",
       "    }\n",
       "\n",
       "    .dataframe tbody tr th {\n",
       "        vertical-align: top;\n",
       "    }\n",
       "\n",
       "    .dataframe thead th {\n",
       "        text-align: right;\n",
       "    }\n",
       "</style>\n",
       "<table border=\"1\" class=\"dataframe\">\n",
       "  <thead>\n",
       "    <tr style=\"text-align: right;\">\n",
       "      <th></th>\n",
       "      <th>M</th>\n",
       "      <th>NaN</th>\n",
       "    </tr>\n",
       "  </thead>\n",
       "  <tbody>\n",
       "    <tr>\n",
       "      <th>0</th>\n",
       "      <td>0</td>\n",
       "      <td>0</td>\n",
       "    </tr>\n",
       "    <tr>\n",
       "      <th>1</th>\n",
       "      <td>1</td>\n",
       "      <td>0</td>\n",
       "    </tr>\n",
       "    <tr>\n",
       "      <th>2</th>\n",
       "      <td>0</td>\n",
       "      <td>0</td>\n",
       "    </tr>\n",
       "    <tr>\n",
       "      <th>3</th>\n",
       "      <td>1</td>\n",
       "      <td>0</td>\n",
       "    </tr>\n",
       "    <tr>\n",
       "      <th>4</th>\n",
       "      <td>1</td>\n",
       "      <td>0</td>\n",
       "    </tr>\n",
       "  </tbody>\n",
       "</table>\n",
       "</div>"
      ],
      "text/plain": [
       "   M  NaN\n",
       "0  0    0\n",
       "1  1    0\n",
       "2  0    0\n",
       "3  1    0\n",
       "4  1    0"
      ]
     },
     "execution_count": 53,
     "metadata": {},
     "output_type": "execute_result"
    }
   ],
   "source": [
    "# Create the dummy variable gender\n",
    "dummies_gender_training = pd.get_dummies(basetable_training[\"gender\"], drop_first=True, dummy_na=True)\n",
    "dummies_gender_training.head()"
   ]
  },
  {
   "cell_type": "code",
   "execution_count": 54,
   "metadata": {},
   "outputs": [],
   "source": [
    "#Change dummy variable name\n",
    "dummies_gender_training.columns = ['gender_x', 'gender_y']\n",
    "# Add the dummy variable to the basetable\n",
    "basetable_training = pd.concat([basetable_training, dummies_gender_training], axis=1)\n",
    "# Delete the original variable from the basetable\n",
    "del basetable_training[\"gender\"]"
   ]
  },
  {
   "cell_type": "code",
   "execution_count": 55,
   "metadata": {},
   "outputs": [
    {
     "data": {
      "text/html": [
       "<div>\n",
       "<style scoped>\n",
       "    .dataframe tbody tr th:only-of-type {\n",
       "        vertical-align: middle;\n",
       "    }\n",
       "\n",
       "    .dataframe tbody tr th {\n",
       "        vertical-align: top;\n",
       "    }\n",
       "\n",
       "    .dataframe thead th {\n",
       "        text-align: right;\n",
       "    }\n",
       "</style>\n",
       "<table border=\"1\" class=\"dataframe\">\n",
       "  <thead>\n",
       "    <tr style=\"text-align: right;\">\n",
       "      <th></th>\n",
       "      <th>donorID</th>\n",
       "      <th>max</th>\n",
       "      <th>min</th>\n",
       "      <th>mean</th>\n",
       "      <th>sum</th>\n",
       "      <th>count</th>\n",
       "      <th>recency_days</th>\n",
       "      <th>last_month_mean</th>\n",
       "      <th>year1_mean</th>\n",
       "      <th>year1_count</th>\n",
       "      <th>...</th>\n",
       "      <th>prov_WeF</th>\n",
       "      <th>prov_NaN</th>\n",
       "      <th>language_x</th>\n",
       "      <th>language_y</th>\n",
       "      <th>language_NaN</th>\n",
       "      <th>segment_x</th>\n",
       "      <th>segment_y</th>\n",
       "      <th>segment_z</th>\n",
       "      <th>gender_x</th>\n",
       "      <th>gender_y</th>\n",
       "    </tr>\n",
       "  </thead>\n",
       "  <tbody>\n",
       "    <tr>\n",
       "      <th>0</th>\n",
       "      <td>100001</td>\n",
       "      <td>30.00</td>\n",
       "      <td>6.69</td>\n",
       "      <td>15.100000</td>\n",
       "      <td>166.10</td>\n",
       "      <td>11.0</td>\n",
       "      <td>2440.0</td>\n",
       "      <td>NaN</td>\n",
       "      <td>NaN</td>\n",
       "      <td>NaN</td>\n",
       "      <td>...</td>\n",
       "      <td>0</td>\n",
       "      <td>0</td>\n",
       "      <td>0</td>\n",
       "      <td>1</td>\n",
       "      <td>0</td>\n",
       "      <td>0</td>\n",
       "      <td>1</td>\n",
       "      <td>0</td>\n",
       "      <td>0</td>\n",
       "      <td>0</td>\n",
       "    </tr>\n",
       "    <tr>\n",
       "      <th>1</th>\n",
       "      <td>100002</td>\n",
       "      <td>20.00</td>\n",
       "      <td>20.00</td>\n",
       "      <td>20.000000</td>\n",
       "      <td>20.00</td>\n",
       "      <td>1.0</td>\n",
       "      <td>1333.0</td>\n",
       "      <td>NaN</td>\n",
       "      <td>NaN</td>\n",
       "      <td>NaN</td>\n",
       "      <td>...</td>\n",
       "      <td>0</td>\n",
       "      <td>0</td>\n",
       "      <td>0</td>\n",
       "      <td>1</td>\n",
       "      <td>0</td>\n",
       "      <td>0</td>\n",
       "      <td>1</td>\n",
       "      <td>0</td>\n",
       "      <td>1</td>\n",
       "      <td>0</td>\n",
       "    </tr>\n",
       "    <tr>\n",
       "      <th>2</th>\n",
       "      <td>100004</td>\n",
       "      <td>49.58</td>\n",
       "      <td>24.79</td>\n",
       "      <td>27.657200</td>\n",
       "      <td>691.43</td>\n",
       "      <td>25.0</td>\n",
       "      <td>2650.0</td>\n",
       "      <td>NaN</td>\n",
       "      <td>NaN</td>\n",
       "      <td>NaN</td>\n",
       "      <td>...</td>\n",
       "      <td>0</td>\n",
       "      <td>0</td>\n",
       "      <td>1</td>\n",
       "      <td>0</td>\n",
       "      <td>0</td>\n",
       "      <td>0</td>\n",
       "      <td>0</td>\n",
       "      <td>0</td>\n",
       "      <td>0</td>\n",
       "      <td>0</td>\n",
       "    </tr>\n",
       "    <tr>\n",
       "      <th>3</th>\n",
       "      <td>100008</td>\n",
       "      <td>50.00</td>\n",
       "      <td>24.79</td>\n",
       "      <td>41.456667</td>\n",
       "      <td>124.37</td>\n",
       "      <td>3.0</td>\n",
       "      <td>2503.0</td>\n",
       "      <td>NaN</td>\n",
       "      <td>NaN</td>\n",
       "      <td>NaN</td>\n",
       "      <td>...</td>\n",
       "      <td>0</td>\n",
       "      <td>0</td>\n",
       "      <td>1</td>\n",
       "      <td>0</td>\n",
       "      <td>0</td>\n",
       "      <td>0</td>\n",
       "      <td>0</td>\n",
       "      <td>1</td>\n",
       "      <td>1</td>\n",
       "      <td>0</td>\n",
       "    </tr>\n",
       "    <tr>\n",
       "      <th>4</th>\n",
       "      <td>100009</td>\n",
       "      <td>25.00</td>\n",
       "      <td>7.44</td>\n",
       "      <td>17.198947</td>\n",
       "      <td>326.78</td>\n",
       "      <td>19.0</td>\n",
       "      <td>2354.0</td>\n",
       "      <td>NaN</td>\n",
       "      <td>NaN</td>\n",
       "      <td>NaN</td>\n",
       "      <td>...</td>\n",
       "      <td>0</td>\n",
       "      <td>0</td>\n",
       "      <td>1</td>\n",
       "      <td>0</td>\n",
       "      <td>0</td>\n",
       "      <td>0</td>\n",
       "      <td>1</td>\n",
       "      <td>0</td>\n",
       "      <td>1</td>\n",
       "      <td>0</td>\n",
       "    </tr>\n",
       "  </tbody>\n",
       "</table>\n",
       "<p>5 rows × 35 columns</p>\n",
       "</div>"
      ],
      "text/plain": [
       "   donorID    max    min       mean     sum  count  recency_days  \\\n",
       "0   100001  30.00   6.69  15.100000  166.10   11.0        2440.0   \n",
       "1   100002  20.00  20.00  20.000000   20.00    1.0        1333.0   \n",
       "2   100004  49.58  24.79  27.657200  691.43   25.0        2650.0   \n",
       "3   100008  50.00  24.79  41.456667  124.37    3.0        2503.0   \n",
       "4   100009  25.00   7.44  17.198947  326.78   19.0        2354.0   \n",
       "\n",
       "   last_month_mean  year1_mean  year1_count  ...  prov_WeF  prov_NaN  \\\n",
       "0              NaN         NaN          NaN  ...         0         0   \n",
       "1              NaN         NaN          NaN  ...         0         0   \n",
       "2              NaN         NaN          NaN  ...         0         0   \n",
       "3              NaN         NaN          NaN  ...         0         0   \n",
       "4              NaN         NaN          NaN  ...         0         0   \n",
       "\n",
       "   language_x  language_y  language_NaN  segment_x  segment_y  segment_z  \\\n",
       "0           0           1             0          0          1          0   \n",
       "1           0           1             0          0          1          0   \n",
       "2           1           0             0          0          0          0   \n",
       "3           1           0             0          0          0          1   \n",
       "4           1           0             0          0          1          0   \n",
       "\n",
       "   gender_x  gender_y  \n",
       "0         0         0  \n",
       "1         1         0  \n",
       "2         0         0  \n",
       "3         1         0  \n",
       "4         1         0  \n",
       "\n",
       "[5 rows x 35 columns]"
      ]
     },
     "execution_count": 55,
     "metadata": {},
     "output_type": "execute_result"
    }
   ],
   "source": [
    "basetable_training.head()"
   ]
  },
  {
   "cell_type": "markdown",
   "metadata": {},
   "source": [
    "#### - Replace missing values"
   ]
  },
  {
   "cell_type": "code",
   "execution_count": 56,
   "metadata": {},
   "outputs": [],
   "source": [
    "#replace missing values by 0\n",
    "\n",
    "basetable_training[\"last_month_mean\"] = basetable_training[\"last_month_mean\"].replace(np.nan, 0)\n",
    "basetable_training[\"count\"] = basetable_training[\"count\"].replace(np.nan, 0)\n",
    "basetable_training[\"year1_mean\"] = basetable_training[\"year1_mean\"].replace(np.nan, 0)\n",
    "basetable_training[\"year1_count\"] = basetable_training[\"year1_count\"].replace(np.nan, 0)\n",
    "basetable_training[\"year2_mean\"] = basetable_training[\"year2_mean\"].replace(np.nan, 0)\n",
    "basetable_training[\"year2_count\"] = basetable_training[\"year2_count\"].replace(np.nan, 0)\n",
    "basetable_training[\"ratio_month_year\"] = basetable_training[\"ratio_month_year\"].replace(np.nan, 0)\n",
    "basetable_training[\"ratio_year2year_mean\"] = basetable_training[\"ratio_year2year_mean\"].replace(np.nan, 0)\n",
    "basetable_training[\"ratio_year2year_count\"] = basetable_training[\"ratio_year2year_count\"].replace(np.nan, 0)\n",
    "\n",
    "\n",
    "# There are missing values in the variable Age. We replace it by the median age of donors\n",
    "#for n in basetable_training['age_6169']:\n",
    " #   if basetable_training['age_6169'].isna().sum() > 0:\n",
    "  #      basetable_training[basetable_training['age_6169'].isna()] = basetable_training['age_6169'].median()"
   ]
  },
  {
   "cell_type": "code",
   "execution_count": 57,
   "metadata": {},
   "outputs": [],
   "source": [
    "basetable_training['age_NaN'] = basetable_training['age_6169'].isna()*1"
   ]
  },
  {
   "cell_type": "code",
   "execution_count": 58,
   "metadata": {},
   "outputs": [
    {
     "data": {
      "text/plain": [
       "1113"
      ]
     },
     "execution_count": 58,
     "metadata": {},
     "output_type": "execute_result"
    }
   ],
   "source": [
    "basetable_training['age_NaN'].sum()"
   ]
  },
  {
   "cell_type": "code",
   "execution_count": 59,
   "metadata": {},
   "outputs": [
    {
     "data": {
      "text/plain": [
       "47.3"
      ]
     },
     "execution_count": 59,
     "metadata": {},
     "output_type": "execute_result"
    }
   ],
   "source": [
    "basetable_training[\"age_6169\"].median()"
   ]
  },
  {
   "cell_type": "code",
   "execution_count": 60,
   "metadata": {},
   "outputs": [],
   "source": [
    "basetable_training[\"age_6169\"] = basetable_training[\"age_6169\"].replace(np.nan, basetable_training[\"age_6169\"].median())\n"
   ]
  },
  {
   "cell_type": "code",
   "execution_count": 61,
   "metadata": {},
   "outputs": [
    {
     "data": {
      "text/plain": [
       "0"
      ]
     },
     "execution_count": 61,
     "metadata": {},
     "output_type": "execute_result"
    }
   ],
   "source": [
    "basetable_training[\"age_6169\"].isna().sum()"
   ]
  },
  {
   "cell_type": "code",
   "execution_count": 62,
   "metadata": {},
   "outputs": [
    {
     "data": {
      "text/plain": [
       "1111"
      ]
     },
     "execution_count": 62,
     "metadata": {},
     "output_type": "execute_result"
    }
   ],
   "source": [
    "basetable_training[\"recency_days\"].isna().sum()"
   ]
  },
  {
   "cell_type": "code",
   "execution_count": 63,
   "metadata": {},
   "outputs": [],
   "source": [
    "basetable_training[\"recency_days_NaN\"] = basetable_training[\"recency_days\"].isna()*1"
   ]
  },
  {
   "cell_type": "code",
   "execution_count": 64,
   "metadata": {},
   "outputs": [
    {
     "data": {
      "text/plain": [
       "1111"
      ]
     },
     "execution_count": 64,
     "metadata": {},
     "output_type": "execute_result"
    }
   ],
   "source": [
    "basetable_training[\"recency_days_NaN\"].sum()"
   ]
  },
  {
   "cell_type": "code",
   "execution_count": 65,
   "metadata": {},
   "outputs": [],
   "source": [
    "basetable_training[\"recency_days\"] = basetable_training[\"recency_days\"].replace(np.nan, basetable_training[\"recency_days\"].median())"
   ]
  },
  {
   "cell_type": "code",
   "execution_count": 66,
   "metadata": {},
   "outputs": [
    {
     "data": {
      "text/plain": [
       "0"
      ]
     },
     "execution_count": 66,
     "metadata": {},
     "output_type": "execute_result"
    }
   ],
   "source": [
    "basetable_training[\"recency_days\"].isna().sum()"
   ]
  },
  {
   "cell_type": "code",
   "execution_count": 67,
   "metadata": {},
   "outputs": [
    {
     "data": {
      "text/html": [
       "<div>\n",
       "<style scoped>\n",
       "    .dataframe tbody tr th:only-of-type {\n",
       "        vertical-align: middle;\n",
       "    }\n",
       "\n",
       "    .dataframe tbody tr th {\n",
       "        vertical-align: top;\n",
       "    }\n",
       "\n",
       "    .dataframe thead th {\n",
       "        text-align: right;\n",
       "    }\n",
       "</style>\n",
       "<table border=\"1\" class=\"dataframe\">\n",
       "  <thead>\n",
       "    <tr style=\"text-align: right;\">\n",
       "      <th></th>\n",
       "      <th>donorID</th>\n",
       "      <th>max</th>\n",
       "      <th>min</th>\n",
       "      <th>mean</th>\n",
       "      <th>sum</th>\n",
       "      <th>count</th>\n",
       "      <th>recency_days</th>\n",
       "      <th>last_month_mean</th>\n",
       "      <th>year1_mean</th>\n",
       "      <th>year1_count</th>\n",
       "      <th>...</th>\n",
       "      <th>language_x</th>\n",
       "      <th>language_y</th>\n",
       "      <th>language_NaN</th>\n",
       "      <th>segment_x</th>\n",
       "      <th>segment_y</th>\n",
       "      <th>segment_z</th>\n",
       "      <th>gender_x</th>\n",
       "      <th>gender_y</th>\n",
       "      <th>age_NaN</th>\n",
       "      <th>recency_days_NaN</th>\n",
       "    </tr>\n",
       "  </thead>\n",
       "  <tbody>\n",
       "    <tr>\n",
       "      <th>0</th>\n",
       "      <td>100001</td>\n",
       "      <td>30.00</td>\n",
       "      <td>6.69</td>\n",
       "      <td>15.100000</td>\n",
       "      <td>166.10</td>\n",
       "      <td>11.0</td>\n",
       "      <td>2440.0</td>\n",
       "      <td>0.0</td>\n",
       "      <td>0.0</td>\n",
       "      <td>0.0</td>\n",
       "      <td>...</td>\n",
       "      <td>0</td>\n",
       "      <td>1</td>\n",
       "      <td>0</td>\n",
       "      <td>0</td>\n",
       "      <td>1</td>\n",
       "      <td>0</td>\n",
       "      <td>0</td>\n",
       "      <td>0</td>\n",
       "      <td>0</td>\n",
       "      <td>0</td>\n",
       "    </tr>\n",
       "    <tr>\n",
       "      <th>1</th>\n",
       "      <td>100002</td>\n",
       "      <td>20.00</td>\n",
       "      <td>20.00</td>\n",
       "      <td>20.000000</td>\n",
       "      <td>20.00</td>\n",
       "      <td>1.0</td>\n",
       "      <td>1333.0</td>\n",
       "      <td>0.0</td>\n",
       "      <td>0.0</td>\n",
       "      <td>0.0</td>\n",
       "      <td>...</td>\n",
       "      <td>0</td>\n",
       "      <td>1</td>\n",
       "      <td>0</td>\n",
       "      <td>0</td>\n",
       "      <td>1</td>\n",
       "      <td>0</td>\n",
       "      <td>1</td>\n",
       "      <td>0</td>\n",
       "      <td>0</td>\n",
       "      <td>0</td>\n",
       "    </tr>\n",
       "    <tr>\n",
       "      <th>2</th>\n",
       "      <td>100004</td>\n",
       "      <td>49.58</td>\n",
       "      <td>24.79</td>\n",
       "      <td>27.657200</td>\n",
       "      <td>691.43</td>\n",
       "      <td>25.0</td>\n",
       "      <td>2650.0</td>\n",
       "      <td>0.0</td>\n",
       "      <td>0.0</td>\n",
       "      <td>0.0</td>\n",
       "      <td>...</td>\n",
       "      <td>1</td>\n",
       "      <td>0</td>\n",
       "      <td>0</td>\n",
       "      <td>0</td>\n",
       "      <td>0</td>\n",
       "      <td>0</td>\n",
       "      <td>0</td>\n",
       "      <td>0</td>\n",
       "      <td>0</td>\n",
       "      <td>0</td>\n",
       "    </tr>\n",
       "    <tr>\n",
       "      <th>3</th>\n",
       "      <td>100008</td>\n",
       "      <td>50.00</td>\n",
       "      <td>24.79</td>\n",
       "      <td>41.456667</td>\n",
       "      <td>124.37</td>\n",
       "      <td>3.0</td>\n",
       "      <td>2503.0</td>\n",
       "      <td>0.0</td>\n",
       "      <td>0.0</td>\n",
       "      <td>0.0</td>\n",
       "      <td>...</td>\n",
       "      <td>1</td>\n",
       "      <td>0</td>\n",
       "      <td>0</td>\n",
       "      <td>0</td>\n",
       "      <td>0</td>\n",
       "      <td>1</td>\n",
       "      <td>1</td>\n",
       "      <td>0</td>\n",
       "      <td>0</td>\n",
       "      <td>0</td>\n",
       "    </tr>\n",
       "    <tr>\n",
       "      <th>4</th>\n",
       "      <td>100009</td>\n",
       "      <td>25.00</td>\n",
       "      <td>7.44</td>\n",
       "      <td>17.198947</td>\n",
       "      <td>326.78</td>\n",
       "      <td>19.0</td>\n",
       "      <td>2354.0</td>\n",
       "      <td>0.0</td>\n",
       "      <td>0.0</td>\n",
       "      <td>0.0</td>\n",
       "      <td>...</td>\n",
       "      <td>1</td>\n",
       "      <td>0</td>\n",
       "      <td>0</td>\n",
       "      <td>0</td>\n",
       "      <td>1</td>\n",
       "      <td>0</td>\n",
       "      <td>1</td>\n",
       "      <td>0</td>\n",
       "      <td>0</td>\n",
       "      <td>0</td>\n",
       "    </tr>\n",
       "  </tbody>\n",
       "</table>\n",
       "<p>5 rows × 37 columns</p>\n",
       "</div>"
      ],
      "text/plain": [
       "   donorID    max    min       mean     sum  count  recency_days  \\\n",
       "0   100001  30.00   6.69  15.100000  166.10   11.0        2440.0   \n",
       "1   100002  20.00  20.00  20.000000   20.00    1.0        1333.0   \n",
       "2   100004  49.58  24.79  27.657200  691.43   25.0        2650.0   \n",
       "3   100008  50.00  24.79  41.456667  124.37    3.0        2503.0   \n",
       "4   100009  25.00   7.44  17.198947  326.78   19.0        2354.0   \n",
       "\n",
       "   last_month_mean  year1_mean  year1_count  ...  language_x  language_y  \\\n",
       "0              0.0         0.0          0.0  ...           0           1   \n",
       "1              0.0         0.0          0.0  ...           0           1   \n",
       "2              0.0         0.0          0.0  ...           1           0   \n",
       "3              0.0         0.0          0.0  ...           1           0   \n",
       "4              0.0         0.0          0.0  ...           1           0   \n",
       "\n",
       "   language_NaN  segment_x  segment_y  segment_z  gender_x  gender_y  age_NaN  \\\n",
       "0             0          0          1          0         0         0        0   \n",
       "1             0          0          1          0         1         0        0   \n",
       "2             0          0          0          0         0         0        0   \n",
       "3             0          0          0          1         1         0        0   \n",
       "4             0          0          1          0         1         0        0   \n",
       "\n",
       "   recency_days_NaN  \n",
       "0                 0  \n",
       "1                 0  \n",
       "2                 0  \n",
       "3                 0  \n",
       "4                 0  \n",
       "\n",
       "[5 rows x 37 columns]"
      ]
     },
     "execution_count": 67,
     "metadata": {},
     "output_type": "execute_result"
    }
   ],
   "source": [
    "basetable_training.head()"
   ]
  },
  {
   "cell_type": "markdown",
   "metadata": {},
   "source": [
    "#### Dealing with outliers"
   ]
  },
  {
   "cell_type": "code",
   "execution_count": 68,
   "metadata": {},
   "outputs": [
    {
     "name": "stdout",
     "output_type": "stream",
     "text": [
      "129.3\n",
      "20.2\n"
     ]
    }
   ],
   "source": [
    "\n",
    "# Show the maximum age \n",
    "\n",
    "print(basetable_training[\"age_6169\"].max())\n",
    "print(basetable_training[\"age_6169\"].min())"
   ]
  },
  {
   "cell_type": "code",
   "execution_count": 69,
   "metadata": {},
   "outputs": [
    {
     "name": "stdout",
     "output_type": "stream",
     "text": [
      "96.02013507694956\n"
     ]
    }
   ],
   "source": [
    "#Dealing with outliers in the variable age\n",
    "\n",
    "# Calculate mean and standard deviation of age\n",
    "mean_age6169 = basetable_training[\"age_6169\"].mean()\n",
    "std_age6169 = basetable_training[\"age_6169\"].std()\n",
    "\n",
    "# Calculate the lower and upper limits\n",
    "lower_limit6169 = mean_age6169 - std_age6169 * 3\n",
    "upper_limit6169 = mean_age6169 + std_age6169 * 3\n",
    "\n",
    "# Add a variable age_no_outliers to the basetable with outliers replaced\n",
    "basetable_training[\"age_no_outliers\"] = (pd.Series([min(max(a, lower_limit6169), upper_limit6169) \n",
    "                             for a in basetable_training[\"age_6169\"]]))\n",
    "print(basetable_training[\"age_no_outliers\"].max())"
   ]
  },
  {
   "cell_type": "code",
   "execution_count": 70,
   "metadata": {},
   "outputs": [],
   "source": [
    "#Delete previous age columns\n",
    "del basetable_training[\"age_6169\"]"
   ]
  },
  {
   "cell_type": "code",
   "execution_count": 71,
   "metadata": {},
   "outputs": [
    {
     "name": "stdout",
     "output_type": "stream",
     "text": [
      "1.3\n",
      "2479000.0\n"
     ]
    }
   ],
   "source": [
    "# Check minimum and max mean of donations\n",
    "print(basetable_training[\"mean\"].min())\n",
    "print(basetable_training[\"mean\"].max())\n"
   ]
  },
  {
   "cell_type": "code",
   "execution_count": 72,
   "metadata": {},
   "outputs": [
    {
     "name": "stdout",
     "output_type": "stream",
     "text": [
      "123.95\n"
     ]
    }
   ],
   "source": [
    "# Fill out the lower limit\n",
    "lower_limit6169 = 0.0\n",
    "\n",
    "# Winsorize the variable sum_donations\n",
    "basetable_training[\"mean\"] = winsorize(basetable_training[\"mean\"], limits=[lower_limit6169, 0.04])\n",
    "\n",
    "# Check maximum sum of donations after winsorization\n",
    "print(basetable_training[\"mean\"].max())"
   ]
  },
  {
   "cell_type": "code",
   "execution_count": 73,
   "metadata": {},
   "outputs": [
    {
     "name": "stdout",
     "output_type": "stream",
     "text": [
      "1.3\n",
      "2479000.0\n"
     ]
    }
   ],
   "source": [
    "# Check minimum, maximum sum of donations\n",
    "print(basetable_training[\"sum\"].min())\n",
    "print(basetable_training[\"sum\"].max())"
   ]
  },
  {
   "cell_type": "code",
   "execution_count": 74,
   "metadata": {},
   "outputs": [
    {
     "name": "stdout",
     "output_type": "stream",
     "text": [
      "998.95\n"
     ]
    }
   ],
   "source": [
    "# Fill out the lower limit\n",
    "lower_limit6169 = 0.0\n",
    "\n",
    "# Winsorize the variable sum_donations\n",
    "basetable_training[\"sum\"] = winsorize(basetable_training[\"sum\"], limits=[lower_limit6169, 0.04])\n",
    "\n",
    "# Check maximum sum of donations after winsorization\n",
    "print(basetable_training[\"sum\"].max())"
   ]
  },
  {
   "cell_type": "code",
   "execution_count": 75,
   "metadata": {},
   "outputs": [
    {
     "name": "stdout",
     "output_type": "stream",
     "text": [
      "0.1\n",
      "2479000.0\n"
     ]
    }
   ],
   "source": [
    "# Check min and max of min amount of donations per donors\n",
    "print(basetable_training[\"min\"].min())\n",
    "print(basetable_training[\"min\"].max())"
   ]
  },
  {
   "cell_type": "code",
   "execution_count": 76,
   "metadata": {},
   "outputs": [
    {
     "name": "stdout",
     "output_type": "stream",
     "text": [
      "100.0\n"
     ]
    }
   ],
   "source": [
    "# Fill out the lower limit\n",
    "lower_limit6169 = 0.0\n",
    "\n",
    "# Winsorize the variable sum_donations\n",
    "basetable_training[\"min\"] = winsorize(basetable_training[\"min\"], limits=[lower_limit6169, 0.04])\n",
    "\n",
    "# Check maximum sum of donations after winsorization\n",
    "print(basetable_training[\"min\"].max())"
   ]
  },
  {
   "cell_type": "code",
   "execution_count": 77,
   "metadata": {},
   "outputs": [
    {
     "name": "stdout",
     "output_type": "stream",
     "text": [
      "1.3\n",
      "2479000.0\n"
     ]
    }
   ],
   "source": [
    "# Check min and max of max amount of donations per donors\n",
    "print(basetable_training[\"max\"].min())\n",
    "print(basetable_training[\"max\"].max())"
   ]
  },
  {
   "cell_type": "code",
   "execution_count": 78,
   "metadata": {},
   "outputs": [
    {
     "name": "stdout",
     "output_type": "stream",
     "text": [
      "200.0\n"
     ]
    }
   ],
   "source": [
    "# Fill out the lower limit\n",
    "lower_limit6169 = 0.0\n",
    "\n",
    "# Winsorize the variable sum_donations\n",
    "basetable_training[\"max\"] = winsorize(basetable_training[\"max\"], limits=[lower_limit6169, 0.04])\n",
    "\n",
    "# Check maximum sum of donations after winsorization\n",
    "print(basetable_training[\"max\"].max())"
   ]
  },
  {
   "cell_type": "markdown",
   "metadata": {},
   "source": [
    "#### ADD target variables to the base table"
   ]
  },
  {
   "cell_type": "code",
   "execution_count": 79,
   "metadata": {
    "scrolled": true
   },
   "outputs": [
    {
     "data": {
      "text/html": [
       "<div>\n",
       "<style scoped>\n",
       "    .dataframe tbody tr th:only-of-type {\n",
       "        vertical-align: middle;\n",
       "    }\n",
       "\n",
       "    .dataframe tbody tr th {\n",
       "        vertical-align: top;\n",
       "    }\n",
       "\n",
       "    .dataframe thead th {\n",
       "        text-align: right;\n",
       "    }\n",
       "</style>\n",
       "<table border=\"1\" class=\"dataframe\">\n",
       "  <thead>\n",
       "    <tr style=\"text-align: right;\">\n",
       "      <th></th>\n",
       "      <th>donorID</th>\n",
       "      <th>max</th>\n",
       "      <th>min</th>\n",
       "      <th>mean</th>\n",
       "      <th>sum</th>\n",
       "      <th>count</th>\n",
       "      <th>recency_days</th>\n",
       "      <th>last_month_mean</th>\n",
       "      <th>year1_mean</th>\n",
       "      <th>year1_count</th>\n",
       "      <th>...</th>\n",
       "      <th>language_NaN</th>\n",
       "      <th>segment_x</th>\n",
       "      <th>segment_y</th>\n",
       "      <th>segment_z</th>\n",
       "      <th>gender_x</th>\n",
       "      <th>gender_y</th>\n",
       "      <th>age_NaN</th>\n",
       "      <th>recency_days_NaN</th>\n",
       "      <th>age_no_outliers</th>\n",
       "      <th>target</th>\n",
       "    </tr>\n",
       "  </thead>\n",
       "  <tbody>\n",
       "    <tr>\n",
       "      <th>0</th>\n",
       "      <td>100001</td>\n",
       "      <td>30.00</td>\n",
       "      <td>6.69</td>\n",
       "      <td>15.100000</td>\n",
       "      <td>166.10</td>\n",
       "      <td>11.0</td>\n",
       "      <td>2440.0</td>\n",
       "      <td>0.0</td>\n",
       "      <td>0.0</td>\n",
       "      <td>0.0</td>\n",
       "      <td>...</td>\n",
       "      <td>0</td>\n",
       "      <td>0</td>\n",
       "      <td>1</td>\n",
       "      <td>0</td>\n",
       "      <td>0</td>\n",
       "      <td>0</td>\n",
       "      <td>0</td>\n",
       "      <td>0</td>\n",
       "      <td>50.7</td>\n",
       "      <td>0</td>\n",
       "    </tr>\n",
       "    <tr>\n",
       "      <th>1</th>\n",
       "      <td>100002</td>\n",
       "      <td>20.00</td>\n",
       "      <td>20.00</td>\n",
       "      <td>20.000000</td>\n",
       "      <td>20.00</td>\n",
       "      <td>1.0</td>\n",
       "      <td>1333.0</td>\n",
       "      <td>0.0</td>\n",
       "      <td>0.0</td>\n",
       "      <td>0.0</td>\n",
       "      <td>...</td>\n",
       "      <td>0</td>\n",
       "      <td>0</td>\n",
       "      <td>1</td>\n",
       "      <td>0</td>\n",
       "      <td>1</td>\n",
       "      <td>0</td>\n",
       "      <td>0</td>\n",
       "      <td>0</td>\n",
       "      <td>66.7</td>\n",
       "      <td>0</td>\n",
       "    </tr>\n",
       "    <tr>\n",
       "      <th>2</th>\n",
       "      <td>100004</td>\n",
       "      <td>49.58</td>\n",
       "      <td>24.79</td>\n",
       "      <td>27.657200</td>\n",
       "      <td>691.43</td>\n",
       "      <td>25.0</td>\n",
       "      <td>2650.0</td>\n",
       "      <td>0.0</td>\n",
       "      <td>0.0</td>\n",
       "      <td>0.0</td>\n",
       "      <td>...</td>\n",
       "      <td>0</td>\n",
       "      <td>0</td>\n",
       "      <td>0</td>\n",
       "      <td>0</td>\n",
       "      <td>0</td>\n",
       "      <td>0</td>\n",
       "      <td>0</td>\n",
       "      <td>0</td>\n",
       "      <td>66.5</td>\n",
       "      <td>0</td>\n",
       "    </tr>\n",
       "    <tr>\n",
       "      <th>3</th>\n",
       "      <td>100008</td>\n",
       "      <td>50.00</td>\n",
       "      <td>24.79</td>\n",
       "      <td>41.456667</td>\n",
       "      <td>124.37</td>\n",
       "      <td>3.0</td>\n",
       "      <td>2503.0</td>\n",
       "      <td>0.0</td>\n",
       "      <td>0.0</td>\n",
       "      <td>0.0</td>\n",
       "      <td>...</td>\n",
       "      <td>0</td>\n",
       "      <td>0</td>\n",
       "      <td>0</td>\n",
       "      <td>1</td>\n",
       "      <td>1</td>\n",
       "      <td>0</td>\n",
       "      <td>0</td>\n",
       "      <td>0</td>\n",
       "      <td>81.1</td>\n",
       "      <td>0</td>\n",
       "    </tr>\n",
       "    <tr>\n",
       "      <th>4</th>\n",
       "      <td>100009</td>\n",
       "      <td>25.00</td>\n",
       "      <td>7.44</td>\n",
       "      <td>17.198947</td>\n",
       "      <td>326.78</td>\n",
       "      <td>19.0</td>\n",
       "      <td>2354.0</td>\n",
       "      <td>0.0</td>\n",
       "      <td>0.0</td>\n",
       "      <td>0.0</td>\n",
       "      <td>...</td>\n",
       "      <td>0</td>\n",
       "      <td>0</td>\n",
       "      <td>1</td>\n",
       "      <td>0</td>\n",
       "      <td>1</td>\n",
       "      <td>0</td>\n",
       "      <td>0</td>\n",
       "      <td>0</td>\n",
       "      <td>86.7</td>\n",
       "      <td>0</td>\n",
       "    </tr>\n",
       "  </tbody>\n",
       "</table>\n",
       "<p>5 rows × 38 columns</p>\n",
       "</div>"
      ],
      "text/plain": [
       "   donorID    max    min       mean     sum  count  recency_days  \\\n",
       "0   100001  30.00   6.69  15.100000  166.10   11.0        2440.0   \n",
       "1   100002  20.00  20.00  20.000000   20.00    1.0        1333.0   \n",
       "2   100004  49.58  24.79  27.657200  691.43   25.0        2650.0   \n",
       "3   100008  50.00  24.79  41.456667  124.37    3.0        2503.0   \n",
       "4   100009  25.00   7.44  17.198947  326.78   19.0        2354.0   \n",
       "\n",
       "   last_month_mean  year1_mean  year1_count  ...  language_NaN  segment_x  \\\n",
       "0              0.0         0.0          0.0  ...             0          0   \n",
       "1              0.0         0.0          0.0  ...             0          0   \n",
       "2              0.0         0.0          0.0  ...             0          0   \n",
       "3              0.0         0.0          0.0  ...             0          0   \n",
       "4              0.0         0.0          0.0  ...             0          0   \n",
       "\n",
       "   segment_y  segment_z  gender_x  gender_y  age_NaN  recency_days_NaN  \\\n",
       "0          1          0         0         0        0                 0   \n",
       "1          1          0         1         0        0                 0   \n",
       "2          0          0         0         0        0                 0   \n",
       "3          0          1         1         0        0                 0   \n",
       "4          1          0         1         0        0                 0   \n",
       "\n",
       "   age_no_outliers  target  \n",
       "0             50.7       0  \n",
       "1             66.7       0  \n",
       "2             66.5       0  \n",
       "3             81.1       0  \n",
       "4             86.7       0  \n",
       "\n",
       "[5 rows x 38 columns]"
      ]
     },
     "execution_count": 79,
     "metadata": {},
     "output_type": "execute_result"
    }
   ],
   "source": [
    "#derive targets and add to the basetables\n",
    "\n",
    "target = list(target_training[\"donorID\"][target_training[\"amount\"] > 0])\n",
    "\n",
    "basetable_training[\"target\"] = pd.Series([1 if donorID in target else 0 for donorID in basetable_training[\"donorID\"]])\n",
    "basetable_training.head()"
   ]
  },
  {
   "cell_type": "code",
   "execution_count": 233,
   "metadata": {},
   "outputs": [
    {
     "data": {
      "text/plain": [
       "Index(['donorID', 'max', 'min', 'mean', 'sum', 'count', 'recency_days',\n",
       "       'last_month_mean', 'year1_mean', 'year1_count', 'year2_mean',\n",
       "       'year2_count', 'ratio_month_year', 'ratio_year2year_mean',\n",
       "       'ratio_year2year_count', 'prov_Br', 'prov_EaF', 'prov_FB', 'prov_Ha',\n",
       "       'prov_Liege', 'prov_Lim', 'prov_Lux', 'prov_Na', 'prov_WaB', 'prov_WeF',\n",
       "       'prov_NaN', 'language_x', 'language_y', 'language_NaN', 'segment_x',\n",
       "       'segment_y', 'segment_z', 'gender_x', 'gender_y', 'age_NaN',\n",
       "       'recency_days_NaN', 'age_no_outliers', 'target', 'proba_stepwise'],\n",
       "      dtype='object')"
      ]
     },
     "execution_count": 233,
     "metadata": {},
     "output_type": "execute_result"
    }
   ],
   "source": [
    "basetable_training.columns"
   ]
  },
  {
   "cell_type": "code",
   "execution_count": 80,
   "metadata": {},
   "outputs": [
    {
     "name": "stdout",
     "output_type": "stream",
     "text": [
      "0.034\n"
     ]
    }
   ],
   "source": [
    "# Target incidences\n",
    "print(round(sum(basetable_training[\"target\"]) / len(basetable_training), 3))\n"
   ]
  },
  {
   "cell_type": "code",
   "execution_count": 81,
   "metadata": {},
   "outputs": [
    {
     "data": {
      "text/plain": [
       "0"
      ]
     },
     "execution_count": 81,
     "metadata": {},
     "output_type": "execute_result"
    }
   ],
   "source": [
    "\n",
    "basetable_training.isna().sum().sum()\n"
   ]
  },
  {
   "cell_type": "code",
   "execution_count": 82,
   "metadata": {},
   "outputs": [
    {
     "data": {
      "text/html": [
       "<div>\n",
       "<style scoped>\n",
       "    .dataframe tbody tr th:only-of-type {\n",
       "        vertical-align: middle;\n",
       "    }\n",
       "\n",
       "    .dataframe tbody tr th {\n",
       "        vertical-align: top;\n",
       "    }\n",
       "\n",
       "    .dataframe thead th {\n",
       "        text-align: right;\n",
       "    }\n",
       "</style>\n",
       "<table border=\"1\" class=\"dataframe\">\n",
       "  <thead>\n",
       "    <tr style=\"text-align: right;\">\n",
       "      <th></th>\n",
       "      <th>donorID</th>\n",
       "      <th>max</th>\n",
       "      <th>min</th>\n",
       "      <th>mean</th>\n",
       "      <th>sum</th>\n",
       "      <th>count</th>\n",
       "      <th>recency_days</th>\n",
       "      <th>last_month_mean</th>\n",
       "      <th>year1_mean</th>\n",
       "      <th>year1_count</th>\n",
       "      <th>...</th>\n",
       "      <th>language_NaN</th>\n",
       "      <th>segment_x</th>\n",
       "      <th>segment_y</th>\n",
       "      <th>segment_z</th>\n",
       "      <th>gender_x</th>\n",
       "      <th>gender_y</th>\n",
       "      <th>age_NaN</th>\n",
       "      <th>recency_days_NaN</th>\n",
       "      <th>age_no_outliers</th>\n",
       "      <th>target</th>\n",
       "    </tr>\n",
       "  </thead>\n",
       "  <tbody>\n",
       "    <tr>\n",
       "      <th>0</th>\n",
       "      <td>100001</td>\n",
       "      <td>30.00</td>\n",
       "      <td>6.69</td>\n",
       "      <td>15.100000</td>\n",
       "      <td>166.10</td>\n",
       "      <td>11.0</td>\n",
       "      <td>2440.0</td>\n",
       "      <td>0.0</td>\n",
       "      <td>0.0</td>\n",
       "      <td>0.0</td>\n",
       "      <td>...</td>\n",
       "      <td>0</td>\n",
       "      <td>0</td>\n",
       "      <td>1</td>\n",
       "      <td>0</td>\n",
       "      <td>0</td>\n",
       "      <td>0</td>\n",
       "      <td>0</td>\n",
       "      <td>0</td>\n",
       "      <td>50.7</td>\n",
       "      <td>0</td>\n",
       "    </tr>\n",
       "    <tr>\n",
       "      <th>1</th>\n",
       "      <td>100002</td>\n",
       "      <td>20.00</td>\n",
       "      <td>20.00</td>\n",
       "      <td>20.000000</td>\n",
       "      <td>20.00</td>\n",
       "      <td>1.0</td>\n",
       "      <td>1333.0</td>\n",
       "      <td>0.0</td>\n",
       "      <td>0.0</td>\n",
       "      <td>0.0</td>\n",
       "      <td>...</td>\n",
       "      <td>0</td>\n",
       "      <td>0</td>\n",
       "      <td>1</td>\n",
       "      <td>0</td>\n",
       "      <td>1</td>\n",
       "      <td>0</td>\n",
       "      <td>0</td>\n",
       "      <td>0</td>\n",
       "      <td>66.7</td>\n",
       "      <td>0</td>\n",
       "    </tr>\n",
       "    <tr>\n",
       "      <th>2</th>\n",
       "      <td>100004</td>\n",
       "      <td>49.58</td>\n",
       "      <td>24.79</td>\n",
       "      <td>27.657200</td>\n",
       "      <td>691.43</td>\n",
       "      <td>25.0</td>\n",
       "      <td>2650.0</td>\n",
       "      <td>0.0</td>\n",
       "      <td>0.0</td>\n",
       "      <td>0.0</td>\n",
       "      <td>...</td>\n",
       "      <td>0</td>\n",
       "      <td>0</td>\n",
       "      <td>0</td>\n",
       "      <td>0</td>\n",
       "      <td>0</td>\n",
       "      <td>0</td>\n",
       "      <td>0</td>\n",
       "      <td>0</td>\n",
       "      <td>66.5</td>\n",
       "      <td>0</td>\n",
       "    </tr>\n",
       "    <tr>\n",
       "      <th>3</th>\n",
       "      <td>100008</td>\n",
       "      <td>50.00</td>\n",
       "      <td>24.79</td>\n",
       "      <td>41.456667</td>\n",
       "      <td>124.37</td>\n",
       "      <td>3.0</td>\n",
       "      <td>2503.0</td>\n",
       "      <td>0.0</td>\n",
       "      <td>0.0</td>\n",
       "      <td>0.0</td>\n",
       "      <td>...</td>\n",
       "      <td>0</td>\n",
       "      <td>0</td>\n",
       "      <td>0</td>\n",
       "      <td>1</td>\n",
       "      <td>1</td>\n",
       "      <td>0</td>\n",
       "      <td>0</td>\n",
       "      <td>0</td>\n",
       "      <td>81.1</td>\n",
       "      <td>0</td>\n",
       "    </tr>\n",
       "    <tr>\n",
       "      <th>4</th>\n",
       "      <td>100009</td>\n",
       "      <td>25.00</td>\n",
       "      <td>7.44</td>\n",
       "      <td>17.198947</td>\n",
       "      <td>326.78</td>\n",
       "      <td>19.0</td>\n",
       "      <td>2354.0</td>\n",
       "      <td>0.0</td>\n",
       "      <td>0.0</td>\n",
       "      <td>0.0</td>\n",
       "      <td>...</td>\n",
       "      <td>0</td>\n",
       "      <td>0</td>\n",
       "      <td>1</td>\n",
       "      <td>0</td>\n",
       "      <td>1</td>\n",
       "      <td>0</td>\n",
       "      <td>0</td>\n",
       "      <td>0</td>\n",
       "      <td>86.7</td>\n",
       "      <td>0</td>\n",
       "    </tr>\n",
       "  </tbody>\n",
       "</table>\n",
       "<p>5 rows × 38 columns</p>\n",
       "</div>"
      ],
      "text/plain": [
       "   donorID    max    min       mean     sum  count  recency_days  \\\n",
       "0   100001  30.00   6.69  15.100000  166.10   11.0        2440.0   \n",
       "1   100002  20.00  20.00  20.000000   20.00    1.0        1333.0   \n",
       "2   100004  49.58  24.79  27.657200  691.43   25.0        2650.0   \n",
       "3   100008  50.00  24.79  41.456667  124.37    3.0        2503.0   \n",
       "4   100009  25.00   7.44  17.198947  326.78   19.0        2354.0   \n",
       "\n",
       "   last_month_mean  year1_mean  year1_count  ...  language_NaN  segment_x  \\\n",
       "0              0.0         0.0          0.0  ...             0          0   \n",
       "1              0.0         0.0          0.0  ...             0          0   \n",
       "2              0.0         0.0          0.0  ...             0          0   \n",
       "3              0.0         0.0          0.0  ...             0          0   \n",
       "4              0.0         0.0          0.0  ...             0          0   \n",
       "\n",
       "   segment_y  segment_z  gender_x  gender_y  age_NaN  recency_days_NaN  \\\n",
       "0          1          0         0         0        0                 0   \n",
       "1          1          0         1         0        0                 0   \n",
       "2          0          0         0         0        0                 0   \n",
       "3          0          1         1         0        0                 0   \n",
       "4          1          0         1         0        0                 0   \n",
       "\n",
       "   age_no_outliers  target  \n",
       "0             50.7       0  \n",
       "1             66.7       0  \n",
       "2             66.5       0  \n",
       "3             81.1       0  \n",
       "4             86.7       0  \n",
       "\n",
       "[5 rows x 38 columns]"
      ]
     },
     "execution_count": 82,
     "metadata": {},
     "output_type": "execute_result"
    }
   ],
   "source": [
    "basetable_training.head()"
   ]
  },
  {
   "cell_type": "markdown",
   "metadata": {},
   "source": [
    "### Variable selection"
   ]
  },
  {
   "cell_type": "code",
   "execution_count": 141,
   "metadata": {
    "scrolled": true
   },
   "outputs": [],
   "source": [
    "selectedFeatures = []\n",
    "target = \"target\"\n",
    "\n",
    "for column in basetable_training.columns:\n",
    "    if column not in (\"donorID\",\"target\"):\n",
    "       # (pearson,pvalue) = pearsonr(basetable_training[column],basetable_training[target])\n",
    "        #print(f\"{column} - p-vlue = {pvalue} - selected : {1 if pvalue < 0.001 else 0}\")\n",
    "        #if pvalue < 0.001:\n",
    "            selectedFeatures.append(column)"
   ]
  },
  {
   "cell_type": "code",
   "execution_count": 142,
   "metadata": {},
   "outputs": [
    {
     "data": {
      "text/plain": [
       "Index(['donorID', 'max', 'min', 'mean', 'sum', 'count', 'recency_days',\n",
       "       'last_month_mean', 'year1_mean', 'year1_count', 'year2_mean',\n",
       "       'year2_count', 'ratio_month_year', 'ratio_year2year_mean',\n",
       "       'ratio_year2year_count', 'prov_Br', 'prov_EaF', 'prov_FB', 'prov_Ha',\n",
       "       'prov_Liege', 'prov_Lim', 'prov_Lux', 'prov_Na', 'prov_WaB', 'prov_WeF',\n",
       "       'prov_NaN', 'language_x', 'language_y', 'language_NaN', 'segment_x',\n",
       "       'segment_y', 'segment_z', 'gender_x', 'gender_y', 'age_NaN',\n",
       "       'recency_days_NaN', 'age_no_outliers', 'target'],\n",
       "      dtype='object')"
      ]
     },
     "execution_count": 142,
     "metadata": {},
     "output_type": "execute_result"
    }
   ],
   "source": [
    "basetable_training.columns"
   ]
  },
  {
   "cell_type": "code",
   "execution_count": 143,
   "metadata": {},
   "outputs": [
    {
     "data": {
      "text/plain": [
       "['max',\n",
       " 'min',\n",
       " 'mean',\n",
       " 'sum',\n",
       " 'count',\n",
       " 'recency_days',\n",
       " 'last_month_mean',\n",
       " 'year1_mean',\n",
       " 'year1_count',\n",
       " 'year2_mean',\n",
       " 'year2_count',\n",
       " 'ratio_month_year',\n",
       " 'ratio_year2year_mean',\n",
       " 'ratio_year2year_count',\n",
       " 'prov_Br',\n",
       " 'prov_EaF',\n",
       " 'prov_FB',\n",
       " 'prov_Ha',\n",
       " 'prov_Liege',\n",
       " 'prov_Lim',\n",
       " 'prov_Lux',\n",
       " 'prov_Na',\n",
       " 'prov_WaB',\n",
       " 'prov_WeF',\n",
       " 'prov_NaN',\n",
       " 'language_x',\n",
       " 'language_y',\n",
       " 'language_NaN',\n",
       " 'segment_x',\n",
       " 'segment_y',\n",
       " 'segment_z',\n",
       " 'gender_x',\n",
       " 'gender_y',\n",
       " 'age_NaN',\n",
       " 'recency_days_NaN',\n",
       " 'age_no_outliers']"
      ]
     },
     "execution_count": 143,
     "metadata": {},
     "output_type": "execute_result"
    }
   ],
   "source": [
    "selectedFeatures"
   ]
  },
  {
   "cell_type": "code",
   "execution_count": 144,
   "metadata": {},
   "outputs": [],
   "source": [
    "target = \"target\""
   ]
  },
  {
   "cell_type": "code",
   "execution_count": 145,
   "metadata": {},
   "outputs": [],
   "source": [
    "def stepwiseRegresion (trainingSet: DataFrame, testSet: DataFrame, selectedFeatures: [str], target: [str]) -> DataFrame:\n",
    "\n",
    "    def computeAUC (forFeatures: [str]) -> ([str],float,float):\n",
    "    \n",
    "        model.fit(trainingSet[forFeatures], trainingSet[target])\n",
    "\n",
    "        trainingSet[\"proba_stepwise\"] = DataFrame(model.predict_proba(trainingSet[forFeatures]))[1]\n",
    "        testSet[\"proba_stepwise\"]     = DataFrame(model.predict_proba(testSet[forFeatures]))[1]\n",
    "\n",
    "        aucTraining = roc_auc_score(array(trainingSet[target]),array(trainingSet[\"proba_stepwise\"]))\n",
    "        aucTest     = roc_auc_score(array(testSet[target]),array(testSet[\"proba_stepwise\"]))\n",
    "\n",
    "        trainingSet.drop(\"proba_stepwise\", axis = 1)\n",
    "        testSet.drop(\"proba_stepwise\", axis = 1)\n",
    "\n",
    "        return (forFeatures,aucTraining,aucTest)\n",
    "\n",
    "    featuresOrder = []\n",
    "    forwardSelection = []\n",
    "\n",
    "    for step in range(len(selectedFeatures)):\n",
    "        print(f\"step {step+1}\")\n",
    "        aucs = []\n",
    "        for feature in selectedFeatures:\n",
    "            if feature not in featuresOrder:\n",
    "                modelFeatures = featuresOrder.copy()\n",
    "                modelFeatures.append(feature)\n",
    "                aucs.append(computeAUC(forFeatures = modelFeatures))\n",
    "\n",
    "        steps = DataFrame(aucs)\n",
    "        steps.columns = [\"Feature\",\"AUC training\", \"AUC test\"]\n",
    "        steps = steps.sort_values(by=[\"AUC test\"], ascending = False)\n",
    "\n",
    "        featuresOrder = steps[\"Feature\"].iloc[0]\n",
    "        forwardSelection.append((step+1, steps[\"Feature\"].iloc[0],steps[\"AUC training\"].iloc[0],steps[\"AUC test\"].iloc[0]))\n",
    "\n",
    "    df = DataFrame(forwardSelection)\n",
    "    df.columns = (\"Step\",\"Features\",\"AUC Train\",\"AUC Test\")\n",
    "    \n",
    "    return df"
   ]
  },
  {
   "cell_type": "code",
   "execution_count": 146,
   "metadata": {},
   "outputs": [],
   "source": [
    "model = GradientBoostingClassifier()"
   ]
  },
  {
   "cell_type": "code",
   "execution_count": 147,
   "metadata": {
    "scrolled": true
   },
   "outputs": [
    {
     "name": "stdout",
     "output_type": "stream",
     "text": [
      "step 1\n",
      "step 2\n",
      "step 3\n",
      "step 4\n",
      "step 5\n",
      "step 6\n",
      "step 7\n",
      "step 8\n",
      "step 9\n",
      "step 10\n",
      "step 11\n",
      "step 12\n",
      "step 13\n",
      "step 14\n",
      "step 15\n",
      "step 16\n",
      "step 17\n",
      "step 18\n",
      "step 19\n",
      "step 20\n",
      "step 21\n",
      "step 22\n",
      "step 23\n",
      "step 24\n",
      "step 25\n",
      "step 26\n",
      "step 27\n",
      "step 28\n",
      "step 29\n",
      "step 30\n",
      "step 31\n",
      "step 32\n",
      "step 33\n",
      "step 34\n",
      "step 35\n",
      "step 36\n"
     ]
    }
   ],
   "source": [
    "\n",
    "forwardSelection = stepwiseRegresion(trainingSet      = basetable_training, \n",
    "                                     testSet          = basetable_test,\n",
    "                                     selectedFeatures = selectedFeatures,\n",
    "                                     target           = target)\n"
   ]
  },
  {
   "cell_type": "code",
   "execution_count": 185,
   "metadata": {},
   "outputs": [
    {
     "data": {
      "text/html": [
       "<div>\n",
       "<style scoped>\n",
       "    .dataframe tbody tr th:only-of-type {\n",
       "        vertical-align: middle;\n",
       "    }\n",
       "\n",
       "    .dataframe tbody tr th {\n",
       "        vertical-align: top;\n",
       "    }\n",
       "\n",
       "    .dataframe thead th {\n",
       "        text-align: right;\n",
       "    }\n",
       "</style>\n",
       "<table border=\"1\" class=\"dataframe\">\n",
       "  <thead>\n",
       "    <tr style=\"text-align: right;\">\n",
       "      <th></th>\n",
       "      <th>Step</th>\n",
       "      <th>Features</th>\n",
       "      <th>AUC Train</th>\n",
       "      <th>AUC Test</th>\n",
       "    </tr>\n",
       "  </thead>\n",
       "  <tbody>\n",
       "    <tr>\n",
       "      <th>0</th>\n",
       "      <td>1</td>\n",
       "      <td>[min]</td>\n",
       "      <td>0.989606</td>\n",
       "      <td>0.738417</td>\n",
       "    </tr>\n",
       "    <tr>\n",
       "      <th>1</th>\n",
       "      <td>2</td>\n",
       "      <td>[min, segment_z]</td>\n",
       "      <td>0.991092</td>\n",
       "      <td>0.796775</td>\n",
       "    </tr>\n",
       "    <tr>\n",
       "      <th>2</th>\n",
       "      <td>3</td>\n",
       "      <td>[min, segment_z, prov_Ha]</td>\n",
       "      <td>0.991532</td>\n",
       "      <td>0.799005</td>\n",
       "    </tr>\n",
       "    <tr>\n",
       "      <th>3</th>\n",
       "      <td>4</td>\n",
       "      <td>[min, segment_z, prov_Ha, recency_days_NaN]</td>\n",
       "      <td>0.991607</td>\n",
       "      <td>0.799057</td>\n",
       "    </tr>\n",
       "    <tr>\n",
       "      <th>4</th>\n",
       "      <td>5</td>\n",
       "      <td>[min, segment_z, prov_Ha, recency_days_NaN, pr...</td>\n",
       "      <td>0.991642</td>\n",
       "      <td>0.799058</td>\n",
       "    </tr>\n",
       "    <tr>\n",
       "      <th>5</th>\n",
       "      <td>6</td>\n",
       "      <td>[min, segment_z, prov_Ha, recency_days_NaN, pr...</td>\n",
       "      <td>0.991642</td>\n",
       "      <td>0.799058</td>\n",
       "    </tr>\n",
       "    <tr>\n",
       "      <th>6</th>\n",
       "      <td>7</td>\n",
       "      <td>[min, segment_z, prov_Ha, recency_days_NaN, pr...</td>\n",
       "      <td>0.991649</td>\n",
       "      <td>0.799059</td>\n",
       "    </tr>\n",
       "    <tr>\n",
       "      <th>7</th>\n",
       "      <td>8</td>\n",
       "      <td>[min, segment_z, prov_Ha, recency_days_NaN, pr...</td>\n",
       "      <td>0.991649</td>\n",
       "      <td>0.799059</td>\n",
       "    </tr>\n",
       "    <tr>\n",
       "      <th>8</th>\n",
       "      <td>9</td>\n",
       "      <td>[min, segment_z, prov_Ha, recency_days_NaN, pr...</td>\n",
       "      <td>0.991649</td>\n",
       "      <td>0.799059</td>\n",
       "    </tr>\n",
       "    <tr>\n",
       "      <th>9</th>\n",
       "      <td>10</td>\n",
       "      <td>[min, segment_z, prov_Ha, recency_days_NaN, pr...</td>\n",
       "      <td>0.991649</td>\n",
       "      <td>0.799059</td>\n",
       "    </tr>\n",
       "    <tr>\n",
       "      <th>10</th>\n",
       "      <td>11</td>\n",
       "      <td>[min, segment_z, prov_Ha, recency_days_NaN, pr...</td>\n",
       "      <td>0.991649</td>\n",
       "      <td>0.799059</td>\n",
       "    </tr>\n",
       "    <tr>\n",
       "      <th>11</th>\n",
       "      <td>12</td>\n",
       "      <td>[min, segment_z, prov_Ha, recency_days_NaN, pr...</td>\n",
       "      <td>0.991195</td>\n",
       "      <td>0.795919</td>\n",
       "    </tr>\n",
       "    <tr>\n",
       "      <th>12</th>\n",
       "      <td>13</td>\n",
       "      <td>[min, segment_z, prov_Ha, recency_days_NaN, pr...</td>\n",
       "      <td>0.991195</td>\n",
       "      <td>0.795919</td>\n",
       "    </tr>\n",
       "    <tr>\n",
       "      <th>13</th>\n",
       "      <td>14</td>\n",
       "      <td>[min, segment_z, prov_Ha, recency_days_NaN, pr...</td>\n",
       "      <td>0.990530</td>\n",
       "      <td>0.741757</td>\n",
       "    </tr>\n",
       "    <tr>\n",
       "      <th>14</th>\n",
       "      <td>15</td>\n",
       "      <td>[min, segment_z, prov_Ha, recency_days_NaN, pr...</td>\n",
       "      <td>0.991216</td>\n",
       "      <td>0.746261</td>\n",
       "    </tr>\n",
       "    <tr>\n",
       "      <th>15</th>\n",
       "      <td>16</td>\n",
       "      <td>[min, segment_z, prov_Ha, recency_days_NaN, pr...</td>\n",
       "      <td>0.991434</td>\n",
       "      <td>0.750243</td>\n",
       "    </tr>\n",
       "    <tr>\n",
       "      <th>16</th>\n",
       "      <td>17</td>\n",
       "      <td>[min, segment_z, prov_Ha, recency_days_NaN, pr...</td>\n",
       "      <td>0.991434</td>\n",
       "      <td>0.750243</td>\n",
       "    </tr>\n",
       "    <tr>\n",
       "      <th>17</th>\n",
       "      <td>18</td>\n",
       "      <td>[min, segment_z, prov_Ha, recency_days_NaN, pr...</td>\n",
       "      <td>0.991478</td>\n",
       "      <td>0.749835</td>\n",
       "    </tr>\n",
       "    <tr>\n",
       "      <th>18</th>\n",
       "      <td>19</td>\n",
       "      <td>[min, segment_z, prov_Ha, recency_days_NaN, pr...</td>\n",
       "      <td>0.991408</td>\n",
       "      <td>0.741287</td>\n",
       "    </tr>\n",
       "    <tr>\n",
       "      <th>19</th>\n",
       "      <td>20</td>\n",
       "      <td>[min, segment_z, prov_Ha, recency_days_NaN, pr...</td>\n",
       "      <td>0.991408</td>\n",
       "      <td>0.741287</td>\n",
       "    </tr>\n",
       "    <tr>\n",
       "      <th>20</th>\n",
       "      <td>21</td>\n",
       "      <td>[min, segment_z, prov_Ha, recency_days_NaN, pr...</td>\n",
       "      <td>0.991408</td>\n",
       "      <td>0.741287</td>\n",
       "    </tr>\n",
       "    <tr>\n",
       "      <th>21</th>\n",
       "      <td>22</td>\n",
       "      <td>[min, segment_z, prov_Ha, recency_days_NaN, pr...</td>\n",
       "      <td>0.991408</td>\n",
       "      <td>0.741287</td>\n",
       "    </tr>\n",
       "    <tr>\n",
       "      <th>22</th>\n",
       "      <td>23</td>\n",
       "      <td>[min, segment_z, prov_Ha, recency_days_NaN, pr...</td>\n",
       "      <td>0.991932</td>\n",
       "      <td>0.740775</td>\n",
       "    </tr>\n",
       "    <tr>\n",
       "      <th>23</th>\n",
       "      <td>24</td>\n",
       "      <td>[min, segment_z, prov_Ha, recency_days_NaN, pr...</td>\n",
       "      <td>0.991777</td>\n",
       "      <td>0.746606</td>\n",
       "    </tr>\n",
       "    <tr>\n",
       "      <th>24</th>\n",
       "      <td>25</td>\n",
       "      <td>[min, segment_z, prov_Ha, recency_days_NaN, pr...</td>\n",
       "      <td>0.991443</td>\n",
       "      <td>0.787291</td>\n",
       "    </tr>\n",
       "    <tr>\n",
       "      <th>25</th>\n",
       "      <td>26</td>\n",
       "      <td>[min, segment_z, prov_Ha, recency_days_NaN, pr...</td>\n",
       "      <td>0.991737</td>\n",
       "      <td>0.793592</td>\n",
       "    </tr>\n",
       "    <tr>\n",
       "      <th>26</th>\n",
       "      <td>27</td>\n",
       "      <td>[min, segment_z, prov_Ha, recency_days_NaN, pr...</td>\n",
       "      <td>0.991572</td>\n",
       "      <td>0.787458</td>\n",
       "    </tr>\n",
       "    <tr>\n",
       "      <th>27</th>\n",
       "      <td>28</td>\n",
       "      <td>[min, segment_z, prov_Ha, recency_days_NaN, pr...</td>\n",
       "      <td>0.992162</td>\n",
       "      <td>0.765691</td>\n",
       "    </tr>\n",
       "    <tr>\n",
       "      <th>28</th>\n",
       "      <td>29</td>\n",
       "      <td>[min, segment_z, prov_Ha, recency_days_NaN, pr...</td>\n",
       "      <td>0.992303</td>\n",
       "      <td>0.766780</td>\n",
       "    </tr>\n",
       "    <tr>\n",
       "      <th>29</th>\n",
       "      <td>30</td>\n",
       "      <td>[min, segment_z, prov_Ha, recency_days_NaN, pr...</td>\n",
       "      <td>0.991806</td>\n",
       "      <td>0.771131</td>\n",
       "    </tr>\n",
       "    <tr>\n",
       "      <th>30</th>\n",
       "      <td>31</td>\n",
       "      <td>[min, segment_z, prov_Ha, recency_days_NaN, pr...</td>\n",
       "      <td>0.992206</td>\n",
       "      <td>0.763649</td>\n",
       "    </tr>\n",
       "    <tr>\n",
       "      <th>31</th>\n",
       "      <td>32</td>\n",
       "      <td>[min, segment_z, prov_Ha, recency_days_NaN, pr...</td>\n",
       "      <td>0.991770</td>\n",
       "      <td>0.767419</td>\n",
       "    </tr>\n",
       "    <tr>\n",
       "      <th>32</th>\n",
       "      <td>33</td>\n",
       "      <td>[min, segment_z, prov_Ha, recency_days_NaN, pr...</td>\n",
       "      <td>0.992239</td>\n",
       "      <td>0.776065</td>\n",
       "    </tr>\n",
       "    <tr>\n",
       "      <th>33</th>\n",
       "      <td>34</td>\n",
       "      <td>[min, segment_z, prov_Ha, recency_days_NaN, pr...</td>\n",
       "      <td>0.992314</td>\n",
       "      <td>0.741083</td>\n",
       "    </tr>\n",
       "    <tr>\n",
       "      <th>34</th>\n",
       "      <td>35</td>\n",
       "      <td>[min, segment_z, prov_Ha, recency_days_NaN, pr...</td>\n",
       "      <td>0.991705</td>\n",
       "      <td>0.730221</td>\n",
       "    </tr>\n",
       "    <tr>\n",
       "      <th>35</th>\n",
       "      <td>36</td>\n",
       "      <td>[min, segment_z, prov_Ha, recency_days_NaN, pr...</td>\n",
       "      <td>0.992045</td>\n",
       "      <td>0.735241</td>\n",
       "    </tr>\n",
       "  </tbody>\n",
       "</table>\n",
       "</div>"
      ],
      "text/plain": [
       "    Step                                           Features  AUC Train  \\\n",
       "0      1                                              [min]   0.989606   \n",
       "1      2                                   [min, segment_z]   0.991092   \n",
       "2      3                          [min, segment_z, prov_Ha]   0.991532   \n",
       "3      4        [min, segment_z, prov_Ha, recency_days_NaN]   0.991607   \n",
       "4      5  [min, segment_z, prov_Ha, recency_days_NaN, pr...   0.991642   \n",
       "5      6  [min, segment_z, prov_Ha, recency_days_NaN, pr...   0.991642   \n",
       "6      7  [min, segment_z, prov_Ha, recency_days_NaN, pr...   0.991649   \n",
       "7      8  [min, segment_z, prov_Ha, recency_days_NaN, pr...   0.991649   \n",
       "8      9  [min, segment_z, prov_Ha, recency_days_NaN, pr...   0.991649   \n",
       "9     10  [min, segment_z, prov_Ha, recency_days_NaN, pr...   0.991649   \n",
       "10    11  [min, segment_z, prov_Ha, recency_days_NaN, pr...   0.991649   \n",
       "11    12  [min, segment_z, prov_Ha, recency_days_NaN, pr...   0.991195   \n",
       "12    13  [min, segment_z, prov_Ha, recency_days_NaN, pr...   0.991195   \n",
       "13    14  [min, segment_z, prov_Ha, recency_days_NaN, pr...   0.990530   \n",
       "14    15  [min, segment_z, prov_Ha, recency_days_NaN, pr...   0.991216   \n",
       "15    16  [min, segment_z, prov_Ha, recency_days_NaN, pr...   0.991434   \n",
       "16    17  [min, segment_z, prov_Ha, recency_days_NaN, pr...   0.991434   \n",
       "17    18  [min, segment_z, prov_Ha, recency_days_NaN, pr...   0.991478   \n",
       "18    19  [min, segment_z, prov_Ha, recency_days_NaN, pr...   0.991408   \n",
       "19    20  [min, segment_z, prov_Ha, recency_days_NaN, pr...   0.991408   \n",
       "20    21  [min, segment_z, prov_Ha, recency_days_NaN, pr...   0.991408   \n",
       "21    22  [min, segment_z, prov_Ha, recency_days_NaN, pr...   0.991408   \n",
       "22    23  [min, segment_z, prov_Ha, recency_days_NaN, pr...   0.991932   \n",
       "23    24  [min, segment_z, prov_Ha, recency_days_NaN, pr...   0.991777   \n",
       "24    25  [min, segment_z, prov_Ha, recency_days_NaN, pr...   0.991443   \n",
       "25    26  [min, segment_z, prov_Ha, recency_days_NaN, pr...   0.991737   \n",
       "26    27  [min, segment_z, prov_Ha, recency_days_NaN, pr...   0.991572   \n",
       "27    28  [min, segment_z, prov_Ha, recency_days_NaN, pr...   0.992162   \n",
       "28    29  [min, segment_z, prov_Ha, recency_days_NaN, pr...   0.992303   \n",
       "29    30  [min, segment_z, prov_Ha, recency_days_NaN, pr...   0.991806   \n",
       "30    31  [min, segment_z, prov_Ha, recency_days_NaN, pr...   0.992206   \n",
       "31    32  [min, segment_z, prov_Ha, recency_days_NaN, pr...   0.991770   \n",
       "32    33  [min, segment_z, prov_Ha, recency_days_NaN, pr...   0.992239   \n",
       "33    34  [min, segment_z, prov_Ha, recency_days_NaN, pr...   0.992314   \n",
       "34    35  [min, segment_z, prov_Ha, recency_days_NaN, pr...   0.991705   \n",
       "35    36  [min, segment_z, prov_Ha, recency_days_NaN, pr...   0.992045   \n",
       "\n",
       "    AUC Test  \n",
       "0   0.738417  \n",
       "1   0.796775  \n",
       "2   0.799005  \n",
       "3   0.799057  \n",
       "4   0.799058  \n",
       "5   0.799058  \n",
       "6   0.799059  \n",
       "7   0.799059  \n",
       "8   0.799059  \n",
       "9   0.799059  \n",
       "10  0.799059  \n",
       "11  0.795919  \n",
       "12  0.795919  \n",
       "13  0.741757  \n",
       "14  0.746261  \n",
       "15  0.750243  \n",
       "16  0.750243  \n",
       "17  0.749835  \n",
       "18  0.741287  \n",
       "19  0.741287  \n",
       "20  0.741287  \n",
       "21  0.741287  \n",
       "22  0.740775  \n",
       "23  0.746606  \n",
       "24  0.787291  \n",
       "25  0.793592  \n",
       "26  0.787458  \n",
       "27  0.765691  \n",
       "28  0.766780  \n",
       "29  0.771131  \n",
       "30  0.763649  \n",
       "31  0.767419  \n",
       "32  0.776065  \n",
       "33  0.741083  \n",
       "34  0.730221  \n",
       "35  0.735241  "
      ]
     },
     "execution_count": 185,
     "metadata": {},
     "output_type": "execute_result"
    }
   ],
   "source": [
    "forwardSelection\n"
   ]
  },
  {
   "cell_type": "code",
   "execution_count": 221,
   "metadata": {
    "scrolled": true
   },
   "outputs": [
    {
     "data": {
      "text/plain": [
       "['min',\n",
       " 'segment_z',\n",
       " 'prov_Ha',\n",
       " 'recency_days_NaN',\n",
       " 'prov_Br',\n",
       " 'prov_Lim',\n",
       " 'prov_Lux']"
      ]
     },
     "execution_count": 221,
     "metadata": {},
     "output_type": "execute_result"
    }
   ],
   "source": [
    "#selectedpredictors\n",
    "selectedpredictors = forwardSelection['Features'][6]\n",
    "selectedpredictors"
   ]
  },
  {
   "cell_type": "code",
   "execution_count": 222,
   "metadata": {},
   "outputs": [
    {
     "data": {
      "text/plain": [
       "['gender_x',\n",
       " 'recency_days',\n",
       " 'year2_count',\n",
       " 'language_x',\n",
       " 'Region_x',\n",
       " 'Region_y']"
      ]
     },
     "execution_count": 222,
     "metadata": {},
     "output_type": "execute_result"
    }
   ],
   "source": [
    "['gender_x','recency_days','year2_count','language_x','Region_x','Region_y']"
   ]
  },
  {
   "cell_type": "code",
   "execution_count": 223,
   "metadata": {},
   "outputs": [],
   "source": [
    "features = selectedpredictors\n",
    "\n",
    "target   = \"target\""
   ]
  },
  {
   "cell_type": "code",
   "execution_count": 224,
   "metadata": {},
   "outputs": [],
   "source": [
    "tree         = DecisionTreeClassifier()\n",
    "logistic     = LogisticRegression(solver = \"lbfgs\", max_iter = 1000)\n",
    "randomForest = RandomForestClassifier(n_estimators = 100)\n",
    "boostedTree  = GradientBoostingClassifier()\n",
    "svm          = SVC(gamma = \"scale\", probability = True)\n",
    "neuralNet    = MLPClassifier()\n",
    "neighbors    = KNeighborsClassifier()"
   ]
  },
  {
   "cell_type": "code",
   "execution_count": 225,
   "metadata": {},
   "outputs": [],
   "source": [
    "models = {\"tree\"         :tree,\n",
    "          \"logistic\"     :logistic,\n",
    "          \"randomForest\" :randomForest,\n",
    "          \"boostedTree\"  :boostedTree,\n",
    "          \"svm\"          :svm,\n",
    "          \"neuralNet\"    :neuralNet,\n",
    "          \"neighbors\"    :neighbors\n",
    "         }"
   ]
  },
  {
   "cell_type": "markdown",
   "metadata": {},
   "source": [
    "### Train the model on the training set"
   ]
  },
  {
   "cell_type": "code",
   "execution_count": 226,
   "metadata": {},
   "outputs": [
    {
     "name": "stdout",
     "output_type": "stream",
     "text": [
      "tree has been trained successfully\n",
      "logistic has been trained successfully\n",
      "randomForest has been trained successfully\n",
      "boostedTree has been trained successfully\n",
      "svm has been trained successfully\n",
      "neuralNet has been trained successfully\n",
      "neighbors has been trained successfully\n"
     ]
    }
   ],
   "source": [
    "for model in models:\n",
    "    models[model].fit(basetable_training[features],basetable_training[target])\n",
    "    print(f\"{model} has been trained successfully\")"
   ]
  },
  {
   "cell_type": "markdown",
   "metadata": {},
   "source": [
    "### Evaluate the model"
   ]
  },
  {
   "cell_type": "code",
   "execution_count": 227,
   "metadata": {},
   "outputs": [],
   "source": [
    "performances = {}\n",
    "\n",
    "for model in models:\n",
    "    predictions   = models[model].predict(basetable_training[features])\n",
    "    probabilities = DataFrame(models[model].predict_proba(basetable_training[features]))[1]\n",
    "    accuracy      = accuracy_score(basetable_training[target],predictions)\n",
    "    auc           = roc_auc_score(array(basetable_training[target]),array(probabilities))\n",
    "    \n",
    "    performances[model] = {\"Accuracy\":accuracy,\"AUC\":auc}"
   ]
  },
  {
   "cell_type": "code",
   "execution_count": 228,
   "metadata": {},
   "outputs": [
    {
     "data": {
      "text/html": [
       "<div>\n",
       "<style scoped>\n",
       "    .dataframe tbody tr th:only-of-type {\n",
       "        vertical-align: middle;\n",
       "    }\n",
       "\n",
       "    .dataframe tbody tr th {\n",
       "        vertical-align: top;\n",
       "    }\n",
       "\n",
       "    .dataframe thead th {\n",
       "        text-align: right;\n",
       "    }\n",
       "</style>\n",
       "<table border=\"1\" class=\"dataframe\">\n",
       "  <thead>\n",
       "    <tr style=\"text-align: right;\">\n",
       "      <th></th>\n",
       "      <th>tree</th>\n",
       "      <th>logistic</th>\n",
       "      <th>randomForest</th>\n",
       "      <th>boostedTree</th>\n",
       "      <th>svm</th>\n",
       "      <th>neuralNet</th>\n",
       "      <th>neighbors</th>\n",
       "    </tr>\n",
       "  </thead>\n",
       "  <tbody>\n",
       "    <tr>\n",
       "      <th>Accuracy</th>\n",
       "      <td>0.993637</td>\n",
       "      <td>0.965862</td>\n",
       "      <td>0.993637</td>\n",
       "      <td>0.990226</td>\n",
       "      <td>0.965862</td>\n",
       "      <td>0.965862</td>\n",
       "      <td>0.990570</td>\n",
       "    </tr>\n",
       "    <tr>\n",
       "      <th>AUC</th>\n",
       "      <td>0.997762</td>\n",
       "      <td>0.540864</td>\n",
       "      <td>0.997417</td>\n",
       "      <td>0.991649</td>\n",
       "      <td>0.354047</td>\n",
       "      <td>0.663872</td>\n",
       "      <td>0.980593</td>\n",
       "    </tr>\n",
       "  </tbody>\n",
       "</table>\n",
       "</div>"
      ],
      "text/plain": [
       "              tree  logistic  randomForest  boostedTree       svm  neuralNet  \\\n",
       "Accuracy  0.993637  0.965862      0.993637     0.990226  0.965862   0.965862   \n",
       "AUC       0.997762  0.540864      0.997417     0.991649  0.354047   0.663872   \n",
       "\n",
       "          neighbors  \n",
       "Accuracy   0.990570  \n",
       "AUC        0.980593  "
      ]
     },
     "execution_count": 228,
     "metadata": {},
     "output_type": "execute_result"
    }
   ],
   "source": [
    "DataFrame(performances)"
   ]
  },
  {
   "cell_type": "code",
   "execution_count": 229,
   "metadata": {},
   "outputs": [
    {
     "name": "stdout",
     "output_type": "stream",
     "text": [
      "0.7\n"
     ]
    }
   ],
   "source": [
    "def auc (variables, target, basetable_training):\n",
    "    X = basetable_training[variables]\n",
    "    y = basetable_training[target]\n",
    "    logreg = linear_model.LogisticRegression()\n",
    "    logreg.fit(X,y)\n",
    "    predictions = logreg.predict_proba(X)[:,1]\n",
    "    auc = roc_auc_score(y, predictions)\n",
    "    return(auc)\n",
    "\n",
    "auc = auc([\"age_no_outliers\", \"gender_x\"],[\"target\"], basetable_training)\n",
    "print(round(auc, 2))"
   ]
  },
  {
   "cell_type": "code",
   "execution_count": 176,
   "metadata": {},
   "outputs": [],
   "source": [
    "def next_best(current_variables, candidate_variables, target, basetable_training):\n",
    "    best_auc = -1\n",
    "    best_variable = None\n",
    "    for v in candidate_variables:\n",
    "        auc_v = auc(current_variables + [v], target, basetable_training)\n",
    "        if auc_v >= best_auc:\n",
    "            best_auc = auc_v\n",
    "            best_variable = v \n",
    "    return best_variable \n"
   ]
  },
  {
   "cell_type": "code",
   "execution_count": 178,
   "metadata": {},
   "outputs": [
    {
     "name": "stdout",
     "output_type": "stream",
     "text": [
      "<function next_best at 0x0000024F33088280>\n"
     ]
    }
   ],
   "source": [
    "current_variables = [\"age_no_outliers\", \"gender_x\"]\n",
    "candidate_variables = [\"mean\", \"min\", \"max\", \"age_no_outliers\", \"gender_x\", \"region_x\", \"region_y\", \"sum\"]\n",
    "\n",
    "print(next_best)"
   ]
  },
  {
   "cell_type": "code",
   "execution_count": 174,
   "metadata": {},
   "outputs": [
    {
     "ename": "TypeError",
     "evalue": "'numpy.float64' object is not callable",
     "output_type": "error",
     "traceback": [
      "\u001b[1;31m---------------------------------------------------------------------------\u001b[0m",
      "\u001b[1;31mTypeError\u001b[0m                                 Traceback (most recent call last)",
      "\u001b[1;32m<ipython-input-174-a97b93a59f5a>\u001b[0m in \u001b[0;36m<module>\u001b[1;34m\u001b[0m\n\u001b[0;32m      8\u001b[0m \u001b[1;33m\u001b[0m\u001b[0m\n\u001b[0;32m      9\u001b[0m \u001b[1;32mfor\u001b[0m \u001b[0mi\u001b[0m \u001b[1;32min\u001b[0m \u001b[0mrange\u001b[0m\u001b[1;33m(\u001b[0m\u001b[1;36m0\u001b[0m\u001b[1;33m,\u001b[0m \u001b[0mnumber_iterations\u001b[0m\u001b[1;33m)\u001b[0m\u001b[1;33m:\u001b[0m\u001b[1;33m\u001b[0m\u001b[1;33m\u001b[0m\u001b[0m\n\u001b[1;32m---> 10\u001b[1;33m     \u001b[0mnext_var\u001b[0m \u001b[1;33m=\u001b[0m \u001b[0mnext_best\u001b[0m\u001b[1;33m(\u001b[0m\u001b[0mcurrent_variables\u001b[0m\u001b[1;33m,\u001b[0m \u001b[0mcandidate_variables\u001b[0m\u001b[1;33m,\u001b[0m \u001b[0mtarget\u001b[0m\u001b[1;33m,\u001b[0m \u001b[0mbasetable_training\u001b[0m\u001b[1;33m)\u001b[0m\u001b[1;33m\u001b[0m\u001b[1;33m\u001b[0m\u001b[0m\n\u001b[0m\u001b[0;32m     11\u001b[0m     \u001b[0mcurrent_variables\u001b[0m \u001b[1;33m=\u001b[0m \u001b[0mcurrent_variables\u001b[0m \u001b[1;33m+\u001b[0m \u001b[1;33m[\u001b[0m\u001b[0mnext_variable\u001b[0m\u001b[1;33m]\u001b[0m\u001b[1;33m\u001b[0m\u001b[1;33m\u001b[0m\u001b[0m\n\u001b[0;32m     12\u001b[0m     \u001b[0mcandidate_variables\u001b[0m\u001b[1;33m.\u001b[0m\u001b[0mremove\u001b[0m\u001b[1;33m(\u001b[0m\u001b[0mnext_variable\u001b[0m\u001b[1;33m)\u001b[0m\u001b[1;33m\u001b[0m\u001b[1;33m\u001b[0m\u001b[0m\n",
      "\u001b[1;32m<ipython-input-171-6553b377aca0>\u001b[0m in \u001b[0;36mnext_best\u001b[1;34m(current_variables, candidate_variables, target, basetable_training)\u001b[0m\n\u001b[0;32m      3\u001b[0m     \u001b[0mbest_variable\u001b[0m \u001b[1;33m=\u001b[0m \u001b[1;32mNone\u001b[0m\u001b[1;33m\u001b[0m\u001b[1;33m\u001b[0m\u001b[0m\n\u001b[0;32m      4\u001b[0m     \u001b[1;32mfor\u001b[0m \u001b[0mv\u001b[0m \u001b[1;32min\u001b[0m \u001b[0mcandidate_variables\u001b[0m\u001b[1;33m:\u001b[0m\u001b[1;33m\u001b[0m\u001b[1;33m\u001b[0m\u001b[0m\n\u001b[1;32m----> 5\u001b[1;33m         \u001b[0mauc_v\u001b[0m \u001b[1;33m=\u001b[0m \u001b[0mauc\u001b[0m\u001b[1;33m(\u001b[0m\u001b[0mcurrent_variables\u001b[0m \u001b[1;33m+\u001b[0m \u001b[1;33m[\u001b[0m\u001b[0mv\u001b[0m\u001b[1;33m]\u001b[0m\u001b[1;33m,\u001b[0m \u001b[0mtarget\u001b[0m\u001b[1;33m,\u001b[0m \u001b[0mbasetable_training\u001b[0m\u001b[1;33m)\u001b[0m\u001b[1;33m\u001b[0m\u001b[1;33m\u001b[0m\u001b[0m\n\u001b[0m\u001b[0;32m      6\u001b[0m         \u001b[1;32mif\u001b[0m \u001b[0mauc_v\u001b[0m \u001b[1;33m>=\u001b[0m \u001b[0mbest_auc\u001b[0m\u001b[1;33m:\u001b[0m\u001b[1;33m\u001b[0m\u001b[1;33m\u001b[0m\u001b[0m\n\u001b[0;32m      7\u001b[0m             \u001b[0mbest_auc\u001b[0m \u001b[1;33m=\u001b[0m \u001b[0mauc_v\u001b[0m\u001b[1;33m\u001b[0m\u001b[1;33m\u001b[0m\u001b[0m\n",
      "\u001b[1;31mTypeError\u001b[0m: 'numpy.float64' object is not callable"
     ]
    }
   ],
   "source": [
    "\n",
    "next_variable = next_best(current_variables, candidate_variables, target, basetable_training)\n",
    "next_variable\n",
    "\n",
    "\n",
    "candidate_variables = [\"mean\", \"min\", \"max\", \"age_no_outliers\", \"gender_x\", \"region_x\", \"region_y\", \"sum\"]\n",
    "\n",
    "current_variable = [\"gender_x\", \"age_no_outliers\"]\n",
    "\n",
    "target = [\"target\"]\n",
    "max_number_variables = 5\n",
    "number_iterations = min(max_number_variables, len(candidate_variables))\n",
    "\n",
    "for i in range(0, number_iterations):\n",
    "    next_var = next_best(current_variables, candidate_variables, target, basetable_training)\n",
    "    current_variables = current_variables + [next_variable]\n",
    "    candidate_variables.remove(next_variable)\n",
    "print(current_variables)"
   ]
  },
  {
   "cell_type": "code",
   "execution_count": 166,
   "metadata": {},
   "outputs": [],
   "source": [
    "basetable_training['age_no_outliers'] = pd.to_numeric(basetable_training['age_no_outliers'])"
   ]
  },
  {
   "cell_type": "code",
   "execution_count": 232,
   "metadata": {},
   "outputs": [
    {
     "ename": "KeyError",
     "evalue": "\"['Region_x', 'Region_y'] not in index\"",
     "output_type": "error",
     "traceback": [
      "\u001b[1;31m---------------------------------------------------------------------------\u001b[0m",
      "\u001b[1;31mKeyError\u001b[0m                                  Traceback (most recent call last)",
      "\u001b[1;32m<ipython-input-232-e547e99e23ce>\u001b[0m in \u001b[0;36m<module>\u001b[1;34m\u001b[0m\n\u001b[1;32m----> 1\u001b[1;33m \u001b[0mfeatures\u001b[0m \u001b[1;33m=\u001b[0m \u001b[0mbasetable_test\u001b[0m\u001b[1;33m[\u001b[0m\u001b[1;33m[\u001b[0m\u001b[1;34m'gender_x'\u001b[0m\u001b[1;33m,\u001b[0m\u001b[1;34m'recency_days'\u001b[0m\u001b[1;33m,\u001b[0m\u001b[1;34m'year2_count'\u001b[0m\u001b[1;33m,\u001b[0m\u001b[1;34m'language_x'\u001b[0m\u001b[1;33m,\u001b[0m\u001b[1;34m'Region_x'\u001b[0m\u001b[1;33m,\u001b[0m\u001b[1;34m'Region_y'\u001b[0m\u001b[1;33m]\u001b[0m\u001b[1;33m]\u001b[0m\u001b[1;33m\u001b[0m\u001b[1;33m\u001b[0m\u001b[0m\n\u001b[0m\u001b[0;32m      2\u001b[0m \u001b[0mtarget\u001b[0m   \u001b[1;33m=\u001b[0m \u001b[0mbasetable_test\u001b[0m\u001b[1;33m[\u001b[0m\u001b[1;34m\"target\"\u001b[0m\u001b[1;33m]\u001b[0m\u001b[1;33m\u001b[0m\u001b[1;33m\u001b[0m\u001b[0m\n\u001b[0;32m      3\u001b[0m \u001b[1;33m\u001b[0m\u001b[0m\n\u001b[0;32m      4\u001b[0m \u001b[0mX\u001b[0m \u001b[1;33m=\u001b[0m \u001b[0mfeatures\u001b[0m\u001b[1;33m\u001b[0m\u001b[1;33m\u001b[0m\u001b[0m\n\u001b[0;32m      5\u001b[0m \u001b[0my\u001b[0m \u001b[1;33m=\u001b[0m \u001b[0mtarget\u001b[0m\u001b[1;33m\u001b[0m\u001b[1;33m\u001b[0m\u001b[0m\n",
      "\u001b[1;32mC:\\Anaconda3\\lib\\site-packages\\pandas\\core\\frame.py\u001b[0m in \u001b[0;36m__getitem__\u001b[1;34m(self, key)\u001b[0m\n\u001b[0;32m   2804\u001b[0m             \u001b[1;32mif\u001b[0m \u001b[0mis_iterator\u001b[0m\u001b[1;33m(\u001b[0m\u001b[0mkey\u001b[0m\u001b[1;33m)\u001b[0m\u001b[1;33m:\u001b[0m\u001b[1;33m\u001b[0m\u001b[1;33m\u001b[0m\u001b[0m\n\u001b[0;32m   2805\u001b[0m                 \u001b[0mkey\u001b[0m \u001b[1;33m=\u001b[0m \u001b[0mlist\u001b[0m\u001b[1;33m(\u001b[0m\u001b[0mkey\u001b[0m\u001b[1;33m)\u001b[0m\u001b[1;33m\u001b[0m\u001b[1;33m\u001b[0m\u001b[0m\n\u001b[1;32m-> 2806\u001b[1;33m             \u001b[0mindexer\u001b[0m \u001b[1;33m=\u001b[0m \u001b[0mself\u001b[0m\u001b[1;33m.\u001b[0m\u001b[0mloc\u001b[0m\u001b[1;33m.\u001b[0m\u001b[0m_get_listlike_indexer\u001b[0m\u001b[1;33m(\u001b[0m\u001b[0mkey\u001b[0m\u001b[1;33m,\u001b[0m \u001b[0maxis\u001b[0m\u001b[1;33m=\u001b[0m\u001b[1;36m1\u001b[0m\u001b[1;33m,\u001b[0m \u001b[0mraise_missing\u001b[0m\u001b[1;33m=\u001b[0m\u001b[1;32mTrue\u001b[0m\u001b[1;33m)\u001b[0m\u001b[1;33m[\u001b[0m\u001b[1;36m1\u001b[0m\u001b[1;33m]\u001b[0m\u001b[1;33m\u001b[0m\u001b[1;33m\u001b[0m\u001b[0m\n\u001b[0m\u001b[0;32m   2807\u001b[0m \u001b[1;33m\u001b[0m\u001b[0m\n\u001b[0;32m   2808\u001b[0m         \u001b[1;31m# take() does not accept boolean indexers\u001b[0m\u001b[1;33m\u001b[0m\u001b[1;33m\u001b[0m\u001b[1;33m\u001b[0m\u001b[0m\n",
      "\u001b[1;32mC:\\Anaconda3\\lib\\site-packages\\pandas\\core\\indexing.py\u001b[0m in \u001b[0;36m_get_listlike_indexer\u001b[1;34m(self, key, axis, raise_missing)\u001b[0m\n\u001b[0;32m   1550\u001b[0m             \u001b[0mkeyarr\u001b[0m\u001b[1;33m,\u001b[0m \u001b[0mindexer\u001b[0m\u001b[1;33m,\u001b[0m \u001b[0mnew_indexer\u001b[0m \u001b[1;33m=\u001b[0m \u001b[0max\u001b[0m\u001b[1;33m.\u001b[0m\u001b[0m_reindex_non_unique\u001b[0m\u001b[1;33m(\u001b[0m\u001b[0mkeyarr\u001b[0m\u001b[1;33m)\u001b[0m\u001b[1;33m\u001b[0m\u001b[1;33m\u001b[0m\u001b[0m\n\u001b[0;32m   1551\u001b[0m \u001b[1;33m\u001b[0m\u001b[0m\n\u001b[1;32m-> 1552\u001b[1;33m         self._validate_read_indexer(\n\u001b[0m\u001b[0;32m   1553\u001b[0m             \u001b[0mkeyarr\u001b[0m\u001b[1;33m,\u001b[0m \u001b[0mindexer\u001b[0m\u001b[1;33m,\u001b[0m \u001b[0mo\u001b[0m\u001b[1;33m.\u001b[0m\u001b[0m_get_axis_number\u001b[0m\u001b[1;33m(\u001b[0m\u001b[0maxis\u001b[0m\u001b[1;33m)\u001b[0m\u001b[1;33m,\u001b[0m \u001b[0mraise_missing\u001b[0m\u001b[1;33m=\u001b[0m\u001b[0mraise_missing\u001b[0m\u001b[1;33m\u001b[0m\u001b[1;33m\u001b[0m\u001b[0m\n\u001b[0;32m   1554\u001b[0m         )\n",
      "\u001b[1;32mC:\\Anaconda3\\lib\\site-packages\\pandas\\core\\indexing.py\u001b[0m in \u001b[0;36m_validate_read_indexer\u001b[1;34m(self, key, indexer, axis, raise_missing)\u001b[0m\n\u001b[0;32m   1644\u001b[0m             \u001b[1;32mif\u001b[0m \u001b[1;32mnot\u001b[0m \u001b[1;33m(\u001b[0m\u001b[0mself\u001b[0m\u001b[1;33m.\u001b[0m\u001b[0mname\u001b[0m \u001b[1;33m==\u001b[0m \u001b[1;34m\"loc\"\u001b[0m \u001b[1;32mand\u001b[0m \u001b[1;32mnot\u001b[0m \u001b[0mraise_missing\u001b[0m\u001b[1;33m)\u001b[0m\u001b[1;33m:\u001b[0m\u001b[1;33m\u001b[0m\u001b[1;33m\u001b[0m\u001b[0m\n\u001b[0;32m   1645\u001b[0m                 \u001b[0mnot_found\u001b[0m \u001b[1;33m=\u001b[0m \u001b[0mlist\u001b[0m\u001b[1;33m(\u001b[0m\u001b[0mset\u001b[0m\u001b[1;33m(\u001b[0m\u001b[0mkey\u001b[0m\u001b[1;33m)\u001b[0m \u001b[1;33m-\u001b[0m \u001b[0mset\u001b[0m\u001b[1;33m(\u001b[0m\u001b[0max\u001b[0m\u001b[1;33m)\u001b[0m\u001b[1;33m)\u001b[0m\u001b[1;33m\u001b[0m\u001b[1;33m\u001b[0m\u001b[0m\n\u001b[1;32m-> 1646\u001b[1;33m                 \u001b[1;32mraise\u001b[0m \u001b[0mKeyError\u001b[0m\u001b[1;33m(\u001b[0m\u001b[1;34mf\"{not_found} not in index\"\u001b[0m\u001b[1;33m)\u001b[0m\u001b[1;33m\u001b[0m\u001b[1;33m\u001b[0m\u001b[0m\n\u001b[0m\u001b[0;32m   1647\u001b[0m \u001b[1;33m\u001b[0m\u001b[0m\n\u001b[0;32m   1648\u001b[0m             \u001b[1;31m# we skip the warning on Categorical/Interval\u001b[0m\u001b[1;33m\u001b[0m\u001b[1;33m\u001b[0m\u001b[1;33m\u001b[0m\u001b[0m\n",
      "\u001b[1;31mKeyError\u001b[0m: \"['Region_x', 'Region_y'] not in index\""
     ]
    }
   ],
   "source": [
    "features = basetable_test[['gender_x','recency_days','year2_count','language_x','Region_x','Region_y']]\n",
    "target   = basetable_test[\"target\"]\n",
    "\n",
    "X = features\n",
    "y = target\n",
    "\n",
    "logreg = linear_model.LogisticRegression(solver = \"lbfgs\", max_iter = 1000)\n",
    "\n",
    "logreg.fit(X,y)\n",
    "\n",
    "predictions = logreg.predict_proba(X)\n",
    "\n",
    "skplt.metrics.plot_cumulative_gain(y, predictions, figsize=(10,5), title_fontsize=15, text_fontsize=15)\n",
    "plt.show()"
   ]
  },
  {
   "cell_type": "code",
   "execution_count": 218,
   "metadata": {},
   "outputs": [
    {
     "data": {
      "image/png": "[encoded data removed]",
      "text/plain": [
       "<Figure size 432x288 with 1 Axes>"
      ]
     },
     "metadata": {
      "needs_background": "light"
     },
     "output_type": "display_data"
    }
   ],
   "source": [
    "skplt.metrics.plot_lift_curve(y, predictions)\n",
    "plt.show()"
   ]
  },
  {
   "cell_type": "code",
   "execution_count": 202,
   "metadata": {},
   "outputs": [],
   "source": [
    "sys.path.append(r\"C:\\Users\\mobama\\OneDrive - IESEG\\Predictive and descriptive analysis\\Predictive modeling-20201207\\Notebooks\")"
   ]
  },
  {
   "cell_type": "code",
   "execution_count": 213,
   "metadata": {},
   "outputs": [],
   "source": [
    "from ieseg import partition\n",
    "from ieseg import roc\n",
    "from ieseg import lift\n",
    "from ieseg import cumulativeResponse\n",
    "from ieseg import cumulativeGains"
   ]
  },
  {
   "cell_type": "code",
   "execution_count": 220,
   "metadata": {},
   "outputs": [
    {
     "ename": "KeyError",
     "evalue": "\"None of [Int64Index([0, 0, 0, 0, 0, 0, 0, 0, 0, 0,\\n            ...\\n            0, 0, 0, 0, 0, 0, 0, 0, 0, 0],\\n           dtype='int64', length=25645)] are in the [columns]\"",
     "output_type": "error",
     "traceback": [
      "\u001b[1;31m---------------------------------------------------------------------------\u001b[0m",
      "\u001b[1;31mKeyError\u001b[0m                                  Traceback (most recent call last)",
      "\u001b[1;32m<ipython-input-220-5a588f8e2b9e>\u001b[0m in \u001b[0;36m<module>\u001b[1;34m\u001b[0m\n\u001b[0;32m      2\u001b[0m \u001b[0mresponses\u001b[0m \u001b[1;33m=\u001b[0m \u001b[1;33m{\u001b[0m\u001b[1;33m}\u001b[0m\u001b[1;33m\u001b[0m\u001b[1;33m\u001b[0m\u001b[0m\n\u001b[0;32m      3\u001b[0m \u001b[0mgains\u001b[0m     \u001b[1;33m=\u001b[0m \u001b[1;33m{\u001b[0m\u001b[1;33m}\u001b[0m\u001b[1;33m\u001b[0m\u001b[1;33m\u001b[0m\u001b[0m\n\u001b[1;32m----> 4\u001b[1;33m \u001b[0mdata\u001b[0m      \u001b[1;33m=\u001b[0m \u001b[0mDataFrame\u001b[0m\u001b[1;33m(\u001b[0m\u001b[0mbasetable_training\u001b[0m\u001b[1;33m[\u001b[0m\u001b[0mtarget\u001b[0m\u001b[1;33m]\u001b[0m\u001b[1;33m)\u001b[0m\u001b[1;33m.\u001b[0m\u001b[0mcopy\u001b[0m\u001b[1;33m(\u001b[0m\u001b[1;33m)\u001b[0m\u001b[1;33m\u001b[0m\u001b[1;33m\u001b[0m\u001b[0m\n\u001b[0m\u001b[0;32m      5\u001b[0m \u001b[1;33m\u001b[0m\u001b[0m\n\u001b[0;32m      6\u001b[0m \u001b[1;32mfor\u001b[0m \u001b[1;33m(\u001b[0m\u001b[0mindex\u001b[0m\u001b[1;33m,\u001b[0m\u001b[0mmodel\u001b[0m\u001b[1;33m)\u001b[0m \u001b[1;32min\u001b[0m \u001b[0menumerate\u001b[0m\u001b[1;33m(\u001b[0m\u001b[0mmodels\u001b[0m\u001b[1;33m)\u001b[0m\u001b[1;33m:\u001b[0m\u001b[1;33m\u001b[0m\u001b[1;33m\u001b[0m\u001b[0m\n",
      "\u001b[1;32mC:\\Anaconda3\\lib\\site-packages\\pandas\\core\\frame.py\u001b[0m in \u001b[0;36m__getitem__\u001b[1;34m(self, key)\u001b[0m\n\u001b[0;32m   2804\u001b[0m             \u001b[1;32mif\u001b[0m \u001b[0mis_iterator\u001b[0m\u001b[1;33m(\u001b[0m\u001b[0mkey\u001b[0m\u001b[1;33m)\u001b[0m\u001b[1;33m:\u001b[0m\u001b[1;33m\u001b[0m\u001b[1;33m\u001b[0m\u001b[0m\n\u001b[0;32m   2805\u001b[0m                 \u001b[0mkey\u001b[0m \u001b[1;33m=\u001b[0m \u001b[0mlist\u001b[0m\u001b[1;33m(\u001b[0m\u001b[0mkey\u001b[0m\u001b[1;33m)\u001b[0m\u001b[1;33m\u001b[0m\u001b[1;33m\u001b[0m\u001b[0m\n\u001b[1;32m-> 2806\u001b[1;33m             \u001b[0mindexer\u001b[0m \u001b[1;33m=\u001b[0m \u001b[0mself\u001b[0m\u001b[1;33m.\u001b[0m\u001b[0mloc\u001b[0m\u001b[1;33m.\u001b[0m\u001b[0m_get_listlike_indexer\u001b[0m\u001b[1;33m(\u001b[0m\u001b[0mkey\u001b[0m\u001b[1;33m,\u001b[0m \u001b[0maxis\u001b[0m\u001b[1;33m=\u001b[0m\u001b[1;36m1\u001b[0m\u001b[1;33m,\u001b[0m \u001b[0mraise_missing\u001b[0m\u001b[1;33m=\u001b[0m\u001b[1;32mTrue\u001b[0m\u001b[1;33m)\u001b[0m\u001b[1;33m[\u001b[0m\u001b[1;36m1\u001b[0m\u001b[1;33m]\u001b[0m\u001b[1;33m\u001b[0m\u001b[1;33m\u001b[0m\u001b[0m\n\u001b[0m\u001b[0;32m   2807\u001b[0m \u001b[1;33m\u001b[0m\u001b[0m\n\u001b[0;32m   2808\u001b[0m         \u001b[1;31m# take() does not accept boolean indexers\u001b[0m\u001b[1;33m\u001b[0m\u001b[1;33m\u001b[0m\u001b[1;33m\u001b[0m\u001b[0m\n",
      "\u001b[1;32mC:\\Anaconda3\\lib\\site-packages\\pandas\\core\\indexing.py\u001b[0m in \u001b[0;36m_get_listlike_indexer\u001b[1;34m(self, key, axis, raise_missing)\u001b[0m\n\u001b[0;32m   1550\u001b[0m             \u001b[0mkeyarr\u001b[0m\u001b[1;33m,\u001b[0m \u001b[0mindexer\u001b[0m\u001b[1;33m,\u001b[0m \u001b[0mnew_indexer\u001b[0m \u001b[1;33m=\u001b[0m \u001b[0max\u001b[0m\u001b[1;33m.\u001b[0m\u001b[0m_reindex_non_unique\u001b[0m\u001b[1;33m(\u001b[0m\u001b[0mkeyarr\u001b[0m\u001b[1;33m)\u001b[0m\u001b[1;33m\u001b[0m\u001b[1;33m\u001b[0m\u001b[0m\n\u001b[0;32m   1551\u001b[0m \u001b[1;33m\u001b[0m\u001b[0m\n\u001b[1;32m-> 1552\u001b[1;33m         self._validate_read_indexer(\n\u001b[0m\u001b[0;32m   1553\u001b[0m             \u001b[0mkeyarr\u001b[0m\u001b[1;33m,\u001b[0m \u001b[0mindexer\u001b[0m\u001b[1;33m,\u001b[0m \u001b[0mo\u001b[0m\u001b[1;33m.\u001b[0m\u001b[0m_get_axis_number\u001b[0m\u001b[1;33m(\u001b[0m\u001b[0maxis\u001b[0m\u001b[1;33m)\u001b[0m\u001b[1;33m,\u001b[0m \u001b[0mraise_missing\u001b[0m\u001b[1;33m=\u001b[0m\u001b[0mraise_missing\u001b[0m\u001b[1;33m\u001b[0m\u001b[1;33m\u001b[0m\u001b[0m\n\u001b[0;32m   1554\u001b[0m         )\n",
      "\u001b[1;32mC:\\Anaconda3\\lib\\site-packages\\pandas\\core\\indexing.py\u001b[0m in \u001b[0;36m_validate_read_indexer\u001b[1;34m(self, key, indexer, axis, raise_missing)\u001b[0m\n\u001b[0;32m   1638\u001b[0m             \u001b[1;32mif\u001b[0m \u001b[0mmissing\u001b[0m \u001b[1;33m==\u001b[0m \u001b[0mlen\u001b[0m\u001b[1;33m(\u001b[0m\u001b[0mindexer\u001b[0m\u001b[1;33m)\u001b[0m\u001b[1;33m:\u001b[0m\u001b[1;33m\u001b[0m\u001b[1;33m\u001b[0m\u001b[0m\n\u001b[0;32m   1639\u001b[0m                 \u001b[0maxis_name\u001b[0m \u001b[1;33m=\u001b[0m \u001b[0mself\u001b[0m\u001b[1;33m.\u001b[0m\u001b[0mobj\u001b[0m\u001b[1;33m.\u001b[0m\u001b[0m_get_axis_name\u001b[0m\u001b[1;33m(\u001b[0m\u001b[0maxis\u001b[0m\u001b[1;33m)\u001b[0m\u001b[1;33m\u001b[0m\u001b[1;33m\u001b[0m\u001b[0m\n\u001b[1;32m-> 1640\u001b[1;33m                 \u001b[1;32mraise\u001b[0m \u001b[0mKeyError\u001b[0m\u001b[1;33m(\u001b[0m\u001b[1;34mf\"None of [{key}] are in the [{axis_name}]\"\u001b[0m\u001b[1;33m)\u001b[0m\u001b[1;33m\u001b[0m\u001b[1;33m\u001b[0m\u001b[0m\n\u001b[0m\u001b[0;32m   1641\u001b[0m \u001b[1;33m\u001b[0m\u001b[0m\n\u001b[0;32m   1642\u001b[0m             \u001b[1;31m# We (temporarily) allow for some missing keys with .loc, except in\u001b[0m\u001b[1;33m\u001b[0m\u001b[1;33m\u001b[0m\u001b[1;33m\u001b[0m\u001b[0m\n",
      "\u001b[1;31mKeyError\u001b[0m: \"None of [Int64Index([0, 0, 0, 0, 0, 0, 0, 0, 0, 0,\\n            ...\\n            0, 0, 0, 0, 0, 0, 0, 0, 0, 0],\\n           dtype='int64', length=25645)] are in the [columns]\""
     ]
    }
   ],
   "source": [
    "lifts     = {}\n",
    "responses = {}\n",
    "gains     = {}\n",
    "data      = DataFrame(basetable_training[target]).copy() \n",
    "\n",
    "for (index,model) in enumerate(models):\n",
    "    data[f\"proba {model}\"] = DataFrame(models[model].predict_proba(basetable_training[features]))[1]\n",
    "    lifts[model] = lift(dataSet = data, actuals = \"target\", probability = \"proba \"+str(model))\n",
    "    responses[model] = cumulativeResponse(dataSet = data, actuals = \"target\", probability = \"proba \"+str(model))\n",
    "    gains[model] = cumulativeGains(dataSet = data, actuals = \"target\", probability = \"proba \"+str(model))\n",
    "            "
   ]
  },
  {
   "cell_type": "code",
   "execution_count": 206,
   "metadata": {
    "scrolled": true
   },
   "outputs": [
    {
     "data": {
      "text/html": [
       "<div>\n",
       "<style scoped>\n",
       "    .dataframe tbody tr th:only-of-type {\n",
       "        vertical-align: middle;\n",
       "    }\n",
       "\n",
       "    .dataframe tbody tr th {\n",
       "        vertical-align: top;\n",
       "    }\n",
       "\n",
       "    .dataframe thead th {\n",
       "        text-align: right;\n",
       "    }\n",
       "</style>\n",
       "<table border=\"1\" class=\"dataframe\">\n",
       "  <thead>\n",
       "    <tr style=\"text-align: right;\">\n",
       "      <th></th>\n",
       "      <th>target</th>\n",
       "      <th>proba tree</th>\n",
       "      <th>proba logistic</th>\n",
       "      <th>proba randomForest</th>\n",
       "      <th>proba boostedTree</th>\n",
       "      <th>proba svm</th>\n",
       "      <th>proba neuralNet</th>\n",
       "      <th>proba neighbors</th>\n",
       "    </tr>\n",
       "  </thead>\n",
       "  <tbody>\n",
       "    <tr>\n",
       "      <th>0</th>\n",
       "      <td>0</td>\n",
       "      <td>0.0</td>\n",
       "      <td>0.033796</td>\n",
       "      <td>0.019158</td>\n",
       "      <td>0.017397</td>\n",
       "      <td>0.032423</td>\n",
       "      <td>0.126817</td>\n",
       "      <td>0.0</td>\n",
       "    </tr>\n",
       "    <tr>\n",
       "      <th>1</th>\n",
       "      <td>0</td>\n",
       "      <td>0.0</td>\n",
       "      <td>0.032975</td>\n",
       "      <td>0.000000</td>\n",
       "      <td>0.004268</td>\n",
       "      <td>0.045089</td>\n",
       "      <td>0.013763</td>\n",
       "      <td>0.0</td>\n",
       "    </tr>\n",
       "    <tr>\n",
       "      <th>2</th>\n",
       "      <td>0</td>\n",
       "      <td>0.0</td>\n",
       "      <td>0.024025</td>\n",
       "      <td>0.000000</td>\n",
       "      <td>0.003970</td>\n",
       "      <td>0.052569</td>\n",
       "      <td>0.006083</td>\n",
       "      <td>0.0</td>\n",
       "    </tr>\n",
       "    <tr>\n",
       "      <th>3</th>\n",
       "      <td>0</td>\n",
       "      <td>0.0</td>\n",
       "      <td>0.086658</td>\n",
       "      <td>0.000000</td>\n",
       "      <td>0.003929</td>\n",
       "      <td>0.056120</td>\n",
       "      <td>0.023638</td>\n",
       "      <td>0.0</td>\n",
       "    </tr>\n",
       "    <tr>\n",
       "      <th>4</th>\n",
       "      <td>0</td>\n",
       "      <td>0.0</td>\n",
       "      <td>0.024814</td>\n",
       "      <td>0.000000</td>\n",
       "      <td>0.017397</td>\n",
       "      <td>0.031737</td>\n",
       "      <td>0.055680</td>\n",
       "      <td>0.0</td>\n",
       "    </tr>\n",
       "    <tr>\n",
       "      <th>5</th>\n",
       "      <td>0</td>\n",
       "      <td>0.0</td>\n",
       "      <td>0.023353</td>\n",
       "      <td>0.000000</td>\n",
       "      <td>0.014602</td>\n",
       "      <td>0.029589</td>\n",
       "      <td>0.017775</td>\n",
       "      <td>0.0</td>\n",
       "    </tr>\n",
       "    <tr>\n",
       "      <th>6</th>\n",
       "      <td>0</td>\n",
       "      <td>0.0</td>\n",
       "      <td>0.020877</td>\n",
       "      <td>0.000000</td>\n",
       "      <td>0.027781</td>\n",
       "      <td>0.051782</td>\n",
       "      <td>0.013475</td>\n",
       "      <td>0.0</td>\n",
       "    </tr>\n",
       "    <tr>\n",
       "      <th>7</th>\n",
       "      <td>0</td>\n",
       "      <td>0.0</td>\n",
       "      <td>0.024927</td>\n",
       "      <td>0.000000</td>\n",
       "      <td>0.005478</td>\n",
       "      <td>0.036900</td>\n",
       "      <td>0.016464</td>\n",
       "      <td>0.0</td>\n",
       "    </tr>\n",
       "    <tr>\n",
       "      <th>8</th>\n",
       "      <td>0</td>\n",
       "      <td>0.0</td>\n",
       "      <td>0.023793</td>\n",
       "      <td>0.000000</td>\n",
       "      <td>0.004028</td>\n",
       "      <td>0.047303</td>\n",
       "      <td>0.004682</td>\n",
       "      <td>0.0</td>\n",
       "    </tr>\n",
       "    <tr>\n",
       "      <th>9</th>\n",
       "      <td>0</td>\n",
       "      <td>0.0</td>\n",
       "      <td>0.032371</td>\n",
       "      <td>0.000000</td>\n",
       "      <td>0.004028</td>\n",
       "      <td>0.044207</td>\n",
       "      <td>0.013865</td>\n",
       "      <td>0.0</td>\n",
       "    </tr>\n",
       "    <tr>\n",
       "      <th>10</th>\n",
       "      <td>0</td>\n",
       "      <td>0.0</td>\n",
       "      <td>0.023694</td>\n",
       "      <td>0.210000</td>\n",
       "      <td>0.014126</td>\n",
       "      <td>0.042575</td>\n",
       "      <td>0.006312</td>\n",
       "      <td>0.2</td>\n",
       "    </tr>\n",
       "    <tr>\n",
       "      <th>11</th>\n",
       "      <td>0</td>\n",
       "      <td>0.0</td>\n",
       "      <td>0.024587</td>\n",
       "      <td>0.000000</td>\n",
       "      <td>0.005859</td>\n",
       "      <td>0.031530</td>\n",
       "      <td>0.024808</td>\n",
       "      <td>0.0</td>\n",
       "    </tr>\n",
       "    <tr>\n",
       "      <th>12</th>\n",
       "      <td>0</td>\n",
       "      <td>0.0</td>\n",
       "      <td>0.024927</td>\n",
       "      <td>0.000000</td>\n",
       "      <td>0.005478</td>\n",
       "      <td>0.036900</td>\n",
       "      <td>0.016464</td>\n",
       "      <td>0.0</td>\n",
       "    </tr>\n",
       "    <tr>\n",
       "      <th>13</th>\n",
       "      <td>0</td>\n",
       "      <td>0.0</td>\n",
       "      <td>0.023793</td>\n",
       "      <td>0.000000</td>\n",
       "      <td>0.004028</td>\n",
       "      <td>0.047303</td>\n",
       "      <td>0.004682</td>\n",
       "      <td>0.0</td>\n",
       "    </tr>\n",
       "    <tr>\n",
       "      <th>14</th>\n",
       "      <td>0</td>\n",
       "      <td>0.0</td>\n",
       "      <td>0.024929</td>\n",
       "      <td>0.000000</td>\n",
       "      <td>0.005478</td>\n",
       "      <td>0.037023</td>\n",
       "      <td>0.015637</td>\n",
       "      <td>0.0</td>\n",
       "    </tr>\n",
       "    <tr>\n",
       "      <th>15</th>\n",
       "      <td>0</td>\n",
       "      <td>0.0</td>\n",
       "      <td>0.024582</td>\n",
       "      <td>0.000000</td>\n",
       "      <td>0.005859</td>\n",
       "      <td>0.031643</td>\n",
       "      <td>0.024787</td>\n",
       "      <td>0.0</td>\n",
       "    </tr>\n",
       "    <tr>\n",
       "      <th>16</th>\n",
       "      <td>1</td>\n",
       "      <td>1.0</td>\n",
       "      <td>0.024858</td>\n",
       "      <td>0.990000</td>\n",
       "      <td>0.841284</td>\n",
       "      <td>0.033221</td>\n",
       "      <td>0.189984</td>\n",
       "      <td>1.0</td>\n",
       "    </tr>\n",
       "    <tr>\n",
       "      <th>17</th>\n",
       "      <td>0</td>\n",
       "      <td>0.0</td>\n",
       "      <td>0.024025</td>\n",
       "      <td>0.000000</td>\n",
       "      <td>0.003970</td>\n",
       "      <td>0.052569</td>\n",
       "      <td>0.006083</td>\n",
       "      <td>0.0</td>\n",
       "    </tr>\n",
       "    <tr>\n",
       "      <th>18</th>\n",
       "      <td>0</td>\n",
       "      <td>0.0</td>\n",
       "      <td>0.033826</td>\n",
       "      <td>0.000000</td>\n",
       "      <td>0.006237</td>\n",
       "      <td>0.033353</td>\n",
       "      <td>0.089007</td>\n",
       "      <td>0.0</td>\n",
       "    </tr>\n",
       "    <tr>\n",
       "      <th>19</th>\n",
       "      <td>0</td>\n",
       "      <td>0.0</td>\n",
       "      <td>0.033901</td>\n",
       "      <td>0.000000</td>\n",
       "      <td>0.005478</td>\n",
       "      <td>0.036391</td>\n",
       "      <td>0.013424</td>\n",
       "      <td>0.0</td>\n",
       "    </tr>\n",
       "  </tbody>\n",
       "</table>\n",
       "</div>"
      ],
      "text/plain": [
       "    target  proba tree  proba logistic  proba randomForest  proba boostedTree  \\\n",
       "0        0         0.0        0.033796            0.019158           0.017397   \n",
       "1        0         0.0        0.032975            0.000000           0.004268   \n",
       "2        0         0.0        0.024025            0.000000           0.003970   \n",
       "3        0         0.0        0.086658            0.000000           0.003929   \n",
       "4        0         0.0        0.024814            0.000000           0.017397   \n",
       "5        0         0.0        0.023353            0.000000           0.014602   \n",
       "6        0         0.0        0.020877            0.000000           0.027781   \n",
       "7        0         0.0        0.024927            0.000000           0.005478   \n",
       "8        0         0.0        0.023793            0.000000           0.004028   \n",
       "9        0         0.0        0.032371            0.000000           0.004028   \n",
       "10       0         0.0        0.023694            0.210000           0.014126   \n",
       "11       0         0.0        0.024587            0.000000           0.005859   \n",
       "12       0         0.0        0.024927            0.000000           0.005478   \n",
       "13       0         0.0        0.023793            0.000000           0.004028   \n",
       "14       0         0.0        0.024929            0.000000           0.005478   \n",
       "15       0         0.0        0.024582            0.000000           0.005859   \n",
       "16       1         1.0        0.024858            0.990000           0.841284   \n",
       "17       0         0.0        0.024025            0.000000           0.003970   \n",
       "18       0         0.0        0.033826            0.000000           0.006237   \n",
       "19       0         0.0        0.033901            0.000000           0.005478   \n",
       "\n",
       "    proba svm  proba neuralNet  proba neighbors  \n",
       "0    0.032423         0.126817              0.0  \n",
       "1    0.045089         0.013763              0.0  \n",
       "2    0.052569         0.006083              0.0  \n",
       "3    0.056120         0.023638              0.0  \n",
       "4    0.031737         0.055680              0.0  \n",
       "5    0.029589         0.017775              0.0  \n",
       "6    0.051782         0.013475              0.0  \n",
       "7    0.036900         0.016464              0.0  \n",
       "8    0.047303         0.004682              0.0  \n",
       "9    0.044207         0.013865              0.0  \n",
       "10   0.042575         0.006312              0.2  \n",
       "11   0.031530         0.024808              0.0  \n",
       "12   0.036900         0.016464              0.0  \n",
       "13   0.047303         0.004682              0.0  \n",
       "14   0.037023         0.015637              0.0  \n",
       "15   0.031643         0.024787              0.0  \n",
       "16   0.033221         0.189984              1.0  \n",
       "17   0.052569         0.006083              0.0  \n",
       "18   0.033353         0.089007              0.0  \n",
       "19   0.036391         0.013424              0.0  "
      ]
     },
     "execution_count": 206,
     "metadata": {},
     "output_type": "execute_result"
    }
   ],
   "source": [
    "data.head(20)"
   ]
  },
  {
   "cell_type": "code",
   "execution_count": 207,
   "metadata": {
    "scrolled": true
   },
   "outputs": [
    {
     "data": {
      "text/html": [
       "<div>\n",
       "<style scoped>\n",
       "    .dataframe tbody tr th:only-of-type {\n",
       "        vertical-align: middle;\n",
       "    }\n",
       "\n",
       "    .dataframe tbody tr th {\n",
       "        vertical-align: top;\n",
       "    }\n",
       "\n",
       "    .dataframe thead th {\n",
       "        text-align: right;\n",
       "    }\n",
       "</style>\n",
       "<table border=\"1\" class=\"dataframe\">\n",
       "  <thead>\n",
       "    <tr style=\"text-align: right;\">\n",
       "      <th></th>\n",
       "      <th>Quantile</th>\n",
       "      <th>Lift</th>\n",
       "      <th>Base</th>\n",
       "    </tr>\n",
       "  </thead>\n",
       "  <tbody>\n",
       "    <tr>\n",
       "      <th>14</th>\n",
       "      <td>1.00</td>\n",
       "      <td>2.113590</td>\n",
       "      <td>1.0</td>\n",
       "    </tr>\n",
       "    <tr>\n",
       "      <th>13</th>\n",
       "      <td>0.95</td>\n",
       "      <td>1.116522</td>\n",
       "      <td>1.0</td>\n",
       "    </tr>\n",
       "    <tr>\n",
       "      <th>12</th>\n",
       "      <td>0.90</td>\n",
       "      <td>1.245308</td>\n",
       "      <td>1.0</td>\n",
       "    </tr>\n",
       "    <tr>\n",
       "      <th>11</th>\n",
       "      <td>0.85</td>\n",
       "      <td>1.205227</td>\n",
       "      <td>1.0</td>\n",
       "    </tr>\n",
       "    <tr>\n",
       "      <th>10</th>\n",
       "      <td>0.75</td>\n",
       "      <td>1.037730</td>\n",
       "      <td>1.0</td>\n",
       "    </tr>\n",
       "    <tr>\n",
       "      <th>9</th>\n",
       "      <td>0.65</td>\n",
       "      <td>1.277258</td>\n",
       "      <td>1.0</td>\n",
       "    </tr>\n",
       "    <tr>\n",
       "      <th>8</th>\n",
       "      <td>0.60</td>\n",
       "      <td>1.367877</td>\n",
       "      <td>1.0</td>\n",
       "    </tr>\n",
       "    <tr>\n",
       "      <th>7</th>\n",
       "      <td>0.55</td>\n",
       "      <td>1.009868</td>\n",
       "      <td>1.0</td>\n",
       "    </tr>\n",
       "    <tr>\n",
       "      <th>6</th>\n",
       "      <td>0.40</td>\n",
       "      <td>0.974061</td>\n",
       "      <td>1.0</td>\n",
       "    </tr>\n",
       "    <tr>\n",
       "      <th>5</th>\n",
       "      <td>0.35</td>\n",
       "      <td>0.841148</td>\n",
       "      <td>1.0</td>\n",
       "    </tr>\n",
       "    <tr>\n",
       "      <th>4</th>\n",
       "      <td>0.25</td>\n",
       "      <td>0.951831</td>\n",
       "      <td>1.0</td>\n",
       "    </tr>\n",
       "    <tr>\n",
       "      <th>3</th>\n",
       "      <td>0.20</td>\n",
       "      <td>0.917692</td>\n",
       "      <td>1.0</td>\n",
       "    </tr>\n",
       "    <tr>\n",
       "      <th>2</th>\n",
       "      <td>0.15</td>\n",
       "      <td>0.988966</td>\n",
       "      <td>1.0</td>\n",
       "    </tr>\n",
       "    <tr>\n",
       "      <th>1</th>\n",
       "      <td>0.10</td>\n",
       "      <td>1.014348</td>\n",
       "      <td>1.0</td>\n",
       "    </tr>\n",
       "    <tr>\n",
       "      <th>0</th>\n",
       "      <td>0.05</td>\n",
       "      <td>1.000000</td>\n",
       "      <td>1.0</td>\n",
       "    </tr>\n",
       "  </tbody>\n",
       "</table>\n",
       "</div>"
      ],
      "text/plain": [
       "    Quantile      Lift  Base\n",
       "14      1.00  2.113590   1.0\n",
       "13      0.95  1.116522   1.0\n",
       "12      0.90  1.245308   1.0\n",
       "11      0.85  1.205227   1.0\n",
       "10      0.75  1.037730   1.0\n",
       "9       0.65  1.277258   1.0\n",
       "8       0.60  1.367877   1.0\n",
       "7       0.55  1.009868   1.0\n",
       "6       0.40  0.974061   1.0\n",
       "5       0.35  0.841148   1.0\n",
       "4       0.25  0.951831   1.0\n",
       "3       0.20  0.917692   1.0\n",
       "2       0.15  0.988966   1.0\n",
       "1       0.10  1.014348   1.0\n",
       "0       0.05  1.000000   1.0"
      ]
     },
     "execution_count": 207,
     "metadata": {},
     "output_type": "execute_result"
    }
   ],
   "source": [
    "lifts[\"logistic\"].head(20)"
   ]
  },
  {
   "cell_type": "code",
   "execution_count": 208,
   "metadata": {},
   "outputs": [
    {
     "data": {
      "image/png": "[encoded data removed]",
      "text/plain": [
       "<Figure size 432x288 with 1 Axes>"
      ]
     },
     "metadata": {
      "needs_background": "light"
     },
     "output_type": "display_data"
    }
   ],
   "source": [
    "for model in models:\n",
    "    pyplot.plot(lifts[model][\"Quantile\"], lifts[model][\"Lift\"])\n",
    "    pyplot.gca().invert_xaxis()\n",
    "    pyplot.xlabel(\"Quantile\")\n",
    "    pyplot.ylabel(\"lift\")\n",
    "    pyplot.title(\"Lift\")"
   ]
  },
  {
   "cell_type": "code",
   "execution_count": null,
   "metadata": {},
   "outputs": [],
   "source": [
    "population_size = basetable_training.count()\n",
    "target_incidence = round(sum(basetable_training[\"target\"]) / len(basetable_training), 3))\n",
    "reward_target = \n",
    "cost_campaign = \n",
    "\n",
    "def profit (perc_targets, perc_selected, population_size, reward_target, cost_campaign):\n",
    "    cost = cost_campaign * perc_selected * population_size\n",
    "    reward = reward_target * perc_targets * perc_selected * population_size\n",
    "return (reward - cost)"
   ]
  },
  {
   "cell_type": "code",
   "execution_count": null,
   "metadata": {},
   "outputs": [],
   "source": [
    "perc_selected = \n",
    "lift = \n",
    "perc_targets = lift * target_incidence\n",
    "\n",
    "print(profit(perc_targets, perc_selected, population_size, reward_target, cost_campaign))"
   ]
  },
  {
   "cell_type": "code",
   "execution_count": null,
   "metadata": {},
   "outputs": [],
   "source": [
    "print(profit(target_incidence, 1, population_size, reward-target, cost_campaign))"
   ]
  },
  {
   "cell_type": "code",
   "execution_count": null,
   "metadata": {},
   "outputs": [],
   "source": [
    "population_size\n",
    "target_incidence = \n",
    "targets_to_reach = \n",
    "perc_targets_to_reach = targets_to_reach / (target_incidence * population)\n",
    "\n",
    "print(perc_targets_to_reach)\n"
   ]
  },
  {
   "cell_type": "code",
   "execution_count": null,
   "metadata": {},
   "outputs": [],
   "source": [
    "cumulative_gains = \n",
    "nb_donors_to_reach = cumulative_gains * population_size\n"
   ]
  },
  {
   "cell_type": "code",
   "execution_count": 222,
   "metadata": {
    "scrolled": true
   },
   "outputs": [
    {
     "data": {
      "text/html": [
       "<div>\n",
       "<style scoped>\n",
       "    .dataframe tbody tr th:only-of-type {\n",
       "        vertical-align: middle;\n",
       "    }\n",
       "\n",
       "    .dataframe tbody tr th {\n",
       "        vertical-align: top;\n",
       "    }\n",
       "\n",
       "    .dataframe thead th {\n",
       "        text-align: right;\n",
       "    }\n",
       "</style>\n",
       "<table border=\"1\" class=\"dataframe\">\n",
       "  <thead>\n",
       "    <tr style=\"text-align: right;\">\n",
       "      <th></th>\n",
       "      <th>donorID</th>\n",
       "      <th>max</th>\n",
       "      <th>min</th>\n",
       "      <th>mean</th>\n",
       "      <th>sum</th>\n",
       "      <th>count</th>\n",
       "      <th>recency_days</th>\n",
       "      <th>last_month_mean</th>\n",
       "      <th>year1_mean</th>\n",
       "      <th>year1_count</th>\n",
       "      <th>...</th>\n",
       "      <th>language_y</th>\n",
       "      <th>language_NaN</th>\n",
       "      <th>segment_x</th>\n",
       "      <th>segment_y</th>\n",
       "      <th>segment_z</th>\n",
       "      <th>gender_x</th>\n",
       "      <th>gender_y</th>\n",
       "      <th>age_no_outliers</th>\n",
       "      <th>target</th>\n",
       "      <th>proba_stepwise</th>\n",
       "    </tr>\n",
       "  </thead>\n",
       "  <tbody>\n",
       "    <tr>\n",
       "      <th>0</th>\n",
       "      <td>100001.0</td>\n",
       "      <td>30.00</td>\n",
       "      <td>6.69</td>\n",
       "      <td>15.100000</td>\n",
       "      <td>166.10</td>\n",
       "      <td>11.0</td>\n",
       "      <td>2440.0</td>\n",
       "      <td>0.0</td>\n",
       "      <td>0.0</td>\n",
       "      <td>0.0</td>\n",
       "      <td>...</td>\n",
       "      <td>1.0</td>\n",
       "      <td>0.0</td>\n",
       "      <td>0.0</td>\n",
       "      <td>1.0</td>\n",
       "      <td>0.0</td>\n",
       "      <td>0.0</td>\n",
       "      <td>0.0</td>\n",
       "      <td>50.7</td>\n",
       "      <td>0</td>\n",
       "      <td>0.000000</td>\n",
       "    </tr>\n",
       "    <tr>\n",
       "      <th>1</th>\n",
       "      <td>100002.0</td>\n",
       "      <td>20.00</td>\n",
       "      <td>20.00</td>\n",
       "      <td>20.000000</td>\n",
       "      <td>20.00</td>\n",
       "      <td>1.0</td>\n",
       "      <td>1333.0</td>\n",
       "      <td>0.0</td>\n",
       "      <td>0.0</td>\n",
       "      <td>0.0</td>\n",
       "      <td>...</td>\n",
       "      <td>1.0</td>\n",
       "      <td>0.0</td>\n",
       "      <td>0.0</td>\n",
       "      <td>1.0</td>\n",
       "      <td>0.0</td>\n",
       "      <td>1.0</td>\n",
       "      <td>0.0</td>\n",
       "      <td>66.7</td>\n",
       "      <td>0</td>\n",
       "      <td>0.000000</td>\n",
       "    </tr>\n",
       "    <tr>\n",
       "      <th>2</th>\n",
       "      <td>100004.0</td>\n",
       "      <td>49.58</td>\n",
       "      <td>24.79</td>\n",
       "      <td>27.657200</td>\n",
       "      <td>691.43</td>\n",
       "      <td>25.0</td>\n",
       "      <td>2650.0</td>\n",
       "      <td>0.0</td>\n",
       "      <td>0.0</td>\n",
       "      <td>0.0</td>\n",
       "      <td>...</td>\n",
       "      <td>0.0</td>\n",
       "      <td>0.0</td>\n",
       "      <td>0.0</td>\n",
       "      <td>0.0</td>\n",
       "      <td>0.0</td>\n",
       "      <td>0.0</td>\n",
       "      <td>0.0</td>\n",
       "      <td>66.5</td>\n",
       "      <td>0</td>\n",
       "      <td>0.000000</td>\n",
       "    </tr>\n",
       "    <tr>\n",
       "      <th>3</th>\n",
       "      <td>100008.0</td>\n",
       "      <td>50.00</td>\n",
       "      <td>24.79</td>\n",
       "      <td>41.456667</td>\n",
       "      <td>124.37</td>\n",
       "      <td>3.0</td>\n",
       "      <td>2503.0</td>\n",
       "      <td>0.0</td>\n",
       "      <td>0.0</td>\n",
       "      <td>0.0</td>\n",
       "      <td>...</td>\n",
       "      <td>0.0</td>\n",
       "      <td>0.0</td>\n",
       "      <td>0.0</td>\n",
       "      <td>0.0</td>\n",
       "      <td>1.0</td>\n",
       "      <td>1.0</td>\n",
       "      <td>0.0</td>\n",
       "      <td>81.1</td>\n",
       "      <td>0</td>\n",
       "      <td>0.000000</td>\n",
       "    </tr>\n",
       "    <tr>\n",
       "      <th>4</th>\n",
       "      <td>100009.0</td>\n",
       "      <td>25.00</td>\n",
       "      <td>7.44</td>\n",
       "      <td>17.198947</td>\n",
       "      <td>326.78</td>\n",
       "      <td>19.0</td>\n",
       "      <td>2354.0</td>\n",
       "      <td>0.0</td>\n",
       "      <td>0.0</td>\n",
       "      <td>0.0</td>\n",
       "      <td>...</td>\n",
       "      <td>0.0</td>\n",
       "      <td>0.0</td>\n",
       "      <td>0.0</td>\n",
       "      <td>1.0</td>\n",
       "      <td>0.0</td>\n",
       "      <td>1.0</td>\n",
       "      <td>0.0</td>\n",
       "      <td>86.7</td>\n",
       "      <td>0</td>\n",
       "      <td>0.000000</td>\n",
       "    </tr>\n",
       "    <tr>\n",
       "      <th>...</th>\n",
       "      <td>...</td>\n",
       "      <td>...</td>\n",
       "      <td>...</td>\n",
       "      <td>...</td>\n",
       "      <td>...</td>\n",
       "      <td>...</td>\n",
       "      <td>...</td>\n",
       "      <td>...</td>\n",
       "      <td>...</td>\n",
       "      <td>...</td>\n",
       "      <td>...</td>\n",
       "      <td>...</td>\n",
       "      <td>...</td>\n",
       "      <td>...</td>\n",
       "      <td>...</td>\n",
       "      <td>...</td>\n",
       "      <td>...</td>\n",
       "      <td>...</td>\n",
       "      <td>...</td>\n",
       "      <td>...</td>\n",
       "      <td>...</td>\n",
       "    </tr>\n",
       "    <tr>\n",
       "      <th>34883</th>\n",
       "      <td>144686.0</td>\n",
       "      <td>50.00</td>\n",
       "      <td>50.00</td>\n",
       "      <td>50.000000</td>\n",
       "      <td>50.00</td>\n",
       "      <td>1.0</td>\n",
       "      <td>1225.0</td>\n",
       "      <td>0.0</td>\n",
       "      <td>0.0</td>\n",
       "      <td>0.0</td>\n",
       "      <td>...</td>\n",
       "      <td>1.0</td>\n",
       "      <td>0.0</td>\n",
       "      <td>0.0</td>\n",
       "      <td>1.0</td>\n",
       "      <td>0.0</td>\n",
       "      <td>0.0</td>\n",
       "      <td>0.0</td>\n",
       "      <td>54.0</td>\n",
       "      <td>0</td>\n",
       "      <td>0.083333</td>\n",
       "    </tr>\n",
       "    <tr>\n",
       "      <th>34884</th>\n",
       "      <td>144687.0</td>\n",
       "      <td>10.00</td>\n",
       "      <td>10.00</td>\n",
       "      <td>10.000000</td>\n",
       "      <td>10.00</td>\n",
       "      <td>1.0</td>\n",
       "      <td>1033.0</td>\n",
       "      <td>0.0</td>\n",
       "      <td>0.0</td>\n",
       "      <td>0.0</td>\n",
       "      <td>...</td>\n",
       "      <td>0.0</td>\n",
       "      <td>0.0</td>\n",
       "      <td>0.0</td>\n",
       "      <td>1.0</td>\n",
       "      <td>0.0</td>\n",
       "      <td>1.0</td>\n",
       "      <td>0.0</td>\n",
       "      <td>48.0</td>\n",
       "      <td>0</td>\n",
       "      <td>0.000000</td>\n",
       "    </tr>\n",
       "    <tr>\n",
       "      <th>34885</th>\n",
       "      <td>144689.0</td>\n",
       "      <td>100.00</td>\n",
       "      <td>24.79</td>\n",
       "      <td>62.395000</td>\n",
       "      <td>124.79</td>\n",
       "      <td>2.0</td>\n",
       "      <td>71.0</td>\n",
       "      <td>0.0</td>\n",
       "      <td>100.0</td>\n",
       "      <td>1.0</td>\n",
       "      <td>...</td>\n",
       "      <td>1.0</td>\n",
       "      <td>0.0</td>\n",
       "      <td>0.0</td>\n",
       "      <td>1.0</td>\n",
       "      <td>0.0</td>\n",
       "      <td>1.0</td>\n",
       "      <td>0.0</td>\n",
       "      <td>51.4</td>\n",
       "      <td>0</td>\n",
       "      <td>0.000000</td>\n",
       "    </tr>\n",
       "    <tr>\n",
       "      <th>34886</th>\n",
       "      <td>144690.0</td>\n",
       "      <td>40.00</td>\n",
       "      <td>40.00</td>\n",
       "      <td>40.000000</td>\n",
       "      <td>40.00</td>\n",
       "      <td>1.0</td>\n",
       "      <td>1344.0</td>\n",
       "      <td>0.0</td>\n",
       "      <td>0.0</td>\n",
       "      <td>0.0</td>\n",
       "      <td>...</td>\n",
       "      <td>0.0</td>\n",
       "      <td>0.0</td>\n",
       "      <td>0.0</td>\n",
       "      <td>1.0</td>\n",
       "      <td>0.0</td>\n",
       "      <td>1.0</td>\n",
       "      <td>0.0</td>\n",
       "      <td>42.4</td>\n",
       "      <td>0</td>\n",
       "      <td>0.000000</td>\n",
       "    </tr>\n",
       "    <tr>\n",
       "      <th>34887</th>\n",
       "      <td>144691.0</td>\n",
       "      <td>39.00</td>\n",
       "      <td>39.00</td>\n",
       "      <td>39.000000</td>\n",
       "      <td>39.00</td>\n",
       "      <td>1.0</td>\n",
       "      <td>1006.0</td>\n",
       "      <td>0.0</td>\n",
       "      <td>0.0</td>\n",
       "      <td>0.0</td>\n",
       "      <td>...</td>\n",
       "      <td>0.0</td>\n",
       "      <td>0.0</td>\n",
       "      <td>0.0</td>\n",
       "      <td>1.0</td>\n",
       "      <td>0.0</td>\n",
       "      <td>1.0</td>\n",
       "      <td>0.0</td>\n",
       "      <td>31.3</td>\n",
       "      <td>0</td>\n",
       "      <td>0.000000</td>\n",
       "    </tr>\n",
       "  </tbody>\n",
       "</table>\n",
       "<p>34888 rows × 29 columns</p>\n",
       "</div>"
      ],
      "text/plain": [
       "        donorID     max    min       mean     sum  count  recency_days  \\\n",
       "0      100001.0   30.00   6.69  15.100000  166.10   11.0        2440.0   \n",
       "1      100002.0   20.00  20.00  20.000000   20.00    1.0        1333.0   \n",
       "2      100004.0   49.58  24.79  27.657200  691.43   25.0        2650.0   \n",
       "3      100008.0   50.00  24.79  41.456667  124.37    3.0        2503.0   \n",
       "4      100009.0   25.00   7.44  17.198947  326.78   19.0        2354.0   \n",
       "...         ...     ...    ...        ...     ...    ...           ...   \n",
       "34883  144686.0   50.00  50.00  50.000000   50.00    1.0        1225.0   \n",
       "34884  144687.0   10.00  10.00  10.000000   10.00    1.0        1033.0   \n",
       "34885  144689.0  100.00  24.79  62.395000  124.79    2.0          71.0   \n",
       "34886  144690.0   40.00  40.00  40.000000   40.00    1.0        1344.0   \n",
       "34887  144691.0   39.00  39.00  39.000000   39.00    1.0        1006.0   \n",
       "\n",
       "       last_month_mean  year1_mean  year1_count  ...  language_y  \\\n",
       "0                  0.0         0.0          0.0  ...         1.0   \n",
       "1                  0.0         0.0          0.0  ...         1.0   \n",
       "2                  0.0         0.0          0.0  ...         0.0   \n",
       "3                  0.0         0.0          0.0  ...         0.0   \n",
       "4                  0.0         0.0          0.0  ...         0.0   \n",
       "...                ...         ...          ...  ...         ...   \n",
       "34883              0.0         0.0          0.0  ...         1.0   \n",
       "34884              0.0         0.0          0.0  ...         0.0   \n",
       "34885              0.0       100.0          1.0  ...         1.0   \n",
       "34886              0.0         0.0          0.0  ...         0.0   \n",
       "34887              0.0         0.0          0.0  ...         0.0   \n",
       "\n",
       "       language_NaN  segment_x  segment_y  segment_z  gender_x  gender_y  \\\n",
       "0               0.0        0.0        1.0        0.0       0.0       0.0   \n",
       "1               0.0        0.0        1.0        0.0       1.0       0.0   \n",
       "2               0.0        0.0        0.0        0.0       0.0       0.0   \n",
       "3               0.0        0.0        0.0        1.0       1.0       0.0   \n",
       "4               0.0        0.0        1.0        0.0       1.0       0.0   \n",
       "...             ...        ...        ...        ...       ...       ...   \n",
       "34883           0.0        0.0        1.0        0.0       0.0       0.0   \n",
       "34884           0.0        0.0        1.0        0.0       1.0       0.0   \n",
       "34885           0.0        0.0        1.0        0.0       1.0       0.0   \n",
       "34886           0.0        0.0        1.0        0.0       1.0       0.0   \n",
       "34887           0.0        0.0        1.0        0.0       1.0       0.0   \n",
       "\n",
       "       age_no_outliers  target  proba_stepwise  \n",
       "0                 50.7       0        0.000000  \n",
       "1                 66.7       0        0.000000  \n",
       "2                 66.5       0        0.000000  \n",
       "3                 81.1       0        0.000000  \n",
       "4                 86.7       0        0.000000  \n",
       "...                ...     ...             ...  \n",
       "34883             54.0       0        0.083333  \n",
       "34884             48.0       0        0.000000  \n",
       "34885             51.4       0        0.000000  \n",
       "34886             42.4       0        0.000000  \n",
       "34887             31.3       0        0.000000  \n",
       "\n",
       "[34888 rows x 29 columns]"
      ]
     },
     "execution_count": 222,
     "metadata": {},
     "output_type": "execute_result"
    }
   ],
   "source": [
    "basetable_training"
   ]
  },
  {
   "cell_type": "markdown",
   "metadata": {},
   "source": [
    "### Evaluate the model on test set"
   ]
  },
  {
   "cell_type": "code",
   "execution_count": 688,
   "metadata": {},
   "outputs": [],
   "source": [
    "    predictions   = logistic.predict(basetable_test[features])\n",
    "    probabilities = DataFrame(logistic.predict_proba(basetable_test[features]))[1]\n",
    "    accuracy      = accuracy_score(basetable_test[target],predictions)\n",
    "    auc           = roc_auc_score(array(basetable_test[target]),array(probabilities))\n",
    "    "
   ]
  },
  {
   "cell_type": "code",
   "execution_count": 689,
   "metadata": {},
   "outputs": [
    {
     "data": {
      "text/plain": [
       "0.6717704604227828"
      ]
     },
     "execution_count": 689,
     "metadata": {},
     "output_type": "execute_result"
    }
   ],
   "source": [
    "auc"
   ]
  },
  {
   "cell_type": "code",
   "execution_count": 690,
   "metadata": {},
   "outputs": [
    {
     "data": {
      "text/plain": [
       "0.9860011698186781"
      ]
     },
     "execution_count": 690,
     "metadata": {},
     "output_type": "execute_result"
    }
   ],
   "source": [
    "accuracy"
   ]
  },
  {
   "cell_type": "code",
   "execution_count": 691,
   "metadata": {
    "scrolled": false
   },
   "outputs": [],
   "source": [
    "del basetable_test[\"proba_stepwise\"] "
   ]
  },
  {
   "cell_type": "code",
   "execution_count": 692,
   "metadata": {},
   "outputs": [],
   "source": [
    " basetable_test[\"proba_donation\"] = probabilities"
   ]
  },
  {
   "cell_type": "code",
   "execution_count": 693,
   "metadata": {},
   "outputs": [
    {
     "data": {
      "text/html": [
       "<div>\n",
       "<style scoped>\n",
       "    .dataframe tbody tr th:only-of-type {\n",
       "        vertical-align: middle;\n",
       "    }\n",
       "\n",
       "    .dataframe tbody tr th {\n",
       "        vertical-align: top;\n",
       "    }\n",
       "\n",
       "    .dataframe thead th {\n",
       "        text-align: right;\n",
       "    }\n",
       "</style>\n",
       "<table border=\"1\" class=\"dataframe\">\n",
       "  <thead>\n",
       "    <tr style=\"text-align: right;\">\n",
       "      <th></th>\n",
       "      <th>donorID</th>\n",
       "      <th>max</th>\n",
       "      <th>min</th>\n",
       "      <th>mean</th>\n",
       "      <th>sum</th>\n",
       "      <th>count</th>\n",
       "      <th>recency_days</th>\n",
       "      <th>last_month_mean</th>\n",
       "      <th>year1_mean</th>\n",
       "      <th>year1_count</th>\n",
       "      <th>...</th>\n",
       "      <th>language_y</th>\n",
       "      <th>language_NaN</th>\n",
       "      <th>segment_x</th>\n",
       "      <th>segment_y</th>\n",
       "      <th>segment_z</th>\n",
       "      <th>gender_x</th>\n",
       "      <th>gender_y</th>\n",
       "      <th>age_no_outliers</th>\n",
       "      <th>target</th>\n",
       "      <th>proba_donation</th>\n",
       "    </tr>\n",
       "  </thead>\n",
       "  <tbody>\n",
       "    <tr>\n",
       "      <th>5877</th>\n",
       "      <td>113466</td>\n",
       "      <td>200.000</td>\n",
       "      <td>100.00</td>\n",
       "      <td>123.950000</td>\n",
       "      <td>495.790</td>\n",
       "      <td>1.0</td>\n",
       "      <td>4371.0</td>\n",
       "      <td>0.0</td>\n",
       "      <td>0.000</td>\n",
       "      <td>0.0</td>\n",
       "      <td>...</td>\n",
       "      <td>0</td>\n",
       "      <td>0</td>\n",
       "      <td>0</td>\n",
       "      <td>1</td>\n",
       "      <td>0</td>\n",
       "      <td>1</td>\n",
       "      <td>0</td>\n",
       "      <td>45.8</td>\n",
       "      <td>0</td>\n",
       "      <td>0.005886</td>\n",
       "    </tr>\n",
       "    <tr>\n",
       "      <th>8267</th>\n",
       "      <td>118218</td>\n",
       "      <td>12.390</td>\n",
       "      <td>12.39</td>\n",
       "      <td>12.390000</td>\n",
       "      <td>12.390</td>\n",
       "      <td>1.0</td>\n",
       "      <td>4054.0</td>\n",
       "      <td>0.0</td>\n",
       "      <td>0.000</td>\n",
       "      <td>0.0</td>\n",
       "      <td>...</td>\n",
       "      <td>0</td>\n",
       "      <td>0</td>\n",
       "      <td>0</td>\n",
       "      <td>1</td>\n",
       "      <td>0</td>\n",
       "      <td>1</td>\n",
       "      <td>0</td>\n",
       "      <td>54.8</td>\n",
       "      <td>0</td>\n",
       "      <td>0.006466</td>\n",
       "    </tr>\n",
       "    <tr>\n",
       "      <th>8417</th>\n",
       "      <td>118416</td>\n",
       "      <td>24.790</td>\n",
       "      <td>24.79</td>\n",
       "      <td>24.790000</td>\n",
       "      <td>24.790</td>\n",
       "      <td>1.0</td>\n",
       "      <td>4045.0</td>\n",
       "      <td>0.0</td>\n",
       "      <td>0.000</td>\n",
       "      <td>0.0</td>\n",
       "      <td>...</td>\n",
       "      <td>0</td>\n",
       "      <td>0</td>\n",
       "      <td>0</td>\n",
       "      <td>1</td>\n",
       "      <td>0</td>\n",
       "      <td>1</td>\n",
       "      <td>0</td>\n",
       "      <td>80.1</td>\n",
       "      <td>0</td>\n",
       "      <td>0.006483</td>\n",
       "    </tr>\n",
       "    <tr>\n",
       "      <th>7780</th>\n",
       "      <td>117411</td>\n",
       "      <td>12.390</td>\n",
       "      <td>12.39</td>\n",
       "      <td>12.390000</td>\n",
       "      <td>24.780</td>\n",
       "      <td>2.0</td>\n",
       "      <td>4037.0</td>\n",
       "      <td>0.0</td>\n",
       "      <td>0.000</td>\n",
       "      <td>0.0</td>\n",
       "      <td>...</td>\n",
       "      <td>0</td>\n",
       "      <td>0</td>\n",
       "      <td>0</td>\n",
       "      <td>1</td>\n",
       "      <td>0</td>\n",
       "      <td>1</td>\n",
       "      <td>0</td>\n",
       "      <td>46.5</td>\n",
       "      <td>0</td>\n",
       "      <td>0.006498</td>\n",
       "    </tr>\n",
       "    <tr>\n",
       "      <th>8367</th>\n",
       "      <td>118355</td>\n",
       "      <td>12.390</td>\n",
       "      <td>12.39</td>\n",
       "      <td>12.390000</td>\n",
       "      <td>12.390</td>\n",
       "      <td>1.0</td>\n",
       "      <td>4037.0</td>\n",
       "      <td>0.0</td>\n",
       "      <td>0.000</td>\n",
       "      <td>0.0</td>\n",
       "      <td>...</td>\n",
       "      <td>0</td>\n",
       "      <td>0</td>\n",
       "      <td>0</td>\n",
       "      <td>1</td>\n",
       "      <td>0</td>\n",
       "      <td>1</td>\n",
       "      <td>0</td>\n",
       "      <td>37.0</td>\n",
       "      <td>0</td>\n",
       "      <td>0.006498</td>\n",
       "    </tr>\n",
       "    <tr>\n",
       "      <th>...</th>\n",
       "      <td>...</td>\n",
       "      <td>...</td>\n",
       "      <td>...</td>\n",
       "      <td>...</td>\n",
       "      <td>...</td>\n",
       "      <td>...</td>\n",
       "      <td>...</td>\n",
       "      <td>...</td>\n",
       "      <td>...</td>\n",
       "      <td>...</td>\n",
       "      <td>...</td>\n",
       "      <td>...</td>\n",
       "      <td>...</td>\n",
       "      <td>...</td>\n",
       "      <td>...</td>\n",
       "      <td>...</td>\n",
       "      <td>...</td>\n",
       "      <td>...</td>\n",
       "      <td>...</td>\n",
       "      <td>...</td>\n",
       "      <td>...</td>\n",
       "    </tr>\n",
       "    <tr>\n",
       "      <th>7074</th>\n",
       "      <td>115756</td>\n",
       "      <td>13.629</td>\n",
       "      <td>2.20</td>\n",
       "      <td>6.360026</td>\n",
       "      <td>241.681</td>\n",
       "      <td>38.0</td>\n",
       "      <td>112.0</td>\n",
       "      <td>0.0</td>\n",
       "      <td>3.300</td>\n",
       "      <td>1.0</td>\n",
       "      <td>...</td>\n",
       "      <td>1</td>\n",
       "      <td>0</td>\n",
       "      <td>0</td>\n",
       "      <td>1</td>\n",
       "      <td>0</td>\n",
       "      <td>0</td>\n",
       "      <td>0</td>\n",
       "      <td>77.6</td>\n",
       "      <td>1</td>\n",
       "      <td>0.652736</td>\n",
       "    </tr>\n",
       "    <tr>\n",
       "      <th>23919</th>\n",
       "      <td>140920</td>\n",
       "      <td>3.500</td>\n",
       "      <td>1.00</td>\n",
       "      <td>3.120000</td>\n",
       "      <td>78.000</td>\n",
       "      <td>25.0</td>\n",
       "      <td>535.0</td>\n",
       "      <td>0.0</td>\n",
       "      <td>0.000</td>\n",
       "      <td>0.0</td>\n",
       "      <td>...</td>\n",
       "      <td>1</td>\n",
       "      <td>0</td>\n",
       "      <td>0</td>\n",
       "      <td>1</td>\n",
       "      <td>0</td>\n",
       "      <td>0</td>\n",
       "      <td>0</td>\n",
       "      <td>67.3</td>\n",
       "      <td>0</td>\n",
       "      <td>0.724146</td>\n",
       "    </tr>\n",
       "    <tr>\n",
       "      <th>11934</th>\n",
       "      <td>123409</td>\n",
       "      <td>6.500</td>\n",
       "      <td>1.30</td>\n",
       "      <td>3.254054</td>\n",
       "      <td>120.400</td>\n",
       "      <td>37.0</td>\n",
       "      <td>210.0</td>\n",
       "      <td>0.0</td>\n",
       "      <td>3.125</td>\n",
       "      <td>4.0</td>\n",
       "      <td>...</td>\n",
       "      <td>1</td>\n",
       "      <td>0</td>\n",
       "      <td>0</td>\n",
       "      <td>1</td>\n",
       "      <td>0</td>\n",
       "      <td>0</td>\n",
       "      <td>0</td>\n",
       "      <td>80.4</td>\n",
       "      <td>0</td>\n",
       "      <td>0.743088</td>\n",
       "    </tr>\n",
       "    <tr>\n",
       "      <th>17319</th>\n",
       "      <td>131262</td>\n",
       "      <td>9.000</td>\n",
       "      <td>4.29</td>\n",
       "      <td>5.542895</td>\n",
       "      <td>210.630</td>\n",
       "      <td>38.0</td>\n",
       "      <td>128.0</td>\n",
       "      <td>0.0</td>\n",
       "      <td>5.860</td>\n",
       "      <td>3.0</td>\n",
       "      <td>...</td>\n",
       "      <td>1</td>\n",
       "      <td>0</td>\n",
       "      <td>0</td>\n",
       "      <td>1</td>\n",
       "      <td>0</td>\n",
       "      <td>1</td>\n",
       "      <td>0</td>\n",
       "      <td>38.7</td>\n",
       "      <td>1</td>\n",
       "      <td>0.795671</td>\n",
       "    </tr>\n",
       "    <tr>\n",
       "      <th>21027</th>\n",
       "      <td>136827</td>\n",
       "      <td>28.000</td>\n",
       "      <td>1.00</td>\n",
       "      <td>3.203704</td>\n",
       "      <td>86.500</td>\n",
       "      <td>27.0</td>\n",
       "      <td>232.0</td>\n",
       "      <td>0.0</td>\n",
       "      <td>1.000</td>\n",
       "      <td>5.0</td>\n",
       "      <td>...</td>\n",
       "      <td>1</td>\n",
       "      <td>0</td>\n",
       "      <td>0</td>\n",
       "      <td>1</td>\n",
       "      <td>0</td>\n",
       "      <td>0</td>\n",
       "      <td>0</td>\n",
       "      <td>30.4</td>\n",
       "      <td>0</td>\n",
       "      <td>0.828285</td>\n",
       "    </tr>\n",
       "  </tbody>\n",
       "</table>\n",
       "<p>25645 rows × 29 columns</p>\n",
       "</div>"
      ],
      "text/plain": [
       "       donorID      max     min        mean      sum  count  recency_days  \\\n",
       "5877    113466  200.000  100.00  123.950000  495.790    1.0        4371.0   \n",
       "8267    118218   12.390   12.39   12.390000   12.390    1.0        4054.0   \n",
       "8417    118416   24.790   24.79   24.790000   24.790    1.0        4045.0   \n",
       "7780    117411   12.390   12.39   12.390000   24.780    2.0        4037.0   \n",
       "8367    118355   12.390   12.39   12.390000   12.390    1.0        4037.0   \n",
       "...        ...      ...     ...         ...      ...    ...           ...   \n",
       "7074    115756   13.629    2.20    6.360026  241.681   38.0         112.0   \n",
       "23919   140920    3.500    1.00    3.120000   78.000   25.0         535.0   \n",
       "11934   123409    6.500    1.30    3.254054  120.400   37.0         210.0   \n",
       "17319   131262    9.000    4.29    5.542895  210.630   38.0         128.0   \n",
       "21027   136827   28.000    1.00    3.203704   86.500   27.0         232.0   \n",
       "\n",
       "       last_month_mean  year1_mean  year1_count  ...  language_y  \\\n",
       "5877               0.0       0.000          0.0  ...           0   \n",
       "8267               0.0       0.000          0.0  ...           0   \n",
       "8417               0.0       0.000          0.0  ...           0   \n",
       "7780               0.0       0.000          0.0  ...           0   \n",
       "8367               0.0       0.000          0.0  ...           0   \n",
       "...                ...         ...          ...  ...         ...   \n",
       "7074               0.0       3.300          1.0  ...           1   \n",
       "23919              0.0       0.000          0.0  ...           1   \n",
       "11934              0.0       3.125          4.0  ...           1   \n",
       "17319              0.0       5.860          3.0  ...           1   \n",
       "21027              0.0       1.000          5.0  ...           1   \n",
       "\n",
       "       language_NaN  segment_x  segment_y  segment_z  gender_x  gender_y  \\\n",
       "5877              0          0          1          0         1         0   \n",
       "8267              0          0          1          0         1         0   \n",
       "8417              0          0          1          0         1         0   \n",
       "7780              0          0          1          0         1         0   \n",
       "8367              0          0          1          0         1         0   \n",
       "...             ...        ...        ...        ...       ...       ...   \n",
       "7074              0          0          1          0         0         0   \n",
       "23919             0          0          1          0         0         0   \n",
       "11934             0          0          1          0         0         0   \n",
       "17319             0          0          1          0         1         0   \n",
       "21027             0          0          1          0         0         0   \n",
       "\n",
       "       age_no_outliers  target  proba_donation  \n",
       "5877              45.8       0        0.005886  \n",
       "8267              54.8       0        0.006466  \n",
       "8417              80.1       0        0.006483  \n",
       "7780              46.5       0        0.006498  \n",
       "8367              37.0       0        0.006498  \n",
       "...                ...     ...             ...  \n",
       "7074              77.6       1        0.652736  \n",
       "23919             67.3       0        0.724146  \n",
       "11934             80.4       0        0.743088  \n",
       "17319             38.7       1        0.795671  \n",
       "21027             30.4       0        0.828285  \n",
       "\n",
       "[25645 rows x 29 columns]"
      ]
     },
     "execution_count": 693,
     "metadata": {},
     "output_type": "execute_result"
    }
   ],
   "source": [
    " basetable_test.sort_values(by=[\"proba_donation\"])\n",
    "    "
   ]
  },
  {
   "cell_type": "code",
   "execution_count": 670,
   "metadata": {
    "scrolled": true
   },
   "outputs": [
    {
     "data": {
      "text/html": [
       "<div>\n",
       "<style scoped>\n",
       "    .dataframe tbody tr th:only-of-type {\n",
       "        vertical-align: middle;\n",
       "    }\n",
       "\n",
       "    .dataframe tbody tr th {\n",
       "        vertical-align: top;\n",
       "    }\n",
       "\n",
       "    .dataframe thead th {\n",
       "        text-align: right;\n",
       "    }\n",
       "</style>\n",
       "<table border=\"1\" class=\"dataframe\">\n",
       "  <thead>\n",
       "    <tr style=\"text-align: right;\">\n",
       "      <th></th>\n",
       "      <th>donorID</th>\n",
       "      <th>max</th>\n",
       "      <th>min</th>\n",
       "      <th>mean</th>\n",
       "      <th>sum</th>\n",
       "      <th>count</th>\n",
       "      <th>recency_days</th>\n",
       "      <th>last_month_mean</th>\n",
       "      <th>year1_mean</th>\n",
       "      <th>year1_count</th>\n",
       "      <th>...</th>\n",
       "      <th>language_x</th>\n",
       "      <th>language_y</th>\n",
       "      <th>language_NaN</th>\n",
       "      <th>segment_x</th>\n",
       "      <th>segment_y</th>\n",
       "      <th>segment_z</th>\n",
       "      <th>gender_x</th>\n",
       "      <th>gender_y</th>\n",
       "      <th>age_no_outliers</th>\n",
       "      <th>target</th>\n",
       "    </tr>\n",
       "  </thead>\n",
       "  <tbody>\n",
       "    <tr>\n",
       "      <th>0</th>\n",
       "      <td>100001</td>\n",
       "      <td>30.0</td>\n",
       "      <td>6.69</td>\n",
       "      <td>15.100000</td>\n",
       "      <td>166.10</td>\n",
       "      <td>11.0</td>\n",
       "      <td>2727.0</td>\n",
       "      <td>0.0</td>\n",
       "      <td>0.0</td>\n",
       "      <td>0.0</td>\n",
       "      <td>...</td>\n",
       "      <td>0</td>\n",
       "      <td>1</td>\n",
       "      <td>0</td>\n",
       "      <td>0</td>\n",
       "      <td>1</td>\n",
       "      <td>0</td>\n",
       "      <td>0</td>\n",
       "      <td>0</td>\n",
       "      <td>51.5</td>\n",
       "      <td>0</td>\n",
       "    </tr>\n",
       "    <tr>\n",
       "      <th>1</th>\n",
       "      <td>100002</td>\n",
       "      <td>20.0</td>\n",
       "      <td>20.00</td>\n",
       "      <td>20.000000</td>\n",
       "      <td>20.00</td>\n",
       "      <td>1.0</td>\n",
       "      <td>1620.0</td>\n",
       "      <td>0.0</td>\n",
       "      <td>0.0</td>\n",
       "      <td>0.0</td>\n",
       "      <td>...</td>\n",
       "      <td>0</td>\n",
       "      <td>1</td>\n",
       "      <td>0</td>\n",
       "      <td>0</td>\n",
       "      <td>1</td>\n",
       "      <td>0</td>\n",
       "      <td>1</td>\n",
       "      <td>0</td>\n",
       "      <td>67.5</td>\n",
       "      <td>0</td>\n",
       "    </tr>\n",
       "    <tr>\n",
       "      <th>2</th>\n",
       "      <td>100008</td>\n",
       "      <td>50.0</td>\n",
       "      <td>24.79</td>\n",
       "      <td>41.456667</td>\n",
       "      <td>124.37</td>\n",
       "      <td>3.0</td>\n",
       "      <td>2790.0</td>\n",
       "      <td>0.0</td>\n",
       "      <td>0.0</td>\n",
       "      <td>0.0</td>\n",
       "      <td>...</td>\n",
       "      <td>1</td>\n",
       "      <td>0</td>\n",
       "      <td>0</td>\n",
       "      <td>0</td>\n",
       "      <td>0</td>\n",
       "      <td>1</td>\n",
       "      <td>1</td>\n",
       "      <td>0</td>\n",
       "      <td>81.9</td>\n",
       "      <td>0</td>\n",
       "    </tr>\n",
       "    <tr>\n",
       "      <th>3</th>\n",
       "      <td>100009</td>\n",
       "      <td>25.0</td>\n",
       "      <td>7.44</td>\n",
       "      <td>17.198947</td>\n",
       "      <td>326.78</td>\n",
       "      <td>19.0</td>\n",
       "      <td>2641.0</td>\n",
       "      <td>0.0</td>\n",
       "      <td>0.0</td>\n",
       "      <td>0.0</td>\n",
       "      <td>...</td>\n",
       "      <td>1</td>\n",
       "      <td>0</td>\n",
       "      <td>0</td>\n",
       "      <td>0</td>\n",
       "      <td>1</td>\n",
       "      <td>0</td>\n",
       "      <td>1</td>\n",
       "      <td>0</td>\n",
       "      <td>87.5</td>\n",
       "      <td>0</td>\n",
       "    </tr>\n",
       "    <tr>\n",
       "      <th>4</th>\n",
       "      <td>100010</td>\n",
       "      <td>40.0</td>\n",
       "      <td>40.00</td>\n",
       "      <td>40.000000</td>\n",
       "      <td>40.00</td>\n",
       "      <td>1.0</td>\n",
       "      <td>1617.0</td>\n",
       "      <td>0.0</td>\n",
       "      <td>0.0</td>\n",
       "      <td>0.0</td>\n",
       "      <td>...</td>\n",
       "      <td>1</td>\n",
       "      <td>0</td>\n",
       "      <td>0</td>\n",
       "      <td>0</td>\n",
       "      <td>1</td>\n",
       "      <td>0</td>\n",
       "      <td>1</td>\n",
       "      <td>0</td>\n",
       "      <td>36.1</td>\n",
       "      <td>0</td>\n",
       "    </tr>\n",
       "  </tbody>\n",
       "</table>\n",
       "<p>5 rows × 28 columns</p>\n",
       "</div>"
      ],
      "text/plain": [
       "   donorID   max    min       mean     sum  count  recency_days  \\\n",
       "0   100001  30.0   6.69  15.100000  166.10   11.0        2727.0   \n",
       "1   100002  20.0  20.00  20.000000   20.00    1.0        1620.0   \n",
       "2   100008  50.0  24.79  41.456667  124.37    3.0        2790.0   \n",
       "3   100009  25.0   7.44  17.198947  326.78   19.0        2641.0   \n",
       "4   100010  40.0  40.00  40.000000   40.00    1.0        1617.0   \n",
       "\n",
       "   last_month_mean  year1_mean  year1_count  ...  language_x  language_y  \\\n",
       "0              0.0         0.0          0.0  ...           0           1   \n",
       "1              0.0         0.0          0.0  ...           0           1   \n",
       "2              0.0         0.0          0.0  ...           1           0   \n",
       "3              0.0         0.0          0.0  ...           1           0   \n",
       "4              0.0         0.0          0.0  ...           1           0   \n",
       "\n",
       "   language_NaN  segment_x  segment_y  segment_z  gender_x  gender_y  \\\n",
       "0             0          0          1          0         0         0   \n",
       "1             0          0          1          0         1         0   \n",
       "2             0          0          0          1         1         0   \n",
       "3             0          0          1          0         1         0   \n",
       "4             0          0          1          0         1         0   \n",
       "\n",
       "   age_no_outliers  target  \n",
       "0             51.5       0  \n",
       "1             67.5       0  \n",
       "2             81.9       0  \n",
       "3             87.5       0  \n",
       "4             36.1       0  \n",
       "\n",
       "[5 rows x 28 columns]"
      ]
     },
     "execution_count": 670,
     "metadata": {},
     "output_type": "execute_result"
    }
   ],
   "source": [
    " basetable_test.head()"
   ]
  },
  {
   "cell_type": "code",
   "execution_count": 671,
   "metadata": {},
   "outputs": [
    {
     "data": {
      "text/plain": [
       "25645"
      ]
     },
     "execution_count": 671,
     "metadata": {},
     "output_type": "execute_result"
    }
   ],
   "source": [
    "len( basetable_test)"
   ]
  },
  {
   "cell_type": "markdown",
   "metadata": {},
   "source": [
    "### -  Predictive variables test set"
   ]
  },
  {
   "cell_type": "code",
   "execution_count": 91,
   "metadata": {},
   "outputs": [
    {
     "name": "stdout",
     "output_type": "stream",
     "text": [
      "198934\n"
     ]
    }
   ],
   "source": [
    "reference7244 = dt.datetime(year=2019, month=6, day=18)\n",
    "\n",
    "gifts_test = gifts[gifts[\"date\"] <= reference7244]\n",
    "\n",
    "print(len(gifts_test))"
   ]
  },
  {
   "cell_type": "code",
   "execution_count": 92,
   "metadata": {
    "scrolled": true
   },
   "outputs": [
    {
     "data": {
      "text/html": [
       "<div>\n",
       "<style scoped>\n",
       "    .dataframe tbody tr th:only-of-type {\n",
       "        vertical-align: middle;\n",
       "    }\n",
       "\n",
       "    .dataframe tbody tr th {\n",
       "        vertical-align: top;\n",
       "    }\n",
       "\n",
       "    .dataframe thead th {\n",
       "        text-align: right;\n",
       "    }\n",
       "</style>\n",
       "<table border=\"1\" class=\"dataframe\">\n",
       "  <thead>\n",
       "    <tr style=\"text-align: right;\">\n",
       "      <th></th>\n",
       "      <th>donorID</th>\n",
       "      <th>max</th>\n",
       "      <th>min</th>\n",
       "      <th>mean</th>\n",
       "      <th>sum</th>\n",
       "      <th>count</th>\n",
       "    </tr>\n",
       "  </thead>\n",
       "  <tbody>\n",
       "    <tr>\n",
       "      <th>0</th>\n",
       "      <td>100001</td>\n",
       "      <td>30.00</td>\n",
       "      <td>6.69</td>\n",
       "      <td>15.100000</td>\n",
       "      <td>166.10</td>\n",
       "      <td>11</td>\n",
       "    </tr>\n",
       "    <tr>\n",
       "      <th>1</th>\n",
       "      <td>100002</td>\n",
       "      <td>20.00</td>\n",
       "      <td>20.00</td>\n",
       "      <td>20.000000</td>\n",
       "      <td>20.00</td>\n",
       "      <td>1</td>\n",
       "    </tr>\n",
       "    <tr>\n",
       "      <th>2</th>\n",
       "      <td>100003</td>\n",
       "      <td>5.00</td>\n",
       "      <td>3.00</td>\n",
       "      <td>3.833333</td>\n",
       "      <td>46.00</td>\n",
       "      <td>12</td>\n",
       "    </tr>\n",
       "    <tr>\n",
       "      <th>3</th>\n",
       "      <td>100004</td>\n",
       "      <td>49.58</td>\n",
       "      <td>24.79</td>\n",
       "      <td>27.657200</td>\n",
       "      <td>691.43</td>\n",
       "      <td>25</td>\n",
       "    </tr>\n",
       "    <tr>\n",
       "      <th>4</th>\n",
       "      <td>100005</td>\n",
       "      <td>10.00</td>\n",
       "      <td>2.48</td>\n",
       "      <td>4.992000</td>\n",
       "      <td>24.96</td>\n",
       "      <td>5</td>\n",
       "    </tr>\n",
       "  </tbody>\n",
       "</table>\n",
       "</div>"
      ],
      "text/plain": [
       "   donorID    max    min       mean     sum  count\n",
       "0   100001  30.00   6.69  15.100000  166.10     11\n",
       "1   100002  20.00  20.00  20.000000   20.00      1\n",
       "2   100003   5.00   3.00   3.833333   46.00     12\n",
       "3   100004  49.58  24.79  27.657200  691.43     25\n",
       "4   100005  10.00   2.48   4.992000   24.96      5"
      ]
     },
     "execution_count": 92,
     "metadata": {},
     "output_type": "execute_result"
    }
   ],
   "source": [
    "basetable_test = gifts_test.groupby([\"donorID\"])[\"amount\"].agg(['max', 'min','mean','sum', 'count']).reset_index()\n",
    "basetable_test.head()"
   ]
  },
  {
   "cell_type": "code",
   "execution_count": 93,
   "metadata": {},
   "outputs": [],
   "source": [
    "# Latest gift per donor\n",
    "last_gift_test = gifts_test.groupby([\"donorID\"])[\"date\"].max().reset_index()\n",
    "last_gift_test[\"recency_days\"] = reference7244 - last_gift_test[\"date\"]   \n",
    "last_gift_test[\"recency_days\"] = last_gift_test.recency_days.apply(lambda x: x.days)\n",
    "# Add recency to the basetable\n",
    "basetable_test = pd.merge(basetable_test, last_gift_test[[\"donorID\", \"recency_days\"]], how=\"left\")"
   ]
  },
  {
   "cell_type": "code",
   "execution_count": 94,
   "metadata": {},
   "outputs": [
    {
     "data": {
      "text/html": [
       "<div>\n",
       "<style scoped>\n",
       "    .dataframe tbody tr th:only-of-type {\n",
       "        vertical-align: middle;\n",
       "    }\n",
       "\n",
       "    .dataframe tbody tr th {\n",
       "        vertical-align: top;\n",
       "    }\n",
       "\n",
       "    .dataframe thead th {\n",
       "        text-align: right;\n",
       "    }\n",
       "</style>\n",
       "<table border=\"1\" class=\"dataframe\">\n",
       "  <thead>\n",
       "    <tr style=\"text-align: right;\">\n",
       "      <th></th>\n",
       "      <th>donorID</th>\n",
       "      <th>max</th>\n",
       "      <th>min</th>\n",
       "      <th>mean</th>\n",
       "      <th>sum</th>\n",
       "      <th>count</th>\n",
       "      <th>recency_days</th>\n",
       "    </tr>\n",
       "  </thead>\n",
       "  <tbody>\n",
       "    <tr>\n",
       "      <th>0</th>\n",
       "      <td>100001</td>\n",
       "      <td>30.00</td>\n",
       "      <td>6.69</td>\n",
       "      <td>15.100000</td>\n",
       "      <td>166.10</td>\n",
       "      <td>11</td>\n",
       "      <td>2727</td>\n",
       "    </tr>\n",
       "    <tr>\n",
       "      <th>1</th>\n",
       "      <td>100002</td>\n",
       "      <td>20.00</td>\n",
       "      <td>20.00</td>\n",
       "      <td>20.000000</td>\n",
       "      <td>20.00</td>\n",
       "      <td>1</td>\n",
       "      <td>1620</td>\n",
       "    </tr>\n",
       "    <tr>\n",
       "      <th>2</th>\n",
       "      <td>100003</td>\n",
       "      <td>5.00</td>\n",
       "      <td>3.00</td>\n",
       "      <td>3.833333</td>\n",
       "      <td>46.00</td>\n",
       "      <td>12</td>\n",
       "      <td>1</td>\n",
       "    </tr>\n",
       "    <tr>\n",
       "      <th>3</th>\n",
       "      <td>100004</td>\n",
       "      <td>49.58</td>\n",
       "      <td>24.79</td>\n",
       "      <td>27.657200</td>\n",
       "      <td>691.43</td>\n",
       "      <td>25</td>\n",
       "      <td>2937</td>\n",
       "    </tr>\n",
       "    <tr>\n",
       "      <th>4</th>\n",
       "      <td>100005</td>\n",
       "      <td>10.00</td>\n",
       "      <td>2.48</td>\n",
       "      <td>4.992000</td>\n",
       "      <td>24.96</td>\n",
       "      <td>5</td>\n",
       "      <td>61</td>\n",
       "    </tr>\n",
       "  </tbody>\n",
       "</table>\n",
       "</div>"
      ],
      "text/plain": [
       "   donorID    max    min       mean     sum  count  recency_days\n",
       "0   100001  30.00   6.69  15.100000  166.10     11          2727\n",
       "1   100002  20.00  20.00  20.000000   20.00      1          1620\n",
       "2   100003   5.00   3.00   3.833333   46.00     12             1\n",
       "3   100004  49.58  24.79  27.657200  691.43     25          2937\n",
       "4   100005  10.00   2.48   4.992000   24.96      5            61"
      ]
     },
     "execution_count": 94,
     "metadata": {},
     "output_type": "execute_result"
    }
   ],
   "source": [
    "basetable_test.head()"
   ]
  },
  {
   "cell_type": "code",
   "execution_count": 95,
   "metadata": {
    "scrolled": true
   },
   "outputs": [],
   "source": [
    "reference = dt.datetime(2019, 6, 18)\n",
    "reference1 = dt.datetime(2019, 5, 18)\n",
    "\n",
    "#gifts last month\n",
    "gifts_last_month7244 = gifts_test[(gifts_test[\"date\"] <= reference) & (gifts_test[\"date\"] >= reference1)]\n",
    "\n",
    "last_month7244 = gifts_last_month7244.groupby(\"donorID\")[\"amount\"].mean().reset_index()\n",
    "last_month7244.columns = [\"donorID\", \"last_month_mean\"]\n",
    "\n",
    "basetable_test = pd.merge(basetable_test, last_month7244, how='left', on='donorID')"
   ]
  },
  {
   "cell_type": "code",
   "execution_count": 96,
   "metadata": {},
   "outputs": [],
   "source": [
    "#Number of gifts in this period per donor\n",
    "reference = dt.datetime(2019, 6, 18)\n",
    "reference_y = dt.datetime(2018, 6, 18)\n",
    "\n",
    "#gifts last month\n",
    "gifts_last_year7244 = gifts_test[(gifts_test[\"date\"] <= reference) & (gifts_test[\"date\"] >= reference_y)]\n",
    "\n",
    "year1_gifts_7244 = gifts_last_year7244.groupby(\"donorID\")[\"amount\"].agg(['mean','count']).reset_index()\n",
    "year1_gifts_7244.columns = [\"donorID\", \"year1_mean\", \"year1_count\"]\n",
    "\n",
    "basetable_test = pd.merge(basetable_test, year1_gifts_7244, how='left', on='donorID' )\n"
   ]
  },
  {
   "cell_type": "code",
   "execution_count": 97,
   "metadata": {},
   "outputs": [
    {
     "data": {
      "text/html": [
       "<div>\n",
       "<style scoped>\n",
       "    .dataframe tbody tr th:only-of-type {\n",
       "        vertical-align: middle;\n",
       "    }\n",
       "\n",
       "    .dataframe tbody tr th {\n",
       "        vertical-align: top;\n",
       "    }\n",
       "\n",
       "    .dataframe thead th {\n",
       "        text-align: right;\n",
       "    }\n",
       "</style>\n",
       "<table border=\"1\" class=\"dataframe\">\n",
       "  <thead>\n",
       "    <tr style=\"text-align: right;\">\n",
       "      <th></th>\n",
       "      <th>donorID</th>\n",
       "      <th>max</th>\n",
       "      <th>min</th>\n",
       "      <th>mean</th>\n",
       "      <th>sum</th>\n",
       "      <th>count</th>\n",
       "      <th>recency_days</th>\n",
       "      <th>last_month_mean</th>\n",
       "      <th>year1_mean</th>\n",
       "      <th>year1_count</th>\n",
       "      <th>year2_mean</th>\n",
       "      <th>year2_count</th>\n",
       "    </tr>\n",
       "  </thead>\n",
       "  <tbody>\n",
       "    <tr>\n",
       "      <th>0</th>\n",
       "      <td>100001</td>\n",
       "      <td>30.00</td>\n",
       "      <td>6.69</td>\n",
       "      <td>15.100000</td>\n",
       "      <td>166.10</td>\n",
       "      <td>11</td>\n",
       "      <td>2727</td>\n",
       "      <td>NaN</td>\n",
       "      <td>NaN</td>\n",
       "      <td>NaN</td>\n",
       "      <td>NaN</td>\n",
       "      <td>NaN</td>\n",
       "    </tr>\n",
       "    <tr>\n",
       "      <th>1</th>\n",
       "      <td>100002</td>\n",
       "      <td>20.00</td>\n",
       "      <td>20.00</td>\n",
       "      <td>20.000000</td>\n",
       "      <td>20.00</td>\n",
       "      <td>1</td>\n",
       "      <td>1620</td>\n",
       "      <td>NaN</td>\n",
       "      <td>NaN</td>\n",
       "      <td>NaN</td>\n",
       "      <td>NaN</td>\n",
       "      <td>NaN</td>\n",
       "    </tr>\n",
       "    <tr>\n",
       "      <th>2</th>\n",
       "      <td>100003</td>\n",
       "      <td>5.00</td>\n",
       "      <td>3.00</td>\n",
       "      <td>3.833333</td>\n",
       "      <td>46.00</td>\n",
       "      <td>12</td>\n",
       "      <td>1</td>\n",
       "      <td>4.0</td>\n",
       "      <td>3.875</td>\n",
       "      <td>8.0</td>\n",
       "      <td>3.75</td>\n",
       "      <td>4.0</td>\n",
       "    </tr>\n",
       "    <tr>\n",
       "      <th>3</th>\n",
       "      <td>100004</td>\n",
       "      <td>49.58</td>\n",
       "      <td>24.79</td>\n",
       "      <td>27.657200</td>\n",
       "      <td>691.43</td>\n",
       "      <td>25</td>\n",
       "      <td>2937</td>\n",
       "      <td>NaN</td>\n",
       "      <td>NaN</td>\n",
       "      <td>NaN</td>\n",
       "      <td>NaN</td>\n",
       "      <td>NaN</td>\n",
       "    </tr>\n",
       "    <tr>\n",
       "      <th>4</th>\n",
       "      <td>100005</td>\n",
       "      <td>10.00</td>\n",
       "      <td>2.48</td>\n",
       "      <td>4.992000</td>\n",
       "      <td>24.96</td>\n",
       "      <td>5</td>\n",
       "      <td>61</td>\n",
       "      <td>NaN</td>\n",
       "      <td>7.500</td>\n",
       "      <td>2.0</td>\n",
       "      <td>NaN</td>\n",
       "      <td>NaN</td>\n",
       "    </tr>\n",
       "  </tbody>\n",
       "</table>\n",
       "</div>"
      ],
      "text/plain": [
       "   donorID    max    min       mean     sum  count  recency_days  \\\n",
       "0   100001  30.00   6.69  15.100000  166.10     11          2727   \n",
       "1   100002  20.00  20.00  20.000000   20.00      1          1620   \n",
       "2   100003   5.00   3.00   3.833333   46.00     12             1   \n",
       "3   100004  49.58  24.79  27.657200  691.43     25          2937   \n",
       "4   100005  10.00   2.48   4.992000   24.96      5            61   \n",
       "\n",
       "   last_month_mean  year1_mean  year1_count  year2_mean  year2_count  \n",
       "0              NaN         NaN          NaN         NaN          NaN  \n",
       "1              NaN         NaN          NaN         NaN          NaN  \n",
       "2              4.0       3.875          8.0        3.75          4.0  \n",
       "3              NaN         NaN          NaN         NaN          NaN  \n",
       "4              NaN       7.500          2.0         NaN          NaN  "
      ]
     },
     "execution_count": 97,
     "metadata": {},
     "output_type": "execute_result"
    }
   ],
   "source": [
    "#Number of gifts in this period per donor\n",
    "reference_y1 = dt.datetime(2018, 6, 18)\n",
    "reference_y2 = dt.datetime(2017, 6, 18)\n",
    "\n",
    "#gifts last month\n",
    "gifts_last_year7244 = gifts_test[(gifts_test[\"date\"] < reference_y1) & (gifts_test[\"date\"] >= reference_y2)]\n",
    "\n",
    "year2_gifts_7244 = gifts_last_year7244.groupby(\"donorID\")[\"amount\"].agg(['mean','count']).reset_index()\n",
    "year2_gifts_7244.columns = [\"donorID\", \"year2_mean\", \"year2_count\"]\n",
    "\n",
    "basetable_test = pd.merge(basetable_test, year2_gifts_7244, how='left', on='donorID' )\n",
    "basetable_test.head()"
   ]
  },
  {
   "cell_type": "code",
   "execution_count": 98,
   "metadata": {},
   "outputs": [],
   "source": [
    "basetable_test[\"ratio_month_year\"] = basetable_test[\"last_month_mean\"] / basetable_test[\"year1_mean\"]\n",
    "basetable_test[\"ratio_year2year_mean\"] = basetable_test[\"year1_mean\"] / basetable_test[\"year2_mean\"]\n",
    "basetable_test[\"ratio_year2year_count\"] = basetable_test[\"year1_count\"] / basetable_test[\"year2_count\"]\n"
   ]
  },
  {
   "cell_type": "code",
   "execution_count": 99,
   "metadata": {
    "scrolled": true
   },
   "outputs": [
    {
     "data": {
      "text/html": [
       "<div>\n",
       "<style scoped>\n",
       "    .dataframe tbody tr th:only-of-type {\n",
       "        vertical-align: middle;\n",
       "    }\n",
       "\n",
       "    .dataframe tbody tr th {\n",
       "        vertical-align: top;\n",
       "    }\n",
       "\n",
       "    .dataframe thead th {\n",
       "        text-align: right;\n",
       "    }\n",
       "</style>\n",
       "<table border=\"1\" class=\"dataframe\">\n",
       "  <thead>\n",
       "    <tr style=\"text-align: right;\">\n",
       "      <th></th>\n",
       "      <th>donorID</th>\n",
       "      <th>max</th>\n",
       "      <th>min</th>\n",
       "      <th>mean</th>\n",
       "      <th>sum</th>\n",
       "      <th>count</th>\n",
       "      <th>recency_days</th>\n",
       "      <th>last_month_mean</th>\n",
       "      <th>year1_mean</th>\n",
       "      <th>year1_count</th>\n",
       "      <th>year2_mean</th>\n",
       "      <th>year2_count</th>\n",
       "      <th>ratio_month_year</th>\n",
       "      <th>ratio_year2year_mean</th>\n",
       "      <th>ratio_year2year_count</th>\n",
       "    </tr>\n",
       "  </thead>\n",
       "  <tbody>\n",
       "    <tr>\n",
       "      <th>0</th>\n",
       "      <td>100001</td>\n",
       "      <td>30.00</td>\n",
       "      <td>6.69</td>\n",
       "      <td>15.100000</td>\n",
       "      <td>166.10</td>\n",
       "      <td>11</td>\n",
       "      <td>2727</td>\n",
       "      <td>NaN</td>\n",
       "      <td>NaN</td>\n",
       "      <td>NaN</td>\n",
       "      <td>NaN</td>\n",
       "      <td>NaN</td>\n",
       "      <td>NaN</td>\n",
       "      <td>NaN</td>\n",
       "      <td>NaN</td>\n",
       "    </tr>\n",
       "    <tr>\n",
       "      <th>1</th>\n",
       "      <td>100002</td>\n",
       "      <td>20.00</td>\n",
       "      <td>20.00</td>\n",
       "      <td>20.000000</td>\n",
       "      <td>20.00</td>\n",
       "      <td>1</td>\n",
       "      <td>1620</td>\n",
       "      <td>NaN</td>\n",
       "      <td>NaN</td>\n",
       "      <td>NaN</td>\n",
       "      <td>NaN</td>\n",
       "      <td>NaN</td>\n",
       "      <td>NaN</td>\n",
       "      <td>NaN</td>\n",
       "      <td>NaN</td>\n",
       "    </tr>\n",
       "    <tr>\n",
       "      <th>2</th>\n",
       "      <td>100003</td>\n",
       "      <td>5.00</td>\n",
       "      <td>3.00</td>\n",
       "      <td>3.833333</td>\n",
       "      <td>46.00</td>\n",
       "      <td>12</td>\n",
       "      <td>1</td>\n",
       "      <td>4.0</td>\n",
       "      <td>3.875</td>\n",
       "      <td>8.0</td>\n",
       "      <td>3.75</td>\n",
       "      <td>4.0</td>\n",
       "      <td>1.032258</td>\n",
       "      <td>1.033333</td>\n",
       "      <td>2.0</td>\n",
       "    </tr>\n",
       "    <tr>\n",
       "      <th>3</th>\n",
       "      <td>100004</td>\n",
       "      <td>49.58</td>\n",
       "      <td>24.79</td>\n",
       "      <td>27.657200</td>\n",
       "      <td>691.43</td>\n",
       "      <td>25</td>\n",
       "      <td>2937</td>\n",
       "      <td>NaN</td>\n",
       "      <td>NaN</td>\n",
       "      <td>NaN</td>\n",
       "      <td>NaN</td>\n",
       "      <td>NaN</td>\n",
       "      <td>NaN</td>\n",
       "      <td>NaN</td>\n",
       "      <td>NaN</td>\n",
       "    </tr>\n",
       "    <tr>\n",
       "      <th>4</th>\n",
       "      <td>100005</td>\n",
       "      <td>10.00</td>\n",
       "      <td>2.48</td>\n",
       "      <td>4.992000</td>\n",
       "      <td>24.96</td>\n",
       "      <td>5</td>\n",
       "      <td>61</td>\n",
       "      <td>NaN</td>\n",
       "      <td>7.500</td>\n",
       "      <td>2.0</td>\n",
       "      <td>NaN</td>\n",
       "      <td>NaN</td>\n",
       "      <td>NaN</td>\n",
       "      <td>NaN</td>\n",
       "      <td>NaN</td>\n",
       "    </tr>\n",
       "  </tbody>\n",
       "</table>\n",
       "</div>"
      ],
      "text/plain": [
       "   donorID    max    min       mean     sum  count  recency_days  \\\n",
       "0   100001  30.00   6.69  15.100000  166.10     11          2727   \n",
       "1   100002  20.00  20.00  20.000000   20.00      1          1620   \n",
       "2   100003   5.00   3.00   3.833333   46.00     12             1   \n",
       "3   100004  49.58  24.79  27.657200  691.43     25          2937   \n",
       "4   100005  10.00   2.48   4.992000   24.96      5            61   \n",
       "\n",
       "   last_month_mean  year1_mean  year1_count  year2_mean  year2_count  \\\n",
       "0              NaN         NaN          NaN         NaN          NaN   \n",
       "1              NaN         NaN          NaN         NaN          NaN   \n",
       "2              4.0       3.875          8.0        3.75          4.0   \n",
       "3              NaN         NaN          NaN         NaN          NaN   \n",
       "4              NaN       7.500          2.0         NaN          NaN   \n",
       "\n",
       "   ratio_month_year  ratio_year2year_mean  ratio_year2year_count  \n",
       "0               NaN                   NaN                    NaN  \n",
       "1               NaN                   NaN                    NaN  \n",
       "2          1.032258              1.033333                    2.0  \n",
       "3               NaN                   NaN                    NaN  \n",
       "4               NaN                   NaN                    NaN  "
      ]
     },
     "execution_count": 99,
     "metadata": {},
     "output_type": "execute_result"
    }
   ],
   "source": [
    "basetable_test.head()"
   ]
  },
  {
   "cell_type": "code",
   "execution_count": 100,
   "metadata": {},
   "outputs": [],
   "source": [
    "basetable_test['segment'] = ''\n",
    "\n",
    "for i in range(len(basetable_test)):\n",
    "    if (basetable_test['mean'][i] > 1.5*(gifts_test[\"amount\"].mean())) & (basetable_test['count'][i]>=5):\n",
    "        basetable_test['segment'][i] = 'Gold'\n",
    "    elif (basetable_test['mean'][i] >= (gifts_test[\"amount\"].mean())) & (basetable_test['count'][i]>=3):\n",
    "        basetable_test['segment'][i] = 'Silver'\n",
    "    elif (basetable_test['mean'][i] > 0.5*(gifts_test[\"amount\"].mean())) & (basetable_test['count'][i]>=3):\n",
    "        basetable_test['segment'][i] = 'Bronze'\n",
    "    else:\n",
    "        basetable_test['segment'][i] = 'Regular'"
   ]
  },
  {
   "cell_type": "code",
   "execution_count": 101,
   "metadata": {},
   "outputs": [],
   "source": [
    "donors[\"dateOfBirth\"] = pd.to_datetime(donors[\"dateOfBirth\"])"
   ]
  },
  {
   "cell_type": "code",
   "execution_count": 102,
   "metadata": {},
   "outputs": [
    {
     "data": {
      "text/html": [
       "<div>\n",
       "<style scoped>\n",
       "    .dataframe tbody tr th:only-of-type {\n",
       "        vertical-align: middle;\n",
       "    }\n",
       "\n",
       "    .dataframe tbody tr th {\n",
       "        vertical-align: top;\n",
       "    }\n",
       "\n",
       "    .dataframe thead th {\n",
       "        text-align: right;\n",
       "    }\n",
       "</style>\n",
       "<table border=\"1\" class=\"dataframe\">\n",
       "  <thead>\n",
       "    <tr style=\"text-align: right;\">\n",
       "      <th></th>\n",
       "      <th>donorID</th>\n",
       "      <th>zipcode</th>\n",
       "      <th>province</th>\n",
       "      <th>region</th>\n",
       "      <th>gender</th>\n",
       "      <th>language</th>\n",
       "      <th>dateOfBirth</th>\n",
       "      <th>age_6169</th>\n",
       "      <th>age_7244</th>\n",
       "    </tr>\n",
       "  </thead>\n",
       "  <tbody>\n",
       "    <tr>\n",
       "      <th>0</th>\n",
       "      <td>100001</td>\n",
       "      <td>1861.0</td>\n",
       "      <td>Flemish Brabant</td>\n",
       "      <td>Flanders</td>\n",
       "      <td>F</td>\n",
       "      <td>NL</td>\n",
       "      <td>1967-12-24</td>\n",
       "      <td>50.7</td>\n",
       "      <td>51.5</td>\n",
       "    </tr>\n",
       "    <tr>\n",
       "      <th>1</th>\n",
       "      <td>100002</td>\n",
       "      <td>2260.0</td>\n",
       "      <td>Antwerp</td>\n",
       "      <td>Flanders</td>\n",
       "      <td>M</td>\n",
       "      <td>NL</td>\n",
       "      <td>1952-01-14</td>\n",
       "      <td>66.7</td>\n",
       "      <td>67.5</td>\n",
       "    </tr>\n",
       "    <tr>\n",
       "      <th>2</th>\n",
       "      <td>100003</td>\n",
       "      <td>1780.0</td>\n",
       "      <td>Flemish Brabant</td>\n",
       "      <td>Flanders</td>\n",
       "      <td>M</td>\n",
       "      <td>NL</td>\n",
       "      <td>1986-12-23</td>\n",
       "      <td>31.7</td>\n",
       "      <td>32.5</td>\n",
       "    </tr>\n",
       "    <tr>\n",
       "      <th>3</th>\n",
       "      <td>100004</td>\n",
       "      <td>1020.0</td>\n",
       "      <td>Brussels</td>\n",
       "      <td>Brussels</td>\n",
       "      <td>F</td>\n",
       "      <td>FR</td>\n",
       "      <td>1952-03-29</td>\n",
       "      <td>66.5</td>\n",
       "      <td>67.3</td>\n",
       "    </tr>\n",
       "    <tr>\n",
       "      <th>4</th>\n",
       "      <td>100005</td>\n",
       "      <td>1020.0</td>\n",
       "      <td>Brussels</td>\n",
       "      <td>Brussels</td>\n",
       "      <td>F</td>\n",
       "      <td>FR</td>\n",
       "      <td>1986-06-25</td>\n",
       "      <td>32.2</td>\n",
       "      <td>33.0</td>\n",
       "    </tr>\n",
       "  </tbody>\n",
       "</table>\n",
       "</div>"
      ],
      "text/plain": [
       "   donorID  zipcode         province    region gender language dateOfBirth  \\\n",
       "0   100001   1861.0  Flemish Brabant  Flanders      F       NL  1967-12-24   \n",
       "1   100002   2260.0          Antwerp  Flanders      M       NL  1952-01-14   \n",
       "2   100003   1780.0  Flemish Brabant  Flanders      M       NL  1986-12-23   \n",
       "3   100004   1020.0         Brussels  Brussels      F       FR  1952-03-29   \n",
       "4   100005   1020.0         Brussels  Brussels      F       FR  1986-06-25   \n",
       "\n",
       "   age_6169  age_7244  \n",
       "0      50.7      51.5  \n",
       "1      66.7      67.5  \n",
       "2      31.7      32.5  \n",
       "3      66.5      67.3  \n",
       "4      32.2      33.0  "
      ]
     },
     "execution_count": 102,
     "metadata": {},
     "output_type": "execute_result"
    }
   ],
   "source": [
    "#calculate age test basetable\n",
    "donors['age_7244'] = (reference7244 - donors['dateOfBirth'])\n",
    "donors['age_7244'] = donors.age_7244.apply(lambda x: x.days)\n",
    "donors['age_7244'] = round((donors['age_7244']/365),1)\n",
    "donors.head()"
   ]
  },
  {
   "cell_type": "code",
   "execution_count": 103,
   "metadata": {},
   "outputs": [
    {
     "data": {
      "text/html": [
       "<div>\n",
       "<style scoped>\n",
       "    .dataframe tbody tr th:only-of-type {\n",
       "        vertical-align: middle;\n",
       "    }\n",
       "\n",
       "    .dataframe tbody tr th {\n",
       "        vertical-align: top;\n",
       "    }\n",
       "\n",
       "    .dataframe thead th {\n",
       "        text-align: right;\n",
       "    }\n",
       "</style>\n",
       "<table border=\"1\" class=\"dataframe\">\n",
       "  <thead>\n",
       "    <tr style=\"text-align: right;\">\n",
       "      <th></th>\n",
       "      <th>donorID</th>\n",
       "      <th>max</th>\n",
       "      <th>min</th>\n",
       "      <th>mean</th>\n",
       "      <th>sum</th>\n",
       "      <th>count</th>\n",
       "      <th>recency_days</th>\n",
       "      <th>last_month_mean</th>\n",
       "      <th>year1_mean</th>\n",
       "      <th>year1_count</th>\n",
       "      <th>year2_mean</th>\n",
       "      <th>year2_count</th>\n",
       "      <th>ratio_month_year</th>\n",
       "      <th>ratio_year2year_mean</th>\n",
       "      <th>ratio_year2year_count</th>\n",
       "      <th>segment</th>\n",
       "      <th>age_7244</th>\n",
       "      <th>gender</th>\n",
       "      <th>province</th>\n",
       "      <th>language</th>\n",
       "    </tr>\n",
       "  </thead>\n",
       "  <tbody>\n",
       "    <tr>\n",
       "      <th>0</th>\n",
       "      <td>100001</td>\n",
       "      <td>30.0</td>\n",
       "      <td>6.69</td>\n",
       "      <td>15.1</td>\n",
       "      <td>166.1</td>\n",
       "      <td>11</td>\n",
       "      <td>2727</td>\n",
       "      <td>NaN</td>\n",
       "      <td>NaN</td>\n",
       "      <td>NaN</td>\n",
       "      <td>NaN</td>\n",
       "      <td>NaN</td>\n",
       "      <td>NaN</td>\n",
       "      <td>NaN</td>\n",
       "      <td>NaN</td>\n",
       "      <td>Regular</td>\n",
       "      <td>51.5</td>\n",
       "      <td>F</td>\n",
       "      <td>Flemish Brabant</td>\n",
       "      <td>NL</td>\n",
       "    </tr>\n",
       "    <tr>\n",
       "      <th>1</th>\n",
       "      <td>100002</td>\n",
       "      <td>20.0</td>\n",
       "      <td>20.00</td>\n",
       "      <td>20.0</td>\n",
       "      <td>20.0</td>\n",
       "      <td>1</td>\n",
       "      <td>1620</td>\n",
       "      <td>NaN</td>\n",
       "      <td>NaN</td>\n",
       "      <td>NaN</td>\n",
       "      <td>NaN</td>\n",
       "      <td>NaN</td>\n",
       "      <td>NaN</td>\n",
       "      <td>NaN</td>\n",
       "      <td>NaN</td>\n",
       "      <td>Regular</td>\n",
       "      <td>67.5</td>\n",
       "      <td>M</td>\n",
       "      <td>Antwerp</td>\n",
       "      <td>NL</td>\n",
       "    </tr>\n",
       "  </tbody>\n",
       "</table>\n",
       "</div>"
      ],
      "text/plain": [
       "   donorID   max    min  mean    sum  count  recency_days  last_month_mean  \\\n",
       "0   100001  30.0   6.69  15.1  166.1     11          2727              NaN   \n",
       "1   100002  20.0  20.00  20.0   20.0      1          1620              NaN   \n",
       "\n",
       "   year1_mean  year1_count  year2_mean  year2_count  ratio_month_year  \\\n",
       "0         NaN          NaN         NaN          NaN               NaN   \n",
       "1         NaN          NaN         NaN          NaN               NaN   \n",
       "\n",
       "   ratio_year2year_mean  ratio_year2year_count  segment  age_7244 gender  \\\n",
       "0                   NaN                    NaN  Regular      51.5      F   \n",
       "1                   NaN                    NaN  Regular      67.5      M   \n",
       "\n",
       "          province language  \n",
       "0  Flemish Brabant       NL  \n",
       "1          Antwerp       NL  "
      ]
     },
     "execution_count": 103,
     "metadata": {},
     "output_type": "execute_result"
    }
   ],
   "source": [
    "basetable_test = pd.merge(basetable_test,donors[[\"donorID\",\"age_7244\",\"gender\",\"province\", \"language\"]], on = \"donorID\", how = \"left\")\n",
    "\n",
    "basetable_test.head(2)"
   ]
  },
  {
   "cell_type": "markdown",
   "metadata": {},
   "source": [
    "#### Merge data set with campaign 7244 selection"
   ]
  },
  {
   "cell_type": "code",
   "execution_count": 104,
   "metadata": {},
   "outputs": [
    {
     "name": "stdout",
     "output_type": "stream",
     "text": [
      "25645\n"
     ]
    },
    {
     "data": {
      "text/html": [
       "<div>\n",
       "<style scoped>\n",
       "    .dataframe tbody tr th:only-of-type {\n",
       "        vertical-align: middle;\n",
       "    }\n",
       "\n",
       "    .dataframe tbody tr th {\n",
       "        vertical-align: top;\n",
       "    }\n",
       "\n",
       "    .dataframe thead th {\n",
       "        text-align: right;\n",
       "    }\n",
       "</style>\n",
       "<table border=\"1\" class=\"dataframe\">\n",
       "  <thead>\n",
       "    <tr style=\"text-align: right;\">\n",
       "      <th></th>\n",
       "      <th>donorID</th>\n",
       "      <th>max</th>\n",
       "      <th>min</th>\n",
       "      <th>mean</th>\n",
       "      <th>sum</th>\n",
       "      <th>count</th>\n",
       "      <th>recency_days</th>\n",
       "      <th>last_month_mean</th>\n",
       "      <th>year1_mean</th>\n",
       "      <th>year1_count</th>\n",
       "      <th>year2_mean</th>\n",
       "      <th>year2_count</th>\n",
       "      <th>ratio_month_year</th>\n",
       "      <th>ratio_year2year_mean</th>\n",
       "      <th>ratio_year2year_count</th>\n",
       "      <th>segment</th>\n",
       "      <th>age_7244</th>\n",
       "      <th>gender</th>\n",
       "      <th>province</th>\n",
       "      <th>language</th>\n",
       "    </tr>\n",
       "  </thead>\n",
       "  <tbody>\n",
       "    <tr>\n",
       "      <th>0</th>\n",
       "      <td>100001</td>\n",
       "      <td>30.0</td>\n",
       "      <td>6.69</td>\n",
       "      <td>15.1</td>\n",
       "      <td>166.1</td>\n",
       "      <td>11.0</td>\n",
       "      <td>2727.0</td>\n",
       "      <td>NaN</td>\n",
       "      <td>NaN</td>\n",
       "      <td>NaN</td>\n",
       "      <td>NaN</td>\n",
       "      <td>NaN</td>\n",
       "      <td>NaN</td>\n",
       "      <td>NaN</td>\n",
       "      <td>NaN</td>\n",
       "      <td>Regular</td>\n",
       "      <td>51.5</td>\n",
       "      <td>F</td>\n",
       "      <td>Flemish Brabant</td>\n",
       "      <td>NL</td>\n",
       "    </tr>\n",
       "    <tr>\n",
       "      <th>1</th>\n",
       "      <td>100002</td>\n",
       "      <td>20.0</td>\n",
       "      <td>20.00</td>\n",
       "      <td>20.0</td>\n",
       "      <td>20.0</td>\n",
       "      <td>1.0</td>\n",
       "      <td>1620.0</td>\n",
       "      <td>NaN</td>\n",
       "      <td>NaN</td>\n",
       "      <td>NaN</td>\n",
       "      <td>NaN</td>\n",
       "      <td>NaN</td>\n",
       "      <td>NaN</td>\n",
       "      <td>NaN</td>\n",
       "      <td>NaN</td>\n",
       "      <td>Regular</td>\n",
       "      <td>67.5</td>\n",
       "      <td>M</td>\n",
       "      <td>Antwerp</td>\n",
       "      <td>NL</td>\n",
       "    </tr>\n",
       "  </tbody>\n",
       "</table>\n",
       "</div>"
      ],
      "text/plain": [
       "   donorID   max    min  mean    sum  count  recency_days  last_month_mean  \\\n",
       "0   100001  30.0   6.69  15.1  166.1   11.0        2727.0              NaN   \n",
       "1   100002  20.0  20.00  20.0   20.0    1.0        1620.0              NaN   \n",
       "\n",
       "   year1_mean  year1_count  year2_mean  year2_count  ratio_month_year  \\\n",
       "0         NaN          NaN         NaN          NaN               NaN   \n",
       "1         NaN          NaN         NaN          NaN               NaN   \n",
       "\n",
       "   ratio_year2year_mean  ratio_year2year_count  segment  age_7244 gender  \\\n",
       "0                   NaN                    NaN  Regular      51.5      F   \n",
       "1                   NaN                    NaN  Regular      67.5      M   \n",
       "\n",
       "          province language  \n",
       "0  Flemish Brabant       NL  \n",
       "1          Antwerp       NL  "
      ]
     },
     "execution_count": 104,
     "metadata": {},
     "output_type": "execute_result"
    }
   ],
   "source": [
    "basetable_test = pd.merge(campaign7244, basetable_test, on = \"donorID\", how = \"left\")\n",
    "print(len(basetable_test))\n",
    "basetable_test.head(2)"
   ]
  },
  {
   "cell_type": "markdown",
   "metadata": {},
   "source": [
    "#### Create dummies variables"
   ]
  },
  {
   "cell_type": "code",
   "execution_count": 105,
   "metadata": {},
   "outputs": [
    {
     "data": {
      "text/html": [
       "<div>\n",
       "<style scoped>\n",
       "    .dataframe tbody tr th:only-of-type {\n",
       "        vertical-align: middle;\n",
       "    }\n",
       "\n",
       "    .dataframe tbody tr th {\n",
       "        vertical-align: top;\n",
       "    }\n",
       "\n",
       "    .dataframe thead th {\n",
       "        text-align: right;\n",
       "    }\n",
       "</style>\n",
       "<table border=\"1\" class=\"dataframe\">\n",
       "  <thead>\n",
       "    <tr style=\"text-align: right;\">\n",
       "      <th></th>\n",
       "      <th>Brussels</th>\n",
       "      <th>East Flanders</th>\n",
       "      <th>Flemish Brabant</th>\n",
       "      <th>Hainaut</th>\n",
       "      <th>Liege</th>\n",
       "      <th>Limburg</th>\n",
       "      <th>Luxembourg</th>\n",
       "      <th>Namur</th>\n",
       "      <th>Walloon Brabant</th>\n",
       "      <th>West Flanders</th>\n",
       "      <th>NaN</th>\n",
       "    </tr>\n",
       "  </thead>\n",
       "  <tbody>\n",
       "    <tr>\n",
       "      <th>0</th>\n",
       "      <td>0</td>\n",
       "      <td>0</td>\n",
       "      <td>1</td>\n",
       "      <td>0</td>\n",
       "      <td>0</td>\n",
       "      <td>0</td>\n",
       "      <td>0</td>\n",
       "      <td>0</td>\n",
       "      <td>0</td>\n",
       "      <td>0</td>\n",
       "      <td>0</td>\n",
       "    </tr>\n",
       "    <tr>\n",
       "      <th>1</th>\n",
       "      <td>0</td>\n",
       "      <td>0</td>\n",
       "      <td>0</td>\n",
       "      <td>0</td>\n",
       "      <td>0</td>\n",
       "      <td>0</td>\n",
       "      <td>0</td>\n",
       "      <td>0</td>\n",
       "      <td>0</td>\n",
       "      <td>0</td>\n",
       "      <td>0</td>\n",
       "    </tr>\n",
       "    <tr>\n",
       "      <th>2</th>\n",
       "      <td>0</td>\n",
       "      <td>0</td>\n",
       "      <td>1</td>\n",
       "      <td>0</td>\n",
       "      <td>0</td>\n",
       "      <td>0</td>\n",
       "      <td>0</td>\n",
       "      <td>0</td>\n",
       "      <td>0</td>\n",
       "      <td>0</td>\n",
       "      <td>0</td>\n",
       "    </tr>\n",
       "    <tr>\n",
       "      <th>3</th>\n",
       "      <td>1</td>\n",
       "      <td>0</td>\n",
       "      <td>0</td>\n",
       "      <td>0</td>\n",
       "      <td>0</td>\n",
       "      <td>0</td>\n",
       "      <td>0</td>\n",
       "      <td>0</td>\n",
       "      <td>0</td>\n",
       "      <td>0</td>\n",
       "      <td>0</td>\n",
       "    </tr>\n",
       "    <tr>\n",
       "      <th>4</th>\n",
       "      <td>1</td>\n",
       "      <td>0</td>\n",
       "      <td>0</td>\n",
       "      <td>0</td>\n",
       "      <td>0</td>\n",
       "      <td>0</td>\n",
       "      <td>0</td>\n",
       "      <td>0</td>\n",
       "      <td>0</td>\n",
       "      <td>0</td>\n",
       "      <td>0</td>\n",
       "    </tr>\n",
       "  </tbody>\n",
       "</table>\n",
       "</div>"
      ],
      "text/plain": [
       "   Brussels  East Flanders  Flemish Brabant  Hainaut  Liege  Limburg  \\\n",
       "0         0              0                1        0      0        0   \n",
       "1         0              0                0        0      0        0   \n",
       "2         0              0                1        0      0        0   \n",
       "3         1              0                0        0      0        0   \n",
       "4         1              0                0        0      0        0   \n",
       "\n",
       "   Luxembourg  Namur  Walloon Brabant  West Flanders  NaN  \n",
       "0           0      0                0              0    0  \n",
       "1           0      0                0              0    0  \n",
       "2           0      0                0              0    0  \n",
       "3           0      0                0              0    0  \n",
       "4           0      0                0              0    0  "
      ]
     },
     "execution_count": 105,
     "metadata": {},
     "output_type": "execute_result"
    }
   ],
   "source": [
    "#Dummy variables for region\n",
    "dummies_province_test = pd.get_dummies(basetable_test[\"province\"], drop_first=True, dummy_na=True)\n",
    "dummies_province_test .head()"
   ]
  },
  {
   "cell_type": "code",
   "execution_count": 106,
   "metadata": {},
   "outputs": [],
   "source": [
    "#Change dummy variable name\n",
    "dummies_province_test.columns = ['prov_Br', 'prov_EaF', 'prov_FB', 'prov_Ha', 'prov_Liege', 'prov_Lim', 'prov_Lux', 'prov_Na','prov_WaB', 'prov_WeF', 'prov_NaN']\n",
    "# Add the dummy variable to the basetable\n",
    "basetable_test = pd.concat([basetable_test, dummies_province_test], axis=1)\n",
    "# Delete the original variable from the basetable\n",
    "del basetable_test[\"province\"]"
   ]
  },
  {
   "cell_type": "code",
   "execution_count": 107,
   "metadata": {},
   "outputs": [
    {
     "data": {
      "text/plain": [
       "826"
      ]
     },
     "execution_count": 107,
     "metadata": {},
     "output_type": "execute_result"
    }
   ],
   "source": [
    "basetable_test.language.isna().sum()"
   ]
  },
  {
   "cell_type": "code",
   "execution_count": 108,
   "metadata": {},
   "outputs": [
    {
     "data": {
      "text/html": [
       "<div>\n",
       "<style scoped>\n",
       "    .dataframe tbody tr th:only-of-type {\n",
       "        vertical-align: middle;\n",
       "    }\n",
       "\n",
       "    .dataframe tbody tr th {\n",
       "        vertical-align: top;\n",
       "    }\n",
       "\n",
       "    .dataframe thead th {\n",
       "        text-align: right;\n",
       "    }\n",
       "</style>\n",
       "<table border=\"1\" class=\"dataframe\">\n",
       "  <thead>\n",
       "    <tr style=\"text-align: right;\">\n",
       "      <th></th>\n",
       "      <th>FR</th>\n",
       "      <th>NL</th>\n",
       "      <th>NaN</th>\n",
       "    </tr>\n",
       "  </thead>\n",
       "  <tbody>\n",
       "    <tr>\n",
       "      <th>0</th>\n",
       "      <td>0</td>\n",
       "      <td>1</td>\n",
       "      <td>0</td>\n",
       "    </tr>\n",
       "    <tr>\n",
       "      <th>1</th>\n",
       "      <td>0</td>\n",
       "      <td>1</td>\n",
       "      <td>0</td>\n",
       "    </tr>\n",
       "    <tr>\n",
       "      <th>2</th>\n",
       "      <td>1</td>\n",
       "      <td>0</td>\n",
       "      <td>0</td>\n",
       "    </tr>\n",
       "    <tr>\n",
       "      <th>3</th>\n",
       "      <td>1</td>\n",
       "      <td>0</td>\n",
       "      <td>0</td>\n",
       "    </tr>\n",
       "    <tr>\n",
       "      <th>4</th>\n",
       "      <td>1</td>\n",
       "      <td>0</td>\n",
       "      <td>0</td>\n",
       "    </tr>\n",
       "  </tbody>\n",
       "</table>\n",
       "</div>"
      ],
      "text/plain": [
       "   FR  NL  NaN\n",
       "0   0   1    0\n",
       "1   0   1    0\n",
       "2   1   0    0\n",
       "3   1   0    0\n",
       "4   1   0    0"
      ]
     },
     "execution_count": 108,
     "metadata": {},
     "output_type": "execute_result"
    }
   ],
   "source": [
    "#Dummy variables for language\n",
    "dummies_language_test = pd.get_dummies(basetable_test[\"language\"], drop_first=True, dummy_na=True)\n",
    "dummies_language_test.head()"
   ]
  },
  {
   "cell_type": "code",
   "execution_count": 109,
   "metadata": {},
   "outputs": [],
   "source": [
    "#Change dummy variable name\n",
    "dummies_language_test.columns = ['language_x', 'language_y', 'language_NaN']\n",
    "# Add the dummy variable to the basetable\n",
    "basetable_test = pd.concat([basetable_test, dummies_language_test], axis=1)\n",
    "# Delete the original variable from the basetable\n",
    "del basetable_test[\"language\"]"
   ]
  },
  {
   "cell_type": "code",
   "execution_count": 110,
   "metadata": {},
   "outputs": [
    {
     "data": {
      "text/html": [
       "<div>\n",
       "<style scoped>\n",
       "    .dataframe tbody tr th:only-of-type {\n",
       "        vertical-align: middle;\n",
       "    }\n",
       "\n",
       "    .dataframe tbody tr th {\n",
       "        vertical-align: top;\n",
       "    }\n",
       "\n",
       "    .dataframe thead th {\n",
       "        text-align: right;\n",
       "    }\n",
       "</style>\n",
       "<table border=\"1\" class=\"dataframe\">\n",
       "  <thead>\n",
       "    <tr style=\"text-align: right;\">\n",
       "      <th></th>\n",
       "      <th>Gold</th>\n",
       "      <th>Regular</th>\n",
       "      <th>Silver</th>\n",
       "    </tr>\n",
       "  </thead>\n",
       "  <tbody>\n",
       "    <tr>\n",
       "      <th>0</th>\n",
       "      <td>0</td>\n",
       "      <td>1</td>\n",
       "      <td>0</td>\n",
       "    </tr>\n",
       "    <tr>\n",
       "      <th>1</th>\n",
       "      <td>0</td>\n",
       "      <td>1</td>\n",
       "      <td>0</td>\n",
       "    </tr>\n",
       "    <tr>\n",
       "      <th>2</th>\n",
       "      <td>0</td>\n",
       "      <td>0</td>\n",
       "      <td>1</td>\n",
       "    </tr>\n",
       "    <tr>\n",
       "      <th>3</th>\n",
       "      <td>0</td>\n",
       "      <td>1</td>\n",
       "      <td>0</td>\n",
       "    </tr>\n",
       "    <tr>\n",
       "      <th>4</th>\n",
       "      <td>0</td>\n",
       "      <td>1</td>\n",
       "      <td>0</td>\n",
       "    </tr>\n",
       "  </tbody>\n",
       "</table>\n",
       "</div>"
      ],
      "text/plain": [
       "   Gold  Regular  Silver\n",
       "0     0        1       0\n",
       "1     0        1       0\n",
       "2     0        0       1\n",
       "3     0        1       0\n",
       "4     0        1       0"
      ]
     },
     "execution_count": 110,
     "metadata": {},
     "output_type": "execute_result"
    }
   ],
   "source": [
    "#Dummy variables for segment\n",
    "dummies_segment_test = pd.get_dummies(basetable_test[\"segment\"], drop_first=True)\n",
    "dummies_segment_test.head()"
   ]
  },
  {
   "cell_type": "code",
   "execution_count": 111,
   "metadata": {},
   "outputs": [],
   "source": [
    "#Change dummy variable name\n",
    "dummies_segment_test.columns = ['segment_x', 'segment_y', 'segment_z']\n",
    "# Add the dummy variable to the basetable\n",
    "basetable_test = pd.concat([basetable_test, dummies_segment_test], axis=1)\n",
    "# Delete the original variable from the basetable\n",
    "del basetable_test[\"segment\"]"
   ]
  },
  {
   "cell_type": "code",
   "execution_count": 112,
   "metadata": {},
   "outputs": [
    {
     "data": {
      "text/html": [
       "<div>\n",
       "<style scoped>\n",
       "    .dataframe tbody tr th:only-of-type {\n",
       "        vertical-align: middle;\n",
       "    }\n",
       "\n",
       "    .dataframe tbody tr th {\n",
       "        vertical-align: top;\n",
       "    }\n",
       "\n",
       "    .dataframe thead th {\n",
       "        text-align: right;\n",
       "    }\n",
       "</style>\n",
       "<table border=\"1\" class=\"dataframe\">\n",
       "  <thead>\n",
       "    <tr style=\"text-align: right;\">\n",
       "      <th></th>\n",
       "      <th>M</th>\n",
       "      <th>NaN</th>\n",
       "    </tr>\n",
       "  </thead>\n",
       "  <tbody>\n",
       "    <tr>\n",
       "      <th>0</th>\n",
       "      <td>0</td>\n",
       "      <td>0</td>\n",
       "    </tr>\n",
       "    <tr>\n",
       "      <th>1</th>\n",
       "      <td>1</td>\n",
       "      <td>0</td>\n",
       "    </tr>\n",
       "    <tr>\n",
       "      <th>2</th>\n",
       "      <td>1</td>\n",
       "      <td>0</td>\n",
       "    </tr>\n",
       "    <tr>\n",
       "      <th>3</th>\n",
       "      <td>1</td>\n",
       "      <td>0</td>\n",
       "    </tr>\n",
       "    <tr>\n",
       "      <th>4</th>\n",
       "      <td>1</td>\n",
       "      <td>0</td>\n",
       "    </tr>\n",
       "  </tbody>\n",
       "</table>\n",
       "</div>"
      ],
      "text/plain": [
       "   M  NaN\n",
       "0  0    0\n",
       "1  1    0\n",
       "2  1    0\n",
       "3  1    0\n",
       "4  1    0"
      ]
     },
     "execution_count": 112,
     "metadata": {},
     "output_type": "execute_result"
    }
   ],
   "source": [
    "# Create the dummy variable gender\n",
    "dummies_gender_test = pd.get_dummies(basetable_test[\"gender\"], drop_first=True, dummy_na=True)\n",
    "dummies_gender_test.head()"
   ]
  },
  {
   "cell_type": "code",
   "execution_count": 113,
   "metadata": {},
   "outputs": [],
   "source": [
    "#Change dummy variable name\n",
    "dummies_gender_test.columns = ['gender_x', 'gender_y']\n",
    "# Add the dummy variable to the basetable\n",
    "basetable_test = pd.concat([basetable_test, dummies_gender_test], axis=1)\n",
    "# Delete the original variable from the basetable\n",
    "del basetable_test[\"gender\"]"
   ]
  },
  {
   "cell_type": "markdown",
   "metadata": {},
   "source": [
    "#### Replace missing values"
   ]
  },
  {
   "cell_type": "code",
   "execution_count": 114,
   "metadata": {},
   "outputs": [],
   "source": [
    "#replace missing values by 0\n",
    "\n",
    "basetable_test[\"last_month_mean\"] = basetable_test[\"last_month_mean\"].replace(np.nan, 0)\n",
    "basetable_test[\"count\"] = basetable_test[\"count\"].replace(np.nan, 0)\n",
    "basetable_test[\"year1_mean\"] = basetable_test[\"year1_mean\"].replace(np.nan, 0)\n",
    "basetable_test[\"year1_count\"] = basetable_test[\"year1_count\"].replace(np.nan, 0)\n",
    "basetable_test[\"year2_mean\"] = basetable_test[\"year2_mean\"].replace(np.nan, 0)\n",
    "basetable_test[\"year2_count\"] = basetable_test[\"year2_count\"].replace(np.nan, 0)\n",
    "basetable_test[\"ratio_month_year\"] = basetable_test[\"ratio_month_year\"].replace(np.nan, 0)\n",
    "basetable_test[\"ratio_year2year_mean\"] = basetable_test[\"ratio_year2year_mean\"].replace(np.nan, 0)\n",
    "basetable_test[\"ratio_year2year_count\"] = basetable_test[\"ratio_year2year_count\"].replace(np.nan, 0)\n",
    "\n",
    "\n",
    "# There are missing values in the variable Age. We replace it by the median age of donors\n",
    "#for n in basetable_test['age_7244']:\n",
    "#    if basetable_test['age_7244'].isna().sum() > 0:\n",
    "#        basetable_test[basetable_test['age_7244'].isna()]['age_7244'] = basetable_test['age_7244'].median()"
   ]
  },
  {
   "cell_type": "code",
   "execution_count": 115,
   "metadata": {},
   "outputs": [
    {
     "data": {
      "text/plain": [
       "826"
      ]
     },
     "execution_count": 115,
     "metadata": {},
     "output_type": "execute_result"
    }
   ],
   "source": [
    "basetable_test['age_7244'].isna().sum()"
   ]
  },
  {
   "cell_type": "code",
   "execution_count": 116,
   "metadata": {},
   "outputs": [],
   "source": [
    "basetable_test['age_NaN'] = basetable_test['age_7244'].isna()*1"
   ]
  },
  {
   "cell_type": "code",
   "execution_count": 117,
   "metadata": {},
   "outputs": [
    {
     "data": {
      "text/plain": [
       "826"
      ]
     },
     "execution_count": 117,
     "metadata": {},
     "output_type": "execute_result"
    }
   ],
   "source": [
    "basetable_test['age_NaN'].sum()"
   ]
  },
  {
   "cell_type": "code",
   "execution_count": 118,
   "metadata": {},
   "outputs": [],
   "source": [
    "basetable_test[\"age_7244\"] = basetable_test[\"age_7244\"].replace(np.nan, basetable_test[\"age_7244\"].median())\n"
   ]
  },
  {
   "cell_type": "code",
   "execution_count": 119,
   "metadata": {},
   "outputs": [
    {
     "data": {
      "text/plain": [
       "0"
      ]
     },
     "execution_count": 119,
     "metadata": {},
     "output_type": "execute_result"
    }
   ],
   "source": [
    "basetable_test['age_7244'].isna().sum()"
   ]
  },
  {
   "cell_type": "code",
   "execution_count": 120,
   "metadata": {},
   "outputs": [
    {
     "data": {
      "text/plain": [
       "825"
      ]
     },
     "execution_count": 120,
     "metadata": {},
     "output_type": "execute_result"
    }
   ],
   "source": [
    "basetable_test[\"recency_days\"].isna().sum()"
   ]
  },
  {
   "cell_type": "code",
   "execution_count": 121,
   "metadata": {},
   "outputs": [],
   "source": [
    "basetable_test[\"recency_days_NaN\"] = basetable_test['recency_days'].isna()*1"
   ]
  },
  {
   "cell_type": "code",
   "execution_count": 122,
   "metadata": {},
   "outputs": [
    {
     "data": {
      "text/plain": [
       "825"
      ]
     },
     "execution_count": 122,
     "metadata": {},
     "output_type": "execute_result"
    }
   ],
   "source": [
    "basetable_test[\"recency_days_NaN\"].sum()"
   ]
  },
  {
   "cell_type": "code",
   "execution_count": 123,
   "metadata": {},
   "outputs": [],
   "source": [
    "basetable_test[\"recency_days\"] = basetable_test[\"recency_days\"].replace(np.nan, basetable_test[\"recency_days\"].median())"
   ]
  },
  {
   "cell_type": "code",
   "execution_count": 124,
   "metadata": {},
   "outputs": [
    {
     "data": {
      "text/plain": [
       "0"
      ]
     },
     "execution_count": 124,
     "metadata": {},
     "output_type": "execute_result"
    }
   ],
   "source": [
    "basetable_test['recency_days'].isna().sum()"
   ]
  },
  {
   "cell_type": "markdown",
   "metadata": {},
   "source": [
    "#### Dealing with outliers"
   ]
  },
  {
   "cell_type": "code",
   "execution_count": 125,
   "metadata": {},
   "outputs": [
    {
     "name": "stdout",
     "output_type": "stream",
     "text": [
      "130.1\n",
      "21.0\n"
     ]
    }
   ],
   "source": [
    "# Show the maximum age \n",
    "\n",
    "print(basetable_test[\"age_7244\"].max())\n",
    "print(basetable_test[\"age_7244\"].min())"
   ]
  },
  {
   "cell_type": "code",
   "execution_count": 126,
   "metadata": {},
   "outputs": [
    {
     "name": "stdout",
     "output_type": "stream",
     "text": [
      "96.42856029558752\n"
     ]
    }
   ],
   "source": [
    "#Dealing with outliers in the variable age\n",
    "\n",
    "# Calculate mean and standard deviation of age\n",
    "mean_age7244 = basetable_test[\"age_7244\"].mean()\n",
    "std_age7244 = basetable_test[\"age_7244\"].std()\n",
    "\n",
    "# Calculate the lower and upper limits\n",
    "lower_limit7244 = mean_age7244 - std_age7244 * 3\n",
    "upper_limit7244 = mean_age7244 + std_age7244 * 3\n",
    "\n",
    "# Add a variable age_no_outliers to the basetable with outliers replaced\n",
    "basetable_test[\"age_no_outliers\"] = (pd.Series([min(max(a, lower_limit7244), upper_limit7244) \n",
    "                             for a in basetable_test[\"age_7244\"]]))\n",
    "print(basetable_test[\"age_no_outliers\"].max())"
   ]
  },
  {
   "cell_type": "code",
   "execution_count": 127,
   "metadata": {},
   "outputs": [],
   "source": [
    "#Delete previous age columns\n",
    "del basetable_test[\"age_7244\"]"
   ]
  },
  {
   "cell_type": "code",
   "execution_count": 128,
   "metadata": {},
   "outputs": [
    {
     "name": "stdout",
     "output_type": "stream",
     "text": [
      "1.5685714285714287\n",
      "2479000.0\n"
     ]
    }
   ],
   "source": [
    "# Check minimum mean of donations\n",
    "print(basetable_test[\"mean\"].min())\n",
    "print(basetable_test[\"mean\"].max())"
   ]
  },
  {
   "cell_type": "code",
   "execution_count": 129,
   "metadata": {},
   "outputs": [
    {
     "name": "stdout",
     "output_type": "stream",
     "text": [
      "123.95\n"
     ]
    }
   ],
   "source": [
    "# Fill out the lower limit\n",
    "lower_limit7244 = 0.0\n",
    "\n",
    "# Winsorize the variable sum_donations\n",
    "basetable_test[\"mean\"] = winsorize(basetable_test[\"mean\"], limits=[lower_limit7244, 0.04])\n",
    "\n",
    "# Check maximum sum of donations after winsorization\n",
    "print(basetable_test[\"mean\"].max())"
   ]
  },
  {
   "cell_type": "code",
   "execution_count": 130,
   "metadata": {},
   "outputs": [
    {
     "name": "stdout",
     "output_type": "stream",
     "text": [
      "2.48\n",
      "2479000.0\n"
     ]
    }
   ],
   "source": [
    "# Check minimum, maximum sum of donations\n",
    "print(basetable_test[\"sum\"].min())\n",
    "print(basetable_test[\"sum\"].max())"
   ]
  },
  {
   "cell_type": "code",
   "execution_count": 131,
   "metadata": {},
   "outputs": [
    {
     "name": "stdout",
     "output_type": "stream",
     "text": [
      "1000.0\n"
     ]
    }
   ],
   "source": [
    "# Fill out the lower limit\n",
    "lower_limit7244 = 0.0\n",
    "\n",
    "# Winsorize the variable sum_donations\n",
    "basetable_test[\"sum\"] = winsorize(basetable_test[\"sum\"], limits=[lower_limit7244, 0.04])\n",
    "\n",
    "# Check maximum sum of donations after winsorization\n",
    "print(basetable_test[\"sum\"].max())"
   ]
  },
  {
   "cell_type": "code",
   "execution_count": 132,
   "metadata": {},
   "outputs": [
    {
     "name": "stdout",
     "output_type": "stream",
     "text": [
      "0.2\n",
      "2479000.0\n"
     ]
    }
   ],
   "source": [
    "# Check min and max of min amount of donations per donors\n",
    "print(basetable_test[\"min\"].min())\n",
    "print(basetable_test[\"min\"].max())"
   ]
  },
  {
   "cell_type": "code",
   "execution_count": 133,
   "metadata": {},
   "outputs": [
    {
     "name": "stdout",
     "output_type": "stream",
     "text": [
      "100.0\n"
     ]
    }
   ],
   "source": [
    "# Fill out the lower limit\n",
    "lower_limit7244 = 0.0\n",
    "\n",
    "# Winsorize the variable sum_donations\n",
    "basetable_test[\"min\"] = winsorize(basetable_test[\"min\"], limits=[lower_limit7244, 0.04])\n",
    "\n",
    "# Check maximum sum of donations after winsorization\n",
    "print(basetable_test[\"min\"].max())"
   ]
  },
  {
   "cell_type": "code",
   "execution_count": 134,
   "metadata": {},
   "outputs": [
    {
     "name": "stdout",
     "output_type": "stream",
     "text": [
      "2.48\n",
      "2479000.0\n"
     ]
    }
   ],
   "source": [
    "# Check min and max of max amount of donations per donors\n",
    "print(basetable_test[\"max\"].min())\n",
    "print(basetable_test[\"max\"].max())"
   ]
  },
  {
   "cell_type": "code",
   "execution_count": 135,
   "metadata": {},
   "outputs": [
    {
     "name": "stdout",
     "output_type": "stream",
     "text": [
      "200.0\n"
     ]
    }
   ],
   "source": [
    "# Fill out the lower limit\n",
    "lower_limit7244 = 0.0\n",
    "\n",
    "# Winsorize the variable sum_donations\n",
    "basetable_test[\"max\"] = winsorize(basetable_test[\"max\"], limits=[lower_limit7244, 0.04])\n",
    "\n",
    "# Check maximum sum of donations after winsorization\n",
    "print(basetable_test[\"max\"].max())"
   ]
  },
  {
   "cell_type": "markdown",
   "metadata": {},
   "source": [
    "#### ADD Target variables to the base table"
   ]
  },
  {
   "cell_type": "code",
   "execution_count": 136,
   "metadata": {},
   "outputs": [
    {
     "data": {
      "text/html": [
       "<div>\n",
       "<style scoped>\n",
       "    .dataframe tbody tr th:only-of-type {\n",
       "        vertical-align: middle;\n",
       "    }\n",
       "\n",
       "    .dataframe tbody tr th {\n",
       "        vertical-align: top;\n",
       "    }\n",
       "\n",
       "    .dataframe thead th {\n",
       "        text-align: right;\n",
       "    }\n",
       "</style>\n",
       "<table border=\"1\" class=\"dataframe\">\n",
       "  <thead>\n",
       "    <tr style=\"text-align: right;\">\n",
       "      <th></th>\n",
       "      <th>donorID</th>\n",
       "      <th>max</th>\n",
       "      <th>min</th>\n",
       "      <th>mean</th>\n",
       "      <th>sum</th>\n",
       "      <th>count</th>\n",
       "      <th>recency_days</th>\n",
       "      <th>last_month_mean</th>\n",
       "      <th>year1_mean</th>\n",
       "      <th>year1_count</th>\n",
       "      <th>...</th>\n",
       "      <th>language_NaN</th>\n",
       "      <th>segment_x</th>\n",
       "      <th>segment_y</th>\n",
       "      <th>segment_z</th>\n",
       "      <th>gender_x</th>\n",
       "      <th>gender_y</th>\n",
       "      <th>age_NaN</th>\n",
       "      <th>recency_days_NaN</th>\n",
       "      <th>age_no_outliers</th>\n",
       "      <th>target</th>\n",
       "    </tr>\n",
       "  </thead>\n",
       "  <tbody>\n",
       "    <tr>\n",
       "      <th>0</th>\n",
       "      <td>100001</td>\n",
       "      <td>30.0</td>\n",
       "      <td>6.69</td>\n",
       "      <td>15.100000</td>\n",
       "      <td>166.10</td>\n",
       "      <td>11.0</td>\n",
       "      <td>2727.0</td>\n",
       "      <td>0.0</td>\n",
       "      <td>0.0</td>\n",
       "      <td>0.0</td>\n",
       "      <td>...</td>\n",
       "      <td>0</td>\n",
       "      <td>0</td>\n",
       "      <td>1</td>\n",
       "      <td>0</td>\n",
       "      <td>0</td>\n",
       "      <td>0</td>\n",
       "      <td>0</td>\n",
       "      <td>0</td>\n",
       "      <td>51.5</td>\n",
       "      <td>0</td>\n",
       "    </tr>\n",
       "    <tr>\n",
       "      <th>1</th>\n",
       "      <td>100002</td>\n",
       "      <td>20.0</td>\n",
       "      <td>20.00</td>\n",
       "      <td>20.000000</td>\n",
       "      <td>20.00</td>\n",
       "      <td>1.0</td>\n",
       "      <td>1620.0</td>\n",
       "      <td>0.0</td>\n",
       "      <td>0.0</td>\n",
       "      <td>0.0</td>\n",
       "      <td>...</td>\n",
       "      <td>0</td>\n",
       "      <td>0</td>\n",
       "      <td>1</td>\n",
       "      <td>0</td>\n",
       "      <td>1</td>\n",
       "      <td>0</td>\n",
       "      <td>0</td>\n",
       "      <td>0</td>\n",
       "      <td>67.5</td>\n",
       "      <td>0</td>\n",
       "    </tr>\n",
       "    <tr>\n",
       "      <th>2</th>\n",
       "      <td>100008</td>\n",
       "      <td>50.0</td>\n",
       "      <td>24.79</td>\n",
       "      <td>41.456667</td>\n",
       "      <td>124.37</td>\n",
       "      <td>3.0</td>\n",
       "      <td>2790.0</td>\n",
       "      <td>0.0</td>\n",
       "      <td>0.0</td>\n",
       "      <td>0.0</td>\n",
       "      <td>...</td>\n",
       "      <td>0</td>\n",
       "      <td>0</td>\n",
       "      <td>0</td>\n",
       "      <td>1</td>\n",
       "      <td>1</td>\n",
       "      <td>0</td>\n",
       "      <td>0</td>\n",
       "      <td>0</td>\n",
       "      <td>81.9</td>\n",
       "      <td>0</td>\n",
       "    </tr>\n",
       "    <tr>\n",
       "      <th>3</th>\n",
       "      <td>100009</td>\n",
       "      <td>25.0</td>\n",
       "      <td>7.44</td>\n",
       "      <td>17.198947</td>\n",
       "      <td>326.78</td>\n",
       "      <td>19.0</td>\n",
       "      <td>2641.0</td>\n",
       "      <td>0.0</td>\n",
       "      <td>0.0</td>\n",
       "      <td>0.0</td>\n",
       "      <td>...</td>\n",
       "      <td>0</td>\n",
       "      <td>0</td>\n",
       "      <td>1</td>\n",
       "      <td>0</td>\n",
       "      <td>1</td>\n",
       "      <td>0</td>\n",
       "      <td>0</td>\n",
       "      <td>0</td>\n",
       "      <td>87.5</td>\n",
       "      <td>0</td>\n",
       "    </tr>\n",
       "    <tr>\n",
       "      <th>4</th>\n",
       "      <td>100010</td>\n",
       "      <td>40.0</td>\n",
       "      <td>40.00</td>\n",
       "      <td>40.000000</td>\n",
       "      <td>40.00</td>\n",
       "      <td>1.0</td>\n",
       "      <td>1617.0</td>\n",
       "      <td>0.0</td>\n",
       "      <td>0.0</td>\n",
       "      <td>0.0</td>\n",
       "      <td>...</td>\n",
       "      <td>0</td>\n",
       "      <td>0</td>\n",
       "      <td>1</td>\n",
       "      <td>0</td>\n",
       "      <td>1</td>\n",
       "      <td>0</td>\n",
       "      <td>0</td>\n",
       "      <td>0</td>\n",
       "      <td>36.1</td>\n",
       "      <td>0</td>\n",
       "    </tr>\n",
       "  </tbody>\n",
       "</table>\n",
       "<p>5 rows × 38 columns</p>\n",
       "</div>"
      ],
      "text/plain": [
       "   donorID   max    min       mean     sum  count  recency_days  \\\n",
       "0   100001  30.0   6.69  15.100000  166.10   11.0        2727.0   \n",
       "1   100002  20.0  20.00  20.000000   20.00    1.0        1620.0   \n",
       "2   100008  50.0  24.79  41.456667  124.37    3.0        2790.0   \n",
       "3   100009  25.0   7.44  17.198947  326.78   19.0        2641.0   \n",
       "4   100010  40.0  40.00  40.000000   40.00    1.0        1617.0   \n",
       "\n",
       "   last_month_mean  year1_mean  year1_count  ...  language_NaN  segment_x  \\\n",
       "0              0.0         0.0          0.0  ...             0          0   \n",
       "1              0.0         0.0          0.0  ...             0          0   \n",
       "2              0.0         0.0          0.0  ...             0          0   \n",
       "3              0.0         0.0          0.0  ...             0          0   \n",
       "4              0.0         0.0          0.0  ...             0          0   \n",
       "\n",
       "   segment_y  segment_z  gender_x  gender_y  age_NaN  recency_days_NaN  \\\n",
       "0          1          0         0         0        0                 0   \n",
       "1          1          0         1         0        0                 0   \n",
       "2          0          1         1         0        0                 0   \n",
       "3          1          0         1         0        0                 0   \n",
       "4          1          0         1         0        0                 0   \n",
       "\n",
       "   age_no_outliers  target  \n",
       "0             51.5       0  \n",
       "1             67.5       0  \n",
       "2             81.9       0  \n",
       "3             87.5       0  \n",
       "4             36.1       0  \n",
       "\n",
       "[5 rows x 38 columns]"
      ]
     },
     "execution_count": 136,
     "metadata": {},
     "output_type": "execute_result"
    }
   ],
   "source": [
    "#derive targets and add to the basetables\n",
    "\n",
    "target = list(target_test[\"donorID\"][target_test[\"amount\"] > 0])\n",
    "\n",
    "basetable_test[\"target\"] = pd.Series([1 if donorID in target else 0 for donorID in basetable_test[\"donorID\"]])\n",
    "basetable_test.head()"
   ]
  },
  {
   "cell_type": "code",
   "execution_count": 137,
   "metadata": {},
   "outputs": [
    {
     "name": "stdout",
     "output_type": "stream",
     "text": [
      "0.014\n"
     ]
    }
   ],
   "source": [
    "# Target incidences\n",
    "print(round(sum(basetable_test[\"target\"]) / len(basetable_test), 3))"
   ]
  },
  {
   "cell_type": "code",
   "execution_count": 138,
   "metadata": {},
   "outputs": [
    {
     "data": {
      "text/plain": [
       "0"
      ]
     },
     "execution_count": 138,
     "metadata": {},
     "output_type": "execute_result"
    }
   ],
   "source": [
    "basetable_test.isna().sum().sum()"
   ]
  },
  {
   "cell_type": "code",
   "execution_count": null,
   "metadata": {},
   "outputs": [],
   "source": []
  },
  {
   "cell_type": "code",
   "execution_count": null,
   "metadata": {},
   "outputs": [],
   "source": []
  },
  {
   "cell_type": "code",
   "execution_count": null,
   "metadata": {},
   "outputs": [],
   "source": []
  },
  {
   "cell_type": "code",
   "execution_count": null,
   "metadata": {},
   "outputs": [],
   "source": [
    "MODEL EVALUATION"
   ]
  },
  {
   "cell_type": "code",
   "execution_count": null,
   "metadata": {},
   "outputs": [],
   "source": [
    "lifts     = {}\n",
    "responses = {}\n",
    "gains     = {}\n",
    "data      = DataFrame(validationSet[target]).copy() \n",
    "\n",
    "for (index,model) in enumerate(models):\n",
    "    data[f\"proba {model}\"] = DataFrame(models[model].predict_proba(validationSet[features]))[1]\n",
    "    lifts[model] = lift(dataSet = data, actuals = \"churn\", probability = \"proba \"+str(model))\n",
    "    responses[model] = cumulativeResponse(dataSet = data, actuals = \"churn\", probability = \"proba \"+str(model))\n",
    "    gains[model] = cumulativeGains(dataSet = data, actuals = \"churn\", probability = \"proba \"+str(model))"
   ]
  },
  {
   "cell_type": "code",
   "execution_count": null,
   "metadata": {},
   "outputs": [],
   "source": []
  },
  {
   "cell_type": "code",
   "execution_count": null,
   "metadata": {},
   "outputs": [],
   "source": [
    "for model in models:\n",
    "    pyplot.plot(lifts[model][\"Quantile\"], lifts[model][\"Lift\"])\n",
    "    pyplot.gca().invert_xaxis()\n",
    "    pyplot.xlabel(\"Quantile\")\n",
    "    pyplot.ylabel(\"lift\")\n",
    "    pyplot.title(\"Lift\")"
   ]
  },
  {
   "cell_type": "code",
   "execution_count": null,
   "metadata": {},
   "outputs": [],
   "source": []
  },
  {
   "cell_type": "code",
   "execution_count": 138,
   "metadata": {
    "scrolled": true
   },
   "outputs": [],
   "source": [
    "###Not NOw\n",
    "\n",
    "#gifts_target_by_id6169 = gifts_target6169.groupby(\"donorID\")[\"amount\"].sum().reset_index()\n",
    "\n",
    "#derive targets and add to the basetables\n",
    "#target6169 = list(gifts_target_by_id6169[\"donorID\"][gifts_target_by_id6169[\"amount\"] > 0])\n",
    "\n",
    "#basetable6169[\"target\"] = pd.Series([1 if donorID in target6169 else 0 for donorID in basetable6169[\"donorID\"]])\n",
    "#basetable6169.head()"
   ]
  },
  {
   "cell_type": "code",
   "execution_count": 147,
   "metadata": {
    "scrolled": true
   },
   "outputs": [],
   "source": [
    "\n",
    "\n",
    "#gifts_target_by_id7244 = gifts_target7244.groupby(\"donorID\")[\"amount\"].sum().reset_index()\n",
    "\n",
    "#derive targets and add to the basetables\n",
    "#target7244 = list(gifts_target_by_id7244[\"donorID\"][gifts_target_by_id7244[\"amount\"] > 0])\n",
    "\n",
    "#basetable7244[\"target\"] = pd.Series([1 if donorID in target7244 else 0 for donorID in basetable7244[\"donorID\"]])\n",
    "#basetable7244.head()"
   ]
  },
  {
   "cell_type": "code",
   "execution_count": 82,
   "metadata": {},
   "outputs": [],
   "source": [
    "#calculate age\n",
    "#def calculateAge(age): \n",
    "#    reference_date = dt.datetime(2020,1,4) \n",
    "#    age = reference_date.year - age.year\n",
    "  \n",
    "#    return age \n",
    "      \n",
    "# Driver code  \n",
    "#basetable6169[\"age\"] = donors[\"dateOfBirth\"].apply(lambda row: calculateAge (row))\n",
    "#basetable7244[\"age\"] = donors[\"dateOfBirth\"].apply(lambda row: calculateAge (row))"
   ]
  },
  {
   "cell_type": "code",
   "execution_count": 83,
   "metadata": {
    "scrolled": false
   },
   "outputs": [],
   "source": [
    "#basetable6169.head()"
   ]
  },
  {
   "cell_type": "code",
   "execution_count": 111,
   "metadata": {},
   "outputs": [],
   "source": [
    "# Latest gift per donor in 2020\n",
    "#last_gift_training = gifts_target6169.groupby([\"donorID\"])[\"date\"].max().reset_index()\n",
    "#last_gift_training[\"recency_days\"] = reference6169 - last_gift6169[\"date\"]   \n",
    "\n",
    "# Add recency to the basetable\n",
    "#basetable6169 = pd.merge(basetable6169, last_gift6169[[\"donorID\", \"recency(in days)\"]], how=\"left\")\n",
    "\n",
    "#keep only numerics in the variable recency\n",
    "#basetable6169[\"recency(in days)\"] = basetable6169[\"recency(in days)\"].astype(\"string\")\n",
    "\n",
    "#def return_days(recency_days):\n",
    "#    pattern = re.compile(r\"\\d+\")\n",
    "#    days = re.match(pattern, recency_days)\n",
    "#    if days is not None:\n",
    "#        return int(days.group(0))\n",
    "    \n",
    "#basetable6169[\"recency(in days)\"] = basetable6169[\"recency(in days)\"].apply(lambda row: return_days (row))"
   ]
  },
  {
   "cell_type": "code",
   "execution_count": 112,
   "metadata": {
    "scrolled": true
   },
   "outputs": [],
   "source": [
    "#basetable6169.head()"
   ]
  },
  {
   "cell_type": "code",
   "execution_count": 46,
   "metadata": {},
   "outputs": [],
   "source": [
    "# Latest gift per donor in 2020\n",
    "\n",
    "#last_gift7244 = gifts_target7244.groupby([\"donorID\"])[\"date\"].max().reset_index()\n",
    "#last_gift7244[\"recency(in days)\"] = reference7244 - last_gift7244[\"date\"]   \n",
    "\n",
    "# Add recency to the basetable\n",
    "#basetable7244 = pd.merge(basetable7244, last_gift7244[[\"donorID\", \"recency(in days)\"]], how=\"left\")\n",
    "\n",
    "#keep only numerics in the variable recency\n",
    "#basetable7244[\"recency(in days)\"] = basetable7244[\"recency(in days)\"].astype(\"string\")\n",
    "\n",
    "#def return_days(recency_days):\n",
    "#    pattern = re.compile(r\"\\d+\")\n",
    "#    days = re.match(pattern, recency_days)\n",
    "#    if days is not None:\n",
    "#        return int(days.group(0))\n",
    "    \n",
    "#basetable7244[\"recency(in days)\"] = basetable7244[\"recency(in days)\"].apply(lambda row: return_days (row))"
   ]
  },
  {
   "cell_type": "code",
   "execution_count": 113,
   "metadata": {
    "scrolled": false
   },
   "outputs": [],
   "source": [
    "#basetable7244.head()"
   ]
  },
  {
   "cell_type": "code",
   "execution_count": 48,
   "metadata": {},
   "outputs": [],
   "source": [
    "#gifts_mean6169 = gifts_target6169.groupby(\"donorID\")[\"amount\"].mean().reset_index()\n",
    "#gifts_mean6169.columns = ['donorID', 'avg_amount']\n",
    "#basetable6169 = pd.merge(basetable6169, gifts_mean6169, how='left', on='donorID')"
   ]
  },
  {
   "cell_type": "code",
   "execution_count": 114,
   "metadata": {
    "scrolled": true
   },
   "outputs": [],
   "source": [
    "#basetable6169.head()"
   ]
  },
  {
   "cell_type": "code",
   "execution_count": 115,
   "metadata": {},
   "outputs": [],
   "source": [
    "#gifts_mean7244 = gifts_target7244.groupby(\"donorID\")[\"amount\"].mean().reset_index()\n",
    "#gifts_mean7244.columns = ['donorID', 'avg_amount']\n",
    "#basetable7244 = pd.merge(basetable7244, gifts_mean7244, how='left', on='donorID')"
   ]
  },
  {
   "cell_type": "code",
   "execution_count": 116,
   "metadata": {},
   "outputs": [],
   "source": [
    "#basetable7244.head()"
   ]
  },
  {
   "cell_type": "code",
   "execution_count": 117,
   "metadata": {},
   "outputs": [],
   "source": [
    "#gifts_min6169 = gifts_target6169.groupby(\"donorID\")[\"amount\"].min().reset_index()\n",
    "#gifts_min6169.columns = ['donorID', 'min_amount']\n",
    "#basetable6169 = pd.merge(basetable6169, gifts_min6169, how='left', on='donorID')"
   ]
  },
  {
   "cell_type": "code",
   "execution_count": 118,
   "metadata": {
    "scrolled": true
   },
   "outputs": [],
   "source": [
    "#basetable6169.head()"
   ]
  },
  {
   "cell_type": "code",
   "execution_count": 119,
   "metadata": {},
   "outputs": [],
   "source": [
    "#gifts_min7244 = gifts_target7244.groupby(\"donorID\")[\"amount\"].min().reset_index()\n",
    "#gifts_min7244.columns = ['donorID', 'min_amount']\n",
    "#basetable7244 = pd.merge(basetable7244, gifts_min7244, how='left', on='donorID')"
   ]
  },
  {
   "cell_type": "code",
   "execution_count": 120,
   "metadata": {},
   "outputs": [],
   "source": [
    "#basetable7244.head()"
   ]
  },
  {
   "cell_type": "code",
   "execution_count": 46,
   "metadata": {
    "scrolled": true
   },
   "outputs": [],
   "source": [
    "#basetable6169[\"region\"] = pd.get_dummies(basetable6169[\"region\"], drop_first=True)\n",
    "#basetable6169.fillna(0).head()"
   ]
  },
  {
   "cell_type": "code",
   "execution_count": 47,
   "metadata": {},
   "outputs": [],
   "source": [
    "#basetable7244[\"region\"] = pd.get_dummies(basetable7244[\"region\"], drop_first=True)\n",
    "#basetable7244.fillna(0).head()"
   ]
  },
  {
   "cell_type": "code",
   "execution_count": 51,
   "metadata": {
    "scrolled": true
   },
   "outputs": [],
   "source": [
    "#basetable6169[\"language\"] = pd.get_dummies(basetable6169[\"language\"], drop_first=True)\n",
    "#basetable6169.fillna(0).head()"
   ]
  },
  {
   "cell_type": "code",
   "execution_count": 52,
   "metadata": {},
   "outputs": [],
   "source": [
    "#basetable7244[\"language\"] = pd.get_dummies(basetable7244[\"language\"], drop_first=True)\n",
    "#basetable7244.fillna(0).head()"
   ]
  },
  {
   "cell_type": "code",
   "execution_count": 582,
   "metadata": {},
   "outputs": [],
   "source": [
    "\n",
    "# # Average gift last month and year for each donor\n",
    "# average_gift_last_month = gifts_last_month.groupby(\"id\")[\"amount\"].mean().reset_index()\n",
    "# average_gift_last_month.columns = [\"donor_ID\", \"mean_gift_last_month\"]\n",
    "\n",
    "# # Average gift last year for each donor\n",
    "# average_gift_last_year = gifts_last_year.groupby(\"id\")[\"amount\"].mean().reset_index()\n",
    "# average_gift_last_year.columns = [\"donor_ID\", \"mean_gift_last_year\"]\n",
    "\n",
    "# # Add average gift last month and year to basetable\n",
    "# basetable = pd.merge(basetable, average_gift_last_month, on=\"donor_ID\", how=\"left\")\n",
    "# basetable = pd.merge(basetable, average_gift_last_year, on=\"donor_ID\", how=\"left\")\n",
    "\n",
    "# # Calculate ratio of last month's and last year's average\n",
    "# basetable[\"ratio_month_year\"] = basetable[\"mean_gift_last_month\"] / basetable[\"mean_gift_last_year\"]\n",
    "# print(basetable.head())"
   ]
  },
  {
   "cell_type": "code",
   "execution_count": 127,
   "metadata": {},
   "outputs": [],
   "source": [
    "# Check amount of donations\n",
    "#print(basetable6169[\"max_amount\"].min())\n",
    "#print(basetable6169[\"max_amount\"].max())\n",
    "\n",
    "#normalise\n",
    "#basetable6169[\"max_amount\"] = np.log(basetable6169[\"max_amount\"])\n",
    "#print(basetable6169[\"max_amount\"].max())"
   ]
  },
  {
   "cell_type": "code",
   "execution_count": 128,
   "metadata": {},
   "outputs": [],
   "source": [
    "# Check amount of donations\n",
    "#print(basetable7244[\"max_amount\"].min())\n",
    "#print(basetable7244[\"max_amount\"].max())\n",
    "\n",
    "#normalise\n",
    "#basetable7244[\"max_amount\"] = np.log(basetable7244[\"max_amount\"])\n",
    "#print(basetable7244[\"max_amount\"].max())"
   ]
  },
  {
   "cell_type": "code",
   "execution_count": 129,
   "metadata": {},
   "outputs": [],
   "source": [
    "# Check amount of donations\n",
    "#print(basetable6169[\"min_amount\"].min())\n",
    "#print(basetable6169[\"min_amount\"].max())\n",
    "\n",
    "#normalise\n",
    "#basetable6169[\"min_amount\"] = np.log(basetable6169[\"min_amount\"])\n",
    "#print(basetable6169[\"min_amount\"].max())"
   ]
  },
  {
   "cell_type": "code",
   "execution_count": 130,
   "metadata": {},
   "outputs": [],
   "source": [
    "# Check amount of donations\n",
    "#print(basetable7244[\"min_amount\"].min())\n",
    "#print(basetable7244[\"min_amount\"].max())\n",
    "\n",
    "#normalise\n",
    "#basetable7244[\"min_amount\"] = np.log(basetable7244[\"min_amount\"])\n",
    "#print(basetable7244[\"min_amount\"].max())"
   ]
  },
  {
   "cell_type": "code",
   "execution_count": 131,
   "metadata": {},
   "outputs": [],
   "source": [
    "# Check amount of donations\n",
    "#print(basetable6169[\"amount\"].min())\n",
    "#print(basetable6169[\"amount\"].max())\n",
    "\n",
    "# Fill out the lower limit\n",
    "#lower_limit6169 = 0.0\n",
    "\n",
    "# Winsorize the variable sum_donations\n",
    "#basetable6169[\"amount\"] = winsorize(basetable6169[\"amount\"], limits=[lower_limit6169, 0.05])\n",
    "\n",
    "# Check maximum sum of donations after winsorization\n",
    "#print(basetable6169[\"amount\"].max())"
   ]
  },
  {
   "cell_type": "code",
   "execution_count": 132,
   "metadata": {},
   "outputs": [],
   "source": [
    "# Calculate AUC using gifts only\n",
    "#print(auc([\"gifts\"], basetable))\n",
    "\n",
    "# Calculate AUC using recency only\n",
    "#print(auc([\"recency(in days)\"], basetable))\n",
    "\n",
    "# Calculate AUC using gifts and recency\n",
    "#print(auc([\"gifts\", \"recency(in days)\"], basetable))\n",
    "\n",
    "#variables interaction\n",
    "#basetable[\"recency_donations\"] = basetable[\"gifts\"] * basetable[\"recency(in days)\"]\n",
    "\n",
    "# # Add interactions gifts x recency \n",
    "# basetable[\"spain_age\"] = basetable[\"country_Spain\"] * basetable[\"age\"]\n",
    "# basetable[\"france_age\"] = basetable[\"country_France\"] * basetable[\"age\"]\n",
    "\n",
    "# Calculate AUC\n",
    "#print(auc([\"gifts\", \"recency(in days)\", \"recency_donations\"], basetable))"
   ]
  },
  {
   "cell_type": "code",
   "execution_count": 133,
   "metadata": {},
   "outputs": [],
   "source": [
    "# check for seasonality\n",
    "#gifts.groupby(\"month\")[\"amount\"].mean().sort_values(ascending=False)"
   ]
  },
  {
   "cell_type": "code",
   "execution_count": 134,
   "metadata": {},
   "outputs": [],
   "source": [
    "#gifts.groupby(\"month\")[\"amount\"].size().sort_values(ascending=False)"
   ]
  },
  {
   "cell_type": "code",
   "execution_count": 135,
   "metadata": {
    "scrolled": true
   },
   "outputs": [],
   "source": [
    "#gifts.groupby(\"month\")[\"amount\"].median().sort_values(ascending=False)"
   ]
  },
  {
   "cell_type": "code",
   "execution_count": null,
   "metadata": {},
   "outputs": [],
   "source": [
    "#basetable = basetable_train.append(basetable_test)"
   ]
  },
  {
   "cell_type": "code",
   "execution_count": null,
   "metadata": {},
   "outputs": [],
   "source": [
    "#sum(basetable[\"target\"] > 1)"
   ]
  },
  {
   "cell_type": "code",
   "execution_count": 136,
   "metadata": {},
   "outputs": [],
   "source": [
    "#Predictive variables \n",
    "#variables = [\"Amount\", \"gifts\",\"Age\", \"region\", \"gender\", \"language\", \"max_amount\", \"recency(in days)\", \"avg_amount\", \"min_amount\", \"donations2019\", \"donations2018_2019\", \"ratio2018_to_2019\"]\n",
    "\n",
    "#select predictors and target\n",
    "#X = basetable[variables]\n",
    "#y = basetable[\"target\"]\n",
    "\n",
    "# construct the logistic regression model\n",
    "#logreg = linear_model.LogisticRegression()\n",
    "#logreg.fit(X, y)\n",
    "\n",
    "#predictions = logreg.predict_proba(X)[:,1]\n",
    "\n",
    "#auc = roc_auc_score(y, predictions)\n",
    "#print(round(auc, 2))"
   ]
  },
  {
   "cell_type": "code",
   "execution_count": null,
   "metadata": {},
   "outputs": [],
   "source": [
    "# # Reference date\n",
    "# reference_date = datetime.date(2018,5,1)\n",
    "\n",
    "# # Add age to the basetable\n",
    "# basetable[\"age\"] = pd.Series([calculate_age(date_of_birth, reference_date)\n",
    "#                               for date_of_birth in basetable[\"date_of_birth\"]])\n",
    "\n",
    "# # Calculate mean age\n",
    "# print(round(basetable[\"age\"].mean()))"
   ]
  }
 ],
 "metadata": {
  "kernelspec": {
   "display_name": "Python 3",
   "language": "python",
   "name": "python3"
  },
  "language_info": {
   "codemirror_mode": {
    "name": "ipython",
    "version": 3
   },
   "file_extension": ".py",
   "mimetype": "text/x-python",
   "name": "python",
   "nbconvert_exporter": "python",
   "pygments_lexer": "ipython3",
   "version": "3.8.3"
  }
 },
 "nbformat": 4,
 "nbformat_minor": 4
}
